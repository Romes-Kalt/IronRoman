{
 "cells": [
  {
   "cell_type": "markdown",
   "id": "7f182afc",
   "metadata": {},
   "source": [
    "# Jupyter Lab Workbook, Day 1\n"
   ]
  },
  {
   "cell_type": "markdown",
   "id": "0dbb12d3",
   "metadata": {},
   "source": [
    "## Jump directly to:<a class=\"anchor\" id=\"toc\"></a>\n",
    "* [Start](#start)\n",
    "* [Picture of the author](#picture1)\n",
    "* [Short break](#beach_pic)\n",
    "* [Longer break](#beach_vid)\n"
   ]
  },
  {
   "cell_type": "markdown",
   "id": "d0a17389",
   "metadata": {},
   "source": [
    "*(if you want to skip the functions used later in the file)*"
   ]
  },
  {
   "cell_type": "code",
   "execution_count": 79,
   "id": "d0d2d8c3",
   "metadata": {},
   "outputs": [],
   "source": [
    "def user_name():\n",
    "    \"\"\"ask and return a name\"\"\"\n",
    "    return input(\"Please enter a name: \")"
   ]
  },
  {
   "cell_type": "code",
   "execution_count": 80,
   "id": "8bc9fc69",
   "metadata": {},
   "outputs": [],
   "source": [
    "def get_travel_prefs():\n",
    "    \"\"\"ask and return travel preferences\"\"\"\n",
    "    prefs = []\n",
    "    prefs.append(input(f\"{user}, where do you like to go on vacation? \"))\n",
    "    while True:\n",
    "        prefs.append(input(\"Where else? (press q to quit) \"))\n",
    "        if prefs[-1] == \"q\":\n",
    "            break\n",
    "    del prefs[-1]\n",
    "    return prefs"
   ]
  },
  {
   "cell_type": "markdown",
   "id": "381e287e",
   "metadata": {},
   "source": [
    "***"
   ]
  },
  {
   "cell_type": "markdown",
   "id": "45cf2856",
   "metadata": {},
   "source": [
    "<a class=\"anchor\" id=\"start\"></a>\n",
    "# Start of the actual text"
   ]
  },
  {
   "cell_type": "markdown",
   "id": "11a85d4d",
   "metadata": {},
   "source": [
    "### Lab Workbook, Day 1"
   ]
  },
  {
   "cell_type": "markdown",
   "id": "a8bdf66b",
   "metadata": {},
   "source": [
    "This is the Jupyter Notebook for the first day. <br>\n",
    "It asks for a name and preferences of their holiday locations, also has some pictures and relaxing video."
   ]
  },
  {
   "cell_type": "code",
   "execution_count": 81,
   "id": "ec920cb3",
   "metadata": {},
   "outputs": [
    {
     "name": "stdout",
     "output_type": "stream",
     "text": [
      "Please enter a name: Roman\n"
     ]
    }
   ],
   "source": [
    "user = user_name()"
   ]
  },
  {
   "cell_type": "code",
   "execution_count": 82,
   "id": "9e3a3730",
   "metadata": {},
   "outputs": [
    {
     "name": "stdout",
     "output_type": "stream",
     "text": [
      "Hi Roman, nice to meet you\n"
     ]
    }
   ],
   "source": [
    "print(f\"Hi {user}, nice to meet you\")"
   ]
  },
  {
   "cell_type": "markdown",
   "id": "105f6987",
   "metadata": {},
   "source": [
    "***"
   ]
  },
  {
   "cell_type": "markdown",
   "id": "122cc495",
   "metadata": {},
   "source": [
    "**Picture of the author**"
   ]
  },
  {
   "cell_type": "markdown",
   "id": "d8b74809",
   "metadata": {},
   "source": [
    "<a class=\"anchor\" id=\"picture1\"></a>\n",
    "\n",
    "![Profile Pic](https://media-exp1.licdn.com/dms/image/C5603AQEo8VOYK2qjTg/profile-displayphoto-shrink_800_800/0/1620280845425?e=1647475200&v=beta&t=xLSGkPNEUub_WBHftlcAajD2CyBM2sm3H9bvKatjp4M)"
   ]
  },
  {
   "cell_type": "markdown",
   "id": "6ce59e43",
   "metadata": {},
   "source": [
    "[TOC](#toc)"
   ]
  },
  {
   "cell_type": "markdown",
   "id": "e6dfdfb7",
   "metadata": {},
   "source": [
    "***"
   ]
  },
  {
   "cell_type": "markdown",
   "id": "d8356459",
   "metadata": {},
   "source": [
    "<span style=\"color:green\">Let's talk **VACATION**</span>"
   ]
  },
  {
   "cell_type": "code",
   "execution_count": 83,
   "id": "6863f12e",
   "metadata": {},
   "outputs": [
    {
     "name": "stdout",
     "output_type": "stream",
     "text": [
      "Roman, where do you like to go on vacation? Canada\n",
      "Where else? (press q to quit) Australia\n",
      "Where else? (press q to quit) Morocco\n",
      "Where else? (press q to quit) q\n"
     ]
    }
   ],
   "source": [
    "travel_prefs = get_travel_prefs()"
   ]
  },
  {
   "cell_type": "code",
   "execution_count": 84,
   "id": "2475c3ef",
   "metadata": {},
   "outputs": [
    {
     "name": "stdout",
     "output_type": "stream",
     "text": [
      "So, Roman likes to go all these places: Canada, Australia and Morocco.\n"
     ]
    }
   ],
   "source": [
    "print(f\"So, {user} likes to go all these places: {travel_prefs[0]}\", end=\"\")\n",
    "if len(travel_prefs) > 1:\n",
    "    for _ in travel_prefs[1:-1]:\n",
    "        print(f\", {_}\", end=\"\")\n",
    "    print(f\" and {travel_prefs[-1]}\", end=\"\")\n",
    "print(\".\")"
   ]
  },
  {
   "cell_type": "markdown",
   "id": "bbc0608d",
   "metadata": {},
   "source": [
    "***"
   ]
  },
  {
   "cell_type": "markdown",
   "id": "11cd1995",
   "metadata": {},
   "source": [
    "This is a nice beach.<a class=\"anchor\" id=\"beach_pic\"></a>\n",
    "\n",
    "![Beach Picture](https://media.istockphoto.com/photos/tropical-white-sand-beach-with-coco-palms-picture-id1181563943?k=20&m=1181563943&s=612x612&w=0&h=r46MQMvFnvrzzTfjVmvZED5nZyTmAYwISDvkdtM2i2A=)"
   ]
  },
  {
   "cell_type": "markdown",
   "id": "a5dc7660",
   "metadata": {},
   "source": [
    "<span style=\"color:blue\">And **cool activities** are:</span>\n",
    "\n",
    "- *beachvolleyball*\n",
    "- *ice cream*\n",
    "- *surfing*\n"
   ]
  },
  {
   "cell_type": "markdown",
   "id": "64f0fce9",
   "metadata": {},
   "source": [
    "[TOC](#toc)"
   ]
  },
  {
   "cell_type": "markdown",
   "id": "38271227",
   "metadata": {},
   "source": [
    "This as well ;) <a class=\"anchor\" id=\"beach_vid\"></a>"
   ]
  },
  {
   "cell_type": "code",
   "execution_count": 85,
   "id": "4b9292a1",
   "metadata": {},
   "outputs": [
    {
     "data": {
      "text/html": [
       "<iframe width=\"560\" height=\"315\" src=\"https://www.youtube.com/embed/vPhg6sc1Mk4?rel=0&amp;controls=0&amp;showinfo=0\" frameborder=\"0\" allowfullscreen></iframe>"
      ],
      "text/plain": [
       "<IPython.core.display.HTML object>"
      ]
     },
     "execution_count": 85,
     "metadata": {},
     "output_type": "execute_result"
    }
   ],
   "source": [
    "from IPython.display import HTML\n",
    "\n",
    "HTML('<iframe width=\"560\" height=\"315\" src=\"https://www.youtube.com/embed/vPhg6sc1Mk4?rel=0&amp;controls=0&amp;showinfo=0\" frameborder=\"0\" allowfullscreen></iframe>')\n"
   ]
  },
  {
   "cell_type": "markdown",
   "id": "ccd9d323",
   "metadata": {},
   "source": [
    "[TOC](#toc)"
   ]
  },
  {
   "cell_type": "code",
   "execution_count": null,
   "id": "d0d44d1d",
   "metadata": {},
   "outputs": [],
   "source": []
  }
 ],
 "metadata": {
  "kernelspec": {
   "display_name": "Python 3",
   "language": "python",
   "name": "python3"
  },
  "language_info": {
   "codemirror_mode": {
    "name": "ipython",
    "version": 3
   },
   "file_extension": ".py",
   "mimetype": "text/x-python",
   "name": "python",
   "nbconvert_exporter": "python",
   "pygments_lexer": "ipython3",
   "version": "3.8.8"
  }
 },
 "nbformat": 4,
 "nbformat_minor": 5
}
