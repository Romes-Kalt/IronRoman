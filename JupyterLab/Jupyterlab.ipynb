{
 "cells": [
  {
   "cell_type": "markdown",
   "id": "2a370b7b",
   "metadata": {},
   "source": [
    "# Jupyter Lab Workbook, Day 1\n"
   ]
  },
  {
   "cell_type": "markdown",
   "id": "f43f31ce",
   "metadata": {},
   "source": [
    "## TOC:\n",
    "* [Start](#start)\n",
    "* [Picture of the author](#picture1)"
   ]
  },
  {
   "cell_type": "code",
   "execution_count": 1,
   "id": "3d89d8fd",
   "metadata": {},
   "outputs": [],
   "source": [
    "def user_name():\n",
    "    \"\"\"ask and return a name\"\"\"\n",
    "    return input(\"Please enter a name: \")"
   ]
  },
  {
   "cell_type": "code",
   "execution_count": 18,
   "id": "7d35c018",
   "metadata": {},
   "outputs": [],
   "source": [
    "def get_travel_prefs():\n",
    "    \"\"\"ask and return travel preferences\"\"\"\n",
    "    prefs = []\n",
    "    while True:\n",
    "        prefs.append(input(\"Where else? (press q to quit) \"))\n",
    "        if prefs[-1] == \"q\":\n",
    "            break\n",
    "    del prefs[-1]\n",
    "    return prefs"
   ]
  },
  {
   "cell_type": "markdown",
   "id": "d9aa0d21",
   "metadata": {},
   "source": [
    "***"
   ]
  },
  {
   "cell_type": "markdown",
   "id": "5763b28a",
   "metadata": {},
   "source": [
    "## Start of the text <a class=\"anchor\" id=\"start\"></a>"
   ]
  },
  {
   "cell_type": "markdown",
   "id": "51629825",
   "metadata": {},
   "source": [
    "This is the Jupyter Notebook for the first day. <br>\n",
    "It asks for a name and tells about the (supposed?) preferences of their holiday preferences with pictures and videos."
   ]
  },
  {
   "cell_type": "markdown",
   "id": "bf1066fc",
   "metadata": {},
   "source": [
    "# Lab Workbook, Day 1\n"
   ]
  },
  {
   "cell_type": "markdown",
   "id": "a3a91947",
   "metadata": {},
   "source": [
    "This is the Jupyter Notebook for the first day. <br>\n",
    "It asks for a name and tells about the (supposed?) preferences of their holiday preferences with pictures and videos."
   ]
  },
  {
   "cell_type": "code",
   "execution_count": 3,
   "id": "7c748321",
   "metadata": {},
   "outputs": [
    {
     "name": "stdout",
     "output_type": "stream",
     "text": [
      "Please enter a name:Roman\n"
     ]
    }
   ],
   "source": [
    "user = user_name()"
   ]
  },
  {
   "cell_type": "code",
   "execution_count": null,
   "id": "91f96af1",
   "metadata": {},
   "outputs": [],
   "source": [
    "print(f\"Hi {user}, nice to meet you\")"
   ]
  },
  {
   "cell_type": "markdown",
   "id": "b33ff015",
   "metadata": {},
   "source": [
    "## That's me<a class=\"anchor\" id=\"picture1\"></a>\n",
    "\n",
    "![Profile Pic](https://media-exp1.licdn.com/dms/image/C5603AQEo8VOYK2qjTg/profile-displayphoto-shrink_800_800/0/1620280845425?e=1647475200&v=beta&t=xLSGkPNEUub_WBHftlcAajD2CyBM2sm3H9bvKatjp4M)"
   ]
  },
  {
   "cell_type": "code",
   "execution_count": 22,
   "id": "c8245769",
   "metadata": {},
   "outputs": [
    {
     "name": "stdout",
     "output_type": "stream",
     "text": [
      "Where else? (press q to quit) beach\n",
      "Where else? (press q to quit) mountain\n",
      "Where else? (press q to quit) mojitos\n",
      "Where else? (press q to quit) q\n"
     ]
    }
   ],
   "source": [
    "travel_prefs = get_travel_prefs()"
   ]
  },
  {
   "cell_type": "markdown",
   "id": "f1ea27aa",
   "metadata": {},
   "source": [
    "This is a nice beach.\n",
    "\n",
    "![Beach Picture](https://media.istockphoto.com/photos/tropical-white-sand-beach-with-coco-palms-picture-id1181563943?k=20&m=1181563943&s=612x612&w=0&h=r46MQMvFnvrzzTfjVmvZED5nZyTmAYwISDvkdtM2i2A=)"
   ]
  },
  {
   "cell_type": "code",
   "execution_count": 27,
   "id": "5178de6c",
   "metadata": {},
   "outputs": [
    {
     "name": "stdout",
     "output_type": "stream",
     "text": [
      "Roman like to go all these palces: beach, mountain,  and mojitos\n"
     ]
    }
   ],
   "source": [
    "print(f\"{user} like to go all these palces: \", end=\"\")\n",
    "for _ in travel_prefs[:-1]:\n",
    "    print(f\"{_}, \", end=\"\")\n",
    "print(f\" and {travel_prefs[-1]}\")"
   ]
  },
  {
   "cell_type": "markdown",
   "id": "ada863b7",
   "metadata": {},
   "source": [
    "<span style=\"color:blue\">And **cool activities** are:</span>\n",
    "\n",
    "- *beachvolleyball*\n",
    "- *ice cream*\n",
    "- *surfing*\n"
   ]
  },
  {
   "cell_type": "code",
   "execution_count": 32,
   "id": "5e0f2c2b",
   "metadata": {},
   "outputs": [
    {
     "data": {
      "text/html": [
       "<iframe width=\"560\" height=\"315\" src=\"https://www.youtube.com/embed/vPhg6sc1Mk4?rel=0&amp;controls=0&amp;showinfo=0\" frameborder=\"0\" allowfullscreen></iframe>"
      ],
      "text/plain": [
       "<IPython.core.display.HTML object>"
      ]
     },
     "execution_count": 32,
     "metadata": {},
     "output_type": "execute_result"
    }
   ],
   "source": [
    "from IPython.display import HTML\n",
    "\n",
    "HTML('<iframe width=\"560\" height=\"315\" src=\"https://www.youtube.com/embed/vPhg6sc1Mk4?rel=0&amp;controls=0&amp;showinfo=0\" frameborder=\"0\" allowfullscreen></iframe>')\n"
   ]
  },
  {
   "cell_type": "code",
   "execution_count": null,
   "id": "7b371fdc",
   "metadata": {},
   "outputs": [],
   "source": []
  }
 ],
 "metadata": {
  "kernelspec": {
   "display_name": "Python 3",
   "language": "python",
   "name": "python3"
  },
  "language_info": {
   "codemirror_mode": {
    "name": "ipython",
    "version": 3
   },
   "file_extension": ".py",
   "mimetype": "text/x-python",
   "name": "python",
   "nbconvert_exporter": "python",
   "pygments_lexer": "ipython3",
   "version": "3.8.8"
  }
 },
 "nbformat": 4,
 "nbformat_minor": 5
}
