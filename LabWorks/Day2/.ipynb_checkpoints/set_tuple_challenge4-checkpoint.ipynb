{
 "cells": [
  {
   "cell_type": "markdown",
   "id": "0ff82a7a",
   "metadata": {},
   "source": [
    "# Challenge 4: Nested dictionaries"
   ]
  },
  {
   "cell_type": "markdown",
   "id": "5b92257c",
   "metadata": {},
   "source": [
    "Next week we will deal with web scraping and API's. Python wise this means since we will encounter file formats like JSON we will have to deal with a lot of dictionaries. Not only ordinary dictionaries, but also nested ones. In this lab we will train handling them.\n",
    "\n",
    "In the following, if we show values with markdown, just copy-paste them into your `# my code here` field if you need them."
   ]
  },
  {
   "cell_type": "markdown",
   "id": "26860027",
   "metadata": {},
   "source": [
    "**Warm up phase: Here are some keys and values. Use them to build a dictionary called `numbers_dct`**"
   ]
  },
  {
   "cell_type": "markdown",
   "id": "ce7b9144",
   "metadata": {},
   "source": [
    "```python\n",
    "keys = ['hundred', 'twohundred', 'threehundred']\n",
    "values = [10, 20, 30]\n",
    "```"
   ]
  },
  {
   "cell_type": "code",
   "execution_count": 5,
   "id": "0c49f983",
   "metadata": {},
   "outputs": [
    {
     "name": "stdout",
     "output_type": "stream",
     "text": [
      "{'hundred': 10, 'twohundred': 20, 'threehundred': 30}\n"
     ]
    }
   ],
   "source": [
    "# your code here\n",
    "keys = ['hundred', 'twohundred', 'threehundred']\n",
    "values = [10, 20, 30]\n",
    "\n",
    "numbers_dct = dict(zip(keys, values))\n",
    "print(numbers_dct)"
   ]
  },
  {
   "cell_type": "markdown",
   "id": "82106422",
   "metadata": {},
   "source": [
    "**Here are two dictionaries. Merge their entries to a third dictionary**"
   ]
  },
  {
   "cell_type": "markdown",
   "id": "853eb147",
   "metadata": {},
   "source": [
    "```python\n",
    "dict1 = {'One': 1, 'Two': 2, 'Six': 6}\n",
    "dict2 = {'Thirty': 30, 'Fourty': 40, 'Fifty': 50}\n",
    "```"
   ]
  },
  {
   "cell_type": "code",
   "execution_count": 10,
   "id": "4f89673d",
   "metadata": {},
   "outputs": [
    {
     "data": {
      "text/plain": [
       "{'One': 1, 'Two': 2, 'Six': 6, 'Thirty': 30, 'Fourty': 40, 'Fifty': 50}"
      ]
     },
     "execution_count": 10,
     "metadata": {},
     "output_type": "execute_result"
    }
   ],
   "source": [
    "# your code here\n"
   ]
  },
  {
   "cell_type": "code",
   "execution_count": 14,
   "id": "847fdeb6",
   "metadata": {},
   "outputs": [
    {
     "name": "stdout",
     "output_type": "stream",
     "text": [
      "{'One': 1, 'Two': 2, 'Six': 6, 'Thirty': 30, 'Fourty': 40, 'Fifty': 50}\n"
     ]
    }
   ],
   "source": [
    "dict1 = {'One': 1, 'Two': 2, 'Six': 6}\n",
    "dict2 = {'Thirty': 30, 'Fourty': 40, 'Fifty': 50}\n",
    "\n",
    "dict3 = dict1.copy()\n",
    "dict3.update(dict2)\n",
    "print(dict3)"
   ]
  },
  {
   "cell_type": "markdown",
   "id": "6cc95e99",
   "metadata": {},
   "source": [
    "**Nested dictionaries**"
   ]
  },
  {
   "cell_type": "markdown",
   "id": "8b6824f3",
   "metadata": {},
   "source": [
    "Here comes a bigger, nested dictionary. Store Martin's French grades in a variable called `martins_french` by navigating to the value using keys and values. Remember, while you drill down the structure of the dictionary and you encounter a new dictionary, you can always use `.keys()` and `.values()` to not loose orientation."
   ]
  },
  {
   "cell_type": "code",
   "execution_count": 65,
   "id": "0609be7f",
   "metadata": {},
   "outputs": [],
   "source": [
    "sampleDict = {\n",
    "    \"class\":{\n",
    "        \"student_list\":{\n",
    "            \"Anna\":{\n",
    "                \"marks\":{\n",
    "                    \"physics\":[70, 20, 100, 20],\n",
    "                    \"history\":[80,10,55,35],\n",
    "                    \"math\":[100, 90, 70, 35],\n",
    "                }\n",
    "            },\n",
    "            \"Martin\":{\n",
    "                \"marks\":{\n",
    "                    \"french\":[20, 10, 35, 45],\n",
    "                    \"spanish\":[40, 75, 50, 90],\n",
    "                    \"math\": [90,85, 90, 95],\n",
    "                }\n",
    "            },\n",
    "            \"Richard\":{\n",
    "                \"marks\":{\n",
    "                    \"physics\":[10, 10, 0, 90],\n",
    "                    \"biology\":[50, 50, 70, 75],\n",
    "                    \"math\":[90, 70, 50, 40],\n",
    "                }\n",
    "            }\n",
    "        }\n",
    "    }\n",
    "}"
   ]
  },
  {
   "cell_type": "code",
   "execution_count": 16,
   "id": "55fcee28",
   "metadata": {},
   "outputs": [
    {
     "name": "stdout",
     "output_type": "stream",
     "text": [
      "[20, 10, 35, 45]\n"
     ]
    }
   ],
   "source": [
    "# your code here\n",
    "print(sampleDict[\"class\"][\"student_list\"][\"Martin\"][\"marks\"][\"french\"])"
   ]
  },
  {
   "cell_type": "markdown",
   "id": "e935dd13",
   "metadata": {},
   "source": [
    "**Calculate the mean of Richard's biology's grades**"
   ]
  },
  {
   "cell_type": "code",
   "execution_count": 19,
   "id": "b55e1ee4",
   "metadata": {},
   "outputs": [
    {
     "name": "stdout",
     "output_type": "stream",
     "text": [
      "61.25\n"
     ]
    }
   ],
   "source": [
    "# your code here\n",
    "import numpy as np\n",
    "print(np.mean(sampleDict[\"class\"][\"student_list\"][\"Richard\"][\"marks\"][\"biology\"]))"
   ]
  },
  {
   "cell_type": "markdown",
   "id": "8fd6b018",
   "metadata": {},
   "source": [
    "**Return a list of all the students**"
   ]
  },
  {
   "cell_type": "code",
   "execution_count": 20,
   "id": "102c92e3",
   "metadata": {},
   "outputs": [
    {
     "name": "stdout",
     "output_type": "stream",
     "text": [
      "['Anna', 'Martin', 'Richard']\n"
     ]
    }
   ],
   "source": [
    "# your code here\n",
    "print(list(sampleDict[\"class\"][\"student_list\"].keys()))"
   ]
  },
  {
   "cell_type": "markdown",
   "id": "467fdf08",
   "metadata": {},
   "source": [
    "**Return Anna's 2nd grade in history**"
   ]
  },
  {
   "cell_type": "code",
   "execution_count": 21,
   "id": "72da977b",
   "metadata": {},
   "outputs": [
    {
     "name": "stdout",
     "output_type": "stream",
     "text": [
      "10\n"
     ]
    }
   ],
   "source": [
    "print(sampleDict[\"class\"][\"student_list\"][\"Anna\"][\"marks\"][\"history\"][1])"
   ]
  },
  {
   "cell_type": "markdown",
   "id": "f3897907",
   "metadata": {},
   "source": [
    "**Return all the grades that are 3rd in the list for every subject for all the students**\n",
    "\n",
    "Use appropriate `for` loops and a `print()` statement"
   ]
  },
  {
   "cell_type": "code",
   "execution_count": 62,
   "id": "956d1f3e",
   "metadata": {},
   "outputs": [
    {
     "name": "stdout",
     "output_type": "stream",
     "text": [
      "100\n",
      "55\n",
      "70\n",
      "35\n",
      "50\n",
      "90\n",
      "0\n",
      "70\n",
      "50\n"
     ]
    }
   ],
   "source": [
    "# your code here\n"
   ]
  },
  {
   "cell_type": "code",
   "execution_count": 36,
   "id": "8628db95",
   "metadata": {},
   "outputs": [
    {
     "name": "stdout",
     "output_type": "stream",
     "text": [
      "100\n",
      "55\n",
      "70\n",
      "35\n",
      "50\n",
      "90\n",
      "0\n",
      "70\n",
      "50\n"
     ]
    }
   ],
   "source": [
    "for student in sampleDict[\"class\"][\"student_list\"].keys():\n",
    "    for subject in sampleDict[\"class\"][\"student_list\"][student][\"marks\"].keys():\n",
    "        print(sampleDict[\"class\"][\"student_list\"][student][\"marks\"][subject][2])"
   ]
  },
  {
   "cell_type": "markdown",
   "id": "dc295ef3",
   "metadata": {},
   "source": [
    "**Get all the grades and store them in a list `all_grades` Calculate the mean (solution: 55.97)**\n",
    "\n",
    "You can of course use a modified version of your solution of the previous question."
   ]
  },
  {
   "cell_type": "code",
   "execution_count": 42,
   "id": "f4173977",
   "metadata": {},
   "outputs": [
    {
     "name": "stdout",
     "output_type": "stream",
     "text": [
      "55.97\n"
     ]
    }
   ],
   "source": [
    "# your code here\n",
    "all_grades = []\n",
    "for student in sampleDict[\"class\"][\"student_list\"].keys():\n",
    "    for subject in sampleDict[\"class\"][\"student_list\"][student][\"marks\"].keys():\n",
    "        for mark in sampleDict[\"class\"][\"student_list\"][student][\"marks\"][subject]:  \n",
    "            all_grades.append(mark)\n",
    "print(round(np.mean(all_grades),2))"
   ]
  },
  {
   "cell_type": "code",
   "execution_count": null,
   "id": "b14c3b1c",
   "metadata": {},
   "outputs": [],
   "source": []
  },
  {
   "cell_type": "markdown",
   "id": "c33710ee",
   "metadata": {},
   "source": [
    "**Save that list as a column in a pandas dataframe and plot a histogram with it**"
   ]
  },
  {
   "cell_type": "code",
   "execution_count": 68,
   "id": "c940a412",
   "metadata": {},
   "outputs": [
    {
     "data": {
      "text/plain": [
       "<AxesSubplot:title={'center':'grades'}, ylabel='Frequency'>"
      ]
     },
     "execution_count": 68,
     "metadata": {},
     "output_type": "execute_result"
    },
    {
     "data": {
      "image/png": "[encoded data removed]",
      "text/plain": [
       "<Figure size 432x288 with 1 Axes>"
      ]
     },
     "metadata": {
      "needs_background": "light"
     },
     "output_type": "display_data"
    }
   ],
   "source": [
    "# your code here\n",
    "import pandas as pd\n",
    "my_df = pd.DataFrame(all_grades)\n",
    "my_df.plot(kind=\"hist\", grid=True, legend=False, title=\"grades\")"
   ]
  },
  {
   "cell_type": "markdown",
   "id": "581c1e18",
   "metadata": {},
   "source": [
    "Output should look like this"
   ]
  },
  {
   "cell_type": "code",
   "execution_count": 99,
   "id": "544f791b",
   "metadata": {},
   "outputs": [
    {
     "data": {
      "image/png": "[encoded data removed]",
      "text/plain": [
       "<Figure size 432x288 with 1 Axes>"
      ]
     },
     "metadata": {
      "needs_background": "light"
     },
     "output_type": "display_data"
    }
   ],
   "source": []
  },
  {
   "cell_type": "markdown",
   "id": "bf1468d8",
   "metadata": {},
   "source": [
    "**Return all the students subjects. Watch out: We don't want repetitions!**"
   ]
  },
  {
   "cell_type": "code",
   "execution_count": 56,
   "id": "dd6a9494",
   "metadata": {},
   "outputs": [
    {
     "name": "stdout",
     "output_type": "stream",
     "text": [
      "['biology', 'french', 'history', 'math', 'physics', 'spanish']\n"
     ]
    }
   ],
   "source": [
    "# your code\n",
    "all_subjects = []\n",
    "for student in sampleDict[\"class\"][\"student_list\"].keys():\n",
    "    for subject in sampleDict[\"class\"][\"student_list\"][student][\"marks\"].keys():\n",
    "        all_subjects.append(subject)\n",
    "print(sorted(set(all_subjects)))"
   ]
  },
  {
   "cell_type": "markdown",
   "id": "2144983d",
   "metadata": {},
   "source": [
    "Output should look like this"
   ]
  },
  {
   "cell_type": "code",
   "execution_count": 96,
   "id": "4dabe1ba",
   "metadata": {},
   "outputs": [
    {
     "data": {
      "text/plain": [
       "{'biology', 'french', 'history', 'math', 'physics', 'spanish'}"
      ]
     },
     "execution_count": 96,
     "metadata": {},
     "output_type": "execute_result"
    }
   ],
   "source": []
  },
  {
   "cell_type": "markdown",
   "id": "78ecbdb7",
   "metadata": {},
   "source": [
    "**Richard heard you're a data enthusiast and asks you to hack the school server and and replace his worst physics grade rounded to full integers (0) with the mean of his physics grades (he doesn't want to raise suspicion). Help him do that. Check wether your hack was successful by printing his physics grade**"
   ]
  },
  {
   "cell_type": "code",
   "execution_count": 105,
   "id": "70940e05",
   "metadata": {},
   "outputs": [
    {
     "data": {
      "text/plain": [
       "[10, 10, 36, 90]"
      ]
     },
     "execution_count": 105,
     "metadata": {},
     "output_type": "execute_result"
    }
   ],
   "source": [
    "# your code here\n",
    "print()"
   ]
  },
  {
   "cell_type": "code",
   "execution_count": 66,
   "id": "b6277855",
   "metadata": {},
   "outputs": [
    {
     "name": "stdout",
     "output_type": "stream",
     "text": [
      "[10, 10, 28, 90]\n"
     ]
    }
   ],
   "source": [
    "rich_phys_marks = sampleDict[\"class\"][\"student_list\"][\"Richard\"][\"marks\"][\"physics\"]\n",
    "\n",
    "rich_phys_marks[rich_phys_marks.index(min(rich_phys_marks))] = round(np.mean(rich_phys_marks))\n",
    "print(rich_phys_marks)"
   ]
  },
  {
   "cell_type": "markdown",
   "id": "587f34e6",
   "metadata": {},
   "source": [
    "## ?? ↑↑↑ ??"
   ]
  },
  {
   "cell_type": "markdown",
   "id": "a79013e4",
   "metadata": {},
   "source": [
    "***"
   ]
  },
  {
   "cell_type": "markdown",
   "id": "f3ac8abe",
   "metadata": {},
   "source": [
    "**The hack was discovered! They found out it must have been Richard because his physics grade is not a multiple of 5 like all the other grades**\n",
    "\n",
    "Expell Richard (poor Richard!) by removing him from the dictionary. Use `del`. And print the resulting class dictionary."
   ]
  },
  {
   "cell_type": "code",
   "execution_count": 108,
   "id": "62282f21",
   "metadata": {},
   "outputs": [
    {
     "data": {
      "text/plain": [
       "{'class': {'student_list': {'Anna': {'marks': {'physics': [70, 20, 100, 20],\n",
       "     'history': [80, 10, 55, 35],\n",
       "     'math': [100, 90, 70, 35]}},\n",
       "   'Martin': {'marks': {'french': [20, 10, 35, 45],\n",
       "     'spanish': [40, 75, 50, 90],\n",
       "     'math': [90, 85, 90, 95]}}}}}"
      ]
     },
     "execution_count": 108,
     "metadata": {},
     "output_type": "execute_result"
    }
   ],
   "source": [
    "# your code here\n"
   ]
  },
  {
   "cell_type": "code",
   "execution_count": 67,
   "id": "a9757027",
   "metadata": {},
   "outputs": [
    {
     "name": "stdout",
     "output_type": "stream",
     "text": [
      "{'class': {'student_list': {'Anna': {'marks': {'physics': [70, 20, 100, 20], 'history': [80, 10, 55, 35], 'math': [100, 90, 70, 35]}}, 'Martin': {'marks': {'french': [20, 10, 35, 45], 'spanish': [40, 75, 50, 90], 'math': [90, 85, 90, 95]}}}}}\n"
     ]
    }
   ],
   "source": [
    "del(sampleDict[\"class\"][\"student_list\"][\"Richard\"])\n",
    "print(sampleDict)"
   ]
  },
  {
   "cell_type": "code",
   "execution_count": null,
   "id": "7e716686",
   "metadata": {},
   "outputs": [],
   "source": []
  }
 ],
 "metadata": {
  "kernelspec": {
   "display_name": "Python 3 (ipykernel)",
   "language": "python",
   "name": "python3"
  },
  "language_info": {
   "codemirror_mode": {
    "name": "ipython",
    "version": 3
   },
   "file_extension": ".py",
   "mimetype": "text/x-python",
   "name": "python",
   "nbconvert_exporter": "python",
   "pygments_lexer": "ipython3",
   "version": "3.9.7"
  }
 },
 "nbformat": 4,
 "nbformat_minor": 5
}
