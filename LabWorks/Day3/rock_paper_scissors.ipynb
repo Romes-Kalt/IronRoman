{
 "cells": [
  {
   "cell_type": "code",
   "execution_count": 13,
   "id": "df7db02c",
   "metadata": {},
   "outputs": [
    {
     "name": "stdout",
     "output_type": "stream",
     "text": [
      "Let's play a round of rock, paper and scissors!\n",
      "\n",
      "Round: 1, Player 0 : 0 Computer\n",
      "\n",
      "Enter a choice (r)ock, (p)aper, (s)cissors: r\n",
      "\n",
      "You chose rock, computer chose rock.\n",
      "\n",
      "Both players selected rock. It's a tie!\n",
      "Play again? (y/n): n\n",
      "\n",
      "\n",
      "**********************\n",
      "\n",
      "Game finishes after one round. (Did you even try ;)\n",
      "FINAL SCORE: Player 0 : 0 Computer\n"
     ]
    }
   ],
   "source": [
    "import random\n",
    "gestures = [\"rock\", \"paper\", \"scissors\"]\n",
    "user_points = 0\n",
    "computer_points = 0\n",
    "game_counter = 1\n",
    "print(\"Let's play a round of rock, paper and scissors!\\n\")\n",
    "while True:\n",
    "    print(f\"Round: {game_counter}, Player {user_points} : {computer_points} Computer\\n\")\n",
    "    user_gesture = \"Null\"\n",
    "    while user_gesture.lower() not in [\"r\", \"s\", \"p\", \"rock\", \"paper\", \"scissors\"]:\n",
    "        user_gesture = input(\"Enter a choice (r)ock, (p)aper, (s)cissors: \")\n",
    "        if user_gesture[0].lower() in [\"r\", \"s\", \"p\"]:\n",
    "            break\n",
    "        print(\"Please enter a correct choice.\")\n",
    "    if user_gesture == \"r\":\n",
    "        user_gesture = \"rock\"\n",
    "    elif user_gesture == \"p\":\n",
    "        user_gesture = \"paper\"\n",
    "    else:\n",
    "        user_gesture = \"scissors\"\n",
    "\n",
    "    comp_gesture = random.choice(gestures)\n",
    "    print(f\"\\nYou chose {user_gesture}, computer chose {comp_gesture}.\\n\")\n",
    "\n",
    "    if user_gesture == comp_gesture:\n",
    "        print(f\"Both players selected {user_gesture}. It's a tie!\")\n",
    "    elif user_gesture == \"rock\":\n",
    "        if comp_gesture == \"scissors\":\n",
    "            print(\"Rock smashes scissors! You win!\")\n",
    "            user_points += 1\n",
    "        else:\n",
    "            print(\"Paper covers rock! You lose.\")\n",
    "            computer_points += 1\n",
    "    elif user_gesture == \"paper\":\n",
    "        if comp_gesture == \"rock\":\n",
    "            print(\"Paper covers rock! You win!\")\n",
    "            user_points += 1\n",
    "        else:\n",
    "            print(\"Scissors cuts paper! You lose.\")\n",
    "            computer_points += 1\n",
    "    elif user_gesture == \"scissors\":\n",
    "        if comp_gesture == \"paper\":\n",
    "            print(\"Scissors cuts paper! You win!\")\n",
    "            user_points += 1\n",
    "        else:\n",
    "            print(\"Rock smashes scissors! You lose.\")\n",
    "            computer_points += 1\n",
    "\n",
    "    play_again = input(\"Play again? (y/n): \")\n",
    "    if play_again.lower() != \"y\":\n",
    "        break\n",
    "    game_counter += 1\n",
    "    print(\"\\n    - - - - - - -\\n\")\n",
    "print(\"\\n\\n**********************\\n\")\n",
    "if game_counter == 1:\n",
    "    print(f\"Game finishes after one round. (Did you even try ;)\\nFINAL SCORE: Player {user_points} : \"\n",
    "          f\"{computer_points} Computer\")\n",
    "else:\n",
    "    print(f\"Game finishes after {game_counter} rounds.\\nFINAL SCORE: Player {user_points} :\"\n",
    "          f\" {computer_points} Computer\")"
   ]
  },
  {
   "cell_type": "code",
   "execution_count": null,
   "id": "39d2749f",
   "metadata": {},
   "outputs": [],
   "source": []
  }
 ],
 "metadata": {
  "kernelspec": {
   "display_name": "Python 3 (ipykernel)",
   "language": "python",
   "name": "python3"
  },
  "language_info": {
   "codemirror_mode": {
    "name": "ipython",
    "version": 3
   },
   "file_extension": ".py",
   "mimetype": "text/x-python",
   "name": "python",
   "nbconvert_exporter": "python",
   "pygments_lexer": "ipython3",
   "version": "3.9.7"
  }
 },
 "nbformat": 4,
 "nbformat_minor": 5
}
