{
 "cells": [
  {
   "cell_type": "markdown",
   "id": "080a6062",
   "metadata": {},
   "source": [
    "# numpy exercises\n",
    "\n",
    "This is a collection of exercises that have been collected in the numpy mailing list, on stack overflow\n",
    "and in the numpy documentation. The goal of this collection is to offer a quick reference for both old\n",
    "and new users but also to provide a set of exercises for those who teach.\n",
    "\n",
    "\n",
    "If you find an error or think you've a better way to solve some of them, feel\n",
    "free to open an issue at <https://github.com/rougier/numpy-100>.\n",
    "File automatically generated. See the documentation to update questions/answers/hints programmatically.\n",
    "\n"
   ]
  },
  {
   "cell_type": "markdown",
   "id": "7e33ff3c",
   "metadata": {},
   "source": [
    "#### 1. Import the numpy package under the name `np` (★☆☆)\n",
    "`hint: import … as`\n"
   ]
  },
  {
   "cell_type": "code",
   "execution_count": 169,
   "id": "ab307498",
   "metadata": {},
   "outputs": [],
   "source": [
    "import numpy as np"
   ]
  },
  {
   "cell_type": "markdown",
   "id": "04259047",
   "metadata": {},
   "source": [
    "\n",
    "#### 2. Create a null vector of size 10 (★☆☆)\n",
    "`hint: np.zeros`\n",
    "\n"
   ]
  },
  {
   "cell_type": "code",
   "execution_count": 170,
   "id": "5f4e8f66",
   "metadata": {},
   "outputs": [
    {
     "name": "stdout",
     "output_type": "stream",
     "text": [
      "[0. 0. 0. 0. 0. 0. 0. 0. 0. 0.]\n"
     ]
    }
   ],
   "source": [
    "null_vector = np.zeros(10)\n",
    "print(null_vector)"
   ]
  },
  {
   "cell_type": "markdown",
   "id": "4c540325",
   "metadata": {},
   "source": [
    "#### 3. Create a null vector of size 10 but the fifth value which is 1 (★☆☆)\n",
    "`hint: array[4]`\n",
    "\n"
   ]
  },
  {
   "cell_type": "code",
   "execution_count": 171,
   "id": "a814f74e",
   "metadata": {},
   "outputs": [
    {
     "name": "stdout",
     "output_type": "stream",
     "text": [
      "[0. 0. 0. 0. 1. 0. 0. 0. 0. 0.]\n"
     ]
    }
   ],
   "source": [
    "null_vector = np.zeros(10)\n",
    "null_vector[4] = 1\n",
    "print(null_vector)"
   ]
  },
  {
   "cell_type": "markdown",
   "id": "136d8411",
   "metadata": {},
   "source": [
    "#### 4. Create a vector with values ranging from 10 to 49 (★☆☆)\n",
    "`hint: arange`\n"
   ]
  },
  {
   "cell_type": "code",
   "execution_count": 172,
   "id": "a18dd646",
   "metadata": {},
   "outputs": [
    {
     "name": "stdout",
     "output_type": "stream",
     "text": [
      "[10 11 12 13 14 15 16 17 18 19 20 21 22 23 24 25 26 27 28 29 30 31 32 33\n",
      " 34 35 36 37 38 39 40 41 42 43 44 45 46 47 48 49]\n"
     ]
    }
   ],
   "source": [
    "val_vector = np.arange(10,50)\n",
    "print(val_vector)"
   ]
  },
  {
   "cell_type": "markdown",
   "id": "0049e551",
   "metadata": {},
   "source": [
    "#### 5. Create a 3x3 matrix with values ranging from 0 to 8 (★☆☆)\n",
    "`hint: reshape`\n"
   ]
  },
  {
   "cell_type": "code",
   "execution_count": 173,
   "id": "4fea8f93",
   "metadata": {},
   "outputs": [
    {
     "name": "stdout",
     "output_type": "stream",
     "text": [
      "[[0 1 2]\n",
      " [3 4 5]\n",
      " [6 7 8]]\n"
     ]
    }
   ],
   "source": [
    "three_by_three = np.arange(0,9).reshape((3,3))\n",
    "print(three_by_three)\n"
   ]
  },
  {
   "cell_type": "markdown",
   "id": "c3ad1ef4",
   "metadata": {},
   "source": [
    "#### 6. Find indices of non-zero elements from [1,2,0,0,4,0] (★☆☆)\n",
    "`hint: np.nonzero`\n",
    "\n"
   ]
  },
  {
   "cell_type": "code",
   "execution_count": 174,
   "id": "bff53c30",
   "metadata": {},
   "outputs": [
    {
     "name": "stdout",
     "output_type": "stream",
     "text": [
      "(array([0, 1, 4], dtype=int64),)\n"
     ]
    }
   ],
   "source": [
    "non_zero_ind = np.array([1,2,0,0,4,0]).nonzero()\n",
    "print(non_zero_ind)"
   ]
  },
  {
   "cell_type": "markdown",
   "id": "c52f42e5",
   "metadata": {},
   "source": [
    "#### 7. Create a 3x3 identity matrix (★☆☆)\n",
    "`hint: np.eye`\n",
    "\n"
   ]
  },
  {
   "cell_type": "code",
   "execution_count": 175,
   "id": "9f147d4b",
   "metadata": {},
   "outputs": [
    {
     "name": "stdout",
     "output_type": "stream",
     "text": [
      "[[1. 0. 0.]\n",
      " [0. 1. 0.]\n",
      " [0. 0. 1.]]\n"
     ]
    }
   ],
   "source": [
    "three_by_three_ident_matrix = np.eye(3)\n",
    "print(three_by_three_ident_matrix)"
   ]
  },
  {
   "cell_type": "markdown",
   "id": "f550c575",
   "metadata": {},
   "source": [
    "#### 8. Create a 3x3x3 array with random values (★☆☆)\n",
    "`hint: np.random.random`\n",
    "\n"
   ]
  },
  {
   "cell_type": "code",
   "execution_count": 185,
   "id": "71ca81f3",
   "metadata": {},
   "outputs": [
    {
     "name": "stdout",
     "output_type": "stream",
     "text": [
      "[[[0.56831168 0.20473234 0.38043649]\n",
      "  [0.11602386 0.95809687 0.24330586]\n",
      "  [0.1469943  0.49748665 0.55566361]]\n",
      "\n",
      " [[0.11663956 0.57160151 0.65021782]\n",
      "  [0.6551842  0.83219027 0.48694003]\n",
      "  [0.45449626 0.95070485 0.72348807]]\n",
      "\n",
      " [[0.80805857 0.26227537 0.25921699]\n",
      "  [0.22166286 0.02183191 0.87874234]\n",
      "  [0.65494569 0.85484881 0.51244642]]]\n"
     ]
    }
   ],
   "source": [
    "three_three_random = np.random.random((3,3,3))\n",
    "print(three_three_random)"
   ]
  },
  {
   "cell_type": "markdown",
   "id": "11db52aa",
   "metadata": {},
   "source": [
    "#### 9. Create a 10x10 array with random values and find the minimum and maximum values (★☆☆)\n",
    "`hint: min, max`\n"
   ]
  },
  {
   "cell_type": "code",
   "execution_count": 177,
   "id": "1b5eeaa0",
   "metadata": {},
   "outputs": [
    {
     "name": "stdout",
     "output_type": "stream",
     "text": [
      "[[49 56 36 99 66 45 35 82 94 36]\n",
      " [38 21 59 38 57 78 33 86  2 94]\n",
      " [40 79 64 28 97 14 36 71 15 16]\n",
      " [96 81 38  9  3 14 24 85 46 55]\n",
      " [56 40 58 65 47 77 77 95 19 93]\n",
      " [76 16 24 30 42 72 50  3 75 23]\n",
      " [14 62 48 17 53 61 23 20 52 77]\n",
      " [47  7 58 92 82 20 84 97 93 24]\n",
      " [14 67 34 64 12 62 98 85 95 88]\n",
      " [90 99 31 55 40 38 34 20 57 47]]\n",
      "\n",
      "----\n",
      "Minimum value: 2\n",
      "Maximum value: 99\n"
     ]
    }
   ],
   "source": [
    "random_matrix = np.random.randint(1,100,(10,10))\n",
    "print(random_matrix)\n",
    "print(f\"\\n----\\nMinimum value: {np.min(random_matrix)}\")\n",
    "print(f\"Maximum value: {np.max(random_matrix)}\")"
   ]
  },
  {
   "cell_type": "markdown",
   "id": "c6b6ef79",
   "metadata": {},
   "source": [
    "#### 10. Create a random vector of size 30 and find the mean value (★☆☆)\n",
    "`hint: mean`\n",
    "\n"
   ]
  },
  {
   "cell_type": "code",
   "execution_count": 205,
   "id": "d4e06d3f",
   "metadata": {},
   "outputs": [
    {
     "name": "stdout",
     "output_type": "stream",
     "text": [
      "[0.81898156 0.66850092 0.41462881 0.34431822 0.48918997 0.9284449\n",
      " 0.79355357 0.04848427 0.16342303 0.60421712 0.36636738 0.73930765\n",
      " 0.90780402 0.51916725 0.26904612 0.21956585 0.88339953 0.95882051\n",
      " 0.49271666 0.15580771 0.65015543 0.74182496 0.63185154 0.29914552\n",
      " 0.69632153 0.54103242 0.38588184 0.17566223 0.9696253  0.18348022]\n",
      "---\n",
      "Mean: 0.5353575352521788\n"
     ]
    }
   ],
   "source": [
    "this_vector = np.random.random(30) \n",
    "print(this_vector)\n",
    "print(f\"---\\nMean: {np.mean(this_vector)}\")"
   ]
  },
  {
   "cell_type": "markdown",
   "id": "589a582c",
   "metadata": {},
   "source": [
    "#### 11. Create a 5x5 matrix with values 1,2,3,4 just below the diagonal (★☆☆)\n",
    "`hint: np.diag`\n",
    "\n"
   ]
  },
  {
   "cell_type": "code",
   "execution_count": 200,
   "id": "d3b017a4",
   "metadata": {},
   "outputs": [
    {
     "name": "stdout",
     "output_type": "stream",
     "text": [
      "[[0 0 0 0 0]\n",
      " [1 0 0 0 0]\n",
      " [0 2 0 0 0]\n",
      " [0 0 3 0 0]\n",
      " [0 0 0 4 0]]\n"
     ]
    }
   ],
   "source": [
    "print(np.diag([1,2,3,4],-1))\n",
    "\n"
   ]
  },
  {
   "cell_type": "markdown",
   "id": "bde66240",
   "metadata": {},
   "source": [
    "#### 12. Normalize a 5x5 random matrix (★☆☆)\n",
    "`hint: (x -mean)/std`\n",
    "\n"
   ]
  },
  {
   "cell_type": "code",
   "execution_count": 180,
   "id": "c7ad7895",
   "metadata": {},
   "outputs": [
    {
     "name": "stdout",
     "output_type": "stream",
     "text": [
      "- Random -\n",
      "[[ 2 17 15 13  8]\n",
      " [14  7 13 11 13]\n",
      " [15 17  1 14 19]\n",
      " [17 14  6  3 16]\n",
      " [ 3 14  3  5  1]]\n",
      "- Normalized -\n",
      "[[-1.4664097   1.13976868  0.79227823  0.44478778 -0.42393835]\n",
      " [ 0.618533   -0.59768358  0.44478778  0.09729733  0.44478778]\n",
      " [ 0.79227823  1.13976868 -1.64015493  0.618533    1.48725913]\n",
      " [ 1.13976868  0.618533   -0.7714288  -1.29266448  0.96602345]\n",
      " [-1.29266448  0.618533   -1.29266448 -0.94517403 -1.64015493]]\n",
      "- - -\n",
      "Mean: -0.0, StandDev: 1.0\n"
     ]
    }
   ],
   "source": [
    "random_matrix = np.random.randint(1,20,(5,5))\n",
    "print(\"- Random -\")\n",
    "print(random_matrix)\n",
    "print(\"- Normalized -\")\n",
    "normalized_matrix = (random_matrix - np.mean(random_matrix)) / np.std(random_matrix) \n",
    "print(normalized_matrix)\n",
    "print(\"- - -\")\n",
    "print(f\"Mean: {round(np.mean(normalized_vector), 8)}, StandDev: {round(np.std(normalized_vector), 8)}\")\n"
   ]
  },
  {
   "cell_type": "markdown",
   "id": "719cdb7a",
   "metadata": {},
   "source": [
    "#### 13. How to find common values between two arrays? (★☆☆)\n",
    "`hint: np.intersect1d`\n",
    "\n"
   ]
  },
  {
   "cell_type": "code",
   "execution_count": 181,
   "id": "de5e3f58",
   "metadata": {},
   "outputs": [
    {
     "name": "stdout",
     "output_type": "stream",
     "text": [
      "[12  4  7 15  8 17 14 14 10  2 12 10 12  3 13  5 19 16  3 12]\n",
      "[17 12  3 11 12 16 16  7  1  1 17 19  5 11 16 13  3  6 10  1]\n",
      "[ 3  5  7 10 12 13 16 17 19]\n"
     ]
    }
   ],
   "source": [
    "array1 = np.random.randint(1,20,20)\n",
    "array2 = np.random.randint(1,20,20)\n",
    "print(array1)\n",
    "print(array2)\n",
    "print(np.intersect1d(array1, array2))"
   ]
  },
  {
   "cell_type": "markdown",
   "id": "422a73ee",
   "metadata": {},
   "source": [
    "#### 14. Create a random vector of size 10 and sort it (★★☆)\n",
    "`hint: sort`\n",
    "\n"
   ]
  },
  {
   "cell_type": "code",
   "execution_count": 182,
   "id": "d6d20853",
   "metadata": {},
   "outputs": [
    {
     "name": "stdout",
     "output_type": "stream",
     "text": [
      "[ 3  4  5  5 11 14 14 18 19 23]\n"
     ]
    }
   ],
   "source": [
    "print(np.sort(np.random.randint(1,25,10)))"
   ]
  },
  {
   "cell_type": "markdown",
   "id": "c560b61f",
   "metadata": {},
   "source": [
    "#### 15. Create random vector of size 10 and replace the maximum value by 0 (★★☆)\n",
    "`hint: argmax`\n",
    "\n"
   ]
  },
  {
   "cell_type": "code",
   "execution_count": 210,
   "id": "6c1f8eca",
   "metadata": {},
   "outputs": [
    {
     "name": "stdout",
     "output_type": "stream",
     "text": [
      "Vector: [27 31  9 17 34 31 21 47 21  7], with maximum value of 47 at index 7\n"
     ]
    }
   ],
   "source": [
    "this_vector = np.random.randint(1,50,10)\n",
    "print(f\"Vector: {this_vector}, with maximum value of {this_vector[np.argmax(this_vector)]} at index {np.argmax(this_vector)}\")\n"
   ]
  },
  {
   "cell_type": "markdown",
   "id": "f837e11b",
   "metadata": {},
   "source": [
    "#### 16. Subtract the mean of each row of a matrix (★★☆)\n",
    "`hint: mean(axis=,keepdims=)`\n",
    "\n"
   ]
  },
  {
   "cell_type": "code",
   "execution_count": 211,
   "id": "383751bc",
   "metadata": {},
   "outputs": [
    {
     "name": "stdout",
     "output_type": "stream",
     "text": [
      "Original matrix:\n",
      "[[15 42 38 27 30]\n",
      " [14  7 48  4 17]\n",
      " [25 46 17 36 34]\n",
      " [12 46  6  3 30]\n",
      " [38 25 47 45 40]]\n",
      "\n",
      "Subtract the mean of each row:\n",
      "[[-15.4  11.6   7.6  -3.4  -0.4]\n",
      " [ -4.  -11.   30.  -14.   -1. ]\n",
      " [ -6.6  14.4 -14.6   4.4   2.4]\n",
      " [ -7.4  26.6 -13.4 -16.4  10.6]\n",
      " [ -1.  -14.    8.    6.    1. ]]\n"
     ]
    }
   ],
   "source": [
    "random_matrix = np.random.randint(1,50,(5, 5))\n",
    "print(\"Original matrix:\")\n",
    "print(random_matrix)\n",
    "print(\"\\nSubtract the mean of each row:\")\n",
    "substr_matrix = random_matrix - random_matrix.mean(axis=1, keepdims=True)\n",
    "print(substr_matrix)"
   ]
  },
  {
   "cell_type": "markdown",
   "id": "43a9b7d3",
   "metadata": {},
   "source": [
    "#### 17. How to get the n largest values of an array (★★★)\n",
    "`Z = np.arange(10000)\n",
    "np.random.shuffle(Z)\n",
    "n = 5\n",
    "hint: np.argsort | np.argpartition`\n",
    "\n"
   ]
  },
  {
   "cell_type": "code",
   "execution_count": 215,
   "id": "0a4b41bc",
   "metadata": {
    "scrolled": true
   },
   "outputs": [
    {
     "name": "stdout",
     "output_type": "stream",
     "text": [
      "[27290 42862 21012 ... 16403 22158 92149]\n",
      "indeces of the n highest numbers starting with the smallest of these: [71226 67996 31952  9582   531]\n",
      "99995\n",
      "99996\n",
      "99997\n",
      "99998\n",
      "99999\n"
     ]
    }
   ],
   "source": [
    "Z = 100000\n",
    "n = 5\n",
    "random_array = np.arange(Z)\n",
    "\n",
    "np.random.shuffle(random_array)\n",
    "print(random_array)\n",
    "# argsort WORKS! \n",
    "n_largest_indeces = np.argsort(random_array)[Z-n:]\n",
    "print(f\"indeces of the n highest numbers starting with the smallest of these: {n_largest_indeces}\")\n",
    "for _ in n_largest_indeces:\n",
    "    print(random_array[_])\n",
    "\n"
   ]
  },
  {
   "cell_type": "code",
   "execution_count": 216,
   "id": "ad224e6b",
   "metadata": {},
   "outputs": [
    {
     "name": "stdout",
     "output_type": "stream",
     "text": [
      "[3736 9999    2 ... 9136 9978 2964]\n",
      "[6622 2706 9136 9978 2964]\n",
      "[9995 9996 9997 9999 9998]\n"
     ]
    }
   ],
   "source": [
    "# argpartition\n",
    "Z = 10000\n",
    "n = 5\n",
    "random_array = np.arange(Z)\n",
    "np.random.shuffle(random_array)\n",
    "\n",
    "print(np.argpartition(random_array,Z-n))\n",
    "print(np.argpartition(random_array,Z-n)[-n:])\n",
    "print(random_array[np.argpartition(random_array,Z-n)[-n:]])\n"
   ]
  },
  {
   "cell_type": "markdown",
   "id": "a3a2c83b",
   "metadata": {},
   "source": [
    "#### 18. Create a random 5*3 matrix and replace items that are larger than 4 by their squares ( Example:  6 --> 36) \n",
    "`hint: np.where`\n"
   ]
  },
  {
   "cell_type": "code",
   "execution_count": 217,
   "id": "cbc68f1f",
   "metadata": {},
   "outputs": [
    {
     "name": "stdout",
     "output_type": "stream",
     "text": [
      "[[6 2 3]\n",
      " [5 6 2]\n",
      " [5 8 1]\n",
      " [9 4 9]\n",
      " [1 7 4]]\n",
      "----\n",
      "[[36  2  3]\n",
      " [25 36  2]\n",
      " [25 64  1]\n",
      " [81  4 81]\n",
      " [ 1 49  4]]\n"
     ]
    }
   ],
   "source": [
    "random_matrix = np.random.randint(1,10,(5,3))\n",
    "print(random_matrix)\n",
    "print(\"----\")\n",
    "print(np.where(random_matrix > 4, random_matrix**2, random_matrix))"
   ]
  },
  {
   "cell_type": "code",
   "execution_count": null,
   "id": "3a66c8ae",
   "metadata": {},
   "outputs": [],
   "source": []
  },
  {
   "cell_type": "code",
   "execution_count": null,
   "id": "3c8592c8",
   "metadata": {},
   "outputs": [],
   "source": []
  }
 ],
 "metadata": {
  "kernelspec": {
   "display_name": "Python 3 (ipykernel)",
   "language": "python",
   "name": "python3"
  },
  "language_info": {
   "codemirror_mode": {
    "name": "ipython",
    "version": 3
   },
   "file_extension": ".py",
   "mimetype": "text/x-python",
   "name": "python",
   "nbconvert_exporter": "python",
   "pygments_lexer": "ipython3",
   "version": "3.9.7"
  }
 },
 "nbformat": 4,
 "nbformat_minor": 5
}
