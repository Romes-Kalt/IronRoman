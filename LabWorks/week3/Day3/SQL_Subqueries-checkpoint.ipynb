{
 "cells": [
  {
   "cell_type": "markdown",
   "metadata": {},
   "source": [
    "# SQL Subqueries\n",
    "***\n",
    "SQLAlchemy approach"
   ]
  },
  {
   "cell_type": "markdown",
   "metadata": {},
   "source": [
    "**Set up of SQLAlchemy**"
   ]
  },
  {
   "cell_type": "code",
   "execution_count": 1,
   "metadata": {},
   "outputs": [],
   "source": [
    "import pandas as pd\n",
    "import getpass\n",
    "import sqlalchemy as sa\n",
    "import numpy as np"
   ]
  },
  {
   "cell_type": "code",
   "execution_count": 2,
   "metadata": {},
   "outputs": [
    {
     "name": "stdout",
     "output_type": "stream",
     "text": [
      "Your password:········\n"
     ]
    }
   ],
   "source": [
    "driver = 'mysql+pymysql'\n",
    "user = 'Roman'\n",
    "password = getpass.getpass(prompt='Your password:'\"\")\n",
    "ip = '127.0.0.1'  "
   ]
  },
  {
   "cell_type": "code",
   "execution_count": 3,
   "metadata": {},
   "outputs": [],
   "source": [
    "connection_string = f'{driver}://{user}:{password}@{ip}'"
   ]
  },
  {
   "cell_type": "code",
   "execution_count": 4,
   "metadata": {},
   "outputs": [],
   "source": [
    "db_connection = sa.create_engine(connection_string)"
   ]
  },
  {
   "cell_type": "code",
   "execution_count": 5,
   "metadata": {},
   "outputs": [],
   "source": [
    "# easy check, whether connecting was successful\n",
    "# insp = sa.inspect(db_connection)  \n",
    "# db_list = insp.get_schema_names()\n",
    "# print(db_list)"
   ]
  },
  {
   "cell_type": "markdown",
   "metadata": {},
   "source": [
    "***"
   ]
  },
  {
   "cell_type": "markdown",
   "metadata": {},
   "source": [
    "## 1. How many copies of the film Hunchback Impossible exist in the inventory system? \n",
    "<br>\n",
    "Flexible solution including user choice.\n"
   ]
  },
  {
   "cell_type": "code",
   "execution_count": 6,
   "metadata": {},
   "outputs": [],
   "source": [
    "# create a list of all titles for checking before querying\n",
    "query=\"select distinct(title) from sakila.film order by title;\"\n",
    "movies_in_inv = pd.read_sql_query(query, db_connection)\n",
    "movies_in_inv = movies_in_inv[\"title\"].to_list()\n",
    "# movies_in_inv"
   ]
  },
  {
   "cell_type": "code",
   "execution_count": 7,
   "metadata": {},
   "outputs": [
    {
     "name": "stdout",
     "output_type": "stream",
     "text": [
      "Title: Elf Murder\n"
     ]
    }
   ],
   "source": [
    "# get user choice, check that the movie is in the inventory in the first place\n",
    "while True:\n",
    "    user_choice = input(\"Title: \").upper()\n",
    "    if user_choice in movies_in_inv:\n",
    "            break\n",
    "    print(\"Movie not found.\")\n",
    "    "
   ]
  },
  {
   "cell_type": "code",
   "execution_count": 8,
   "metadata": {},
   "outputs": [
    {
     "name": "stdout",
     "output_type": "stream",
     "text": [
      "The movie ELF MURDER is 2 time(s) in our inventory.\n"
     ]
    }
   ],
   "source": [
    "query=f'''select count(*) as num_of_copies from sakila.inventory \n",
    "            where film_id in (select film_id from sakila.film where title=\"{user_choice}\");'''\n",
    "result = pd.read_sql_query(query, db_connection)\n",
    "print(f\"The movie {user_choice} is {str(result['num_of_copies'].iloc[0])} time(s) in our inventory.\")"
   ]
  },
  {
   "cell_type": "markdown",
   "metadata": {},
   "source": [
    "***"
   ]
  },
  {
   "cell_type": "markdown",
   "metadata": {},
   "source": [
    "## 8. Customers who spent more than the average payments.\n"
   ]
  },
  {
   "cell_type": "code",
   "execution_count": 9,
   "metadata": {},
   "outputs": [
    {
     "data": {
      "text/html": [
       "<div>\n",
       "<style scoped>\n",
       "    .dataframe tbody tr th:only-of-type {\n",
       "        vertical-align: middle;\n",
       "    }\n",
       "\n",
       "    .dataframe tbody tr th {\n",
       "        vertical-align: top;\n",
       "    }\n",
       "\n",
       "    .dataframe thead th {\n",
       "        text-align: right;\n",
       "    }\n",
       "</style>\n",
       "<table border=\"1\" class=\"dataframe\">\n",
       "  <thead>\n",
       "    <tr style=\"text-align: right;\">\n",
       "      <th></th>\n",
       "      <th>customer_id</th>\n",
       "      <th>total_payment</th>\n",
       "    </tr>\n",
       "  </thead>\n",
       "  <tbody>\n",
       "    <tr>\n",
       "      <th>0</th>\n",
       "      <td>1</td>\n",
       "      <td>118.68</td>\n",
       "    </tr>\n",
       "    <tr>\n",
       "      <th>1</th>\n",
       "      <td>2</td>\n",
       "      <td>128.73</td>\n",
       "    </tr>\n",
       "    <tr>\n",
       "      <th>2</th>\n",
       "      <td>3</td>\n",
       "      <td>135.74</td>\n",
       "    </tr>\n",
       "    <tr>\n",
       "      <th>3</th>\n",
       "      <td>4</td>\n",
       "      <td>81.78</td>\n",
       "    </tr>\n",
       "    <tr>\n",
       "      <th>4</th>\n",
       "      <td>5</td>\n",
       "      <td>144.62</td>\n",
       "    </tr>\n",
       "  </tbody>\n",
       "</table>\n",
       "</div>"
      ],
      "text/plain": [
       "   customer_id  total_payment\n",
       "0            1         118.68\n",
       "1            2         128.73\n",
       "2            3         135.74\n",
       "3            4          81.78\n",
       "4            5         144.62"
      ]
     },
     "execution_count": 9,
     "metadata": {},
     "output_type": "execute_result"
    }
   ],
   "source": [
    "# create df with customer_id and total sum spent by respective customer\n",
    "\n",
    "query=\"\"\"select customer_id, sum(sakila.payment.amount) as total_payment from sakila.payment group by customer_id;\"\"\"\n",
    "customer_total_payment_df = pd.read_sql_query(query, db_connection)\n",
    "customer_total_payment_df.head()"
   ]
  },
  {
   "cell_type": "code",
   "execution_count": 10,
   "metadata": {},
   "outputs": [
    {
     "data": {
      "text/plain": [
       "112.55"
      ]
     },
     "execution_count": 10,
     "metadata": {},
     "output_type": "execute_result"
    }
   ],
   "source": [
    "# use np to get the average amount spent\n",
    "average_amount_spent = round(np.mean(customer_total_payment_df[\"total_payment\"]),2)\n",
    "average_amount_spent"
   ]
  },
  {
   "cell_type": "code",
   "execution_count": 11,
   "metadata": {},
   "outputs": [],
   "source": [
    "# create to lists containg the customer_id's / amount spent for customers above average amount spent\n",
    "above_avg_cust_id = []\n",
    "above_avg_amounts = []\n",
    "for _ in range(len(customer_total_payment_df)):\n",
    "    if customer_total_payment_df[\"total_payment\"].iloc[_] > average_amount_spent:\n",
    "        above_avg_cust_id.append(customer_total_payment_df[\"customer_id\"].iloc[_])\n",
    "        above_avg_amounts.append(customer_total_payment_df[\"total_payment\"].iloc[_])"
   ]
  },
  {
   "cell_type": "code",
   "execution_count": 12,
   "metadata": {},
   "outputs": [
    {
     "data": {
      "text/html": [
       "<div>\n",
       "<style scoped>\n",
       "    .dataframe tbody tr th:only-of-type {\n",
       "        vertical-align: middle;\n",
       "    }\n",
       "\n",
       "    .dataframe tbody tr th {\n",
       "        vertical-align: top;\n",
       "    }\n",
       "\n",
       "    .dataframe thead th {\n",
       "        text-align: right;\n",
       "    }\n",
       "</style>\n",
       "<table border=\"1\" class=\"dataframe\">\n",
       "  <thead>\n",
       "    <tr style=\"text-align: right;\">\n",
       "      <th></th>\n",
       "      <th>customer_id</th>\n",
       "      <th>last_name</th>\n",
       "      <th>first_name</th>\n",
       "      <th>email</th>\n",
       "    </tr>\n",
       "  </thead>\n",
       "  <tbody>\n",
       "    <tr>\n",
       "      <th>0</th>\n",
       "      <td>505</td>\n",
       "      <td>ABNEY</td>\n",
       "      <td>RAFAEL</td>\n",
       "      <td>RAFAEL.ABNEY@sakilacustomer.org</td>\n",
       "    </tr>\n",
       "    <tr>\n",
       "      <th>1</th>\n",
       "      <td>504</td>\n",
       "      <td>ADAM</td>\n",
       "      <td>NATHANIEL</td>\n",
       "      <td>NATHANIEL.ADAM@sakilacustomer.org</td>\n",
       "    </tr>\n",
       "    <tr>\n",
       "      <th>2</th>\n",
       "      <td>36</td>\n",
       "      <td>ADAMS</td>\n",
       "      <td>KATHLEEN</td>\n",
       "      <td>KATHLEEN.ADAMS@sakilacustomer.org</td>\n",
       "    </tr>\n",
       "    <tr>\n",
       "      <th>3</th>\n",
       "      <td>96</td>\n",
       "      <td>ALEXANDER</td>\n",
       "      <td>DIANA</td>\n",
       "      <td>DIANA.ALEXANDER@sakilacustomer.org</td>\n",
       "    </tr>\n",
       "    <tr>\n",
       "      <th>4</th>\n",
       "      <td>470</td>\n",
       "      <td>ALLARD</td>\n",
       "      <td>GORDON</td>\n",
       "      <td>GORDON.ALLARD@sakilacustomer.org</td>\n",
       "    </tr>\n",
       "  </tbody>\n",
       "</table>\n",
       "</div>"
      ],
      "text/plain": [
       "   customer_id  last_name first_name                               email\n",
       "0          505      ABNEY     RAFAEL     RAFAEL.ABNEY@sakilacustomer.org\n",
       "1          504       ADAM  NATHANIEL   NATHANIEL.ADAM@sakilacustomer.org\n",
       "2           36      ADAMS   KATHLEEN   KATHLEEN.ADAMS@sakilacustomer.org\n",
       "3           96  ALEXANDER      DIANA  DIANA.ALEXANDER@sakilacustomer.org\n",
       "4          470     ALLARD     GORDON    GORDON.ALLARD@sakilacustomer.org"
      ]
     },
     "execution_count": 12,
     "metadata": {},
     "output_type": "execute_result"
    }
   ],
   "source": [
    "# create a df with customer id, name information and email for all customers\n",
    "query=\"\"\"select customer_id, last_name, first_name, email from sakila.customer order by last_name;\"\"\"\n",
    "customer_names_df = pd.read_sql_query(query, db_connection)\n",
    "customer_names_df.head()"
   ]
  },
  {
   "cell_type": "code",
   "execution_count": 13,
   "metadata": {},
   "outputs": [
    {
     "name": "stdout",
     "output_type": "stream",
     "text": [
      "The following customer's total spending is above the average of 112.55:\n",
      "\n",
      " + ADAM, Nathaniel (118.68): nathaniel.adam@sakilacustomer.org\n",
      " + ADAMS, Kathleen (128.73): kathleen.adams@sakilacustomer.org\n",
      " + ALEXANDER, Diana (135.74): diana.alexander@sakilacustomer.org\n",
      " + ALLEN, Shirley (144.62): shirley.allen@sakilacustomer.org\n",
      " + ANDERSON, Lisa (151.67): lisa.anderson@sakilacustomer.org\n",
      " + ARMSTRONG, Melanie (131.73): melanie.armstrong@sakilacustomer.org\n",
      " + ARNOLD, Beatrice (117.72): beatrice.arnold@sakilacustomer.org\n",
      " + ARSENAULT, Kent (134.68): kent.arsenault@sakilacustomer.org\n",
      " + ARTIS, Carl (120.71): carl.artis@sakilacustomer.org\n",
      " + AUSTIN, Alma (125.76): alma.austin@sakilacustomer.org\n",
      " + BAILEY, Mildred (115.7): mildred.bailey@sakilacustomer.org\n",
      " + BAKER, Pamela (155.65): pamela.baker@sakilacustomer.org\n",
      " + BALES, Martin (113.78): martin.bales@sakilacustomer.org\n",
      " + BANDA, Everett (119.7): everett.banda@sakilacustomer.org\n",
      " + BARBEE, Clayton (115.71): clayton.barbee@sakilacustomer.org\n",
      " + BARCLAY, Angel (152.66): angel.barclay@sakilacustomer.org\n",
      " + BARFIELD, Nicholas (126.69): nicholas.barfield@sakilacustomer.org\n",
      " + BARNES, Rachel (140.64): rachel.barnes@sakilacustomer.org\n",
      " + BARNETT, Carole (123.66): carole.barnett@sakilacustomer.org\n",
      " + BATES, Daisy (127.71): daisy.bates@sakilacustomer.org\n",
      " + BELL, Jean (129.68): jean.bell@sakilacustomer.org\n",
      " + BERRY, Regina (127.66): regina.berry@sakilacustomer.org\n",
      " + BESS, Charlie (141.71): charlie.bess@sakilacustomer.org\n",
      " + BILLINGSLEY, Henry (118.75): henry.billingsley@sakilacustomer.org\n",
      " + BISHOP, Agnes (117.7): agnes.bishop@sakilacustomer.org\n",
      " + BLAKELY, Derek (114.74): derek.blakely@sakilacustomer.org\n",
      " + BOLIN, Mathew (127.73): mathew.bolin@sakilacustomer.org\n",
      " + BONE, Don (142.66): don.bone@sakilacustomer.org\n",
      " + BOURQUE, Derrick (130.72): derrick.bourque@sakilacustomer.org\n",
      " + BOWENS, Clifford (169.65): clifford.bowens@sakilacustomer.org\n",
      " + BOWMAN, Caroline (138.67): caroline.bowman@sakilacustomer.org\n",
      " + BOYD, Emma (115.7): emma.boyd@sakilacustomer.org\n",
      " + BRADLEY, Ana (128.71): ana.bradley@sakilacustomer.org\n",
      " + BREWER, Vickie (135.7): vickie.brewer@sakilacustomer.org\n",
      " + BRINSON, Russell (114.72): russell.brinson@sakilacustomer.org\n",
      " + BROOKS, Beverly (115.73): beverly.brooks@sakilacustomer.org\n",
      " + BROTHERS, Chris (133.73): chris.brothers@sakilacustomer.org\n",
      " + BUFORD, Clinton (112.75): clinton.buford@sakilacustomer.org\n",
      " + BURK, Edwin (144.66): edwin.burk@sakilacustomer.org\n",
      " + BUSTAMANTE, Leroy (129.7): leroy.bustamante@sakilacustomer.org\n",
      " + CABRAL, Daniel (155.59): daniel.cabral@sakilacustomer.org\n",
      " + CARBONE, Chad (141.69): chad.carbone@sakilacustomer.org\n",
      " + CARPENTER, Loretta (137.7): loretta.carpenter@sakilacustomer.org\n",
      " + CARRANZA, Tony (130.74): tony.carranza@sakilacustomer.org\n",
      " + CARTER, Amanda (141.67): amanda.carter@sakilacustomer.org\n",
      " + CASILLAS, Alfred (148.67): alfred.casillas@sakilacustomer.org\n",
      " + CASTILLO, Gertrude (145.7): gertrude.castillo@sakilacustomer.org\n",
      " + CAUSEY, Philip (134.68): philip.causey@sakilacustomer.org\n",
      " + CHAPA, Vernon (113.65): vernon.chapa@sakilacustomer.org\n",
      " + CHAPMAN, Tonya (133.72): tonya.chapman@sakilacustomer.org\n",
      " + CLARY, Adrian (137.67): adrian.clary@sakilacustomer.org\n",
      " + COLBY, Bernard (146.69): bernard.colby@sakilacustomer.org\n",
      " + COLEMAN, Kathryn (120.74): kathryn.coleman@sakilacustomer.org\n",
      " + COLLINS, Diane (126.7): diane.collins@sakilacustomer.org\n",
      " + COOK, Gloria (132.7): gloria.cook@sakilacustomer.org\n",
      " + COUGHLIN, Carlos (133.7): carlos.coughlin@sakilacustomer.org\n",
      " + COX, Judith (113.71): judith.cox@sakilacustomer.org\n",
      " + COY, Gary (139.67): gary.coy@sakilacustomer.org\n",
      " + CROUSE, Albert (153.66): albert.crouse@sakilacustomer.org\n",
      " + CRUZ, Kim (143.68): kim.cruz@sakilacustomer.org\n",
      " + CULPEPPER, Eugene (126.68): eugene.culpepper@sakilacustomer.org\n",
      " + CURRIER, Norman (135.68): norman.currier@sakilacustomer.org\n",
      " + CURTIS, Leah (117.72): leah.curtis@sakilacustomer.org\n",
      " + DAVIDSON, Patsy (127.68): patsy.davidson@sakilacustomer.org\n",
      " + DAVIS, Jennifer (124.66): jennifer.davis@sakilacustomer.org\n",
      " + DEAN, Marcia (128.7): marcia.dean@sakilacustomer.org\n",
      " + DIXON, Amber (194.61): amber.dixon@sakilacustomer.org\n",
      " + DOUGLASS, Sean (113.73): sean.douglass@sakilacustomer.org\n",
      " + DUGGAN, Freddie (130.68): freddie.duggan@sakilacustomer.org\n",
      " + EAST, Jeff (195.58): jeff.east@sakilacustomer.org\n",
      " + EBERT, Leo (139.71): leo.ebert@sakilacustomer.org\n",
      " + EDWARDS, Joyce (127.66): joyce.edwards@sakilacustomer.org\n",
      " + EGGLESTON, Jimmie (216.54): jimmie.eggleston@sakilacustomer.org\n",
      " + ELLINGTON, Melvin (121.74): melvin.ellington@sakilacustomer.org\n",
      " + EMMONS, Kurt (130.7): kurt.emmons@sakilacustomer.org\n",
      " + FARNSWORTH, John (113.69): john.farnsworth@sakilacustomer.org\n",
      " + FENNELL, Alexander (126.68): alexander.fennell@sakilacustomer.org\n",
      " + FIELDS, Vicki (112.7): vicki.fields@sakilacustomer.org\n",
      " + FLEMING, Myrtle (122.71): myrtle.fleming@sakilacustomer.org\n",
      " + FORD, Crystal (123.72): crystal.ford@sakilacustomer.org\n",
      " + FORMAN, Micheal (119.68): micheal.forman@sakilacustomer.org\n",
      " + FORSYTHE, Enrique (135.66): enrique.forsythe@sakilacustomer.org\n",
      " + FORTNER, Howard (119.74): howard.fortner@sakilacustomer.org\n",
      " + FOSTER, Phyllis (114.74): phyllis.foster@sakilacustomer.org\n",
      " + FOUST, Jack (145.67): jack.foust@sakilacustomer.org\n",
      " + FOWLER, Jo (119.71): jo.fowler@sakilacustomer.org\n",
      " + FRANCISCO, Joel (173.63): joel.francisco@sakilacustomer.org\n",
      " + FRAZIER, Glenda (194.61): glenda.frazier@sakilacustomer.org\n",
      " + FREEMAN, Shannon (133.71): shannon.freeman@sakilacustomer.org\n",
      " + FULTZ, Gerald (174.66): gerald.fultz@sakilacustomer.org\n",
      " + GANNON, James (114.69): james.gannon@sakilacustomer.org\n",
      " + GARCIA, Carol (159.72): carol.garcia@sakilacustomer.org\n",
      " + GILBERT, Tanya (151.65): tanya.gilbert@sakilacustomer.org\n",
      " + GILLETTE, Dustin (154.6): dustin.gillette@sakilacustomer.org\n",
      " + GILLILAND, Joe (141.63): joe.gilliland@sakilacustomer.org\n",
      " + GOMEZ, Josephine (136.73): josephine.gomez@sakilacustomer.org\n",
      " + GOODEN, Kenneth (147.65): kenneth.gooden@sakilacustomer.org\n",
      " + GRAF, Douglas (126.73): douglas.graf@sakilacustomer.org\n",
      " + GRAHAM, Rita (137.66): rita.graham@sakilacustomer.org\n",
      " + GRAVES, Brandy (161.68): brandy.graves@sakilacustomer.org\n",
      " + GRAY, Judy (137.69): judy.gray@sakilacustomer.org\n",
      " + GRECO, Christopher (151.66): christopher.greco@sakilacustomer.org\n",
      " + GREGORY, Sonia (116.69): sonia.gregory@sakilacustomer.org\n",
      " + GRUBER, Armando (114.73): armando.gruber@sakilacustomer.org\n",
      " + GUAJARDO, Harvey (132.72): harvey.guajardo@sakilacustomer.org\n",
      " + HALE, Ramona (120.74): ramona.hale@sakilacustomer.org\n",
      " + HANSON, Viola (124.67): viola.hanson@sakilacustomer.org\n",
      " + HARRISON, Wendy (175.58): wendy.harrison@sakilacustomer.org\n",
      " + HART, Dana (144.67): dana.hart@sakilacustomer.org\n",
      " + HAUSER, Corey (142.66): corey.hauser@sakilacustomer.org\n",
      " + HAVENS, Arnold (117.74): arnold.havens@sakilacustomer.org\n",
      " + HAWKINS, Jill (122.66): jill.hawkins@sakilacustomer.org\n",
      " + HAWKS, Lee (140.68): lee.hawks@sakilacustomer.org\n",
      " + HEATON, Shawn (129.68): shawn.heaton@sakilacustomer.org\n",
      " + HENDERSON, Andrea (132.68): andrea.henderson@sakilacustomer.org\n",
      " + HERZOG, Claude (120.69): claude.herzog@sakilacustomer.org\n",
      " + HICKS, Monica (127.71): monica.hicks@sakilacustomer.org\n",
      " + HIDALGO, Marcus (116.68): marcus.hidalgo@sakilacustomer.org\n",
      " + HITE, Zachary (112.7): zachary.hite@sakilacustomer.org\n",
      " + HOFFMAN, Mattie (151.63): mattie.hoffman@sakilacustomer.org\n",
      " + HOLM, Phillip (170.67): phillip.holm@sakilacustomer.org\n",
      " + HOLMES, Lucille (122.69): lucille.holmes@sakilacustomer.org\n",
      " + HOPKINS, Hilda (119.72): hilda.hopkins@sakilacustomer.org\n",
      " + HORTON, Billie (122.71): billie.horton@sakilacustomer.org\n",
      " + HOWARD, Rose (133.71): rose.howard@sakilacustomer.org\n",
      " + HOWELL, Willie (118.72): willie.howell@sakilacustomer.org\n",
      " + HOWLAND, Milton (159.64): milton.howland@sakilacustomer.org\n",
      " + HUDSON, Lauren (123.71): lauren.hudson@sakilacustomer.org\n",
      " + HUEY, Brandon (129.7): brandon.huey@sakilacustomer.org\n",
      " + HURTADO, Jeremy (157.65): jeremy.hurtado@sakilacustomer.org\n",
      " + IRBY, Curtis (152.65): curtis.irby@sakilacustomer.org\n",
      " + ISOM, Danny (122.72): danny.isom@sakilacustomer.org\n",
      " + JACKSON, Karen (144.68): karen.jackson@sakilacustomer.org\n",
      " + JAMES, Kathy (135.69): kathy.james@sakilacustomer.org\n",
      " + JENKINS, Louise (118.73): louise.jenkins@sakilacustomer.org\n",
      " + JOHNSON, Patricia (126.72): patricia.johnson@sakilacustomer.org\n",
      " + JOHNSTON, Kristin (135.74): kristin.johnston@sakilacustomer.org\n",
      " + JONES, Barbara (117.73): barbara.jones@sakilacustomer.org\n",
      " + JORDAN, Tiffany (115.71): tiffany.jordan@sakilacustomer.org\n",
      " + JOY, Joseph (142.7): joseph.joy@sakilacustomer.org\n",
      " + KELLEY, Elsie (118.73): elsie.kelley@sakilacustomer.org\n",
      " + KELLY, Denise (158.69): denise.kelly@sakilacustomer.org\n",
      " + KENNEDY, Rhonda (113.74): rhonda.kennedy@sakilacustomer.org\n",
      " + KENYON, Jerome (162.62): jerome.kenyon@sakilacustomer.org\n",
      " + KIM, Lillie (129.7): lillie.kim@sakilacustomer.org\n",
      " + KINDER, Reginald (128.67): reginald.kinder@sakilacustomer.org\n",
      " + KNIGHT, Gail (131.7): gail.knight@sakilacustomer.org\n",
      " + KNOTT, Kelly (137.69): kelly.knott@sakilacustomer.org\n",
      " + KRAUS, Lester (127.71): lester.kraus@sakilacustomer.org\n",
      " + LAMBERT, Misty (115.74): misty.lambert@sakilacustomer.org\n",
      " + LANE, Renee (138.68): renee.lane@sakilacustomer.org\n",
      " + LARSON, Heidi (134.7): heidi.larson@sakilacustomer.org\n",
      " + LAWRENCE, Laurie (147.69): laurie.lawrence@sakilacustomer.org\n",
      " + LAWTON, Lawrence (120.77): lawrence.lawton@sakilacustomer.org\n",
      " + LEWIS, Sarah (131.67): sarah.lewis@sakilacustomer.org\n",
      " + LITTLE, Maureen (132.71): maureen.little@sakilacustomer.org\n",
      " + LOMBARDI, Dwight (114.72): dwight.lombardi@sakilacustomer.org\n",
      " + LOPEZ, Amy (132.7): amy.lopez@sakilacustomer.org\n",
      " + LOWE, Priscilla (116.78): priscilla.lowe@sakilacustomer.org\n",
      " + LUCAS, Velma (128.72): velma.lucas@sakilacustomer.org\n",
      " + LUMPKIN, Willard (114.69): willard.lumpkin@sakilacustomer.org\n",
      " + MADRIGAL, Ralph (112.74): ralph.madrigal@sakilacustomer.org\n",
      " + MAHON, Donald (127.68): donald.mahon@sakilacustomer.org\n",
      " + MARK, Joshua (122.73): joshua.mark@sakilacustomer.org\n",
      " + MARKHAM, Willie (118.72): willie.markham@sakilacustomer.org\n",
      " + MARSHALL, Sherry (135.7): sherry.marshall@sakilacustomer.org\n",
      " + MARTIN, Sandra (119.7): sandra.martin@sakilacustomer.org\n",
      " + MARTINEZ, Ruth (143.71): ruth.martinez@sakilacustomer.org\n",
      " + MARTINO, Harold (114.72): harold.martino@sakilacustomer.org\n",
      " + MASON, Juanita (127.7): juanita.mason@sakilacustomer.org\n",
      " + MATTHEWS, Erica (119.69): erica.matthews@sakilacustomer.org\n",
      " + MAULDIN, Gregory (130.68): gregory.mauldin@sakilacustomer.org\n",
      " + MAY, Gwendolyn (114.75): gwendolyn.may@sakilacustomer.org\n",
      " + MCCARTER, Morris (155.68): morris.mccarter@sakilacustomer.org\n",
      " + MCCARTNEY, Jesus (142.7): jesus.mccartney@sakilacustomer.org\n",
      " + MCCOY, Vera (146.64): vera.mccoy@sakilacustomer.org\n",
      " + MCCRARY, Richard (138.71): richard.mccrary@sakilacustomer.org\n",
      " + MCWHORTER, Raymond (129.64): raymond.mcwhorter@sakilacustomer.org\n",
      " + MEDINA, Dora (121.7): dora.medina@sakilacustomer.org\n",
      " + MENARD, Peter (150.66): peter.menard@sakilacustomer.org\n",
      " + MEYER, Natalie (145.68): natalie.meyer@sakilacustomer.org\n",
      " + MILAM, Jessie (143.71): jessie.milam@sakilacustomer.org\n",
      " + MILLER, Maria (152.63): maria.miller@sakilacustomer.org\n",
      " + MILNER, Tom (157.65): tom.milner@sakilacustomer.org\n",
      " + MONTGOMERY, Stacey (149.65): stacey.montgomery@sakilacustomer.org\n",
      " + MOORE, Margaret (158.66): margaret.moore@sakilacustomer.org\n",
      " + MORALES, Anita (161.65): anita.morales@sakilacustomer.org\n",
      " + MOTLEY, Bradley (136.64): bradley.motley@sakilacustomer.org\n",
      " + NELSON, Debra (117.71): debra.nelson@sakilacustomer.org\n",
      " + NEUMANN, Randall (124.7): randall.neumann@sakilacustomer.org\n",
      " + NEWSOM, Patrick (124.74): patrick.newsom@sakilacustomer.org\n",
      " + NGO, Justin (152.67): justin.ngo@sakilacustomer.org\n",
      " + NOE, Elmer (121.69): elmer.noe@sakilacustomer.org\n",
      " + OLIVER, Ella (124.72): ella.oliver@sakilacustomer.org\n",
      " + ORTIZ, Sylvia (166.65): sylvia.ortiz@sakilacustomer.org\n",
      " + OUTLAW, Marc (139.7): marc.outlaw@sakilacustomer.org\n",
      " + PAINE, Dan (122.68): dan.paine@sakilacustomer.org\n",
      " + PALMER, Megan (112.73): megan.palmer@sakilacustomer.org\n",
      " + PARKER, Frances (116.7): frances.parker@sakilacustomer.org\n",
      " + PAYNE, Lynn (167.62): lynn.payne@sakilacustomer.org\n",
      " + PERRY, Sara (121.69): sara.perry@sakilacustomer.org\n",
      " + PHILLIPS, Janet (119.73): janet.phillips@sakilacustomer.org\n",
      " + PINSON, Jeffery (120.74): jeffery.pinson@sakilacustomer.org\n",
      " + PORTER, Carrie (126.73): carrie.porter@sakilacustomer.org\n",
      " + POULIN, Billy (114.76): billy.poulin@sakilacustomer.org\n",
      " + PULLEN, Glenn (116.77): glenn.pullen@sakilacustomer.org\n",
      " + PURDY, Andrew (133.75): andrew.purdy@sakilacustomer.org\n",
      " + QUALLS, Stephen (128.73): stephen.qualls@sakilacustomer.org\n",
      " + QUINTANILLA, Roger (144.7): roger.quintanilla@sakilacustomer.org\n",
      " + RAMIREZ, Christina (134.67): christina.ramirez@sakilacustomer.org\n",
      " + RAMOS, Eva (151.64): eva.ramos@sakilacustomer.org\n",
      " + RATCLIFF, Dale (112.72): dale.ratcliff@sakilacustomer.org\n",
      " + RAY, Audrey (118.68): audrey.ray@sakilacustomer.org\n",
      " + REED, Doris (115.7): doris.reed@sakilacustomer.org\n",
      " + RENNER, Neil (116.69): neil.renner@sakilacustomer.org\n",
      " + REYES, Debbie (113.71): debbie.reyes@sakilacustomer.org\n",
      " + REYNOLDS, Rosa (135.71): rosa.reynolds@sakilacustomer.org\n",
      " + RICE, Jamie (128.67): jamie.rice@sakilacustomer.org\n",
      " + RICKETTS, Ronnie (151.67): ronnie.ricketts@sakilacustomer.org\n",
      " + RINEHART, Mark (114.72): mark.rinehart@sakilacustomer.org\n",
      " + ROBB, Jay (186.62): jay.robb@sakilacustomer.org\n",
      " + ROBERTSON, Joanne (159.67): joanne.robertson@sakilacustomer.org\n",
      " + ROGERS, Teresa (139.71): teresa.rogers@sakilacustomer.org\n",
      " + ROMERO, Minnie (175.61): minnie.romero@sakilacustomer.org\n",
      " + ROSE, Darlene (177.6): darlene.rose@sakilacustomer.org\n",
      " + ROSS, Marilyn (160.68): marilyn.ross@sakilacustomer.org\n",
      " + ROYAL, David (141.7): david.royal@sakilacustomer.org\n",
      " + RUIZ, Vivian (134.66): vivian.ruiz@sakilacustomer.org\n",
      " + SANCHEZ, Julie (146.69): julie.sanchez@sakilacustomer.org\n",
      " + SATTERFIELD, William (115.71): william.satterfield@sakilacustomer.org\n",
      " + SAUER, Dean (138.71): dean.sauer@sakilacustomer.org\n",
      " + SCHILLING, Jesse (139.7): jesse.schilling@sakilacustomer.org\n",
      " + SCHMIDT, Rosemary (115.71): rosemary.schmidt@sakilacustomer.org\n",
      " + SCHOFIELD, Leonard (113.74): leonard.schofield@sakilacustomer.org\n",
      " + SCHRADER, Jimmy (119.74): jimmy.schrader@sakilacustomer.org\n",
      " + SCHWARZ, Bruce (117.76): bruce.schwarz@sakilacustomer.org\n",
      " + SCOTT, Rebecca (124.73): rebecca.scott@sakilacustomer.org\n",
      " + SEAL, Karl (112.77): karl.seal@sakilacustomer.org\n",
      " + SELBY, Aaron (140.69): aaron.selby@sakilacustomer.org\n",
      " + SEWARD, Leslie (120.74): leslie.seward@sakilacustomer.org\n",
      " + SHAW, Clara (129.72): clara.shaw@sakilacustomer.org\n",
      " + SHELLEY, Scott (123.7): scott.shelley@sakilacustomer.org\n",
      " + SHELTON, Dianne (115.72): dianne.shelton@sakilacustomer.org\n",
      " + SIKES, Francis (138.66): francis.sikes@sakilacustomer.org\n",
      " + SILVA, Maxine (115.68): maxine.silva@sakilacustomer.org\n",
      " + SILVERMAN, Michael (133.72): michael.silverman@sakilacustomer.org\n",
      " + SIMPKINS, Arthur (152.65): arthur.simpkins@sakilacustomer.org\n",
      " + SIMS, Vanessa (127.75): vanessa.sims@sakilacustomer.org\n",
      " + SLEDGE, Gilbert (122.74): gilbert.sledge@sakilacustomer.org\n",
      " + SMITH, Mary (115.74): mary.smith@sakilacustomer.org\n",
      " + SNYDER, Marion (148.69): marion.snyder@sakilacustomer.org\n",
      " + SOUTH, Roland (126.72): roland.south@sakilacustomer.org\n",
      " + STANLEY, Allison (134.68): allison.stanley@sakilacustomer.org\n",
      " + STEPHENS, Lorraine (167.67): lorraine.stephens@sakilacustomer.org\n",
      " + STILL, Ian (221.55): ian.still@sakilacustomer.org\n",
      " + SUTTON, Felicia (118.71): felicia.sutton@sakilacustomer.org\n",
      " + TALBERT, Glen (118.75): glen.talbert@sakilacustomer.org\n",
      " + TAN, Todd (152.68): todd.tan@sakilacustomer.org\n",
      " + TAYLOR, Dorothy (141.67): dorothy.taylor@sakilacustomer.org\n",
      " + TERRY, Jennie (135.68): jennie.terry@sakilacustomer.org\n",
      " + THOMAS, Nancy (117.75): nancy.thomas@sakilacustomer.org\n",
      " + THORN, Marshall (117.71): marshall.thorn@sakilacustomer.org\n",
      " + TIRADO, Lonnie (112.76): lonnie.tirado@sakilacustomer.org\n",
      " + TURPIN, Johnny (159.68): johnny.turpin@sakilacustomer.org\n",
      " + WADE, Margie (135.72): margie.wade@sakilacustomer.org\n",
      " + WAGNER, Dolores (132.7): dolores.wagner@sakilacustomer.org\n",
      " + WARD, Janice (126.71): janice.ward@sakilacustomer.org\n",
      " + WARREN, Hazel (141.66): hazel.warren@sakilacustomer.org\n",
      " + WATSON, Theresa (134.68): theresa.watson@sakilacustomer.org\n",
      " + WAUGH, Jamie (121.76): jamie.waugh@sakilacustomer.org\n",
      " + WEAVER, Yolanda (120.71): yolanda.weaver@sakilacustomer.org\n",
      " + WEINER, Ronald (126.71): ronald.weiner@sakilacustomer.org\n",
      " + WELCH, Marlene (139.66): marlene.welch@sakilacustomer.org\n",
      " + WELLS, Sheila (118.72): sheila.wells@sakilacustomer.org\n",
      " + WHITE, Betty (113.75): betty.white@sakilacustomer.org\n",
      " + WHITING, Roy (117.77): roy.whiting@sakilacustomer.org\n",
      " + WILES, Jon (129.7): jon.wiles@sakilacustomer.org\n",
      " + WILLIAMS, Linda (117.76): linda.williams@sakilacustomer.org\n",
      " + WILSON, Susan (115.71): susan.wilson@sakilacustomer.org\n",
      " + WINDHAM, Darren (129.72): darren.windham@sakilacustomer.org\n",
      " + WOFFORD, Virgil (112.75): virgil.wofford@sakilacustomer.org\n",
      " + WOOD, Lori (134.73): lori.wood@sakilacustomer.org\n",
      " + WREN, Tyler (113.74): tyler.wren@sakilacustomer.org\n",
      " + WRIGHT, Brenda (130.73): brenda.wright@sakilacustomer.org\n",
      " + WYMAN, Brian (117.7): brian.wyman@sakilacustomer.org\n"
     ]
    }
   ],
   "source": [
    "print(f\"The following customer's total spending is above the average of {average_amount_spent}:\\n\")\n",
    "\n",
    "above_avg_index = 0    # to index above_avg_amounts\n",
    "\n",
    "for _ in range(len(above_avg_cust_id)):\n",
    "    print(f\" + {customer_names_df['last_name'].loc[above_avg_cust_id[_]]}, \"\n",
    "          f\"{(customer_names_df['first_name'].loc[above_avg_cust_id[_]]).capitalize()} \"\n",
    "          f\"({above_avg_amounts[above_avg_index]}): \"\n",
    "          f\"{(customer_names_df['email'].loc[above_avg_cust_id[_]]).lower()}\")\n",
    "    above_avg_index += 1\n"
   ]
  },
  {
   "cell_type": "code",
   "execution_count": null,
   "metadata": {},
   "outputs": [],
   "source": []
  }
 ],
 "metadata": {
  "kernelspec": {
   "display_name": "Python 3 (ipykernel)",
   "language": "python",
   "name": "python3"
  },
  "language_info": {
   "codemirror_mode": {
    "name": "ipython",
    "version": 3
   },
   "file_extension": ".py",
   "mimetype": "text/x-python",
   "name": "python",
   "nbconvert_exporter": "python",
   "pygments_lexer": "ipython3",
   "version": "3.9.7"
  },
  "toc": {
   "base_numbering": 1,
   "nav_menu": {},
   "number_sections": false,
   "sideBar": true,
   "skip_h1_title": false,
   "title_cell": "Table of Contents",
   "title_sidebar": "Contents",
   "toc_cell": false,
   "toc_position": {
    "height": "calc(100% - 180px)",
    "left": "10px",
    "top": "150px",
    "width": "279.273px"
   },
   "toc_section_display": true,
   "toc_window_display": false
  },
  "varInspector": {
   "cols": {
    "lenName": 16,
    "lenType": 16,
    "lenVar": 40
   },
   "kernels_config": {
    "python": {
     "delete_cmd_postfix": "",
     "delete_cmd_prefix": "del ",
     "library": "var_list.py",
     "varRefreshCmd": "print(var_dic_list())"
    },
    "r": {
     "delete_cmd_postfix": ") ",
     "delete_cmd_prefix": "rm(",
     "library": "var_list.r",
     "varRefreshCmd": "cat(var_dic_list()) "
    }
   },
   "position": {
    "height": "220px",
    "left": "849px",
    "right": "20px",
    "top": "120px",
    "width": "399px"
   },
   "types_to_exclude": [
    "module",
    "function",
    "builtin_function_or_method",
    "instance",
    "_Feature"
   ],
   "window_display": false
  }
 },
 "nbformat": 4,
 "nbformat_minor": 4
}
