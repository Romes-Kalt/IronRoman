{
 "cells": [
  {
   "cell_type": "markdown",
   "metadata": {},
   "source": [
    "# SQL Queries - Group By\n",
    "***"
   ]
  },
  {
   "cell_type": "markdown",
   "metadata": {},
   "source": [
    "**Set up of SQLAlchemy**"
   ]
  },
  {
   "cell_type": "code",
   "execution_count": 1,
   "metadata": {},
   "outputs": [],
   "source": [
    "import pandas as pd\n",
    "import getpass\n",
    "import sqlalchemy as sa\n",
    "import numpy as np"
   ]
  },
  {
   "cell_type": "code",
   "execution_count": 2,
   "metadata": {},
   "outputs": [
    {
     "name": "stdout",
     "output_type": "stream",
     "text": [
      "Your password:········\n"
     ]
    }
   ],
   "source": [
    "driver = 'mysql+pymysql'\n",
    "user = 'Roman'\n",
    "password = getpass.getpass(prompt='Your password:'\"\")\n",
    "ip = '127.0.0.1'  "
   ]
  },
  {
   "cell_type": "code",
   "execution_count": 3,
   "metadata": {},
   "outputs": [],
   "source": [
    "connection_string = f'{driver}://{user}:{password}@{ip}'"
   ]
  },
  {
   "cell_type": "code",
   "execution_count": 4,
   "metadata": {},
   "outputs": [],
   "source": [
    "db_connection = sa.create_engine(connection_string)"
   ]
  },
  {
   "cell_type": "code",
   "execution_count": 5,
   "metadata": {},
   "outputs": [],
   "source": [
    "# easy check, whether connecting was successful\n",
    "# insp = sa.inspect(db_connection)  \n",
    "# db_list = insp.get_schema_names()\n",
    "# print(db_list)"
   ]
  },
  {
   "cell_type": "markdown",
   "metadata": {},
   "source": [
    "***"
   ]
  },
  {
   "cell_type": "markdown",
   "metadata": {},
   "source": [
    "##  1. In the table actor, what last names are not repeated?"
   ]
  },
  {
   "cell_type": "code",
   "execution_count": 6,
   "metadata": {},
   "outputs": [],
   "source": [
    "query=f\"select last_name from sakila.actor group by last_name having count(*) = 1;\"\n",
    "result = pd.read_sql_query(query, db_connection)\n",
    "names_lst = result[\"last_name\"].to_list()"
   ]
  },
  {
   "cell_type": "code",
   "execution_count": 7,
   "metadata": {},
   "outputs": [
    {
     "name": "stdout",
     "output_type": "stream",
     "text": [
      "The following last names are not repeated:\n",
      "Astaire, Bacall, Bale, Ball, Barrymore, Basinger, Bergen, Bergman, Birch, Bloom, Bridges, Bullock, Carrey, \n",
      "Chaplin, Close, Costner, Crowe, Cruise, Cruz, Damon, Day-lewis, Dern, Dreyfuss, Dunst, Gable, \n",
      "Gibson, Goldberg, Grant, Hawke, Heston, Hope, Hudson, Hunt, Hurt, Jolie, Jovovich, Leigh, \n",
      "Lollobrigida, Malden, Mansfield, Marx, Mcdormand, Miranda, Nicholson, Pesci, Pfeiffer, Phoenix, Pinkett, Pitt, \n",
      "Posey, Presley, Reynolds, Ryder, Sinatra, Sobieski, Stallone, Suvari, Swank, Tautou, Tomei, Voight, \n",
      "Walken, Wayne, Wilson, Witherspoon, Wray."
     ]
    }
   ],
   "source": [
    "print(f\"The following last names are not repeated:\")\n",
    "for _ in range(len(names_lst)-1):\n",
    "    print(f\"{names_lst[_].capitalize()}, \", end=\"\")\n",
    "    if _ != 0 and _ % 12 == 0:\n",
    "        print()\n",
    "print(f\"{names_lst[-1].capitalize()}.\", end=\"\")"
   ]
  },
  {
   "cell_type": "markdown",
   "metadata": {},
   "source": [
    "***"
   ]
  },
  {
   "cell_type": "markdown",
   "metadata": {},
   "source": [
    "##  2. Which last names appear more than once?"
   ]
  },
  {
   "cell_type": "code",
   "execution_count": 8,
   "metadata": {},
   "outputs": [],
   "source": [
    "query=f\"select last_name from sakila.actor group by last_name having count(*) > 1;\"\n",
    "result = pd.read_sql_query(query, db_connection)\n",
    "names_lst = result[\"last_name\"].to_list()"
   ]
  },
  {
   "cell_type": "code",
   "execution_count": 9,
   "metadata": {},
   "outputs": [
    {
     "name": "stdout",
     "output_type": "stream",
     "text": [
      "The following last names are not repeated:\n",
      "Akroyd, Allen, Bailey, Bening, Berry, Bolger, Brody, Cage, Chase, Crawford, Cronyn, Davis, Dean, \n",
      "Dee, Degeneres, Dench, Depp, Dukakis, Fawcett, Garland, Gooding, Guiness, Hackman, Harris, Hoffman, \n",
      "Hopkins, Hopper, Jackman, Johansson, Keitel, Kilmer, Mcconaughey, Mckellen, Mcqueen, Monroe, Mostel, Neeson, \n",
      "Nolte, Olivier, Paltrow, Peck, Penn, Silverstone, Streep, Tandy, Temple, Torn, Tracy, Wahlberg, \n",
      "West, Williams, Willis, Winslet, Wood, Zellweger."
     ]
    }
   ],
   "source": [
    "print(f\"The following last names are not repeated:\")\n",
    "for _ in range(len(names_lst)-1):\n",
    "    print(f\"{names_lst[_].capitalize()}, \", end=\"\")\n",
    "    if _ != 0 and _ % 12 == 0:\n",
    "        print()\n",
    "print(f\"{names_lst[-1].capitalize()}.\", end=\"\")"
   ]
  },
  {
   "cell_type": "markdown",
   "metadata": {},
   "source": [
    "***"
   ]
  },
  {
   "cell_type": "markdown",
   "metadata": {},
   "source": [
    "## 3. Using the rental table, find out how many rentals were processed by each employee."
   ]
  },
  {
   "cell_type": "code",
   "execution_count": 10,
   "metadata": {},
   "outputs": [],
   "source": [
    "query=f\"select staff_id as staff_mem, count(rental_id) as num_of_rentals from sakila.rental group by staff_id;\"\n",
    "result = pd.read_sql_query(query, db_connection)"
   ]
  },
  {
   "cell_type": "code",
   "execution_count": 11,
   "metadata": {},
   "outputs": [],
   "source": [
    "query=f\"select first_name, last_name from sakila.staff;\"\n",
    "st_names = pd.read_sql_query(query, db_connection)"
   ]
  },
  {
   "cell_type": "code",
   "execution_count": 12,
   "metadata": {},
   "outputs": [
    {
     "name": "stdout",
     "output_type": "stream",
     "text": [
      "The following staff members processed that many rentals respectevely:\n",
      " + Mike Hillyer (1): 8040\n",
      " + Jon Stephens (2): 8004\n"
     ]
    }
   ],
   "source": [
    "print(\"The following staff members processed that many rentals respectevely:\")\n",
    "for _ in range(len(result)):\n",
    "    print(f\" + {st_names['first_name'].iloc[_]} {st_names['last_name'].iloc[_]} ({result['staff_mem'].iloc[_]}): \"\n",
    "          f\"{result['num_of_rentals'].iloc[_]}\")\n",
    "    "
   ]
  },
  {
   "cell_type": "markdown",
   "metadata": {},
   "source": [
    "***"
   ]
  },
  {
   "cell_type": "markdown",
   "metadata": {},
   "source": [
    "## 4. Using the film table, find out how many films were released."
   ]
  },
  {
   "cell_type": "code",
   "execution_count": 13,
   "metadata": {},
   "outputs": [
    {
     "name": "stdout",
     "output_type": "stream",
     "text": [
      "Number of films in database: 1000.\n"
     ]
    }
   ],
   "source": [
    "result = db_connection.execute(\"select count(*) as num_of_films from sakila.film;\")\n",
    "print(\"Number of films in database: \", end=\"\")\n",
    "for _ in result:\n",
    "    print(str(_).replace(\"(\",\"\").replace(\")\",\"\").replace(\",\",\"\"), end=\"\")\n",
    "print(\".\")"
   ]
  },
  {
   "cell_type": "markdown",
   "metadata": {},
   "source": [
    "***"
   ]
  },
  {
   "cell_type": "markdown",
   "metadata": {},
   "source": [
    "## 5. Using the film table, find out how many films there are of each rating."
   ]
  },
  {
   "cell_type": "code",
   "execution_count": 14,
   "metadata": {},
   "outputs": [
    {
     "data": {
      "text/html": [
       "<div>\n",
       "<style scoped>\n",
       "    .dataframe tbody tr th:only-of-type {\n",
       "        vertical-align: middle;\n",
       "    }\n",
       "\n",
       "    .dataframe tbody tr th {\n",
       "        vertical-align: top;\n",
       "    }\n",
       "\n",
       "    .dataframe thead th {\n",
       "        text-align: right;\n",
       "    }\n",
       "</style>\n",
       "<table border=\"1\" class=\"dataframe\">\n",
       "  <thead>\n",
       "    <tr style=\"text-align: right;\">\n",
       "      <th></th>\n",
       "      <th>rating</th>\n",
       "      <th>num_in_inventory</th>\n",
       "    </tr>\n",
       "  </thead>\n",
       "  <tbody>\n",
       "    <tr>\n",
       "      <th>0</th>\n",
       "      <td>PG</td>\n",
       "      <td>194</td>\n",
       "    </tr>\n",
       "    <tr>\n",
       "      <th>1</th>\n",
       "      <td>G</td>\n",
       "      <td>178</td>\n",
       "    </tr>\n",
       "    <tr>\n",
       "      <th>2</th>\n",
       "      <td>NC-17</td>\n",
       "      <td>210</td>\n",
       "    </tr>\n",
       "    <tr>\n",
       "      <th>3</th>\n",
       "      <td>PG-13</td>\n",
       "      <td>223</td>\n",
       "    </tr>\n",
       "    <tr>\n",
       "      <th>4</th>\n",
       "      <td>R</td>\n",
       "      <td>195</td>\n",
       "    </tr>\n",
       "  </tbody>\n",
       "</table>\n",
       "</div>"
      ],
      "text/plain": [
       "  rating  num_in_inventory\n",
       "0     PG               194\n",
       "1      G               178\n",
       "2  NC-17               210\n",
       "3  PG-13               223\n",
       "4      R               195"
      ]
     },
     "execution_count": 14,
     "metadata": {},
     "output_type": "execute_result"
    }
   ],
   "source": [
    "query=f\"select rating, count(rating) as num_in_inventory from sakila.film group by rating;\"\n",
    "result = pd.read_sql_query(query, db_connection)\n",
    "result"
   ]
  },
  {
   "cell_type": "markdown",
   "metadata": {},
   "source": [
    "***"
   ]
  },
  {
   "cell_type": "markdown",
   "metadata": {},
   "source": [
    "## 6. What is the mean length of the film for each rating type. \n",
    "Round off the average lengths to two decimal places"
   ]
  },
  {
   "cell_type": "code",
   "execution_count": 15,
   "metadata": {},
   "outputs": [
    {
     "data": {
      "text/html": [
       "<div>\n",
       "<style scoped>\n",
       "    .dataframe tbody tr th:only-of-type {\n",
       "        vertical-align: middle;\n",
       "    }\n",
       "\n",
       "    .dataframe tbody tr th {\n",
       "        vertical-align: top;\n",
       "    }\n",
       "\n",
       "    .dataframe thead th {\n",
       "        text-align: right;\n",
       "    }\n",
       "</style>\n",
       "<table border=\"1\" class=\"dataframe\">\n",
       "  <thead>\n",
       "    <tr style=\"text-align: right;\">\n",
       "      <th></th>\n",
       "      <th>rating</th>\n",
       "      <th>average_length</th>\n",
       "    </tr>\n",
       "  </thead>\n",
       "  <tbody>\n",
       "    <tr>\n",
       "      <th>0</th>\n",
       "      <td>PG</td>\n",
       "      <td>112.01</td>\n",
       "    </tr>\n",
       "    <tr>\n",
       "      <th>1</th>\n",
       "      <td>G</td>\n",
       "      <td>111.05</td>\n",
       "    </tr>\n",
       "    <tr>\n",
       "      <th>2</th>\n",
       "      <td>NC-17</td>\n",
       "      <td>113.23</td>\n",
       "    </tr>\n",
       "    <tr>\n",
       "      <th>3</th>\n",
       "      <td>PG-13</td>\n",
       "      <td>120.44</td>\n",
       "    </tr>\n",
       "    <tr>\n",
       "      <th>4</th>\n",
       "      <td>R</td>\n",
       "      <td>118.66</td>\n",
       "    </tr>\n",
       "  </tbody>\n",
       "</table>\n",
       "</div>"
      ],
      "text/plain": [
       "  rating  average_length\n",
       "0     PG          112.01\n",
       "1      G          111.05\n",
       "2  NC-17          113.23\n",
       "3  PG-13          120.44\n",
       "4      R          118.66"
      ]
     },
     "execution_count": 15,
     "metadata": {},
     "output_type": "execute_result"
    }
   ],
   "source": [
    "query=f\"select rating, round(avg(length),2) as average_length from sakila.film group by rating;\"\n",
    "result = pd.read_sql_query(query, db_connection)\n",
    "result"
   ]
  },
  {
   "cell_type": "markdown",
   "metadata": {},
   "source": [
    "***"
   ]
  },
  {
   "cell_type": "markdown",
   "metadata": {},
   "source": [
    "## 7. Which kind of movies (rating) have a mean duration of more than two hours?"
   ]
  },
  {
   "cell_type": "code",
   "execution_count": 16,
   "metadata": {},
   "outputs": [
    {
     "data": {
      "text/html": [
       "<div>\n",
       "<style scoped>\n",
       "    .dataframe tbody tr th:only-of-type {\n",
       "        vertical-align: middle;\n",
       "    }\n",
       "\n",
       "    .dataframe tbody tr th {\n",
       "        vertical-align: top;\n",
       "    }\n",
       "\n",
       "    .dataframe thead th {\n",
       "        text-align: right;\n",
       "    }\n",
       "</style>\n",
       "<table border=\"1\" class=\"dataframe\">\n",
       "  <thead>\n",
       "    <tr style=\"text-align: right;\">\n",
       "      <th></th>\n",
       "      <th>rating</th>\n",
       "      <th>average_length</th>\n",
       "    </tr>\n",
       "  </thead>\n",
       "  <tbody>\n",
       "    <tr>\n",
       "      <th>0</th>\n",
       "      <td>PG-13</td>\n",
       "      <td>120.44</td>\n",
       "    </tr>\n",
       "  </tbody>\n",
       "</table>\n",
       "</div>"
      ],
      "text/plain": [
       "  rating  average_length\n",
       "0  PG-13          120.44"
      ]
     },
     "execution_count": 16,
     "metadata": {},
     "output_type": "execute_result"
    }
   ],
   "source": [
    "query=f\"select rating, round(avg(length),2) as average_length from sakila.film group by rating having average_length > 120;\"\n",
    "result = pd.read_sql_query(query, db_connection)\n",
    "result"
   ]
  }
 ],
 "metadata": {
  "kernelspec": {
   "display_name": "Python 3 (ipykernel)",
   "language": "python",
   "name": "python3"
  },
  "language_info": {
   "codemirror_mode": {
    "name": "ipython",
    "version": 3
   },
   "file_extension": ".py",
   "mimetype": "text/x-python",
   "name": "python",
   "nbconvert_exporter": "python",
   "pygments_lexer": "ipython3",
   "version": "3.9.7"
  },
  "toc": {
   "base_numbering": 1,
   "nav_menu": {},
   "number_sections": false,
   "sideBar": true,
   "skip_h1_title": false,
   "title_cell": "Table of Contents",
   "title_sidebar": "Contents",
   "toc_cell": false,
   "toc_position": {
    "height": "calc(100% - 180px)",
    "left": "10px",
    "top": "150px",
    "width": "279.273px"
   },
   "toc_section_display": true,
   "toc_window_display": false
  },
  "varInspector": {
   "cols": {
    "lenName": 16,
    "lenType": 16,
    "lenVar": 40
   },
   "kernels_config": {
    "python": {
     "delete_cmd_postfix": "",
     "delete_cmd_prefix": "del ",
     "library": "var_list.py",
     "varRefreshCmd": "print(var_dic_list())"
    },
    "r": {
     "delete_cmd_postfix": ") ",
     "delete_cmd_prefix": "rm(",
     "library": "var_list.r",
     "varRefreshCmd": "cat(var_dic_list()) "
    }
   },
   "position": {
    "height": "220px",
    "left": "849px",
    "right": "20px",
    "top": "120px",
    "width": "399px"
   },
   "types_to_exclude": [
    "module",
    "function",
    "builtin_function_or_method",
    "instance",
    "_Feature"
   ],
   "window_display": false
  }
 },
 "nbformat": 4,
 "nbformat_minor": 4
}
