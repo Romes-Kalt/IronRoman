{
 "cells": [
  {
   "cell_type": "markdown",
   "id": "e1277937",
   "metadata": {},
   "source": [
    "# Task\n",
    "\n",
    "In a packing plant, a machine packs cartons with jars. It is supposed that a new machine will pack faster on the average than the machine currently used. To test that hypothesis, the times it takes each machine to pack ten cartons are recorded. The results, in seconds, are shown in the tables in the file Data/machine.txt. Assume that there is sufficient evidence to conduct the t test, does the data provide sufficient evidence to show if one machine is better than the other"
   ]
  },
  {
   "cell_type": "code",
   "execution_count": 74,
   "id": "041d6b1d",
   "metadata": {},
   "outputs": [],
   "source": [
    "with open(r\"C:\\Users\\roman\\Documents\\GitHub\\IH_RH_DA_FT_JAN_2022\\Class_Materials\\Statistics\\Lab\\Data\\Data_machine.txt\") as f:\n",
    "    c = f.readlines()"
   ]
  },
  {
   "cell_type": "code",
   "execution_count": 45,
   "id": "7deb5ef6",
   "metadata": {},
   "outputs": [],
   "source": [
    "new_m = [42.1, 41, 41.3, 41.8, 42.4, 42.8, 43.2, 42.3, 41.8, 42.7]\n",
    "old_m = [42.7, 43.6, 43.8, 43.3, 42.5, 43.5, 43.1, 41.7, 44, 44.1]"
   ]
  },
  {
   "cell_type": "code",
   "execution_count": 46,
   "id": "bbc5d028",
   "metadata": {},
   "outputs": [
    {
     "name": "stdout",
     "output_type": "stream",
     "text": [
      "42.1 42.7\n",
      "41 43.6\n",
      "41.3 43.8\n",
      "41.8 43.3\n",
      "42.4 42.5\n",
      "42.8 43.5\n",
      "43.2 43.1\n",
      "42.3 41.7\n",
      "41.8 44\n",
      "42.7 44.1\n"
     ]
    }
   ],
   "source": [
    "# for _ in range(len(old_m)):\n",
    "#     print(new_m[_], old_m[_])"
   ]
  },
  {
   "cell_type": "markdown",
   "id": "adc54585",
   "metadata": {},
   "source": [
    "H0: μ1 ≠ μ2   - new machine is supposed to be better, so the average mean should be differnet\n",
    "Ha: μ1 = μ2"
   ]
  },
  {
   "cell_type": "markdown",
   "id": "2dc0956d",
   "metadata": {},
   "source": [
    "+ average means of both machines"
   ]
  },
  {
   "cell_type": "code",
   "execution_count": 83,
   "id": "9bdf2f6d",
   "metadata": {},
   "outputs": [
    {
     "name": "stdout",
     "output_type": "stream",
     "text": [
      "42.14 43.23\n"
     ]
    }
   ],
   "source": [
    "import numpy as np\n",
    "xbar_new = round(np.mean(new_m),2)\n",
    "xbar_old = round(np.mean(old_m),2)\n",
    "\n",
    "print(xbar_new, xbar_old) "
   ]
  },
  {
   "cell_type": "markdown",
   "id": "122b8516",
   "metadata": {},
   "source": [
    "+ calculate deviation of every datapoint from respective mean (square of the variance)"
   ]
  },
  {
   "cell_type": "code",
   "execution_count": 84,
   "id": "83431b5e",
   "metadata": {},
   "outputs": [
    {
     "data": {
      "text/plain": [
       "0.4671111111111125"
      ]
     },
     "execution_count": 84,
     "metadata": {},
     "output_type": "execute_result"
    }
   ],
   "source": [
    "devs_new = [(_-xbar_new)**2 for _ in new_m]\n",
    "devs_old = [(_-xbar_old)**2 for _ in old_m]\n",
    "sum(devs_new)/9"
   ]
  },
  {
   "cell_type": "markdown",
   "id": "07c6de81",
   "metadata": {},
   "source": [
    "+ calculate standard deviations"
   ]
  },
  {
   "cell_type": "code",
   "execution_count": 85,
   "id": "7bab83d5",
   "metadata": {},
   "outputs": [],
   "source": [
    "S_new = sum(devs_new) / (len(new_m)-1)\n",
    "S_old = sum(devs_old) / (len(old_m)-1)\n"
   ]
  },
  {
   "cell_type": "markdown",
   "id": "79340d7c",
   "metadata": {},
   "source": [
    "+ t-statistics"
   ]
  },
  {
   "cell_type": "code",
   "execution_count": 86,
   "id": "fcb76ebd",
   "metadata": {},
   "outputs": [
    {
     "data": {
      "text/plain": [
       "-4.715074647946399"
      ]
     },
     "execution_count": 86,
     "metadata": {},
     "output_type": "execute_result"
    }
   ],
   "source": [
    "t = (xbar_new - xbar_old) / (S_new**2 / len(new_m) + S_old**2 / len(new_m))**0.5\n",
    "t"
   ]
  },
  {
   "cell_type": "code",
   "execution_count": 90,
   "id": "cc846af0",
   "metadata": {},
   "outputs": [
    {
     "data": {
      "text/plain": [
       "0.21819279012345807"
      ]
     },
     "execution_count": 90,
     "metadata": {},
     "output_type": "execute_result"
    }
   ],
   "source": [
    "S_new**2"
   ]
  },
  {
   "cell_type": "code",
   "execution_count": null,
   "id": "2922c89a",
   "metadata": {},
   "outputs": [],
   "source": []
  }
 ],
 "metadata": {
  "kernelspec": {
   "display_name": "Python 3 (ipykernel)",
   "language": "python",
   "name": "python3"
  },
  "language_info": {
   "codemirror_mode": {
    "name": "ipython",
    "version": 3
   },
   "file_extension": ".py",
   "mimetype": "text/x-python",
   "name": "python",
   "nbconvert_exporter": "python",
   "pygments_lexer": "ipython3",
   "version": "3.9.7"
  },
  "toc": {
   "base_numbering": 1,
   "nav_menu": {},
   "number_sections": true,
   "sideBar": true,
   "skip_h1_title": false,
   "title_cell": "Table of Contents",
   "title_sidebar": "Contents",
   "toc_cell": false,
   "toc_position": {},
   "toc_section_display": true,
   "toc_window_display": false
  },
  "varInspector": {
   "cols": {
    "lenName": 16,
    "lenType": 16,
    "lenVar": 40
   },
   "kernels_config": {
    "python": {
     "delete_cmd_postfix": "",
     "delete_cmd_prefix": "del ",
     "library": "var_list.py",
     "varRefreshCmd": "print(var_dic_list())"
    },
    "r": {
     "delete_cmd_postfix": ") ",
     "delete_cmd_prefix": "rm(",
     "library": "var_list.r",
     "varRefreshCmd": "cat(var_dic_list()) "
    }
   },
   "types_to_exclude": [
    "module",
    "function",
    "builtin_function_or_method",
    "instance",
    "_Feature"
   ],
   "window_display": false
  }
 },
 "nbformat": 4,
 "nbformat_minor": 5
}
