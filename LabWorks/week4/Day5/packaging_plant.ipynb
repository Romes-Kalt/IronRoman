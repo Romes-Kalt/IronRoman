{
 "cells": [
  {
   "cell_type": "markdown",
   "id": "ee9d056e",
   "metadata": {},
   "source": [
    "# Task\n",
    "\n",
    "In a packing plant, a machine packs cartons with jars. It is supposed that a new machine will pack faster on the average than the machine currently used. To test that hypothesis, the times it takes each machine to pack ten cartons are recorded. The results, in seconds, are shown in the tables in the file Data/machine.txt. Assume that there is sufficient evidence to conduct the t test, does the data provide sufficient evidence to show if one machine is better than the other"
   ]
  },
  {
   "cell_type": "code",
   "execution_count": 2,
   "id": "20839f54",
   "metadata": {},
   "outputs": [],
   "source": [
    "with open(r\"C:\\Users\\roman\\Documents\\GitHub\\IH_RH_DA_FT_JAN_2022\\Class_Materials\\Statistics\\Lab\\Data\\Data_machine.txt\") as f:\n",
    "    c = f.readlines()"
   ]
  },
  {
   "cell_type": "code",
   "execution_count": 3,
   "id": "5dad8d0c",
   "metadata": {},
   "outputs": [],
   "source": [
    "new_m = [42.1, 41, 41.3, 41.8, 42.4, 42.8, 43.2, 42.3, 41.8, 42.7]\n",
    "old_m = [42.7, 43.6, 43.8, 43.3, 42.5, 43.5, 43.1, 41.7, 44, 44.1]"
   ]
  },
  {
   "cell_type": "code",
   "execution_count": 4,
   "id": "44831cff",
   "metadata": {},
   "outputs": [],
   "source": [
    "# for _ in range(len(old_m)):\n",
    "#     print(new_m[_], old_m[_])"
   ]
  },
  {
   "cell_type": "markdown",
   "id": "5ee48dcc",
   "metadata": {},
   "source": [
    "H0: μ1 ≠ μ2 → new machine is supposed to be better, so the average mean should be different\n",
    "Ha: μ1 = μ2"
   ]
  },
  {
   "cell_type": "markdown",
   "id": "510fc38f",
   "metadata": {},
   "source": [
    "***\n",
    "+ average means of both machines"
   ]
  },
  {
   "cell_type": "code",
   "execution_count": 5,
   "id": "a00e28d4",
   "metadata": {},
   "outputs": [
    {
     "name": "stdout",
     "output_type": "stream",
     "text": [
      "42.14 43.23\n"
     ]
    }
   ],
   "source": [
    "import numpy as np\n",
    "xbar_new = round(np.mean(new_m),2)\n",
    "xbar_old = round(np.mean(old_m),2)\n",
    "\n",
    "print(xbar_new, xbar_old) "
   ]
  },
  {
   "cell_type": "markdown",
   "id": "2e028ef9",
   "metadata": {},
   "source": [
    "+ calculate deviation of every datapoint from respective mean (square of the variance)"
   ]
  },
  {
   "cell_type": "code",
   "execution_count": 14,
   "id": "99ed433f",
   "metadata": {},
   "outputs": [
    {
     "data": {
      "text/plain": [
       "[0.0015999999999999318,\n",
       " 1.2996000000000012,\n",
       " 0.7056000000000058,\n",
       " 0.11560000000000233,\n",
       " 0.06759999999999897,\n",
       " 0.4355999999999955,\n",
       " 1.1236000000000048,\n",
       " 0.02559999999999891,\n",
       " 0.11560000000000233,\n",
       " 0.31360000000000254]"
      ]
     },
     "execution_count": 14,
     "metadata": {},
     "output_type": "execute_result"
    }
   ],
   "source": [
    "devs_new = [(_-xbar_new)**2 for _ in new_m]\n",
    "devs_old = [(_-xbar_old)**2 for _ in old_m]"
   ]
  },
  {
   "cell_type": "markdown",
   "id": "70f5f81e",
   "metadata": {},
   "source": [
    "+ calculate standard deviations"
   ]
  },
  {
   "cell_type": "code",
   "execution_count": 22,
   "id": "414c598f",
   "metadata": {},
   "outputs": [],
   "source": [
    "S_new = (sum(devs_new) / (len(new_m)-1))\n",
    "S_old = (sum(devs_old) / (len(old_m)-1))"
   ]
  },
  {
   "cell_type": "markdown",
   "id": "62ffe63b",
   "metadata": {},
   "source": [
    "+ t-statistics"
   ]
  },
  {
   "cell_type": "code",
   "execution_count": 23,
   "id": "199790fb",
   "metadata": {},
   "outputs": [
    {
     "data": {
      "text/plain": [
       "-3.3972307061175813"
      ]
     },
     "execution_count": 23,
     "metadata": {},
     "output_type": "execute_result"
    }
   ],
   "source": [
    "t = (xbar_new - xbar_old) / (S_new / len(new_m) + S_old / len(new_m))**0.5\n",
    "t"
   ]
  },
  {
   "cell_type": "code",
   "execution_count": 19,
   "id": "32d44ca1",
   "metadata": {},
   "outputs": [
    {
     "data": {
      "text/plain": [
       "2.10092204024096"
      ]
     },
     "execution_count": 19,
     "metadata": {},
     "output_type": "execute_result"
    }
   ],
   "source": [
    "import scipy.stats as stats\n",
    "tc = stats.t.ppf(1-(0.05/2),df=18) \n",
    "tc"
   ]
  },
  {
   "cell_type": "code",
   "execution_count": 20,
   "id": "f4022d3f",
   "metadata": {},
   "outputs": [
    {
     "data": {
      "text/plain": [
       "True"
      ]
     },
     "execution_count": 20,
     "metadata": {},
     "output_type": "execute_result"
    }
   ],
   "source": [
    "abs(t) > tc"
   ]
  },
  {
   "cell_type": "code",
   "execution_count": 32,
   "id": "0c7af388",
   "metadata": {},
   "outputs": [
    {
     "data": {
      "text/plain": [
       "0.0032111425007745158"
      ]
     },
     "execution_count": 32,
     "metadata": {},
     "output_type": "execute_result"
    }
   ],
   "source": [
    "p_value = stats.ttest_ind(old_m, new_m)[1]\n",
    "p_value"
   ]
  },
  {
   "cell_type": "markdown",
   "id": "f5f25adb",
   "metadata": {},
   "source": [
    "The p value is smaller than the threshold, so we have evidence against the null hypothesis."
   ]
  },
  {
   "cell_type": "code",
   "execution_count": null,
   "id": "a7851b5b",
   "metadata": {},
   "outputs": [],
   "source": []
  },
  {
   "cell_type": "markdown",
   "id": "26f77748",
   "metadata": {},
   "source": [
    "As the calculated t is larger than the tc (in absolutes), the **H0 is rejected**"
   ]
  },
  {
   "cell_type": "markdown",
   "id": "608dabc6",
   "metadata": {},
   "source": [
    "***"
   ]
  },
  {
   "cell_type": "code",
   "execution_count": 27,
   "id": "145203c1",
   "metadata": {},
   "outputs": [],
   "source": [
    "new_mean = np.mean(new_m)# use np.mean()\n",
    "old_mean = np.mean(old_m)# use np.mean()\n",
    "\n",
    "# print(\"The sample mean of males is: {:.2f}\".format(mean_males))\n",
    "# print(\"The sample mean of females is: {:.2f}\".format(mean_females))\n",
    "\n",
    "std_new = np.std(new_m, ddof=1)# use np.std() ddof = ?\n",
    "std_old = np.std(old_m, ddof=1)# use np.std() ddof = ?\n",
    "\n",
    "# print(\"The sample standard deviation of males is: {:.2f}\".format(std_males))\n",
    "# print(\"The sample standard deviation of females is: {:.2f}\".format(std_females))"
   ]
  },
  {
   "cell_type": "code",
   "execution_count": 28,
   "id": "a8a52bba",
   "metadata": {},
   "outputs": [],
   "source": [
    "t = ( new_mean - old_mean ) / np.sqrt( ((std_new**2)/10) + ((std_old**2)/10 ) )"
   ]
  },
  {
   "cell_type": "code",
   "execution_count": 29,
   "id": "ce4abd2f",
   "metadata": {},
   "outputs": [
    {
     "data": {
      "text/plain": [
       "-3.5809955894645813"
      ]
     },
     "execution_count": 29,
     "metadata": {},
     "output_type": "execute_result"
    }
   ],
   "source": [
    "t"
   ]
  },
  {
   "cell_type": "code",
   "execution_count": null,
   "id": "abfa61b9",
   "metadata": {},
   "outputs": [],
   "source": [
    "std_new = np.std(new_m)# use np.std() ddof = ?\n",
    "std_old = np.std(old_m)# use np.std() ddof = ?\n",
    "\n",
    "\n"
   ]
  },
  {
   "cell_type": "code",
   "execution_count": null,
   "id": "310cf3cf",
   "metadata": {},
   "outputs": [],
   "source": []
  }
 ],
 "metadata": {
  "kernelspec": {
   "display_name": "Python 3 (ipykernel)",
   "language": "python",
   "name": "python3"
  },
  "language_info": {
   "codemirror_mode": {
    "name": "ipython",
    "version": 3
   },
   "file_extension": ".py",
   "mimetype": "text/x-python",
   "name": "python",
   "nbconvert_exporter": "python",
   "pygments_lexer": "ipython3",
   "version": "3.9.7"
  },
  "toc": {
   "base_numbering": 1,
   "nav_menu": {},
   "number_sections": true,
   "sideBar": true,
   "skip_h1_title": false,
   "title_cell": "Table of Contents",
   "title_sidebar": "Contents",
   "toc_cell": false,
   "toc_position": {},
   "toc_section_display": true,
   "toc_window_display": false
  },
  "varInspector": {
   "cols": {
    "lenName": 16,
    "lenType": 16,
    "lenVar": 40
   },
   "kernels_config": {
    "python": {
     "delete_cmd_postfix": "",
     "delete_cmd_prefix": "del ",
     "library": "var_list.py",
     "varRefreshCmd": "print(var_dic_list())"
    },
    "r": {
     "delete_cmd_postfix": ") ",
     "delete_cmd_prefix": "rm(",
     "library": "var_list.r",
     "varRefreshCmd": "cat(var_dic_list()) "
    }
   },
   "types_to_exclude": [
    "module",
    "function",
    "builtin_function_or_method",
    "instance",
    "_Feature"
   ],
   "window_display": false
  }
 },
 "nbformat": 4,
 "nbformat_minor": 5
}
