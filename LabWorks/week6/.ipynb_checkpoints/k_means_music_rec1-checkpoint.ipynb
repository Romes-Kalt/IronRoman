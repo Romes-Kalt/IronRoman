{
 "cells": [
  {
   "cell_type": "markdown",
   "metadata": {
    "id": "ZcSGgeMpeAgy"
   },
   "source": [
    "## Importing libraries"
   ]
  },
  {
   "cell_type": "code",
   "execution_count": 1,
   "metadata": {
    "executionInfo": {
     "elapsed": 1543,
     "status": "ok",
     "timestamp": 1623846916468,
     "user": {
      "displayName": "Ignacio Soteras",
      "photoUrl": "",
      "userId": "02050793736257155229"
     },
     "user_tz": -120
    },
    "id": "MVmBiWjsd2Xd"
   },
   "outputs": [],
   "source": [
    "import numpy as np\n",
    "import pandas as pd\n",
    "import pickle\n",
    "from sklearn import datasets # sklearn comes with some toy datasets to practise\n",
    "from sklearn.preprocessing import StandardScaler\n",
    "from sklearn.cluster import KMeans\n",
    "from matplotlib import pyplot\n",
    "from sklearn.metrics import silhouette_score"
   ]
  },
  {
   "cell_type": "markdown",
   "metadata": {
    "id": "p-MFU-2neT38"
   },
   "source": [
    "## Loading the sklearn's wines dataset"
   ]
  },
  {
   "cell_type": "code",
   "execution_count": 2,
   "metadata": {},
   "outputs": [
    {
     "name": "stderr",
     "output_type": "stream",
     "text": [
      "C:\\Users\\roman\\Python\\anaconda\\envs\\DA_Env\\lib\\site-packages\\IPython\\core\\interactiveshell.py:3457: FutureWarning: The error_bad_lines argument has been deprecated and will be removed in a future version.\n",
      "\n",
      "\n",
      "  exec(code_obj, self.user_global_ns, self.user_ns)\n",
      "b'Skipping line 3335: expected 20 fields, saw 21\\nSkipping line 3336: expected 20 fields, saw 21\\nSkipping line 3343: expected 20 fields, saw 21\\nSkipping line 3345: expected 20 fields, saw 21\\nSkipping line 3350: expected 20 fields, saw 21\\nSkipping line 4630: expected 20 fields, saw 22\\nSkipping line 4632: expected 20 fields, saw 22\\nSkipping line 4634: expected 20 fields, saw 22\\nSkipping line 4643: expected 20 fields, saw 22\\nSkipping line 4644: expected 20 fields, saw 22\\nSkipping line 4645: expected 20 fields, saw 22\\nSkipping line 4646: expected 20 fields, saw 22\\nSkipping line 4647: expected 20 fields, saw 22\\nSkipping line 4650: expected 20 fields, saw 22\\nSkipping line 4651: expected 20 fields, saw 22\\nSkipping line 4655: expected 20 fields, saw 22\\nSkipping line 4657: expected 20 fields, saw 22\\nSkipping line 4658: expected 20 fields, saw 22\\nSkipping line 4659: expected 20 fields, saw 22\\nSkipping line 4660: expected 20 fields, saw 22\\nSkipping line 4661: expected 20 fields, saw 22\\nSkipping line 6071: expected 20 fields, saw 21\\nSkipping line 14341: expected 20 fields, saw 21\\nSkipping line 14343: expected 20 fields, saw 21\\nSkipping line 14345: expected 20 fields, saw 21\\nSkipping line 14347: expected 20 fields, saw 21\\nSkipping line 14349: expected 20 fields, saw 21\\nSkipping line 14351: expected 20 fields, saw 21\\nSkipping line 14353: expected 20 fields, saw 21\\nSkipping line 14355: expected 20 fields, saw 21\\nSkipping line 14357: expected 20 fields, saw 21\\nSkipping line 14359: expected 20 fields, saw 21\\nSkipping line 14361: expected 20 fields, saw 21\\nSkipping line 14363: expected 20 fields, saw 21\\nSkipping line 14365: expected 20 fields, saw 21\\nSkipping line 14367: expected 20 fields, saw 21\\nSkipping line 14369: expected 20 fields, saw 21\\nSkipping line 14371: expected 20 fields, saw 21\\nSkipping line 14373: expected 20 fields, saw 21\\nSkipping line 14375: expected 20 fields, saw 21\\nSkipping line 14377: expected 20 fields, saw 21\\nSkipping line 14380: expected 20 fields, saw 21\\nSkipping line 14384: expected 20 fields, saw 21\\nSkipping line 14386: expected 20 fields, saw 21\\nSkipping line 14388: expected 20 fields, saw 21\\nSkipping line 15692: expected 20 fields, saw 21\\nSkipping line 15693: expected 20 fields, saw 21\\nSkipping line 15694: expected 20 fields, saw 21\\nSkipping line 16908: expected 20 fields, saw 21\\nSkipping line 20449: expected 20 fields, saw 21\\n'\n"
     ]
    }
   ],
   "source": [
    "data = pd.read_csv(\"./data/song_db.csv\", sep=\";\", error_bad_lines=False)"
   ]
  },
  {
   "cell_type": "code",
   "execution_count": 6,
   "metadata": {
    "colab": {
     "base_uri": "https://localhost:8080/",
     "height": 243
    },
    "executionInfo": {
     "elapsed": 203,
     "status": "ok",
     "timestamp": 1623847303907,
     "user": {
      "displayName": "Ignacio Soteras",
      "photoUrl": "",
      "userId": "02050793736257155229"
     },
     "user_tz": -120
    },
    "id": "JoMfvQc8eZIk",
    "outputId": "81c65019-819b-4c12-cb7b-2e30b1c13089"
   },
   "outputs": [
    {
     "name": "stdout",
     "output_type": "stream",
     "text": [
      "\n"
     ]
    }
   ],
   "source": [
    "# data = datasets.load_wine()\n",
    "\n",
    "# Let's see what we have.\n",
    "#display(data)\n",
    "# OMG! Another dictionary!!!\n",
    "\n",
    "# We will not use the 'target' key as we don't want to classify the wines in types.\n",
    "# we just want to cluster them.\n",
    "# X = pd.DataFrame(data[\"data\"], columns=data[\"feature_names\"])\n",
    "\n",
    "print()\n",
    "data.head()\n",
    "X = data.copy()\n",
    "\n",
    "X.drop(['id', 'name', 'album', 'artist', 'release_date','mode','type', 'time_signature'], axis=1, inplace=True)"
   ]
  },
  {
   "cell_type": "code",
   "execution_count": 7,
   "metadata": {},
   "outputs": [
    {
     "data": {
      "text/html": [
       "<div>\n",
       "<style scoped>\n",
       "    .dataframe tbody tr th:only-of-type {\n",
       "        vertical-align: middle;\n",
       "    }\n",
       "\n",
       "    .dataframe tbody tr th {\n",
       "        vertical-align: top;\n",
       "    }\n",
       "\n",
       "    .dataframe thead th {\n",
       "        text-align: right;\n",
       "    }\n",
       "</style>\n",
       "<table border=\"1\" class=\"dataframe\">\n",
       "  <thead>\n",
       "    <tr style=\"text-align: right;\">\n",
       "      <th></th>\n",
       "      <th>length</th>\n",
       "      <th>popularity</th>\n",
       "      <th>danceability</th>\n",
       "      <th>acousticness</th>\n",
       "      <th>energy</th>\n",
       "      <th>instrumentalness</th>\n",
       "      <th>liveness</th>\n",
       "      <th>loudness</th>\n",
       "      <th>speechiness</th>\n",
       "      <th>valence</th>\n",
       "      <th>key</th>\n",
       "      <th>tempo</th>\n",
       "    </tr>\n",
       "  </thead>\n",
       "  <tbody>\n",
       "    <tr>\n",
       "      <th>0</th>\n",
       "      <td>168489</td>\n",
       "      <td>85</td>\n",
       "      <td>0.792</td>\n",
       "      <td>0.12400</td>\n",
       "      <td>0.511</td>\n",
       "      <td>0.000090</td>\n",
       "      <td>0.1400</td>\n",
       "      <td>-6.876</td>\n",
       "      <td>0.0409</td>\n",
       "      <td>0.1110</td>\n",
       "      <td>2</td>\n",
       "      <td>113.983</td>\n",
       "    </tr>\n",
       "    <tr>\n",
       "      <th>1</th>\n",
       "      <td>169319</td>\n",
       "      <td>74</td>\n",
       "      <td>0.797</td>\n",
       "      <td>0.00538</td>\n",
       "      <td>0.516</td>\n",
       "      <td>0.438000</td>\n",
       "      <td>0.0728</td>\n",
       "      <td>-6.286</td>\n",
       "      <td>0.0832</td>\n",
       "      <td>0.0478</td>\n",
       "      <td>1</td>\n",
       "      <td>109.993</td>\n",
       "    </tr>\n",
       "    <tr>\n",
       "      <th>2</th>\n",
       "      <td>145078</td>\n",
       "      <td>81</td>\n",
       "      <td>0.753</td>\n",
       "      <td>0.32600</td>\n",
       "      <td>0.680</td>\n",
       "      <td>0.000041</td>\n",
       "      <td>0.4230</td>\n",
       "      <td>-7.092</td>\n",
       "      <td>0.0349</td>\n",
       "      <td>0.1920</td>\n",
       "      <td>5</td>\n",
       "      <td>105.977</td>\n",
       "    </tr>\n",
       "    <tr>\n",
       "      <th>3</th>\n",
       "      <td>118073</td>\n",
       "      <td>67</td>\n",
       "      <td>0.794</td>\n",
       "      <td>0.03880</td>\n",
       "      <td>0.535</td>\n",
       "      <td>0.000010</td>\n",
       "      <td>0.5550</td>\n",
       "      <td>-5.698</td>\n",
       "      <td>0.0506</td>\n",
       "      <td>0.0487</td>\n",
       "      <td>0</td>\n",
       "      <td>120.067</td>\n",
       "    </tr>\n",
       "    <tr>\n",
       "      <th>4</th>\n",
       "      <td>126850</td>\n",
       "      <td>78</td>\n",
       "      <td>0.715</td>\n",
       "      <td>0.55300</td>\n",
       "      <td>0.633</td>\n",
       "      <td>0.000004</td>\n",
       "      <td>0.0905</td>\n",
       "      <td>-6.869</td>\n",
       "      <td>0.0804</td>\n",
       "      <td>0.3190</td>\n",
       "      <td>2</td>\n",
       "      <td>105.945</td>\n",
       "    </tr>\n",
       "  </tbody>\n",
       "</table>\n",
       "</div>"
      ],
      "text/plain": [
       "   length  popularity  danceability  acousticness  energy  instrumentalness  \\\n",
       "0  168489          85         0.792       0.12400   0.511          0.000090   \n",
       "1  169319          74         0.797       0.00538   0.516          0.438000   \n",
       "2  145078          81         0.753       0.32600   0.680          0.000041   \n",
       "3  118073          67         0.794       0.03880   0.535          0.000010   \n",
       "4  126850          78         0.715       0.55300   0.633          0.000004   \n",
       "\n",
       "   liveness  loudness  speechiness  valence  key    tempo  \n",
       "0    0.1400    -6.876       0.0409   0.1110    2  113.983  \n",
       "1    0.0728    -6.286       0.0832   0.0478    1  109.993  \n",
       "2    0.4230    -7.092       0.0349   0.1920    5  105.977  \n",
       "3    0.5550    -5.698       0.0506   0.0487    0  120.067  \n",
       "4    0.0905    -6.869       0.0804   0.3190    2  105.945  "
      ]
     },
     "execution_count": 7,
     "metadata": {},
     "output_type": "execute_result"
    }
   ],
   "source": [
    "X.head()"
   ]
  },
  {
   "cell_type": "code",
   "execution_count": 3,
   "metadata": {
    "colab": {
     "base_uri": "https://localhost:8080/",
     "height": 191
    },
    "executionInfo": {
     "elapsed": 216,
     "status": "ok",
     "timestamp": 1623847081785,
     "user": {
      "displayName": "Ignacio Soteras",
      "photoUrl": "",
      "userId": "02050793736257155229"
     },
     "user_tz": -120
    },
    "id": "vxTz2Zq-0_CU",
    "outputId": "b815d0a7-8668-4cc3-b972-d2e74dd2e767"
   },
   "outputs": [
    {
     "data": {
      "text/plain": [
       "'.. _wine_dataset:\\n\\nWine recognition dataset\\n------------------------\\n\\n**Data Set Characteristics:**\\n\\n    :Number of Instances: 178 (50 in each of three classes)\\n    :Number of Attributes: 13 numeric, predictive attributes and the class\\n    :Attribute Information:\\n \\t\\t- Alcohol\\n \\t\\t- Malic acid\\n \\t\\t- Ash\\n\\t\\t- Alcalinity of ash  \\n \\t\\t- Magnesium\\n\\t\\t- Total phenols\\n \\t\\t- Flavanoids\\n \\t\\t- Nonflavanoid phenols\\n \\t\\t- Proanthocyanins\\n\\t\\t- Color intensity\\n \\t\\t- Hue\\n \\t\\t- OD280/OD315 of diluted wines\\n \\t\\t- Proline\\n\\n    - class:\\n            - class_0\\n            - class_1\\n            - class_2\\n\\t\\t\\n    :Summary Statistics:\\n    \\n    ============================= ==== ===== ======= =====\\n                                   Min   Max   Mean     SD\\n    ============================= ==== ===== ======= =====\\n    Alcohol:                      11.0  14.8    13.0   0.8\\n    Malic Acid:                   0.74  5.80    2.34  1.12\\n    Ash:                          1.36  3.23    2.36  0.27\\n    Alcalinity of Ash:            10.6  30.0    19.5   3.3\\n    Magnesium:                    70.0 162.0    99.7  14.3\\n    Total Phenols:                0.98  3.88    2.29  0.63\\n    Flavanoids:                   0.34  5.08    2.03  1.00\\n    Nonflavanoid Phenols:         0.13  0.66    0.36  0.12\\n    Proanthocyanins:              0.41  3.58    1.59  0.57\\n    Colour Intensity:              1.3  13.0     5.1   2.3\\n    Hue:                          0.48  1.71    0.96  0.23\\n    OD280/OD315 of diluted wines: 1.27  4.00    2.61  0.71\\n    Proline:                       278  1680     746   315\\n    ============================= ==== ===== ======= =====\\n\\n    :Missing Attribute Values: None\\n    :Class Distribution: class_0 (59), class_1 (71), class_2 (48)\\n    :Creator: R.A. Fisher\\n    :Donor: Michael Marshall (MARSHALL%PLU@io.arc.nasa.gov)\\n    :Date: July, 1988\\n\\nThis is a copy of UCI ML Wine recognition datasets.\\nhttps://archive.ics.uci.edu/ml/machine-learning-databases/wine/wine.data\\n\\nThe data is the results of a chemical analysis of wines grown in the same\\nregion in Italy by three different cultivators. There are thirteen different\\nmeasurements taken for different constituents found in the three types of\\nwine.\\n\\nOriginal Owners: \\n\\nForina, M. et al, PARVUS - \\nAn Extendible Package for Data Exploration, Classification and Correlation. \\nInstitute of Pharmaceutical and Food Analysis and Technologies,\\nVia Brigata Salerno, 16147 Genoa, Italy.\\n\\nCitation:\\n\\nLichman, M. (2013). UCI Machine Learning Repository\\n[https://archive.ics.uci.edu/ml]. Irvine, CA: University of California,\\nSchool of Information and Computer Science. \\n\\n.. topic:: References\\n\\n  (1) S. Aeberhard, D. Coomans and O. de Vel, \\n  Comparison of Classifiers in High Dimensional Settings, \\n  Tech. Rep. no. 92-02, (1992), Dept. of Computer Science and Dept. of  \\n  Mathematics and Statistics, James Cook University of North Queensland. \\n  (Also submitted to Technometrics). \\n\\n  The data was used with many others for comparing various \\n  classifiers. The classes are separable, though only RDA \\n  has achieved 100% correct classification. \\n  (RDA : 100%, QDA 99.4%, LDA 98.9%, 1NN 96.1% (z-transformed data)) \\n  (All results using the leave-one-out technique) \\n\\n  (2) S. Aeberhard, D. Coomans and O. de Vel, \\n  \"THE CLASSIFICATION PERFORMANCE OF RDA\" \\n  Tech. Rep. no. 92-01, (1992), Dept. of Computer Science and Dept. of \\n  Mathematics and Statistics, James Cook University of North Queensland. \\n  (Also submitted to Journal of Chemometrics).\\n'"
      ]
     },
     "execution_count": 3,
     "metadata": {},
     "output_type": "execute_result"
    }
   ],
   "source": [
    "data['DESCR']"
   ]
  },
  {
   "cell_type": "code",
   "execution_count": 4,
   "metadata": {
    "colab": {
     "base_uri": "https://localhost:8080/"
    },
    "executionInfo": {
     "elapsed": 210,
     "status": "ok",
     "timestamp": 1623847153592,
     "user": {
      "displayName": "Ignacio Soteras",
      "photoUrl": "",
      "userId": "02050793736257155229"
     },
     "user_tz": -120
    },
    "id": "3JZ-6nvR1ODN",
    "outputId": "5af5fbaf-face-45cc-de35-51b7a303615b"
   },
   "outputs": [
    {
     "data": {
      "text/plain": [
       "array([[1.423e+01, 1.710e+00, 2.430e+00, ..., 1.040e+00, 3.920e+00,\n",
       "        1.065e+03],\n",
       "       [1.320e+01, 1.780e+00, 2.140e+00, ..., 1.050e+00, 3.400e+00,\n",
       "        1.050e+03],\n",
       "       [1.316e+01, 2.360e+00, 2.670e+00, ..., 1.030e+00, 3.170e+00,\n",
       "        1.185e+03],\n",
       "       ...,\n",
       "       [1.327e+01, 4.280e+00, 2.260e+00, ..., 5.900e-01, 1.560e+00,\n",
       "        8.350e+02],\n",
       "       [1.317e+01, 2.590e+00, 2.370e+00, ..., 6.000e-01, 1.620e+00,\n",
       "        8.400e+02],\n",
       "       [1.413e+01, 4.100e+00, 2.740e+00, ..., 6.100e-01, 1.600e+00,\n",
       "        5.600e+02]])"
      ]
     },
     "execution_count": 4,
     "metadata": {},
     "output_type": "execute_result"
    }
   ],
   "source": [
    "data['data']"
   ]
  },
  {
   "cell_type": "code",
   "execution_count": 5,
   "metadata": {
    "colab": {
     "base_uri": "https://localhost:8080/"
    },
    "executionInfo": {
     "elapsed": 200,
     "status": "ok",
     "timestamp": 1623847196326,
     "user": {
      "displayName": "Ignacio Soteras",
      "photoUrl": "",
      "userId": "02050793736257155229"
     },
     "user_tz": -120
    },
    "id": "gTHWNOT-1bde",
    "outputId": "354608ea-d15b-4046-9756-71e1d1858fee"
   },
   "outputs": [
    {
     "data": {
      "text/plain": [
       "['alcohol',\n",
       " 'malic_acid',\n",
       " 'ash',\n",
       " 'alcalinity_of_ash',\n",
       " 'magnesium',\n",
       " 'total_phenols',\n",
       " 'flavanoids',\n",
       " 'nonflavanoid_phenols',\n",
       " 'proanthocyanins',\n",
       " 'color_intensity',\n",
       " 'hue',\n",
       " 'od280/od315_of_diluted_wines',\n",
       " 'proline']"
      ]
     },
     "execution_count": 5,
     "metadata": {},
     "output_type": "execute_result"
    }
   ],
   "source": [
    "data['feature_names']"
   ]
  },
  {
   "cell_type": "markdown",
   "metadata": {
    "id": "jKnoCN1MgG6B"
   },
   "source": [
    "## Scaling features"
   ]
  },
  {
   "cell_type": "code",
   "execution_count": 8,
   "metadata": {
    "colab": {
     "base_uri": "https://localhost:8080/",
     "height": 319
    },
    "executionInfo": {
     "elapsed": 226,
     "status": "ok",
     "timestamp": 1623847356617,
     "user": {
      "displayName": "Ignacio Soteras",
      "photoUrl": "",
      "userId": "02050793736257155229"
     },
     "user_tz": -120
    },
    "id": "HwrUhwwcgRkP",
    "outputId": "006111e0-116d-4087-aaca-88219c7567de"
   },
   "outputs": [
    {
     "data": {
      "text/html": [
       "<div>\n",
       "<style scoped>\n",
       "    .dataframe tbody tr th:only-of-type {\n",
       "        vertical-align: middle;\n",
       "    }\n",
       "\n",
       "    .dataframe tbody tr th {\n",
       "        vertical-align: top;\n",
       "    }\n",
       "\n",
       "    .dataframe thead th {\n",
       "        text-align: right;\n",
       "    }\n",
       "</style>\n",
       "<table border=\"1\" class=\"dataframe\">\n",
       "  <thead>\n",
       "    <tr style=\"text-align: right;\">\n",
       "      <th></th>\n",
       "      <th>length</th>\n",
       "      <th>popularity</th>\n",
       "      <th>danceability</th>\n",
       "      <th>acousticness</th>\n",
       "      <th>energy</th>\n",
       "      <th>instrumentalness</th>\n",
       "      <th>liveness</th>\n",
       "      <th>loudness</th>\n",
       "      <th>speechiness</th>\n",
       "      <th>valence</th>\n",
       "      <th>key</th>\n",
       "      <th>tempo</th>\n",
       "    </tr>\n",
       "  </thead>\n",
       "  <tbody>\n",
       "    <tr>\n",
       "      <th>count</th>\n",
       "      <td>4.731400e+04</td>\n",
       "      <td>47314.000000</td>\n",
       "      <td>47314.000000</td>\n",
       "      <td>47314.000000</td>\n",
       "      <td>47314.000000</td>\n",
       "      <td>47314.000000</td>\n",
       "      <td>47314.000000</td>\n",
       "      <td>47314.000000</td>\n",
       "      <td>47314.000000</td>\n",
       "      <td>47314.000000</td>\n",
       "      <td>47314.000000</td>\n",
       "      <td>47314.000000</td>\n",
       "    </tr>\n",
       "    <tr>\n",
       "      <th>mean</th>\n",
       "      <td>2.349212e+05</td>\n",
       "      <td>36.441835</td>\n",
       "      <td>0.584047</td>\n",
       "      <td>0.314799</td>\n",
       "      <td>0.605859</td>\n",
       "      <td>0.130753</td>\n",
       "      <td>0.191500</td>\n",
       "      <td>-8.608288</td>\n",
       "      <td>0.089286</td>\n",
       "      <td>0.482517</td>\n",
       "      <td>5.272985</td>\n",
       "      <td>119.735488</td>\n",
       "    </tr>\n",
       "    <tr>\n",
       "      <th>std</th>\n",
       "      <td>1.177745e+05</td>\n",
       "      <td>21.622640</td>\n",
       "      <td>0.170061</td>\n",
       "      <td>0.325091</td>\n",
       "      <td>0.242187</td>\n",
       "      <td>0.282133</td>\n",
       "      <td>0.163635</td>\n",
       "      <td>5.023171</td>\n",
       "      <td>0.109256</td>\n",
       "      <td>0.249274</td>\n",
       "      <td>3.600563</td>\n",
       "      <td>28.839383</td>\n",
       "    </tr>\n",
       "    <tr>\n",
       "      <th>min</th>\n",
       "      <td>6.000000e+03</td>\n",
       "      <td>0.000000</td>\n",
       "      <td>0.000000</td>\n",
       "      <td>0.000000</td>\n",
       "      <td>0.000000</td>\n",
       "      <td>0.000000</td>\n",
       "      <td>0.000000</td>\n",
       "      <td>-45.137000</td>\n",
       "      <td>0.000000</td>\n",
       "      <td>0.000000</td>\n",
       "      <td>0.000000</td>\n",
       "      <td>0.000000</td>\n",
       "    </tr>\n",
       "    <tr>\n",
       "      <th>25%</th>\n",
       "      <td>1.851460e+05</td>\n",
       "      <td>20.000000</td>\n",
       "      <td>0.473000</td>\n",
       "      <td>0.030900</td>\n",
       "      <td>0.442000</td>\n",
       "      <td>0.000000</td>\n",
       "      <td>0.095400</td>\n",
       "      <td>-10.427000</td>\n",
       "      <td>0.034900</td>\n",
       "      <td>0.280000</td>\n",
       "      <td>2.000000</td>\n",
       "      <td>97.447250</td>\n",
       "    </tr>\n",
       "    <tr>\n",
       "      <th>50%</th>\n",
       "      <td>2.180260e+05</td>\n",
       "      <td>37.000000</td>\n",
       "      <td>0.599000</td>\n",
       "      <td>0.179000</td>\n",
       "      <td>0.645000</td>\n",
       "      <td>0.000049</td>\n",
       "      <td>0.124000</td>\n",
       "      <td>-7.294500</td>\n",
       "      <td>0.047200</td>\n",
       "      <td>0.477000</td>\n",
       "      <td>5.000000</td>\n",
       "      <td>119.985000</td>\n",
       "    </tr>\n",
       "    <tr>\n",
       "      <th>75%</th>\n",
       "      <td>2.619738e+05</td>\n",
       "      <td>53.000000</td>\n",
       "      <td>0.710000</td>\n",
       "      <td>0.571000</td>\n",
       "      <td>0.802000</td>\n",
       "      <td>0.024100</td>\n",
       "      <td>0.234000</td>\n",
       "      <td>-5.303000</td>\n",
       "      <td>0.088400</td>\n",
       "      <td>0.680000</td>\n",
       "      <td>8.000000</td>\n",
       "      <td>136.526000</td>\n",
       "    </tr>\n",
       "    <tr>\n",
       "      <th>max</th>\n",
       "      <td>4.581482e+06</td>\n",
       "      <td>100.000000</td>\n",
       "      <td>0.982000</td>\n",
       "      <td>0.996000</td>\n",
       "      <td>1.000000</td>\n",
       "      <td>1.000000</td>\n",
       "      <td>1.000000</td>\n",
       "      <td>1.183000</td>\n",
       "      <td>0.967000</td>\n",
       "      <td>0.995000</td>\n",
       "      <td>11.000000</td>\n",
       "      <td>220.098000</td>\n",
       "    </tr>\n",
       "  </tbody>\n",
       "</table>\n",
       "</div>"
      ],
      "text/plain": [
       "             length    popularity  danceability  acousticness        energy  \\\n",
       "count  4.731400e+04  47314.000000  47314.000000  47314.000000  47314.000000   \n",
       "mean   2.349212e+05     36.441835      0.584047      0.314799      0.605859   \n",
       "std    1.177745e+05     21.622640      0.170061      0.325091      0.242187   \n",
       "min    6.000000e+03      0.000000      0.000000      0.000000      0.000000   \n",
       "25%    1.851460e+05     20.000000      0.473000      0.030900      0.442000   \n",
       "50%    2.180260e+05     37.000000      0.599000      0.179000      0.645000   \n",
       "75%    2.619738e+05     53.000000      0.710000      0.571000      0.802000   \n",
       "max    4.581482e+06    100.000000      0.982000      0.996000      1.000000   \n",
       "\n",
       "       instrumentalness      liveness      loudness   speechiness  \\\n",
       "count      47314.000000  47314.000000  47314.000000  47314.000000   \n",
       "mean           0.130753      0.191500     -8.608288      0.089286   \n",
       "std            0.282133      0.163635      5.023171      0.109256   \n",
       "min            0.000000      0.000000    -45.137000      0.000000   \n",
       "25%            0.000000      0.095400    -10.427000      0.034900   \n",
       "50%            0.000049      0.124000     -7.294500      0.047200   \n",
       "75%            0.024100      0.234000     -5.303000      0.088400   \n",
       "max            1.000000      1.000000      1.183000      0.967000   \n",
       "\n",
       "            valence           key         tempo  \n",
       "count  47314.000000  47314.000000  47314.000000  \n",
       "mean       0.482517      5.272985    119.735488  \n",
       "std        0.249274      3.600563     28.839383  \n",
       "min        0.000000      0.000000      0.000000  \n",
       "25%        0.280000      2.000000     97.447250  \n",
       "50%        0.477000      5.000000    119.985000  \n",
       "75%        0.680000      8.000000    136.526000  \n",
       "max        0.995000     11.000000    220.098000  "
      ]
     },
     "execution_count": 8,
     "metadata": {},
     "output_type": "execute_result"
    }
   ],
   "source": [
    "X.describe()"
   ]
  },
  {
   "cell_type": "markdown",
   "metadata": {
    "id": "m9xNyIF4gKd4"
   },
   "source": [
    "The scale of \"proline\" is much bigger than the scale of many other variable!\n",
    "\n",
    "**K-Means is a distance based algorithm**: we need to scale / normalize!:"
   ]
  },
  {
   "cell_type": "code",
   "execution_count": 9,
   "metadata": {
    "colab": {
     "base_uri": "https://localhost:8080/",
     "height": 431
    },
    "executionInfo": {
     "elapsed": 206,
     "status": "ok",
     "timestamp": 1623847766918,
     "user": {
      "displayName": "Ignacio Soteras",
      "photoUrl": "",
      "userId": "02050793736257155229"
     },
     "user_tz": -120
    },
    "id": "8V86cFdpgJrd",
    "outputId": "b3a8d5a2-a380-4545-a06e-a6487daf3601",
    "scrolled": false
   },
   "outputs": [
    {
     "data": {
      "text/html": [
       "<div>\n",
       "<style scoped>\n",
       "    .dataframe tbody tr th:only-of-type {\n",
       "        vertical-align: middle;\n",
       "    }\n",
       "\n",
       "    .dataframe tbody tr th {\n",
       "        vertical-align: top;\n",
       "    }\n",
       "\n",
       "    .dataframe thead th {\n",
       "        text-align: right;\n",
       "    }\n",
       "</style>\n",
       "<table border=\"1\" class=\"dataframe\">\n",
       "  <thead>\n",
       "    <tr style=\"text-align: right;\">\n",
       "      <th></th>\n",
       "      <th>length</th>\n",
       "      <th>popularity</th>\n",
       "      <th>danceability</th>\n",
       "      <th>acousticness</th>\n",
       "      <th>energy</th>\n",
       "      <th>instrumentalness</th>\n",
       "      <th>liveness</th>\n",
       "      <th>loudness</th>\n",
       "      <th>speechiness</th>\n",
       "      <th>valence</th>\n",
       "      <th>key</th>\n",
       "      <th>tempo</th>\n",
       "    </tr>\n",
       "  </thead>\n",
       "  <tbody>\n",
       "    <tr>\n",
       "      <th>0</th>\n",
       "      <td>168489</td>\n",
       "      <td>85</td>\n",
       "      <td>0.792</td>\n",
       "      <td>0.12400</td>\n",
       "      <td>0.511</td>\n",
       "      <td>0.000090</td>\n",
       "      <td>0.1400</td>\n",
       "      <td>-6.876</td>\n",
       "      <td>0.0409</td>\n",
       "      <td>0.1110</td>\n",
       "      <td>2</td>\n",
       "      <td>113.983</td>\n",
       "    </tr>\n",
       "    <tr>\n",
       "      <th>1</th>\n",
       "      <td>169319</td>\n",
       "      <td>74</td>\n",
       "      <td>0.797</td>\n",
       "      <td>0.00538</td>\n",
       "      <td>0.516</td>\n",
       "      <td>0.438000</td>\n",
       "      <td>0.0728</td>\n",
       "      <td>-6.286</td>\n",
       "      <td>0.0832</td>\n",
       "      <td>0.0478</td>\n",
       "      <td>1</td>\n",
       "      <td>109.993</td>\n",
       "    </tr>\n",
       "    <tr>\n",
       "      <th>2</th>\n",
       "      <td>145078</td>\n",
       "      <td>81</td>\n",
       "      <td>0.753</td>\n",
       "      <td>0.32600</td>\n",
       "      <td>0.680</td>\n",
       "      <td>0.000041</td>\n",
       "      <td>0.4230</td>\n",
       "      <td>-7.092</td>\n",
       "      <td>0.0349</td>\n",
       "      <td>0.1920</td>\n",
       "      <td>5</td>\n",
       "      <td>105.977</td>\n",
       "    </tr>\n",
       "    <tr>\n",
       "      <th>3</th>\n",
       "      <td>118073</td>\n",
       "      <td>67</td>\n",
       "      <td>0.794</td>\n",
       "      <td>0.03880</td>\n",
       "      <td>0.535</td>\n",
       "      <td>0.000010</td>\n",
       "      <td>0.5550</td>\n",
       "      <td>-5.698</td>\n",
       "      <td>0.0506</td>\n",
       "      <td>0.0487</td>\n",
       "      <td>0</td>\n",
       "      <td>120.067</td>\n",
       "    </tr>\n",
       "    <tr>\n",
       "      <th>4</th>\n",
       "      <td>126850</td>\n",
       "      <td>78</td>\n",
       "      <td>0.715</td>\n",
       "      <td>0.55300</td>\n",
       "      <td>0.633</td>\n",
       "      <td>0.000004</td>\n",
       "      <td>0.0905</td>\n",
       "      <td>-6.869</td>\n",
       "      <td>0.0804</td>\n",
       "      <td>0.3190</td>\n",
       "      <td>2</td>\n",
       "      <td>105.945</td>\n",
       "    </tr>\n",
       "  </tbody>\n",
       "</table>\n",
       "</div>"
      ],
      "text/plain": [
       "   length  popularity  danceability  acousticness  energy  instrumentalness  \\\n",
       "0  168489          85         0.792       0.12400   0.511          0.000090   \n",
       "1  169319          74         0.797       0.00538   0.516          0.438000   \n",
       "2  145078          81         0.753       0.32600   0.680          0.000041   \n",
       "3  118073          67         0.794       0.03880   0.535          0.000010   \n",
       "4  126850          78         0.715       0.55300   0.633          0.000004   \n",
       "\n",
       "   liveness  loudness  speechiness  valence  key    tempo  \n",
       "0    0.1400    -6.876       0.0409   0.1110    2  113.983  \n",
       "1    0.0728    -6.286       0.0832   0.0478    1  109.993  \n",
       "2    0.4230    -7.092       0.0349   0.1920    5  105.977  \n",
       "3    0.5550    -5.698       0.0506   0.0487    0  120.067  \n",
       "4    0.0905    -6.869       0.0804   0.3190    2  105.945  "
      ]
     },
     "metadata": {},
     "output_type": "display_data"
    },
    {
     "name": "stdout",
     "output_type": "stream",
     "text": [
      "\n"
     ]
    },
    {
     "data": {
      "text/html": [
       "<div>\n",
       "<style scoped>\n",
       "    .dataframe tbody tr th:only-of-type {\n",
       "        vertical-align: middle;\n",
       "    }\n",
       "\n",
       "    .dataframe tbody tr th {\n",
       "        vertical-align: top;\n",
       "    }\n",
       "\n",
       "    .dataframe thead th {\n",
       "        text-align: right;\n",
       "    }\n",
       "</style>\n",
       "<table border=\"1\" class=\"dataframe\">\n",
       "  <thead>\n",
       "    <tr style=\"text-align: right;\">\n",
       "      <th></th>\n",
       "      <th>length</th>\n",
       "      <th>popularity</th>\n",
       "      <th>danceability</th>\n",
       "      <th>acousticness</th>\n",
       "      <th>energy</th>\n",
       "      <th>instrumentalness</th>\n",
       "      <th>liveness</th>\n",
       "      <th>loudness</th>\n",
       "      <th>speechiness</th>\n",
       "      <th>valence</th>\n",
       "      <th>key</th>\n",
       "      <th>tempo</th>\n",
       "    </tr>\n",
       "  </thead>\n",
       "  <tbody>\n",
       "    <tr>\n",
       "      <th>0</th>\n",
       "      <td>-0.564068</td>\n",
       "      <td>2.245733</td>\n",
       "      <td>1.222827</td>\n",
       "      <td>-0.586916</td>\n",
       "      <td>-0.391683</td>\n",
       "      <td>-0.463130</td>\n",
       "      <td>-0.314730</td>\n",
       "      <td>0.344863</td>\n",
       "      <td>-0.442877</td>\n",
       "      <td>-1.490414</td>\n",
       "      <td>-0.909030</td>\n",
       "      <td>-0.199469</td>\n",
       "    </tr>\n",
       "    <tr>\n",
       "      <th>1</th>\n",
       "      <td>-0.557021</td>\n",
       "      <td>1.737002</td>\n",
       "      <td>1.252229</td>\n",
       "      <td>-0.951802</td>\n",
       "      <td>-0.371037</td>\n",
       "      <td>1.089028</td>\n",
       "      <td>-0.725405</td>\n",
       "      <td>0.462320</td>\n",
       "      <td>-0.055709</td>\n",
       "      <td>-1.743953</td>\n",
       "      <td>-1.186767</td>\n",
       "      <td>-0.337822</td>\n",
       "    </tr>\n",
       "    <tr>\n",
       "      <th>2</th>\n",
       "      <td>-0.762848</td>\n",
       "      <td>2.060740</td>\n",
       "      <td>0.993495</td>\n",
       "      <td>0.034455</td>\n",
       "      <td>0.306134</td>\n",
       "      <td>-0.463303</td>\n",
       "      <td>1.414749</td>\n",
       "      <td>0.301862</td>\n",
       "      <td>-0.497795</td>\n",
       "      <td>-1.165467</td>\n",
       "      <td>-0.075818</td>\n",
       "      <td>-0.477078</td>\n",
       "    </tr>\n",
       "    <tr>\n",
       "      <th>3</th>\n",
       "      <td>-0.992145</td>\n",
       "      <td>1.413263</td>\n",
       "      <td>1.234588</td>\n",
       "      <td>-0.848999</td>\n",
       "      <td>-0.292585</td>\n",
       "      <td>-0.463414</td>\n",
       "      <td>2.221431</td>\n",
       "      <td>0.579379</td>\n",
       "      <td>-0.354094</td>\n",
       "      <td>-1.740343</td>\n",
       "      <td>-1.464505</td>\n",
       "      <td>0.011495</td>\n",
       "    </tr>\n",
       "    <tr>\n",
       "      <th>4</th>\n",
       "      <td>-0.917620</td>\n",
       "      <td>1.921995</td>\n",
       "      <td>0.770044</td>\n",
       "      <td>0.732728</td>\n",
       "      <td>0.112066</td>\n",
       "      <td>-0.463434</td>\n",
       "      <td>-0.617236</td>\n",
       "      <td>0.346257</td>\n",
       "      <td>-0.081337</td>\n",
       "      <td>-0.655981</td>\n",
       "      <td>-0.909030</td>\n",
       "      <td>-0.478188</td>\n",
       "    </tr>\n",
       "  </tbody>\n",
       "</table>\n",
       "</div>"
      ],
      "text/plain": [
       "     length  popularity  danceability  acousticness    energy  \\\n",
       "0 -0.564068    2.245733      1.222827     -0.586916 -0.391683   \n",
       "1 -0.557021    1.737002      1.252229     -0.951802 -0.371037   \n",
       "2 -0.762848    2.060740      0.993495      0.034455  0.306134   \n",
       "3 -0.992145    1.413263      1.234588     -0.848999 -0.292585   \n",
       "4 -0.917620    1.921995      0.770044      0.732728  0.112066   \n",
       "\n",
       "   instrumentalness  liveness  loudness  speechiness   valence       key  \\\n",
       "0         -0.463130 -0.314730  0.344863    -0.442877 -1.490414 -0.909030   \n",
       "1          1.089028 -0.725405  0.462320    -0.055709 -1.743953 -1.186767   \n",
       "2         -0.463303  1.414749  0.301862    -0.497795 -1.165467 -0.075818   \n",
       "3         -0.463414  2.221431  0.579379    -0.354094 -1.740343 -1.464505   \n",
       "4         -0.463434 -0.617236  0.346257    -0.081337 -0.655981 -0.909030   \n",
       "\n",
       "      tempo  \n",
       "0 -0.199469  \n",
       "1 -0.337822  \n",
       "2 -0.477078  \n",
       "3  0.011495  \n",
       "4 -0.478188  "
      ]
     },
     "metadata": {},
     "output_type": "display_data"
    }
   ],
   "source": [
    "scaler = StandardScaler()\n",
    "scaler.fit(X)\n",
    "X_scaled = scaler.transform(X)\n",
    "X_scaled_df = pd.DataFrame(X_scaled, columns = X.columns)\n",
    "display(X.head())\n",
    "print()\n",
    "display(X_scaled_df.head())"
   ]
  },
  {
   "cell_type": "code",
   "execution_count": 10,
   "metadata": {
    "colab": {
     "base_uri": "https://localhost:8080/",
     "height": 319
    },
    "executionInfo": {
     "elapsed": 221,
     "status": "ok",
     "timestamp": 1623847821073,
     "user": {
      "displayName": "Ignacio Soteras",
      "photoUrl": "",
      "userId": "02050793736257155229"
     },
     "user_tz": -120
    },
    "id": "INQdugXS3zPO",
    "outputId": "cc49e206-ecd0-4804-c96f-86f159b6b9cf"
   },
   "outputs": [
    {
     "data": {
      "text/html": [
       "<div>\n",
       "<style scoped>\n",
       "    .dataframe tbody tr th:only-of-type {\n",
       "        vertical-align: middle;\n",
       "    }\n",
       "\n",
       "    .dataframe tbody tr th {\n",
       "        vertical-align: top;\n",
       "    }\n",
       "\n",
       "    .dataframe thead th {\n",
       "        text-align: right;\n",
       "    }\n",
       "</style>\n",
       "<table border=\"1\" class=\"dataframe\">\n",
       "  <thead>\n",
       "    <tr style=\"text-align: right;\">\n",
       "      <th></th>\n",
       "      <th>length</th>\n",
       "      <th>popularity</th>\n",
       "      <th>danceability</th>\n",
       "      <th>acousticness</th>\n",
       "      <th>energy</th>\n",
       "      <th>instrumentalness</th>\n",
       "      <th>liveness</th>\n",
       "      <th>loudness</th>\n",
       "      <th>speechiness</th>\n",
       "      <th>valence</th>\n",
       "      <th>key</th>\n",
       "      <th>tempo</th>\n",
       "    </tr>\n",
       "  </thead>\n",
       "  <tbody>\n",
       "    <tr>\n",
       "      <th>count</th>\n",
       "      <td>4.731400e+04</td>\n",
       "      <td>4.731400e+04</td>\n",
       "      <td>4.731400e+04</td>\n",
       "      <td>4.731400e+04</td>\n",
       "      <td>4.731400e+04</td>\n",
       "      <td>4.731400e+04</td>\n",
       "      <td>4.731400e+04</td>\n",
       "      <td>4.731400e+04</td>\n",
       "      <td>4.731400e+04</td>\n",
       "      <td>4.731400e+04</td>\n",
       "      <td>4.731400e+04</td>\n",
       "      <td>4.731400e+04</td>\n",
       "    </tr>\n",
       "    <tr>\n",
       "      <th>mean</th>\n",
       "      <td>1.032601e-16</td>\n",
       "      <td>-1.502577e-15</td>\n",
       "      <td>4.235679e-16</td>\n",
       "      <td>-1.354869e-16</td>\n",
       "      <td>-1.344920e-16</td>\n",
       "      <td>-1.345577e-16</td>\n",
       "      <td>1.815039e-15</td>\n",
       "      <td>2.633712e-17</td>\n",
       "      <td>-6.368166e-17</td>\n",
       "      <td>1.053320e-16</td>\n",
       "      <td>-1.751674e-16</td>\n",
       "      <td>4.079936e-16</td>\n",
       "    </tr>\n",
       "    <tr>\n",
       "      <th>std</th>\n",
       "      <td>1.000011e+00</td>\n",
       "      <td>1.000011e+00</td>\n",
       "      <td>1.000011e+00</td>\n",
       "      <td>1.000011e+00</td>\n",
       "      <td>1.000011e+00</td>\n",
       "      <td>1.000011e+00</td>\n",
       "      <td>1.000011e+00</td>\n",
       "      <td>1.000011e+00</td>\n",
       "      <td>1.000011e+00</td>\n",
       "      <td>1.000011e+00</td>\n",
       "      <td>1.000011e+00</td>\n",
       "      <td>1.000011e+00</td>\n",
       "    </tr>\n",
       "    <tr>\n",
       "      <th>min</th>\n",
       "      <td>-1.943744e+00</td>\n",
       "      <td>-1.685373e+00</td>\n",
       "      <td>-3.434372e+00</td>\n",
       "      <td>-9.683509e-01</td>\n",
       "      <td>-2.501648e+00</td>\n",
       "      <td>-4.634501e-01</td>\n",
       "      <td>-1.170302e+00</td>\n",
       "      <td>-7.272120e+00</td>\n",
       "      <td>-8.172322e-01</td>\n",
       "      <td>-1.935712e+00</td>\n",
       "      <td>-1.464505e+00</td>\n",
       "      <td>-4.151849e+00</td>\n",
       "    </tr>\n",
       "    <tr>\n",
       "      <th>25%</th>\n",
       "      <td>-4.226353e-01</td>\n",
       "      <td>-7.604071e-01</td>\n",
       "      <td>-6.529889e-01</td>\n",
       "      <td>-8.732997e-01</td>\n",
       "      <td>-6.765902e-01</td>\n",
       "      <td>-4.634501e-01</td>\n",
       "      <td>-5.872908e-01</td>\n",
       "      <td>-3.620684e-01</td>\n",
       "      <td>-4.977950e-01</td>\n",
       "      <td>-8.124372e-01</td>\n",
       "      <td>-9.090300e-01</td>\n",
       "      <td>-7.728485e-01</td>\n",
       "    </tr>\n",
       "    <tr>\n",
       "      <th>50%</th>\n",
       "      <td>-1.434549e-01</td>\n",
       "      <td>2.581417e-02</td>\n",
       "      <td>8.792906e-02</td>\n",
       "      <td>-4.177305e-01</td>\n",
       "      <td>1.616153e-01</td>\n",
       "      <td>-4.632770e-01</td>\n",
       "      <td>-4.125096e-01</td>\n",
       "      <td>2.615483e-01</td>\n",
       "      <td>-3.852140e-01</td>\n",
       "      <td>-2.213311e-02</td>\n",
       "      <td>-7.581805e-02</td>\n",
       "      <td>8.651864e-03</td>\n",
       "    </tr>\n",
       "    <tr>\n",
       "      <th>75%</th>\n",
       "      <td>2.297006e-01</td>\n",
       "      <td>7.657871e-01</td>\n",
       "      <td>7.406425e-01</td>\n",
       "      <td>7.880975e-01</td>\n",
       "      <td>8.098826e-01</td>\n",
       "      <td>-3.780284e-01</td>\n",
       "      <td>2.597260e-01</td>\n",
       "      <td>6.580153e-01</td>\n",
       "      <td>-8.113458e-03</td>\n",
       "      <td>7.922412e-01</td>\n",
       "      <td>7.573939e-01</td>\n",
       "      <td>5.822139e-01</td>\n",
       "    </tr>\n",
       "    <tr>\n",
       "      <th>max</th>\n",
       "      <td>3.690617e+01</td>\n",
       "      <td>2.939458e+00</td>\n",
       "      <td>2.340085e+00</td>\n",
       "      <td>2.095437e+00</td>\n",
       "      <td>1.627443e+00</td>\n",
       "      <td>3.081021e+00</td>\n",
       "      <td>4.940930e+00</td>\n",
       "      <td>1.949245e+00</td>\n",
       "      <td>8.033648e+00</td>\n",
       "      <td>2.055925e+00</td>\n",
       "      <td>1.590606e+00</td>\n",
       "      <td>3.480087e+00</td>\n",
       "    </tr>\n",
       "  </tbody>\n",
       "</table>\n",
       "</div>"
      ],
      "text/plain": [
       "             length    popularity  danceability  acousticness        energy  \\\n",
       "count  4.731400e+04  4.731400e+04  4.731400e+04  4.731400e+04  4.731400e+04   \n",
       "mean   1.032601e-16 -1.502577e-15  4.235679e-16 -1.354869e-16 -1.344920e-16   \n",
       "std    1.000011e+00  1.000011e+00  1.000011e+00  1.000011e+00  1.000011e+00   \n",
       "min   -1.943744e+00 -1.685373e+00 -3.434372e+00 -9.683509e-01 -2.501648e+00   \n",
       "25%   -4.226353e-01 -7.604071e-01 -6.529889e-01 -8.732997e-01 -6.765902e-01   \n",
       "50%   -1.434549e-01  2.581417e-02  8.792906e-02 -4.177305e-01  1.616153e-01   \n",
       "75%    2.297006e-01  7.657871e-01  7.406425e-01  7.880975e-01  8.098826e-01   \n",
       "max    3.690617e+01  2.939458e+00  2.340085e+00  2.095437e+00  1.627443e+00   \n",
       "\n",
       "       instrumentalness      liveness      loudness   speechiness  \\\n",
       "count      4.731400e+04  4.731400e+04  4.731400e+04  4.731400e+04   \n",
       "mean      -1.345577e-16  1.815039e-15  2.633712e-17 -6.368166e-17   \n",
       "std        1.000011e+00  1.000011e+00  1.000011e+00  1.000011e+00   \n",
       "min       -4.634501e-01 -1.170302e+00 -7.272120e+00 -8.172322e-01   \n",
       "25%       -4.634501e-01 -5.872908e-01 -3.620684e-01 -4.977950e-01   \n",
       "50%       -4.632770e-01 -4.125096e-01  2.615483e-01 -3.852140e-01   \n",
       "75%       -3.780284e-01  2.597260e-01  6.580153e-01 -8.113458e-03   \n",
       "max        3.081021e+00  4.940930e+00  1.949245e+00  8.033648e+00   \n",
       "\n",
       "            valence           key         tempo  \n",
       "count  4.731400e+04  4.731400e+04  4.731400e+04  \n",
       "mean   1.053320e-16 -1.751674e-16  4.079936e-16  \n",
       "std    1.000011e+00  1.000011e+00  1.000011e+00  \n",
       "min   -1.935712e+00 -1.464505e+00 -4.151849e+00  \n",
       "25%   -8.124372e-01 -9.090300e-01 -7.728485e-01  \n",
       "50%   -2.213311e-02 -7.581805e-02  8.651864e-03  \n",
       "75%    7.922412e-01  7.573939e-01  5.822139e-01  \n",
       "max    2.055925e+00  1.590606e+00  3.480087e+00  "
      ]
     },
     "execution_count": 10,
     "metadata": {},
     "output_type": "execute_result"
    }
   ],
   "source": [
    "X_scaled_df.describe()"
   ]
  },
  {
   "cell_type": "markdown",
   "metadata": {
    "id": "1XaQQHyJghB8"
   },
   "source": [
    "Now, all features will have the same weight."
   ]
  },
  {
   "cell_type": "markdown",
   "metadata": {
    "id": "W8zgKxQKhBUr"
   },
   "source": [
    "## Clustering the wines with K-Means"
   ]
  },
  {
   "cell_type": "markdown",
   "metadata": {
    "id": "onOxY0YJhSOv"
   },
   "source": [
    "We will pick manually the number of clusters we want - let's set it to 8. Later we will discuss how many clusters should we have.\n",
    "\n",
    "When randomness is involved (remember, **K-means picks randomly the initial centroids**), we better use a random seed so that we can reproduce our results. We can set this directly to the argument **random_state**."
   ]
  },
  {
   "cell_type": "code",
   "execution_count": 11,
   "metadata": {
    "colab": {
     "base_uri": "https://localhost:8080/"
    },
    "executionInfo": {
     "elapsed": 208,
     "status": "ok",
     "timestamp": 1623848315608,
     "user": {
      "displayName": "Ignacio Soteras",
      "photoUrl": "",
      "userId": "02050793736257155229"
     },
     "user_tz": -120
    },
    "id": "qS4o_tT1hGAG",
    "outputId": "eecc7527-b3df-4576-f931-881e198c2166"
   },
   "outputs": [
    {
     "data": {
      "text/plain": [
       "KMeans(random_state=1234)"
      ]
     },
     "execution_count": 11,
     "metadata": {},
     "output_type": "execute_result"
    }
   ],
   "source": [
    "kmeans = KMeans(n_clusters=8, random_state=1234)\n",
    "kmeans.fit(X_scaled_df)"
   ]
  },
  {
   "cell_type": "code",
   "execution_count": 12,
   "metadata": {},
   "outputs": [
    {
     "data": {
      "text/plain": [
       "array([5, 5, 5, ..., 1, 6, 6])"
      ]
     },
     "execution_count": 12,
     "metadata": {},
     "output_type": "execute_result"
    }
   ],
   "source": [
    "kmeans.labels_"
   ]
  },
  {
   "cell_type": "code",
   "execution_count": 13,
   "metadata": {},
   "outputs": [
    {
     "data": {
      "image/png": "[encoded data removed]",
      "text/plain": [
       "<Figure size 432x288 with 1 Axes>"
      ]
     },
     "metadata": {
      "needs_background": "light"
     },
     "output_type": "display_data"
    }
   ],
   "source": [
    "# assign a cluster to each example\n",
    "labels = kmeans.predict(X_scaled_df)\n",
    "# retrieve unique clusters\n",
    "clusters = np.unique(labels)\n",
    "# create scatter plot for samples from each cluster\n",
    "for cluster in clusters:\n",
    "    # get row indexes for samples with this cluster\n",
    "    row_ix = np.where(labels == cluster)\n",
    "    # create scatter of these samples\n",
    "    pyplot.scatter(X.to_numpy()[row_ix, 1], X.to_numpy()[row_ix, 2])\n",
    "    # show the plot\n",
    "pyplot.show()"
   ]
  },
  {
   "cell_type": "markdown",
   "metadata": {
    "id": "27Ab6CkAhoOT"
   },
   "source": [
    "Now we have our \"model\", let's get the clusters and how many observations has each cluster."
   ]
  },
  {
   "cell_type": "code",
   "execution_count": 14,
   "metadata": {
    "colab": {
     "base_uri": "https://localhost:8080/"
    },
    "executionInfo": {
     "elapsed": 280,
     "status": "ok",
     "timestamp": 1623848518689,
     "user": {
      "displayName": "Ignacio Soteras",
      "photoUrl": "",
      "userId": "02050793736257155229"
     },
     "user_tz": -120
    },
    "id": "jHfWQSmth9yR",
    "outputId": "d952adf3-9ced-4a61-dc93-14ed804a4fe1"
   },
   "outputs": [
    {
     "data": {
      "text/plain": [
       "0     2867\n",
       "1     6819\n",
       "2     8628\n",
       "3     2526\n",
       "4     2932\n",
       "5     9195\n",
       "6     3912\n",
       "7    10435\n",
       "dtype: int64"
      ]
     },
     "execution_count": 14,
     "metadata": {},
     "output_type": "execute_result"
    }
   ],
   "source": [
    "clusters = kmeans.predict(X_scaled_df)\n",
    "#clusters\n",
    "pd.Series(clusters).value_counts().sort_index()"
   ]
  },
  {
   "cell_type": "markdown",
   "metadata": {
    "id": "R7K3uJuPimcS"
   },
   "source": [
    "Now let's see to which group was assigned every wine."
   ]
  },
  {
   "cell_type": "code",
   "execution_count": 15,
   "metadata": {
    "colab": {
     "base_uri": "https://localhost:8080/",
     "height": 225
    },
    "executionInfo": {
     "elapsed": 234,
     "status": "ok",
     "timestamp": 1623848601645,
     "user": {
      "displayName": "Ignacio Soteras",
      "photoUrl": "",
      "userId": "02050793736257155229"
     },
     "user_tz": -120
    },
    "id": "RmWPL4DjiyIP",
    "outputId": "b1a15218-8112-4e6f-c87a-f6e4a972080d"
   },
   "outputs": [
    {
     "data": {
      "text/html": [
       "<div>\n",
       "<style scoped>\n",
       "    .dataframe tbody tr th:only-of-type {\n",
       "        vertical-align: middle;\n",
       "    }\n",
       "\n",
       "    .dataframe tbody tr th {\n",
       "        vertical-align: top;\n",
       "    }\n",
       "\n",
       "    .dataframe thead th {\n",
       "        text-align: right;\n",
       "    }\n",
       "</style>\n",
       "<table border=\"1\" class=\"dataframe\">\n",
       "  <thead>\n",
       "    <tr style=\"text-align: right;\">\n",
       "      <th></th>\n",
       "      <th>length</th>\n",
       "      <th>popularity</th>\n",
       "      <th>danceability</th>\n",
       "      <th>acousticness</th>\n",
       "      <th>energy</th>\n",
       "      <th>instrumentalness</th>\n",
       "      <th>liveness</th>\n",
       "      <th>loudness</th>\n",
       "      <th>speechiness</th>\n",
       "      <th>valence</th>\n",
       "      <th>key</th>\n",
       "      <th>tempo</th>\n",
       "      <th>cluster</th>\n",
       "    </tr>\n",
       "  </thead>\n",
       "  <tbody>\n",
       "    <tr>\n",
       "      <th>0</th>\n",
       "      <td>168489</td>\n",
       "      <td>85</td>\n",
       "      <td>0.792</td>\n",
       "      <td>0.124000</td>\n",
       "      <td>0.511</td>\n",
       "      <td>0.000090</td>\n",
       "      <td>0.1400</td>\n",
       "      <td>-6.876</td>\n",
       "      <td>0.0409</td>\n",
       "      <td>0.1110</td>\n",
       "      <td>2</td>\n",
       "      <td>113.983</td>\n",
       "      <td>5</td>\n",
       "    </tr>\n",
       "    <tr>\n",
       "      <th>1</th>\n",
       "      <td>169319</td>\n",
       "      <td>74</td>\n",
       "      <td>0.797</td>\n",
       "      <td>0.005380</td>\n",
       "      <td>0.516</td>\n",
       "      <td>0.438000</td>\n",
       "      <td>0.0728</td>\n",
       "      <td>-6.286</td>\n",
       "      <td>0.0832</td>\n",
       "      <td>0.0478</td>\n",
       "      <td>1</td>\n",
       "      <td>109.993</td>\n",
       "      <td>5</td>\n",
       "    </tr>\n",
       "    <tr>\n",
       "      <th>2</th>\n",
       "      <td>145078</td>\n",
       "      <td>81</td>\n",
       "      <td>0.753</td>\n",
       "      <td>0.326000</td>\n",
       "      <td>0.680</td>\n",
       "      <td>0.000041</td>\n",
       "      <td>0.4230</td>\n",
       "      <td>-7.092</td>\n",
       "      <td>0.0349</td>\n",
       "      <td>0.1920</td>\n",
       "      <td>5</td>\n",
       "      <td>105.977</td>\n",
       "      <td>5</td>\n",
       "    </tr>\n",
       "    <tr>\n",
       "      <th>3</th>\n",
       "      <td>118073</td>\n",
       "      <td>67</td>\n",
       "      <td>0.794</td>\n",
       "      <td>0.038800</td>\n",
       "      <td>0.535</td>\n",
       "      <td>0.000010</td>\n",
       "      <td>0.5550</td>\n",
       "      <td>-5.698</td>\n",
       "      <td>0.0506</td>\n",
       "      <td>0.0487</td>\n",
       "      <td>0</td>\n",
       "      <td>120.067</td>\n",
       "      <td>3</td>\n",
       "    </tr>\n",
       "    <tr>\n",
       "      <th>4</th>\n",
       "      <td>126850</td>\n",
       "      <td>78</td>\n",
       "      <td>0.715</td>\n",
       "      <td>0.553000</td>\n",
       "      <td>0.633</td>\n",
       "      <td>0.000004</td>\n",
       "      <td>0.0905</td>\n",
       "      <td>-6.869</td>\n",
       "      <td>0.0804</td>\n",
       "      <td>0.3190</td>\n",
       "      <td>2</td>\n",
       "      <td>105.945</td>\n",
       "      <td>5</td>\n",
       "    </tr>\n",
       "    <tr>\n",
       "      <th>...</th>\n",
       "      <td>...</td>\n",
       "      <td>...</td>\n",
       "      <td>...</td>\n",
       "      <td>...</td>\n",
       "      <td>...</td>\n",
       "      <td>...</td>\n",
       "      <td>...</td>\n",
       "      <td>...</td>\n",
       "      <td>...</td>\n",
       "      <td>...</td>\n",
       "      <td>...</td>\n",
       "      <td>...</td>\n",
       "      <td>...</td>\n",
       "    </tr>\n",
       "    <tr>\n",
       "      <th>47309</th>\n",
       "      <td>597013</td>\n",
       "      <td>6</td>\n",
       "      <td>0.369</td>\n",
       "      <td>0.505000</td>\n",
       "      <td>0.859</td>\n",
       "      <td>0.699000</td>\n",
       "      <td>0.3290</td>\n",
       "      <td>-8.210</td>\n",
       "      <td>0.2020</td>\n",
       "      <td>0.0362</td>\n",
       "      <td>7</td>\n",
       "      <td>125.811</td>\n",
       "      <td>6</td>\n",
       "    </tr>\n",
       "    <tr>\n",
       "      <th>47310</th>\n",
       "      <td>310226</td>\n",
       "      <td>38</td>\n",
       "      <td>0.505</td>\n",
       "      <td>0.000074</td>\n",
       "      <td>0.989</td>\n",
       "      <td>0.345000</td>\n",
       "      <td>0.6980</td>\n",
       "      <td>-6.861</td>\n",
       "      <td>0.0859</td>\n",
       "      <td>0.0536</td>\n",
       "      <td>3</td>\n",
       "      <td>90.038</td>\n",
       "      <td>3</td>\n",
       "    </tr>\n",
       "    <tr>\n",
       "      <th>47311</th>\n",
       "      <td>338000</td>\n",
       "      <td>28</td>\n",
       "      <td>0.447</td>\n",
       "      <td>0.000213</td>\n",
       "      <td>0.978</td>\n",
       "      <td>0.017800</td>\n",
       "      <td>0.3120</td>\n",
       "      <td>-6.984</td>\n",
       "      <td>0.0959</td>\n",
       "      <td>0.0455</td>\n",
       "      <td>10</td>\n",
       "      <td>90.111</td>\n",
       "      <td>1</td>\n",
       "    </tr>\n",
       "    <tr>\n",
       "      <th>47312</th>\n",
       "      <td>113903</td>\n",
       "      <td>43</td>\n",
       "      <td>0.375</td>\n",
       "      <td>0.006380</td>\n",
       "      <td>0.767</td>\n",
       "      <td>0.889000</td>\n",
       "      <td>0.1890</td>\n",
       "      <td>-9.303</td>\n",
       "      <td>0.0946</td>\n",
       "      <td>0.6160</td>\n",
       "      <td>7</td>\n",
       "      <td>157.725</td>\n",
       "      <td>6</td>\n",
       "    </tr>\n",
       "    <tr>\n",
       "      <th>47313</th>\n",
       "      <td>377640</td>\n",
       "      <td>0</td>\n",
       "      <td>0.528</td>\n",
       "      <td>0.065600</td>\n",
       "      <td>0.573</td>\n",
       "      <td>0.769000</td>\n",
       "      <td>0.1340</td>\n",
       "      <td>-13.574</td>\n",
       "      <td>0.0452</td>\n",
       "      <td>0.6910</td>\n",
       "      <td>4</td>\n",
       "      <td>124.711</td>\n",
       "      <td>6</td>\n",
       "    </tr>\n",
       "  </tbody>\n",
       "</table>\n",
       "<p>47314 rows × 13 columns</p>\n",
       "</div>"
      ],
      "text/plain": [
       "       length  popularity  danceability  acousticness  energy  \\\n",
       "0      168489          85         0.792      0.124000   0.511   \n",
       "1      169319          74         0.797      0.005380   0.516   \n",
       "2      145078          81         0.753      0.326000   0.680   \n",
       "3      118073          67         0.794      0.038800   0.535   \n",
       "4      126850          78         0.715      0.553000   0.633   \n",
       "...       ...         ...           ...           ...     ...   \n",
       "47309  597013           6         0.369      0.505000   0.859   \n",
       "47310  310226          38         0.505      0.000074   0.989   \n",
       "47311  338000          28         0.447      0.000213   0.978   \n",
       "47312  113903          43         0.375      0.006380   0.767   \n",
       "47313  377640           0         0.528      0.065600   0.573   \n",
       "\n",
       "       instrumentalness  liveness  loudness  speechiness  valence  key  \\\n",
       "0              0.000090    0.1400    -6.876       0.0409   0.1110    2   \n",
       "1              0.438000    0.0728    -6.286       0.0832   0.0478    1   \n",
       "2              0.000041    0.4230    -7.092       0.0349   0.1920    5   \n",
       "3              0.000010    0.5550    -5.698       0.0506   0.0487    0   \n",
       "4              0.000004    0.0905    -6.869       0.0804   0.3190    2   \n",
       "...                 ...       ...       ...          ...      ...  ...   \n",
       "47309          0.699000    0.3290    -8.210       0.2020   0.0362    7   \n",
       "47310          0.345000    0.6980    -6.861       0.0859   0.0536    3   \n",
       "47311          0.017800    0.3120    -6.984       0.0959   0.0455   10   \n",
       "47312          0.889000    0.1890    -9.303       0.0946   0.6160    7   \n",
       "47313          0.769000    0.1340   -13.574       0.0452   0.6910    4   \n",
       "\n",
       "         tempo  cluster  \n",
       "0      113.983        5  \n",
       "1      109.993        5  \n",
       "2      105.977        5  \n",
       "3      120.067        3  \n",
       "4      105.945        5  \n",
       "...        ...      ...  \n",
       "47309  125.811        6  \n",
       "47310   90.038        3  \n",
       "47311   90.111        1  \n",
       "47312  157.725        6  \n",
       "47313  124.711        6  \n",
       "\n",
       "[47314 rows x 13 columns]"
      ]
     },
     "execution_count": 15,
     "metadata": {},
     "output_type": "execute_result"
    }
   ],
   "source": [
    "#X_df = pd.DataFrame(X)\n",
    "X[\"cluster\"] = clusters\n",
    "X"
   ]
  },
  {
   "cell_type": "code",
   "execution_count": 16,
   "metadata": {
    "colab": {
     "base_uri": "https://localhost:8080/",
     "height": 101
    },
    "executionInfo": {
     "elapsed": 206,
     "status": "ok",
     "timestamp": 1623848706129,
     "user": {
      "displayName": "Ignacio Soteras",
      "photoUrl": "",
      "userId": "02050793736257155229"
     },
     "user_tz": -120
    },
    "id": "cTlD0Mrl68mp",
    "outputId": "7fab6ffe-65d9-4304-ede3-6c0e034ddca5"
   },
   "outputs": [
    {
     "data": {
      "text/html": [
       "<div>\n",
       "<style scoped>\n",
       "    .dataframe tbody tr th:only-of-type {\n",
       "        vertical-align: middle;\n",
       "    }\n",
       "\n",
       "    .dataframe tbody tr th {\n",
       "        vertical-align: top;\n",
       "    }\n",
       "\n",
       "    .dataframe thead th {\n",
       "        text-align: right;\n",
       "    }\n",
       "</style>\n",
       "<table border=\"1\" class=\"dataframe\">\n",
       "  <thead>\n",
       "    <tr style=\"text-align: right;\">\n",
       "      <th></th>\n",
       "      <th>length</th>\n",
       "      <th>popularity</th>\n",
       "      <th>danceability</th>\n",
       "      <th>acousticness</th>\n",
       "      <th>energy</th>\n",
       "      <th>instrumentalness</th>\n",
       "      <th>liveness</th>\n",
       "      <th>loudness</th>\n",
       "      <th>speechiness</th>\n",
       "      <th>valence</th>\n",
       "      <th>key</th>\n",
       "      <th>tempo</th>\n",
       "      <th>cluster</th>\n",
       "    </tr>\n",
       "  </thead>\n",
       "  <tbody>\n",
       "    <tr>\n",
       "      <th>19552</th>\n",
       "      <td>251080</td>\n",
       "      <td>18</td>\n",
       "      <td>0.566</td>\n",
       "      <td>0.511</td>\n",
       "      <td>0.419</td>\n",
       "      <td>0.00017</td>\n",
       "      <td>0.0875</td>\n",
       "      <td>-9.853</td>\n",
       "      <td>0.0262</td>\n",
       "      <td>0.181</td>\n",
       "      <td>0</td>\n",
       "      <td>101.823</td>\n",
       "      <td>2</td>\n",
       "    </tr>\n",
       "  </tbody>\n",
       "</table>\n",
       "</div>"
      ],
      "text/plain": [
       "       length  popularity  danceability  acousticness  energy  \\\n",
       "19552  251080          18         0.566         0.511   0.419   \n",
       "\n",
       "       instrumentalness  liveness  loudness  speechiness  valence  key  \\\n",
       "19552           0.00017    0.0875    -9.853       0.0262    0.181    0   \n",
       "\n",
       "         tempo  cluster  \n",
       "19552  101.823        2  "
      ]
     },
     "execution_count": 16,
     "metadata": {},
     "output_type": "execute_result"
    }
   ],
   "source": [
    "X[X['cluster'] == 2].sample()"
   ]
  },
  {
   "cell_type": "markdown",
   "metadata": {
    "id": "3NkfqPiJjb76"
   },
   "source": [
    "## Playing with the parameters"
   ]
  },
  {
   "cell_type": "markdown",
   "metadata": {
    "id": "O2KwLLpijvAw"
   },
   "source": [
    "**init**: those are the different initialization strategies. By default, sklearn is already using a 'smart' method, not the totally random one we saw.\n",
    "\n",
    "**n_init**: By default, Scikit-Learn has tried 10 different random initializations and kept the best model.\n",
    "\n",
    "[Scikitlearn Documentation](https://scikit-learn.org/stable/modules/generated/sklearn.cluster.KMeans.html)\n",
    "\n",
    "How does Scikit-Learn know which model is the best? It uses a performance metric called **inertia**. **It is the mean squared distance between each instance and its closest centroid**. It's stored in the inertia_ attribute of the model."
   ]
  },
  {
   "cell_type": "code",
   "execution_count": 17,
   "metadata": {
    "colab": {
     "base_uri": "https://localhost:8080/"
    },
    "executionInfo": {
     "elapsed": 228,
     "status": "ok",
     "timestamp": 1623848859464,
     "user": {
      "displayName": "Ignacio Soteras",
      "photoUrl": "",
      "userId": "02050793736257155229"
     },
     "user_tz": -120
    },
    "id": "IfB_M6fgkYrO",
    "outputId": "f7437ec0-2b22-4f65-ee9d-6e1efec6eda0"
   },
   "outputs": [
    {
     "data": {
      "text/plain": [
       "328042.92032093974"
      ]
     },
     "execution_count": 17,
     "metadata": {},
     "output_type": "execute_result"
    }
   ],
   "source": [
    "kmeans.inertia_"
   ]
  },
  {
   "cell_type": "markdown",
   "metadata": {
    "id": "FC1zC3e7kg-3"
   },
   "source": [
    "**max_iter**: It iterates up to 300 times by default (those are the re-computing centroids iterations we saw earlier)\n",
    "\n",
    "**tol**: This is a way to determine when to stop iterating (if the clusters have changed only veeeery slightly, we assume we have achieved 'convergence')\n",
    "\n",
    "**algorithm**: There are variations in the implementation of most algorithms and K-Means is no exception. By default, we're using a 'smart' implementation called elkan.\n",
    "\n",
    "For learning purposes, we will tweak the parameters to replicate the good ol' K-Means - a bit dumber than the Scikit-Learn, yes, but also the original."
   ]
  },
  {
   "cell_type": "code",
   "execution_count": 18,
   "metadata": {
    "colab": {
     "base_uri": "https://localhost:8080/"
    },
    "executionInfo": {
     "elapsed": 228,
     "status": "ok",
     "timestamp": 1623848956571,
     "user": {
      "displayName": "Ignacio Soteras",
      "photoUrl": "",
      "userId": "02050793736257155229"
     },
     "user_tz": -120
    },
    "id": "mTUnGONElwzm",
    "outputId": "e2be9ff2-7612-4b3e-d091-203cae32721c"
   },
   "outputs": [
    {
     "name": "stdout",
     "output_type": "stream",
     "text": [
      "196164.19473912515\n"
     ]
    }
   ],
   "source": [
    "kmeans2 = KMeans(n_clusters=50,\n",
    "                init=\"k-means++\",\n",
    "                n_init=50,  # try with 1, 4, 8, 20, 30, 100...\n",
    "                max_iter=10,\n",
    "                tol=0,\n",
    "                algorithm=\"elkan\",\n",
    "                random_state=1234)\n",
    "kmeans2.fit(X_scaled_df)\n",
    "print(kmeans2.inertia_)"
   ]
  },
  {
   "cell_type": "markdown",
   "metadata": {
    "id": "77b-H29dnlLP"
   },
   "source": [
    "## Chosing K"
   ]
  },
  {
   "cell_type": "markdown",
   "metadata": {
    "id": "L8_TbXg4no6m"
   },
   "source": [
    "We have used K=8 by default for now - but we know that 8 might not be the optimal number of clusters for our dataset. Having a metric like inertia, we can compute it for several K values and then use the \"elbow method\" to choose the best K.\n",
    "\n",
    "We will now leave all other parameters with their default value, since it seems to work pretty well."
   ]
  },
  {
   "cell_type": "code",
   "execution_count": 19,
   "metadata": {
    "colab": {
     "base_uri": "https://localhost:8080/",
     "height": 1000
    },
    "executionInfo": {
     "elapsed": 2117,
     "status": "ok",
     "timestamp": 1623849240010,
     "user": {
      "displayName": "Ignacio Soteras",
      "photoUrl": "",
      "userId": "02050793736257155229"
     },
     "user_tz": -120
    },
    "id": "g69gpyLSnqVS",
    "outputId": "5eff7e09-1033-499e-ca86-a5b49f356400"
   },
   "outputs": [
    {
     "name": "stdout",
     "output_type": "stream",
     "text": [
      "Training a K-Means model with 2 clusters! \n",
      "\n",
      "Training a K-Means model with 3 clusters! \n",
      "\n",
      "Training a K-Means model with 4 clusters! \n",
      "\n",
      "Training a K-Means model with 5 clusters! \n",
      "\n",
      "Training a K-Means model with 6 clusters! \n",
      "\n",
      "Training a K-Means model with 7 clusters! \n",
      "\n",
      "Training a K-Means model with 8 clusters! \n",
      "\n",
      "Training a K-Means model with 9 clusters! \n",
      "\n",
      "Training a K-Means model with 10 clusters! \n",
      "\n",
      "Training a K-Means model with 11 clusters! \n",
      "\n",
      "Training a K-Means model with 12 clusters! \n",
      "\n",
      "Training a K-Means model with 13 clusters! \n",
      "\n",
      "Training a K-Means model with 14 clusters! \n",
      "\n",
      "Training a K-Means model with 15 clusters! \n",
      "\n",
      "Training a K-Means model with 16 clusters! \n",
      "\n",
      "Training a K-Means model with 17 clusters! \n",
      "\n",
      "Training a K-Means model with 18 clusters! \n",
      "\n",
      "Training a K-Means model with 19 clusters! \n",
      "\n",
      "Training a K-Means model with 20 clusters! \n",
      "\n"
     ]
    },
    {
     "data": {
      "text/plain": [
       "Text(0.5, 1.0, 'Elbow Method showing the optimal k')"
      ]
     },
     "execution_count": 19,
     "metadata": {},
     "output_type": "execute_result"
    },
    {
     "data": {
      "image/png": "[encoded data removed]",
      "text/plain": [
       "<Figure size 1152x576 with 1 Axes>"
      ]
     },
     "metadata": {
      "needs_background": "light"
     },
     "output_type": "display_data"
    }
   ],
   "source": [
    "K = range(2, 21)\n",
    "inertia = []\n",
    "\n",
    "for k in K:\n",
    "    print(\"Training a K-Means model with {} clusters! \".format(k))\n",
    "    print()\n",
    "    kmeans = KMeans(n_clusters=k,\n",
    "                    random_state=1234)\n",
    "    kmeans.fit(X_scaled_df)\n",
    "    inertia.append(kmeans.inertia_)\n",
    "\n",
    "import numpy as np\n",
    "import matplotlib.pyplot as plt\n",
    "%matplotlib inline\n",
    "\n",
    "plt.figure(figsize=(16,8))\n",
    "plt.plot(K, inertia, 'bx-')\n",
    "plt.xlabel('k')\n",
    "plt.ylabel('inertia')\n",
    "plt.grid()\n",
    "plt.xticks(np.arange(min(K), max(K)+1, 1.0))\n",
    "plt.title('Elbow Method showing the optimal k')"
   ]
  },
  {
   "cell_type": "markdown",
   "metadata": {
    "id": "nSnuBHPro2xZ"
   },
   "source": [
    "There seems to be an elbow at **k=3**, and then a very slight one at k=10, but other than that the plot is quite smooth. What if our business needs involve having a k between 5 and 8?\n",
    "\n",
    "There is another metric that will help us decide."
   ]
  },
  {
   "cell_type": "markdown",
   "metadata": {
    "id": "shXQmFxLpVU8"
   },
   "source": [
    "## Silouhette"
   ]
  },
  {
   "cell_type": "markdown",
   "metadata": {
    "id": "7t-Ydk-5pYbf"
   },
   "source": [
    "There's a metric called **Silhouette Score** that also measures how similar is an observation is to its own cluster compared to other clusters. For the ith observation, the **Silhouette Score** is:\n",
    "\n",
    "$$s_{K,L} = (b - a) / max(a,b) $$\n",
    "\n",
    "Where:\n",
    "\n",
    "a = mean intra-cluster distance (the average distance between i and every other observation in the cluster where i belongs)\n",
    "\n",
    "$$ a = \\frac{1}{n_{K}}\\sum_{i,j\\neq{i}}^{n_{K}}d(i,j)$$\n",
    "\n",
    "b = mean **nearest-cluster** distance (the average distance between i and the observations of the nearest cluster that i is not part of it)\n",
    "\n",
    "$$ b = \\frac{1}{(n_{K}*n_{L})}\\sum_{i}^{n_{K}}\\sum_{j}^{n_{L}}d(i,j)$$\n",
    "\n",
    "The silhouette score for the whole model is the **average of all the silhouette scores** of each instance.\n",
    "\n",
    "$$ S = \\frac{2}{N(N-1)}\\sum_{c}s_{K,L}$$\n",
    "\n",
    "Because we divide the substraction of (b-a) by the max of the two distances (which will always be b unless the observation has been wrongly assigned to a cluster it should not belong), we obtain a \"normalized score\", that ranges from -1 to 1, and that makes it easier to interpret."
   ]
  },
  {
   "cell_type": "code",
   "execution_count": 20,
   "metadata": {
    "colab": {
     "base_uri": "https://localhost:8080/",
     "height": 530
    },
    "executionInfo": {
     "elapsed": 2352,
     "status": "ok",
     "timestamp": 1623849582213,
     "user": {
      "displayName": "Ignacio Soteras",
      "photoUrl": "",
      "userId": "02050793736257155229"
     },
     "user_tz": -120
    },
    "id": "c4qvvkaOvqjr",
    "outputId": "96b4dea1-2977-4916-c92c-d9090a6886aa"
   },
   "outputs": [
    {
     "name": "stdout",
     "output_type": "stream",
     "text": [
      "2\n",
      "3\n",
      "4\n",
      "5\n",
      "6\n",
      "7\n",
      "8\n",
      "9\n",
      "10\n",
      "11\n",
      "12\n",
      "13\n",
      "14\n",
      "15\n",
      "16\n",
      "17\n",
      "18\n",
      "19\n"
     ]
    },
    {
     "data": {
      "text/plain": [
       "Text(0.5, 1.0, 'Silhouette Method showing the optimal k')"
      ]
     },
     "execution_count": 20,
     "metadata": {},
     "output_type": "execute_result"
    },
    {
     "data": {
      "image/png": "[encoded data removed]",
      "text/plain": [
       "<Figure size 1152x576 with 1 Axes>"
      ]
     },
     "metadata": {
      "needs_background": "light"
     },
     "output_type": "display_data"
    }
   ],
   "source": [
    "import pickle\n",
    "\n",
    "K = range(2, 20)\n",
    "silhouette = []\n",
    "\n",
    "for k in K:\n",
    "    print(k)\n",
    "    kmeans = KMeans(n_clusters=k,\n",
    "                    random_state=1234)\n",
    "    kmeans.fit(X_scaled_df)\n",
    "    \n",
    "    filename = \"kmeans_\" + str(k) + \".pickle\"\n",
    "    with open(filename, \"wb\") as f:\n",
    "        pickle.dump(kmeans,f)\n",
    "    \n",
    "    silhouette.append(silhouette_score(X_scaled_df, kmeans.predict(X_scaled_df)))\n",
    "\n",
    "\n",
    "plt.figure(figsize=(16,8))\n",
    "plt.plot(K, silhouette, 'bx-')\n",
    "plt.xlabel('k')\n",
    "plt.ylabel('silhouette score')\n",
    "plt.xticks(np.arange(min(K), max(K)+1, 1.0))\n",
    "plt.title('Silhouette Method showing the optimal k')"
   ]
  },
  {
   "cell_type": "markdown",
   "metadata": {
    "id": "TmE9ES1EwPhL"
   },
   "source": [
    "The greater the Silouhette, the greater the separation between the clusters, In other words, the clusters will be more defined."
   ]
  },
  {
   "cell_type": "markdown",
   "metadata": {},
   "source": [
    "<b> advanced (optional)"
   ]
  },
  {
   "cell_type": "code",
   "execution_count": 19,
   "metadata": {},
   "outputs": [],
   "source": [
    "##conda install -c districtdatalabs yellowbrick"
   ]
  },
  {
   "cell_type": "code",
   "execution_count": 21,
   "metadata": {},
   "outputs": [
    {
     "data": {
      "image/png": "[encoded data removed]",
      "text/plain": [
       "<Figure size 576x396 with 1 Axes>"
      ]
     },
     "metadata": {},
     "output_type": "display_data"
    },
    {
     "data": {
      "text/plain": [
       "<AxesSubplot:title={'center':'Silhouette Plot of KMeans Clustering for 178 Samples in 3 Centers'}, xlabel='silhouette coefficient values', ylabel='cluster label'>"
      ]
     },
     "execution_count": 21,
     "metadata": {},
     "output_type": "execute_result"
    }
   ],
   "source": [
    "from yellowbrick.cluster import SilhouetteVisualizer\n",
    "model = KMeans(3, random_state=42)\n",
    "visualizer = SilhouetteVisualizer(model, colors='yellowbrick')\n",
    "visualizer.fit(X_scaled_df)        # Fit the data to the visualizer\n",
    "visualizer.show()        # Finalize and render the figure"
   ]
  },
  {
   "cell_type": "markdown",
   "metadata": {
    "id": "mvjmm52iw2xU"
   },
   "source": [
    "Here, we confirm that 3 is the best option, but we also notice that 5 a quite good - it meets the 'technical criteria' of having a better score than its predecessor (4), so if it falls within the range of our business demands - it looks like the best candidate."
   ]
  },
  {
   "cell_type": "markdown",
   "metadata": {
    "id": "rQ7S4T2TtKz1"
   },
   "source": [
    "# Saving with pickle"
   ]
  },
  {
   "cell_type": "code",
   "execution_count": 26,
   "metadata": {
    "executionInfo": {
     "elapsed": 432,
     "status": "ok",
     "timestamp": 1623850976766,
     "user": {
      "displayName": "Ignacio Soteras",
      "photoUrl": "",
      "userId": "02050793736257155229"
     },
     "user_tz": -120
    },
    "id": "w0DBvROTtNRZ"
   },
   "outputs": [
    {
     "ename": "FileNotFoundError",
     "evalue": "[Errno 2] No such file or directory: 'Model/scaler.pickle'",
     "output_type": "error",
     "traceback": [
      "\u001b[1;31m---------------------------------------------------------------------------\u001b[0m",
      "\u001b[1;31mFileNotFoundError\u001b[0m                         Traceback (most recent call last)",
      "\u001b[1;32m~\\AppData\\Local\\Temp/ipykernel_19128/3905708401.py\u001b[0m in \u001b[0;36m<module>\u001b[1;34m\u001b[0m\n\u001b[0;32m      4\u001b[0m \u001b[1;31m#model = KMeans()\u001b[0m\u001b[1;33m\u001b[0m\u001b[1;33m\u001b[0m\u001b[0m\n\u001b[0;32m      5\u001b[0m \u001b[1;33m\u001b[0m\u001b[0m\n\u001b[1;32m----> 6\u001b[1;33m \u001b[1;32mwith\u001b[0m \u001b[0mopen\u001b[0m\u001b[1;33m(\u001b[0m\u001b[1;34m\"Model/scaler.pickle\"\u001b[0m\u001b[1;33m,\u001b[0m \u001b[1;34m\"wb\"\u001b[0m\u001b[1;33m)\u001b[0m \u001b[1;32mas\u001b[0m \u001b[0mf\u001b[0m\u001b[1;33m:\u001b[0m\u001b[1;33m\u001b[0m\u001b[1;33m\u001b[0m\u001b[0m\n\u001b[0m\u001b[0;32m      7\u001b[0m     \u001b[0mpickle\u001b[0m\u001b[1;33m.\u001b[0m\u001b[0mdump\u001b[0m\u001b[1;33m(\u001b[0m\u001b[0mscaler\u001b[0m\u001b[1;33m,\u001b[0m\u001b[0mf\u001b[0m\u001b[1;33m)\u001b[0m\u001b[1;33m\u001b[0m\u001b[1;33m\u001b[0m\u001b[0m\n\u001b[0;32m      8\u001b[0m \u001b[1;33m\u001b[0m\u001b[0m\n",
      "\u001b[1;31mFileNotFoundError\u001b[0m: [Errno 2] No such file or directory: 'Model/scaler.pickle'"
     ]
    }
   ],
   "source": [
    "import pickle\n",
    "\n",
    "#scaler = StandardScaler()\n",
    "#model = KMeans()\n",
    "\n",
    "# with open(\"Model/scaler.pickle\", \"wb\") as f:\n",
    "#     pickle.dump(scaler,f)\n",
    "\n",
    "# with open(\"Model/kmeans_4.pickle\", \"wb\") as f:\n",
    "#     pickle.dump(kmeans,f)\n",
    "with open(\"scaler.pickle\", \"wb\") as f:\n",
    "    pickle.dump(scaler,f)\n",
    "\n",
    "with open(\"kmeans_4.pickle\", \"wb\") as f:\n",
    "    pickle.dump(kmeans,f)"
   ]
  },
  {
   "cell_type": "code",
   "execution_count": 22,
   "metadata": {
    "executionInfo": {
     "elapsed": 202,
     "status": "ok",
     "timestamp": 1623850160602,
     "user": {
      "displayName": "Ignacio Soteras",
      "photoUrl": "",
      "userId": "02050793736257155229"
     },
     "user_tz": -120
    },
    "id": "PLfjcUzbu1FF"
   },
   "outputs": [],
   "source": [
    "def load(filename = \"filename.pickle\"): \n",
    "    try: \n",
    "        with open(filename, \"rb\") as f: \n",
    "            return pickle.load(f) \n",
    "        \n",
    "    except FileNotFoundError: \n",
    "        print(\"File not found!\") \n"
   ]
  },
  {
   "cell_type": "code",
   "execution_count": 23,
   "metadata": {
    "colab": {
     "base_uri": "https://localhost:8080/"
    },
    "executionInfo": {
     "elapsed": 200,
     "status": "ok",
     "timestamp": 1623850190360,
     "user": {
      "displayName": "Ignacio Soteras",
      "photoUrl": "",
      "userId": "02050793736257155229"
     },
     "user_tz": -120
    },
    "id": "VqDGBIPVvBXG",
    "outputId": "cc0b5b59-d4f9-40ee-8c0b-d733de6570f0"
   },
   "outputs": [
    {
     "data": {
      "text/plain": [
       "StandardScaler()"
      ]
     },
     "execution_count": 23,
     "metadata": {},
     "output_type": "execute_result"
    }
   ],
   "source": [
    "scaler2 = load(\"Model/scaler.pickle\")"
   ]
  },
  {
   "cell_type": "code",
   "execution_count": 24,
   "metadata": {},
   "outputs": [],
   "source": [
    "# user input a song\n",
    "## get the audio features for the song from spotify \n",
    "## scale the audio features with scaler that you build the Kmean on \n",
    "## predict for the user song(audio features) in which cluster belong to (e.g belongs to 7 )\n",
    "## got the 100,000000 database and recommed a song that belong to the same cluster of the user input song "
   ]
  },
  {
   "cell_type": "markdown",
   "metadata": {
    "id": "O1PJsX3yxY6r"
   },
   "source": [
    "# Time to work!"
   ]
  },
  {
   "cell_type": "markdown",
   "metadata": {
    "id": "ieomYz1Bxa0n"
   },
   "source": [
    "Time to clusterize the songs in your database and see how they look like. "
   ]
  },
  {
   "cell_type": "code",
   "execution_count": null,
   "metadata": {},
   "outputs": [],
   "source": []
  }
 ],
 "metadata": {
  "colab": {
   "name": "code_along_KMeans_structure.ipynb",
   "provenance": []
  },
  "kernelspec": {
   "display_name": "Python 3 (ipykernel)",
   "language": "python",
   "name": "python3"
  },
  "language_info": {
   "codemirror_mode": {
    "name": "ipython",
    "version": 3
   },
   "file_extension": ".py",
   "mimetype": "text/x-python",
   "name": "python",
   "nbconvert_exporter": "python",
   "pygments_lexer": "ipython3",
   "version": "3.9.7"
  },
  "toc": {
   "base_numbering": 1,
   "nav_menu": {},
   "number_sections": false,
   "sideBar": true,
   "skip_h1_title": false,
   "title_cell": "Table of Contents",
   "title_sidebar": "Contents",
   "toc_cell": false,
   "toc_position": {
    "height": "calc(100% - 180px)",
    "left": "10px",
    "top": "150px",
    "width": "426.667px"
   },
   "toc_section_display": true,
   "toc_window_display": true
  },
  "varInspector": {
   "cols": {
    "lenName": 16,
    "lenType": 16,
    "lenVar": 40
   },
   "kernels_config": {
    "python": {
     "delete_cmd_postfix": "",
     "delete_cmd_prefix": "del ",
     "library": "var_list.py",
     "varRefreshCmd": "print(var_dic_list())"
    },
    "r": {
     "delete_cmd_postfix": ") ",
     "delete_cmd_prefix": "rm(",
     "library": "var_list.r",
     "varRefreshCmd": "cat(var_dic_list()) "
    }
   },
   "types_to_exclude": [
    "module",
    "function",
    "builtin_function_or_method",
    "instance",
    "_Feature"
   ],
   "window_display": false
  }
 },
 "nbformat": 4,
 "nbformat_minor": 1
}
