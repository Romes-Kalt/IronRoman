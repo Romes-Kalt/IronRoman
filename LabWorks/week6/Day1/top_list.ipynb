{
 "cells": [
  {
   "cell_type": "code",
   "execution_count": 1,
   "id": "4f34ec8c",
   "metadata": {},
   "outputs": [],
   "source": [
    "import bs4\n",
    "import requests\n",
    "import pandas as pd\n",
    "import random\n",
    "import os\n",
    "import datetime as dt\n",
    "import time"
   ]
  },
  {
   "cell_type": "code",
   "execution_count": 2,
   "id": "4740be9f",
   "metadata": {},
   "outputs": [],
   "source": [
    "def get_billboard_hot100(save_to_csv:[bool]=False, fp:[str]=None):\n",
    "    \"\"\"visit website, scrape the hot 100 songs and artists and return it as df\"\"\"\n",
    "    response = requests.get(url=\"https://www.billboard.com/charts/hot-100/index.php\")\n",
    "    response.raise_for_status()\n",
    "    website = response.text                             # read out the html code as text\n",
    "    soup = bs4.BeautifulSoup(website, \"html.parser\")    # make soup\n",
    "    li_items = soup.select(\"li.lrv-u-width-100p\")\n",
    "    \n",
    "    songs = []\n",
    "    artists = []\n",
    "    for _ in range(len(li_items)):\n",
    "        if _ % 2 == 0:\n",
    "            this_scraped = li_items[_].get_text().replace(\"\\n\",\"_\")\n",
    "            this_entry = []\n",
    "            for c in this_scraped.split(\"_\"):\n",
    "                if c != \"\" and len(c) > 1:\n",
    "                    this_entry.append(c)\n",
    "                    if len(this_entry) == 2:\n",
    "                        break\n",
    "            songs.append(this_entry[0])\n",
    "            artists.append(this_entry[1])\n",
    "    if save_to_csv:\n",
    "        if fp:\n",
    "            try:\n",
    "                pd.DataFrame({\"song\":songs, \"artist\":artists}).to_csv(fp, index=False, mode=\"w+\", sep=\";\")\n",
    "            except PermissionError:\n",
    "                print(\"File already exists.\")\n",
    "        else:\n",
    "            print(\"No filepath given.\")\n",
    "    return pd.DataFrame({\"song\":songs, \"artist\":artists})"
   ]
  },
  {
   "cell_type": "code",
   "execution_count": 3,
   "id": "5429008f",
   "metadata": {},
   "outputs": [],
   "source": [
    "def find_song_or_artists(user_entry:[str]=None, fp:[str]=None):\n",
    "    if not fp:\n",
    "        print(\"no filepath given.\")\n",
    "        return \n",
    "    try:\n",
    "        music_df = pd.read_csv(fp, sep=\";\")\n",
    "    except FileNotFoundError:\n",
    "        print( \"file not found\")\n",
    "        return\n",
    "    else:   \n",
    "        song_lst = music_df[\"song\"].tolist()\n",
    "        artist_lst = music_df[\"artist\"].tolist()\n",
    "        hit_lst = []    # entries will be tuple in form (direct match: 0 or 1, \"s\"ong or \"a\"rtist, index in df)\n",
    "        for song in range(len(song_lst)):\n",
    "            if user_entry.lower() == song_lst[song].lower():\n",
    "                hit_lst.append((1, \"s\", song))\n",
    "            elif user_entry.lower() in song_lst[song].lower():\n",
    "                hit_lst.append((0, \"s\", song))\n",
    "        for artist in range(len(artist_lst)):\n",
    "            if user_entry.lower() == artist_lst[artist].lower():\n",
    "                hit_lst.append((1, \"a\", artist))\n",
    "            elif user_entry.lower() in artist_lst[artist].lower():\n",
    "                hit_lst.append((0, \"a\", artist))\n",
    "        return (hit_lst)"
   ]
  },
  {
   "cell_type": "code",
   "execution_count": 4,
   "id": "212fc67e",
   "metadata": {},
   "outputs": [],
   "source": [
    "def print_result(result_tup:[tuple] = None, fp:[str]=None):\n",
    "    if not fp:\n",
    "        print(\"no filepath given.\")\n",
    "        return \n",
    "    try:\n",
    "        music_df = pd.read_csv(fp, sep=\";\")\n",
    "    except FileNotFoundError:\n",
    "        print(\"file not found\")\n",
    "        return\n",
    "    else:\n",
    "        this_artist = music_df.iloc[result_tup[2]][\"artist\"]\n",
    "        this_song = music_df.iloc[result_tup[2]][\"song\"]\n",
    "        print(f\"{this_song} by {this_artist} on place {result_tup[2]+1}\")"
   ]
  },
  {
   "cell_type": "code",
   "execution_count": 5,
   "id": "3ce352cf",
   "metadata": {},
   "outputs": [],
   "source": [
    "def return_random(this_rank:[int]=None, fp:[str]=None):\n",
    "    if not fp:\n",
    "        print(\"no filepath given.\")\n",
    "        return \n",
    "    if not this_rank:\n",
    "        print(\"no rank given\")\n",
    "        return\n",
    "    try:\n",
    "        music_df = pd.read_csv(fp, sep=\";\")\n",
    "    except FileNotFoundError:\n",
    "        print(\"file not found\")\n",
    "        return\n",
    "    else:\n",
    "        recom_index = random.randint(0,99)\n",
    "        while recom_index == this_rank:\n",
    "            recom_index = random.randint(0,99)\n",
    "        reco_artist = music_df.iloc[recom_index][\"artist\"]\n",
    "        reco_song = music_df.iloc[recom_index][\"song\"]\n",
    "        print(f\"Another entry from Billboard Hot 100 would be {reco_artist} with {reco_song} currently on place {recom_index +1}.\")"
   ]
  },
  {
   "cell_type": "code",
   "execution_count": 6,
   "id": "8fcb1be1",
   "metadata": {},
   "outputs": [],
   "source": [
    "def user_search():\n",
    "    while True:\n",
    "        user = input(\"What are you looking for? \")\n",
    "        if user == \"end_now\":\n",
    "            break\n",
    "        results = find_song_or_artists(user, \"../data/billboard_hot100.csv\")\n",
    "        if len(results) == 0:\n",
    "            print(\"No match found\")\n",
    "            continue\n",
    "        if len(results) == 1:\n",
    "            if results[0][0] == 1:\n",
    "                print(\"Direct Match:\")\n",
    "                print_result(results[0],fp=\"../data/billboard_hot100.csv\")\n",
    "                return_random(results[0][2], fp=\"../data/billboard_hot100.csv\")\n",
    "        else:\n",
    "            print(\"Partial Matches:\")\n",
    "            for i in range(len(results)):\n",
    "                print(f\" + {i+1}: \",end=\"\")\n",
    "                print_result(results[i],fp=\"../data/billboard_hot100.csv\")\n",
    "            specify = 241\n",
    "            while 0 > int(specify) or int(specify) > len(results)+1:\n",
    "                specify = input(f\"Please specify your entry (1 to {i+1}): \")\n",
    "                if specify.isnumeric() == False:\n",
    "                    print(\"please check entry.\")\n",
    "                    specify = len(results)+2\n",
    "                if 0 > int(specify) > len(results)+1:\n",
    "                    print(\"please check entry.\")\n",
    "                    specify = len(results)+2\n",
    "            print(\" - - -\\nMatch:\")\n",
    "            print_result(results[int(specify)-1],fp=\"../data/billboard_hot100.csv\")\n",
    "            return_random(results[int(specify)-1][2], fp=\"../data/billboard_hot100.csv\")\n",
    "        print(\"\\n ************** new request *************\\n\")"
   ]
  },
  {
   "cell_type": "code",
   "execution_count": 7,
   "id": "09cb76ec",
   "metadata": {},
   "outputs": [],
   "source": [
    "def check_last_update_hot100(fp:[str] = None):\n",
    "    current_tuesday = None\n",
    "    if dt.datetime.now().strftime('%A') != \"Tuesday\":\n",
    "        for d in range(1, 7):\n",
    "            if (dt.datetime.now() - dt.timedelta(d)).strftime(\"%A\") == \"Monday\":\n",
    "                current_tuesday = (dt.datetime.now() - dt.timedelta(d)).strftime(\"%Y_%m_%d\")\n",
    "    else:\n",
    "        current_tuesday = dt.datetime.now().strftime(\"%Y_%m_%d\")\n",
    "    mod_time_since_epoc = os.path.getmtime(fp)\n",
    "    # Convert seconds since epoch to readable timestamp\n",
    "    modification_time = time.strftime('%Y_%m_%d', time.localtime(mod_time_since_epoc))\n",
    "    if current_tuesday <= modification_time:\n",
    "        next_update = dt.datetime.strptime(modification_time, \"%Y_%m_%d\")+dt.timedelta(7)\n",
    "        print(f\"File is up to date (next update expected for {dt.datetime.strftime(next_update, '%d.%m.%Y')}).\")\n",
    "        return False"
   ]
  },
  {
   "cell_type": "code",
   "execution_count": 8,
   "id": "34c15604",
   "metadata": {},
   "outputs": [],
   "source": [
    "def update_billboard_hot100():\n",
    "    if not check_last_update_hot100(fp=\"../data/billboard_hot100.csv\"):\n",
    "        if input(\"Update anyway (Y/n): \") == \"Y\":\n",
    "            get_billboard_hot100(save_to_csv=True, fp=\"../data/billboard_hot100.csv\")\n",
    "    else:\n",
    "        get_billboard_hot100(save_to_csv=True, fp=\"../data/billboard_hot100.csv\")"
   ]
  },
  {
   "cell_type": "code",
   "execution_count": 9,
   "id": "fc119509",
   "metadata": {},
   "outputs": [
    {
     "name": "stdout",
     "output_type": "stream",
     "text": [
      "File is up to date (next update expected for 22.02.2022).\n",
      "Update anyway (Y/n): n\n"
     ]
    }
   ],
   "source": [
    "update_billboard_hot100()\n"
   ]
  },
  {
   "cell_type": "code",
   "execution_count": 10,
   "id": "b7da6d10",
   "metadata": {},
   "outputs": [
    {
     "name": "stdout",
     "output_type": "stream",
     "text": [
      "What are you looking for? STay\n",
      "Direct Match:\n",
      "Stay by The Kid LAROI & Justin Bieber on place 5\n",
      "Another entry from Billboard Hot 100 would be Lil Nas X with Thats What I Want currently on place 12.\n",
      "\n",
      " ************** new request *************\n",
      "\n",
      "What are you looking for? stay\n",
      "Direct Match:\n",
      "Stay by The Kid LAROI & Justin Bieber on place 5\n",
      "Another entry from Billboard Hot 100 would be Stephanie Beatriz with Waiting On A Miracle currently on place 53.\n",
      "\n",
      " ************** new request *************\n",
      "\n",
      "What are you looking for? sta\n",
      "Partial Matches:\n",
      " + 1: Stay by The Kid LAROI & Justin Bieber on place 5\n",
      " + 2: You Should Probably Leave by Chris Stapleton on place 30\n",
      " + 3: Megan's Piano by Megan Thee Stallion on place 99\n",
      "Please specify your entry (1 to 3): eminm\n",
      "please check entry.\n",
      "Please specify your entry (1 to 3): 1\n",
      " - - -\n",
      "Match:\n",
      "Stay by The Kid LAROI & Justin Bieber on place 5\n",
      "Another entry from Billboard Hot 100 would be Taylor Swift with All Too Well (Taylor's Version) currently on place 84.\n",
      "\n",
      " ************** new request *************\n",
      "\n",
      "What are you looking for? emnim\n",
      "No match found\n",
      "What are you looking for? adele\n",
      "Partial Matches:\n",
      " + 1: Easy On Me by Adele on place 3\n",
      " + 2: Oh My God by Adele on place 23\n",
      "Please specify your entry (1 to 2): 2\n",
      " - - -\n",
      "Match:\n",
      "Oh My God by Adele on place 23\n",
      "Another entry from Billboard Hot 100 would be Post Malone & The Weeknd with One Right Now currently on place 21.\n",
      "\n",
      " ************** new request *************\n",
      "\n",
      "What are you looking for? end_now\n"
     ]
    }
   ],
   "source": [
    "user_search()"
   ]
  },
  {
   "cell_type": "code",
   "execution_count": null,
   "id": "d162bd07",
   "metadata": {},
   "outputs": [],
   "source": []
  },
  {
   "cell_type": "code",
   "execution_count": null,
   "id": "7ec76fa7",
   "metadata": {},
   "outputs": [],
   "source": []
  },
  {
   "cell_type": "code",
   "execution_count": null,
   "id": "a49ce318",
   "metadata": {},
   "outputs": [],
   "source": []
  },
  {
   "cell_type": "code",
   "execution_count": null,
   "id": "e082bec3",
   "metadata": {},
   "outputs": [],
   "source": []
  },
  {
   "cell_type": "code",
   "execution_count": null,
   "id": "008bf81a",
   "metadata": {},
   "outputs": [],
   "source": []
  },
  {
   "cell_type": "code",
   "execution_count": null,
   "id": "f153ce33",
   "metadata": {},
   "outputs": [],
   "source": []
  },
  {
   "cell_type": "code",
   "execution_count": null,
   "id": "d52f8812",
   "metadata": {},
   "outputs": [],
   "source": []
  },
  {
   "cell_type": "code",
   "execution_count": null,
   "id": "40e72233",
   "metadata": {},
   "outputs": [],
   "source": []
  },
  {
   "cell_type": "code",
   "execution_count": null,
   "id": "755c9b20",
   "metadata": {},
   "outputs": [],
   "source": []
  },
  {
   "cell_type": "code",
   "execution_count": null,
   "id": "b8e7b187",
   "metadata": {},
   "outputs": [],
   "source": []
  },
  {
   "cell_type": "code",
   "execution_count": null,
   "id": "a95392cd",
   "metadata": {},
   "outputs": [],
   "source": []
  },
  {
   "cell_type": "code",
   "execution_count": null,
   "id": "14bc6b09",
   "metadata": {},
   "outputs": [],
   "source": []
  },
  {
   "cell_type": "code",
   "execution_count": null,
   "id": "9eb44b44",
   "metadata": {},
   "outputs": [],
   "source": []
  },
  {
   "cell_type": "code",
   "execution_count": null,
   "id": "2d1722e0",
   "metadata": {},
   "outputs": [],
   "source": []
  },
  {
   "cell_type": "code",
   "execution_count": null,
   "id": "083b9d68",
   "metadata": {},
   "outputs": [],
   "source": []
  },
  {
   "cell_type": "code",
   "execution_count": null,
   "id": "a66a6f4d",
   "metadata": {},
   "outputs": [],
   "source": []
  },
  {
   "cell_type": "code",
   "execution_count": null,
   "id": "f6b0c82c",
   "metadata": {},
   "outputs": [],
   "source": []
  },
  {
   "cell_type": "code",
   "execution_count": null,
   "id": "052ca262",
   "metadata": {},
   "outputs": [],
   "source": []
  },
  {
   "cell_type": "code",
   "execution_count": null,
   "id": "c018f812",
   "metadata": {},
   "outputs": [],
   "source": []
  },
  {
   "cell_type": "code",
   "execution_count": null,
   "id": "83696629",
   "metadata": {},
   "outputs": [],
   "source": []
  },
  {
   "cell_type": "code",
   "execution_count": null,
   "id": "99a982f6",
   "metadata": {},
   "outputs": [],
   "source": []
  },
  {
   "cell_type": "code",
   "execution_count": null,
   "id": "fc5d3ad3",
   "metadata": {},
   "outputs": [],
   "source": []
  },
  {
   "cell_type": "code",
   "execution_count": null,
   "id": "4443f44b",
   "metadata": {},
   "outputs": [],
   "source": []
  },
  {
   "cell_type": "code",
   "execution_count": null,
   "id": "551df2d9",
   "metadata": {},
   "outputs": [],
   "source": []
  },
  {
   "cell_type": "code",
   "execution_count": null,
   "id": "7e7e179d",
   "metadata": {},
   "outputs": [],
   "source": []
  },
  {
   "cell_type": "code",
   "execution_count": null,
   "id": "4b4f8b14",
   "metadata": {},
   "outputs": [],
   "source": []
  },
  {
   "cell_type": "code",
   "execution_count": null,
   "id": "e12a7917",
   "metadata": {},
   "outputs": [],
   "source": []
  },
  {
   "cell_type": "code",
   "execution_count": null,
   "id": "3cf56d26",
   "metadata": {},
   "outputs": [],
   "source": []
  },
  {
   "cell_type": "code",
   "execution_count": null,
   "id": "492e03ac",
   "metadata": {},
   "outputs": [],
   "source": []
  },
  {
   "cell_type": "code",
   "execution_count": null,
   "id": "ebf0a9eb",
   "metadata": {},
   "outputs": [],
   "source": []
  },
  {
   "cell_type": "code",
   "execution_count": null,
   "id": "22d1bcae",
   "metadata": {},
   "outputs": [],
   "source": []
  },
  {
   "cell_type": "code",
   "execution_count": null,
   "id": "c67f9684",
   "metadata": {},
   "outputs": [],
   "source": []
  },
  {
   "cell_type": "code",
   "execution_count": null,
   "id": "958f32e3",
   "metadata": {},
   "outputs": [],
   "source": []
  },
  {
   "cell_type": "code",
   "execution_count": null,
   "id": "76812465",
   "metadata": {},
   "outputs": [],
   "source": []
  },
  {
   "cell_type": "code",
   "execution_count": null,
   "id": "4cf21fe4",
   "metadata": {},
   "outputs": [],
   "source": []
  },
  {
   "cell_type": "code",
   "execution_count": null,
   "id": "49493139",
   "metadata": {},
   "outputs": [],
   "source": []
  },
  {
   "cell_type": "code",
   "execution_count": null,
   "id": "a7d61e41",
   "metadata": {},
   "outputs": [],
   "source": []
  },
  {
   "cell_type": "code",
   "execution_count": null,
   "id": "3825429b",
   "metadata": {},
   "outputs": [],
   "source": []
  },
  {
   "cell_type": "markdown",
   "id": "637d6665",
   "metadata": {},
   "source": [
    "# OLD STUFF, probaly trash"
   ]
  },
  {
   "cell_type": "code",
   "execution_count": 11,
   "id": "175358ad",
   "metadata": {},
   "outputs": [],
   "source": [
    "### Steps to get to the get_billboard_hot100 function ###"
   ]
  },
  {
   "cell_type": "code",
   "execution_count": 12,
   "id": "c19a781d",
   "metadata": {},
   "outputs": [],
   "source": [
    "# response = requests.get(url=\"https://www.billboard.com/charts/hot-100/index.php\")\n",
    "# response.raise_for_status()\n",
    "# website = response.text                             # read out the html code as text\n",
    "# soup = bs4.BeautifulSoup(website, \"html.parser\")    # make soup"
   ]
  },
  {
   "cell_type": "code",
   "execution_count": 13,
   "id": "2c067471",
   "metadata": {},
   "outputs": [],
   "source": [
    "# li_items = soup.find_all(\"li\", {\"class\": \"lrv-u-width-100p\"})\n",
    "# li_items = soup.select(\".lrv-u-width-100p\")\n",
    "# li_items = soup.select(\"li.lrv-u-width-100p\")\n",
    "# print(len(li_items))"
   ]
  },
  {
   "cell_type": "markdown",
   "id": "08335b2b",
   "metadata": {},
   "source": [
    "double the items as expected, on exploring found out, that the uneven index list entries are just a repetition of the numbers.<br>\n",
    "**→** on looping use only the even list entries."
   ]
  },
  {
   "cell_type": "markdown",
   "id": "45b204c0",
   "metadata": {},
   "source": [
    "explore one (even) entry (replace the excessive *\\n* with underscore:"
   ]
  },
  {
   "cell_type": "code",
   "execution_count": 14,
   "id": "1712edc1",
   "metadata": {},
   "outputs": [],
   "source": [
    "# x = li_items[6].get_text().replace(\"\\n\",\"_\")\n",
    "# x"
   ]
  },
  {
   "cell_type": "markdown",
   "id": "a1290378",
   "metadata": {},
   "source": [
    "the first non _ entry is the songname, the second the artist's name.<br>\n",
    "to create a df, make two lists for songs / artists, loop through the even "
   ]
  },
  {
   "cell_type": "code",
   "execution_count": 15,
   "id": "8b2d9837",
   "metadata": {},
   "outputs": [],
   "source": [
    "# songs = []\n",
    "# artists = []\n",
    "# for _ in range(len(li_items)):\n",
    "#     if _ % 2 == 0:\n",
    "#         this_scraped = li_items[_].get_text().replace(\"\\n\",\"_\")\n",
    "#         this_entry = []\n",
    "#         for c in this_scraped.split(\"_\"):\n",
    "#             if c != \"\" and len(c) > 1:\n",
    "#                 this_entry.append(c)\n",
    "#                 if len(this_entry) == 2:\n",
    "#                     break\n",
    "#         songs.append(this_entry[0])\n",
    "#         artists.append(this_entry[1])"
   ]
  },
  {
   "cell_type": "code",
   "execution_count": null,
   "id": "d222c665",
   "metadata": {},
   "outputs": [],
   "source": []
  },
  {
   "cell_type": "code",
   "execution_count": 16,
   "id": "7a74ef60",
   "metadata": {},
   "outputs": [],
   "source": [
    "# working for 99 entries:\n",
    "# ranks = []\n",
    "# songs = []\n",
    "# interprets = []\n",
    "# for _ in range(len(li_items)):\n",
    "#     if _ % 2 == 0:\n",
    "#         a = li_items[_].get_text()\n",
    "#         songs.append(a.strip(\"\\n\").split(\"\\n\")[0])\n",
    "#         interprets.append(a.strip(\"\\n\").split(\"\\n\")[3])\n",
    "#         ranks.append(int(_/2+1))"
   ]
  },
  {
   "cell_type": "code",
   "execution_count": 17,
   "id": "eb2c7614",
   "metadata": {},
   "outputs": [],
   "source": [
    "# top100 = pd.DataFrame({\"song\":songs,\n",
    "#                        \"artist\":artists\n",
    "#                       })\n",
    "# top100.head()"
   ]
  },
  {
   "cell_type": "code",
   "execution_count": 18,
   "id": "58b45ac8",
   "metadata": {},
   "outputs": [],
   "source": [
    "# top100.to_csv(\"../data/song_artists.csv\", index=False)"
   ]
  },
  {
   "cell_type": "code",
   "execution_count": 19,
   "id": "e3bddbd9",
   "metadata": {},
   "outputs": [],
   "source": [
    "# def search_csv(user_entry:[str]=None, fp:[str]=None, return_list:[bool] = False):\n",
    "#     if user_entry and len(user_entry) >= 3:\n",
    "#         search_results = []\n",
    "#         df = pd.read_csv(fp, sep=\";\")\n",
    "#         art_found = df[df[\"artist\"].str.lower().str.contains(user_entry).lower()]\n",
    "#         # song_found = df[df[\"song\"].contains(user_entry)]\n",
    "#         if len(art_found) > 0 or len(song_found) > 0:\n",
    "#             if len(art_found) > 0:\n",
    "#                 print(\"Found in artists:\")\n",
    "#                 print(art_found)\n",
    "#                 print(\"\\n - - - - - - -\\n\")\n",
    "#             if len(song_found) > 0:\n",
    "#                 print(\"Found in songs:\")\n",
    "#                 print(song_found)\n",
    "#         else:\n",
    "#             return \"no match\"\n",
    "#     elif user_entry and len(user_entry) < 3:\n",
    "#         print(\"search item should be at least 3 characters long\")\n",
    "#         if return_list:\n",
    "#             return None\n",
    "#     if return_list:\n",
    "#         return None\n",
    "\n",
    "# search_csv(\"Ade\", \"../data/song_artists.csv\")"
   ]
  },
  {
   "cell_type": "code",
   "execution_count": 20,
   "id": "720fb68c",
   "metadata": {},
   "outputs": [],
   "source": [
    "# def print_result_lst(results:[list] = None, fp:[str]=None):\n",
    "#     \"\"\"call function with direct=find_song_or_artists[0], results=find_song_or_artists[1], fp=your_filepath\"\"\"\n",
    "#     if not fp:\n",
    "#         print(\"no filepath given.\")\n",
    "#         return \n",
    "#     try:\n",
    "#         music_df = pd.read_csv(fp, sep=\";\")\n",
    "#     except FileNotFoundError:\n",
    "#         print( \"file not found\")\n",
    "#         return\n",
    "#     else:\n",
    "#         if results:\n",
    "#             music_df = pd.read_csv(fp, sep=\";\")\n",
    "#             for hit in results:\n",
    "#                 if hit[0] == 1:              # hit[0] == 1, direct match\n",
    "#                     if hit[1] == \"a\":\n",
    "#                         this_artist = music_df.iloc[hit[2]][\"artist\"]\n",
    "#                         this_song = music_df.iloc[hit[2]][\"song\"]\n",
    "#                         print(f\"Matching artist: {this_artist} with {this_song} on place {hit[2]+1}.\")\n",
    "#                     if hit[1] == \"s\":\n",
    "#                         this_artist = music_df.iloc[hit[2]][\"artist\"]\n",
    "#                         this_song = music_df.iloc[hit[2]][\"song\"]\n",
    "#                         print(f\"Matching song: {this_song} by {this_artist} on place {hit[2]+1}.\")\n",
    "#                     print(\"----------\")\n",
    "#                     recom_index = random.randint(0,99)\n",
    "#                     while recom_index == hit[2]:\n",
    "#                         recom_index = random.randint(0,99)\n",
    "#                     reco_artist = music_df.iloc[recom_index][\"artist\"]\n",
    "#                     reco_song = music_df.iloc[recom_index][\"song\"]\n",
    "#                     print(f\"Another entry from Billboard Hot 100 would be {reco_artist} with {reco_song} currently on place {recom_index +1}.\")\n",
    "#                 else:          # hit[0] == False (0), no direct match\n",
    "#                     if hit[1] == \"a\":\n",
    "#                         this_artist = music_df.iloc[hit[2]][\"artist\"]\n",
    "#                         this_song = music_df.iloc[hit[2]][\"song\"]\n",
    "#                         print(f\"Partial match in artists: {this_artist} with {this_song} on place {hit[2]+1}.\")\n",
    "#                     if hit[1] == \"s\":\n",
    "#                         this_artist = music_df.iloc[hit[2]][\"artist\"]\n",
    "#                         this_song = music_df.iloc[hit[2]][\"song\"]\n",
    "#                         print(f\"Partial match in songs: {this_song} by {this_artist} on place {hit[2]+1}.\")\n",
    "#                     print(\"----------\")\n",
    "#         else:\n",
    "#             print(\"no match.\")"
   ]
  }
 ],
 "metadata": {
  "kernelspec": {
   "display_name": "Python 3 (ipykernel)",
   "language": "python",
   "name": "python3"
  },
  "language_info": {
   "codemirror_mode": {
    "name": "ipython",
    "version": 3
   },
   "file_extension": ".py",
   "mimetype": "text/x-python",
   "name": "python",
   "nbconvert_exporter": "python",
   "pygments_lexer": "ipython3",
   "version": "3.9.7"
  },
  "toc": {
   "base_numbering": 1,
   "nav_menu": {},
   "number_sections": true,
   "sideBar": true,
   "skip_h1_title": false,
   "title_cell": "Table of Contents",
   "title_sidebar": "Contents",
   "toc_cell": false,
   "toc_position": {},
   "toc_section_display": true,
   "toc_window_display": false
  },
  "varInspector": {
   "cols": {
    "lenName": 16,
    "lenType": 16,
    "lenVar": 40
   },
   "kernels_config": {
    "python": {
     "delete_cmd_postfix": "",
     "delete_cmd_prefix": "del ",
     "library": "var_list.py",
     "varRefreshCmd": "print(var_dic_list())"
    },
    "r": {
     "delete_cmd_postfix": ") ",
     "delete_cmd_prefix": "rm(",
     "library": "var_list.r",
     "varRefreshCmd": "cat(var_dic_list()) "
    }
   },
   "types_to_exclude": [
    "module",
    "function",
    "builtin_function_or_method",
    "instance",
    "_Feature"
   ],
   "window_display": false
  }
 },
 "nbformat": 4,
 "nbformat_minor": 5
}
