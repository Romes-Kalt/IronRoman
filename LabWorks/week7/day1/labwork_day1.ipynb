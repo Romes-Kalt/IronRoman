{
 "cells": [
  {
   "cell_type": "code",
   "execution_count": 34,
   "id": "68c647d4",
   "metadata": {},
   "outputs": [],
   "source": [
    "import pandas as pd\n",
    "import numpy as np\n",
    "pd.set_option('display.max_columns', None)\n",
    "import warnings\n",
    "warnings.filterwarnings('ignore')\n",
    "import statsmodels.api as sm\n",
    "from scipy import stats\n",
    "from sklearn.model_selection import train_test_split\n",
    "from sklearn.linear_model import Lasso, Ridge, ElasticNet, LinearRegression\n",
    "from sklearn.feature_selection import RFE\n",
    "from sklearn.preprocessing import StandardScaler\n",
    "from sklearn.preprocessing import minmax_scale\n",
    "from sklearn.preprocessing import PowerTransformer\n",
    "from sklearn.preprocessing import QuantileTransformer"
   ]
  },
  {
   "cell_type": "code",
   "execution_count": 2,
   "id": "d09acb77",
   "metadata": {},
   "outputs": [],
   "source": [
    "numerics = ['int16', 'int32', 'int64', 'float16', 'float32', 'float64']"
   ]
  },
  {
   "cell_type": "markdown",
   "id": "24abe6d0",
   "metadata": {},
   "source": [
    "## Functions"
   ]
  },
  {
   "cell_type": "code",
   "execution_count": 3,
   "id": "0ed4878e",
   "metadata": {},
   "outputs": [],
   "source": [
    "def create_modeling_data(this_df:[pd.DataFrame], target:[str]=None, scaler_used=StandardScaler(), test_set_size=0.3):\n",
    "    if target not in this_df.columns:\n",
    "        print(f\"{target} not found in df provided.\")\n",
    "        return\n",
    "    X = df.drop(target, axis = 1)\n",
    "    y = df[target]\n",
    "    X = X.select_dtypes(include=numerics)\n",
    "    X_train, X_test, y_train, y_test = train_test_split(X, y, test_size=test_set_size,random_state=42)\n",
    "    scaler_used.fit(X_train)\n",
    "    X_train_scaled=scaler_used.transform(X_train)\n",
    "    X_test_scaled=scaler_used.transform(X_test)\n",
    "\n",
    "    return (X_train_scaled, X_test_scaled, y_train, y_test)"
   ]
  },
  {
   "cell_type": "code",
   "execution_count": 52,
   "id": "5e1de8b6",
   "metadata": {},
   "outputs": [],
   "source": [
    "def model_performance(data:[tuple] = None, model_lst:[list] = None):\n",
    "    if not model_lst:\n",
    "        print(\"No model list provided.\")\n",
    "        return\n",
    "    if not data:\n",
    "        print(\"No data provided.\")\n",
    "        return\n",
    "    train_scores = []\n",
    "    test_scores = []\n",
    "    X_train, X_test, y_train, y_test = data\n",
    "    for m in model_lst:\n",
    "        model=m\n",
    "        model.fit(X_train, y_train)\n",
    "        print(f\"{model.__class__.__name__}: Train -> {model.score(X_train, y_train)}, Test -> {model.score(X_test, y_test)}\")\n",
    "        train_scores.append(model.score(X_train, y_train))\n",
    "        test_scores.append(model.score(X_test, y_test))\n",
    "        \n",
    "    return pd.DataFrame(list(zip(model_lst,train_scores,test_scores)), columns =['model', 'training_score', 'test_score'])"
   ]
  },
  {
   "cell_type": "code",
   "execution_count": 40,
   "id": "56e72956",
   "metadata": {},
   "outputs": [],
   "source": [
    "def rec_feat_select(this_df = None, n_feat_select:[int] = 8):\n",
    "   \n",
    "\n",
    "    lm = LinearRegression()\n",
    "\n",
    "    selector = RFE(lm, n_features_to_select= 8, step = 1, verbose = 1) # Step is how many features to add or drop everytime\n",
    "    selector.fit(X_train, y_train)\n",
    "\n",
    "    kept_features = selector.get_support(indices = True) #returns an array of integers corresponding to nonremoved features\n",
    "    kept_features = list(X_train.iloc[:,kept_features].columns)\n",
    "\n",
    "    X_train = selector.transform(X_train)\n",
    "    X_test  = selector.transform(X_test)\n",
    "\n",
    "    X_train = pd.DataFrame(X_train, columns=kept_features)\n",
    "    X_test  = pd.DataFrame(X_test, columns=kept_features)\n",
    "\n",
    "    print(\"Final selected features: \")\n",
    "    display(X_train)\n"
   ]
  },
  {
   "cell_type": "code",
   "execution_count": 41,
   "id": "fb14dbc4",
   "metadata": {},
   "outputs": [],
   "source": [
    "# this_data = create_modeling_data(this_df=df, target=\"total_claim_amount\")"
   ]
  },
  {
   "cell_type": "code",
   "execution_count": 48,
   "id": "4997da6e",
   "metadata": {},
   "outputs": [
    {
     "data": {
      "text/plain": [
       "<function __main__.model_performance(data: [<class 'tuple'>] = None, model_lst: [<class 'list'>] = None)>"
      ]
     },
     "execution_count": 48,
     "metadata": {},
     "output_type": "execute_result"
    }
   ],
   "source": []
  },
  {
   "cell_type": "code",
   "execution_count": 25,
   "id": "78bcd918",
   "metadata": {},
   "outputs": [],
   "source": [
    "df = pd.read_csv(\"../data/cleaned_cust_data.csv\")"
   ]
  },
  {
   "cell_type": "code",
   "execution_count": 55,
   "id": "eb794d20",
   "metadata": {},
   "outputs": [
    {
     "name": "stdout",
     "output_type": "stream",
     "text": [
      "LinearRegression: Train -> 0.5208845836696385, Test -> 0.5189738717256576\n",
      "Lasso: Train -> 0.5207980591212458, Test -> 0.5192311459022065\n",
      "Ridge: Train -> 0.5208845731786435, Test -> 0.5189725104445987\n",
      "ElasticNet: Train -> 0.4620478080311433, Test -> 0.4565177782373415\n"
     ]
    }
   ],
   "source": [
    "x = model_performance(data=create_modeling_data(this_df=df, target=\"total_claim_amount\"),model_lst = [LinearRegression(),\n",
    "                                                                                                  Lasso(alpha=1),\n",
    "                                                                                                  Ridge(alpha=1),\n",
    "                                                                                                  ElasticNet(alpha=1)])"
   ]
  },
  {
   "cell_type": "code",
   "execution_count": 62,
   "id": "85e95e75",
   "metadata": {},
   "outputs": [
    {
     "name": "stdout",
     "output_type": "stream",
     "text": [
      "LinearRegression: Train -> 0.5208845836696385, Test -> 0.5189738717256576\n",
      "Lasso: Train -> 0.5208835190885917, Test -> 0.5190064228853604\n",
      "Ridge: Train -> 0.5208845835646956, Test -> 0.5189737365443109\n",
      "ElasticNet: Train -> 0.5195169309945639, Test -> 0.5171060288167005\n",
      "LinearRegression: Train -> 0.5208845836696385, Test -> 0.5189738717256576\n",
      "Lasso: Train -> 0.5208845836696385, Test -> 0.5189738717256576\n",
      "Ridge: Train -> 0.5208845836696385, Test -> 0.5189738717256576\n",
      "ElasticNet: Train -> 0.5208845836696385, Test -> 0.5189738717256576\n",
      "LinearRegression: Train -> 0.5208845836696385, Test -> 0.5189738717256576\n",
      "Lasso: Train -> 0.5208615913188281, Test -> 0.5191198631732168\n",
      "Ridge: Train -> 0.5208845810464295, Test -> 0.518973193714635\n",
      "ElasticNet: Train -> 0.49870499829737636, Test -> 0.4945463972393207\n",
      "LinearRegression: Train -> 0.5208845836696385, Test -> 0.5189738717256576\n",
      "Lasso: Train -> 0.5207980591212458, Test -> 0.5192311459022065\n",
      "Ridge: Train -> 0.5208845731786435, Test -> 0.5189725104445987\n",
      "ElasticNet: Train -> 0.4620478080311433, Test -> 0.4565177782373415\n",
      "LinearRegression: Train -> 0.5208845836696385, Test -> 0.5189738717256576\n",
      "Lasso: Train -> 0.5206974552141247, Test -> 0.5192984487106302\n",
      "Ridge: Train -> 0.520884560069041, Test -> 0.5189718219183952\n",
      "ElasticNet: Train -> 0.42575039146733284, Test -> 0.4194926472205095\n",
      "LinearRegression: Train -> 0.5208845836696385, Test -> 0.5189738717256576\n",
      "Lasso: Train -> 0.5205707795491066, Test -> 0.5193275208216996\n",
      "Ridge: Train -> 0.5208845417203816, Test -> 0.5189711281388694\n",
      "ElasticNet: Train -> 0.3928403437581769, Test -> 0.3862419287326916\n",
      "LinearRegression: Train -> 0.5208845836696385, Test -> 0.5189738717256576\n",
      "Lasso: Train -> 0.5204077316346319, Test -> 0.5193181989984501\n",
      "Ridge: Train -> 0.520884518135422, Test -> 0.5189704291088647\n",
      "ElasticNet: Train -> 0.3637079444071264, Test -> 0.3569965573407704\n",
      "LinearRegression: Train -> 0.5208845836696385, Test -> 0.5189738717256576\n",
      "Lasso: Train -> 0.520237813285072, Test -> 0.5192611789694102\n",
      "Ridge: Train -> 0.5208844893169187, Test -> 0.5189697248312226\n",
      "ElasticNet: Train -> 0.3380607756111298, Test -> 0.3313705482534236\n",
      "LinearRegression: Train -> 0.5208845836696385, Test -> 0.5189738717256576\n",
      "Lasso: Train -> 0.5201231848247383, Test -> 0.5191308158983643\n",
      "Ridge: Train -> 0.5208844552676255, Test -> 0.5189690153087827\n",
      "ElasticNet: Train -> 0.31546433476860747, Test -> 0.30886752629014547\n",
      "LinearRegression: Train -> 0.5208845836696385, Test -> 0.5189738717256576\n",
      "Lasso: Train -> 0.5199909212169168, Test -> 0.5189823480826794\n",
      "Ridge: Train -> 0.5208844159902952, Test -> 0.5189683005443833\n",
      "ElasticNet: Train -> 0.2954717079987441, Test -> 0.2890152345824315\n",
      "LinearRegression: Train -> 0.5208845836696385, Test -> 0.5189738717256576\n",
      "Lasso: Train -> 0.519841022461608, Test -> 0.5188157755223552\n",
      "Ridge: Train -> 0.5208843714876785, Test -> 0.518967580540861\n",
      "ElasticNet: Train -> 0.2776989423032211, Test -> 0.2714105919914437\n",
      "LinearRegression: Train -> 0.5208845836696385, Test -> 0.5189738717256576\n",
      "Lasso: Train -> 0.5197140082615748, Test -> 0.5186281839583741\n",
      "Ridge: Train -> 0.5208843217625252, Test -> 0.5189668553010505\n",
      "ElasticNet: Train -> 0.26182174651229084, Test -> 0.2557149580723378\n",
      "LinearRegression: Train -> 0.5208845836696385, Test -> 0.5189738717256576\n",
      "Lasso: Train -> 0.5195939680403515, Test -> 0.5184267941455023\n",
      "Ridge: Train -> 0.5208842668175828, Test -> 0.5189661248277846\n",
      "ElasticNet: Train -> 0.24756491152324234, Test -> 0.24164511606209327\n",
      "LinearRegression: Train -> 0.5208845836696385, Test -> 0.5189738717256576\n",
      "Lasso: Train -> 0.5194624954171061, Test -> 0.5182141041469011\n",
      "Ridge: Train -> 0.5208842066555975, Test -> 0.518965389123895\n",
      "ElasticNet: Train -> 0.23470196395113263, Test -> 0.22896934358011745\n",
      "LinearRegression: Train -> 0.5208845836696385, Test -> 0.5189738717256576\n",
      "Lasso: Train -> 0.5193195903918388, Test -> 0.5179901139625704\n",
      "Ridge: Train -> 0.5208841412793139, Test -> 0.5189646481922116\n",
      "ElasticNet: Train -> 0.22304432942502517, Test -> 0.2174958092352468\n",
      "LinearRegression: Train -> 0.5208845836696385, Test -> 0.5189738717256576\n",
      "Lasso: Train -> 0.5191652532904072, Test -> 0.5177548241825805\n",
      "Ridge: Train -> 0.5208840706914748, Test -> 0.518963902035562\n",
      "ElasticNet: Train -> 0.2124344834939652, Test -> 0.20706501137992905\n",
      "LinearRegression: Train -> 0.5208845836696385, Test -> 0.5189738717256576\n",
      "Lasso: Train -> 0.5189994834428671, Test -> 0.5175082335780253\n",
      "Ridge: Train -> 0.5208839948948217, Test -> 0.5189631506567727\n",
      "ElasticNet: Train -> 0.20274024856860373, Test -> 0.19754362514328527\n",
      "LinearRegression: Train -> 0.5208845836696385, Test -> 0.5189738717256576\n",
      "Lasso: Train -> 0.518822281187771, Test -> 0.5172503427819719\n",
      "Ridge: Train -> 0.5208839138920943, Test -> 0.5189623940586687\n",
      "ElasticNet: Train -> 0.1938501525527393, Test -> 0.18881957212915224\n",
      "LinearRegression: Train -> 0.5208845836696385, Test -> 0.5189738717256576\n",
      "Lasso: Train -> 0.5186336465251191, Test -> 0.51698115179442\n",
      "Ridge: Train -> 0.5208838276860308, Test -> 0.5189616322440727\n",
      "ElasticNet: Train -> 0.1856696878250641, Test -> 0.18079809124395385\n",
      "LinearRegression: Train -> 0.5208845836696385, Test -> 0.5189738717256576\n",
      "Lasso: Train -> 0.5184335794549112, Test -> 0.5167006606153697\n",
      "Ridge: Train -> 0.5208837362793675, Test -> 0.518960865215806\n",
      "ElasticNet: Train -> 0.1781183047007212, Test -> 0.17339860822318065\n",
      "LinearRegression: Train -> 0.5208845836696385, Test -> 0.5189738717256576\n",
      "Lasso: Train -> 0.5182220799771473, Test -> 0.516408869244821\n",
      "Ridge: Train -> 0.5208836396748395, Test -> 0.5189600929766883\n",
      "ElasticNet: Train -> 0.17112699337689996, Test -> 0.166552235207173\n"
     ]
    }
   ],
   "source": [
    "this_data = data=create_modeling_data(this_df=df, target=\"total_claim_amount\")\n",
    "results = model_performance(data=this_data,model_lst = [LinearRegression(),\n",
    "                                                      Lasso(alpha=0.1), Ridge(alpha=0.1), ElasticNet(alpha=0.1)])\n",
    "for _ in range(0,20):\n",
    "    x = model_performance(data=this_data,model_lst = [LinearRegression(),\n",
    "                                                      Lasso(alpha=_/2), Ridge(alpha=_/2), ElasticNet(alpha=_/2)])\n",
    "    results = pd.concat([results, x], axis=0)"
   ]
  },
  {
   "cell_type": "code",
   "execution_count": 8,
   "id": "5b5969f9",
   "metadata": {},
   "outputs": [],
   "source": [
    "df = pd.read_csv(\"../data/cleaned_cust_data.csv\")\n",
    "# df.head()"
   ]
  },
  {
   "cell_type": "code",
   "execution_count": 9,
   "id": "4a153c07",
   "metadata": {},
   "outputs": [],
   "source": [
    "# df.head()"
   ]
  },
  {
   "cell_type": "code",
   "execution_count": 69,
   "id": "af12815d",
   "metadata": {},
   "outputs": [
    {
     "ename": "TypeError",
     "evalue": "'<' not supported between instances of 'Lasso' and 'LinearRegression'",
     "output_type": "error",
     "traceback": [
      "\u001b[1;31m---------------------------------------------------------------------------\u001b[0m",
      "\u001b[1;31mTypeError\u001b[0m                                 Traceback (most recent call last)",
      "\u001b[1;32m~\\AppData\\Local\\Temp/ipykernel_17008/4230954319.py\u001b[0m in \u001b[0;36m<module>\u001b[1;34m\u001b[0m\n\u001b[1;32m----> 1\u001b[1;33m \u001b[0mresults\u001b[0m\u001b[1;33m.\u001b[0m\u001b[0mmodel\u001b[0m\u001b[1;33m.\u001b[0m\u001b[0msort_values\u001b[0m\u001b[1;33m(\u001b[0m\u001b[1;33m)\u001b[0m\u001b[1;33m\u001b[0m\u001b[1;33m\u001b[0m\u001b[0m\n\u001b[0m",
      "\u001b[1;32m~\\Python\\anaconda\\envs\\DA_Env\\lib\\site-packages\\pandas\\util\\_decorators.py\u001b[0m in \u001b[0;36mwrapper\u001b[1;34m(*args, **kwargs)\u001b[0m\n\u001b[0;32m    309\u001b[0m                     \u001b[0mstacklevel\u001b[0m\u001b[1;33m=\u001b[0m\u001b[0mstacklevel\u001b[0m\u001b[1;33m,\u001b[0m\u001b[1;33m\u001b[0m\u001b[1;33m\u001b[0m\u001b[0m\n\u001b[0;32m    310\u001b[0m                 )\n\u001b[1;32m--> 311\u001b[1;33m             \u001b[1;32mreturn\u001b[0m \u001b[0mfunc\u001b[0m\u001b[1;33m(\u001b[0m\u001b[1;33m*\u001b[0m\u001b[0margs\u001b[0m\u001b[1;33m,\u001b[0m \u001b[1;33m**\u001b[0m\u001b[0mkwargs\u001b[0m\u001b[1;33m)\u001b[0m\u001b[1;33m\u001b[0m\u001b[1;33m\u001b[0m\u001b[0m\n\u001b[0m\u001b[0;32m    312\u001b[0m \u001b[1;33m\u001b[0m\u001b[0m\n\u001b[0;32m    313\u001b[0m         \u001b[1;32mreturn\u001b[0m \u001b[0mwrapper\u001b[0m\u001b[1;33m\u001b[0m\u001b[1;33m\u001b[0m\u001b[0m\n",
      "\u001b[1;32m~\\Python\\anaconda\\envs\\DA_Env\\lib\\site-packages\\pandas\\core\\series.py\u001b[0m in \u001b[0;36msort_values\u001b[1;34m(self, axis, ascending, inplace, kind, na_position, ignore_index, key)\u001b[0m\n\u001b[0;32m   3453\u001b[0m         \u001b[1;31m# GH 35922. Make sorting stable by leveraging nargsort\u001b[0m\u001b[1;33m\u001b[0m\u001b[1;33m\u001b[0m\u001b[0m\n\u001b[0;32m   3454\u001b[0m         \u001b[0mvalues_to_sort\u001b[0m \u001b[1;33m=\u001b[0m \u001b[0mensure_key_mapped\u001b[0m\u001b[1;33m(\u001b[0m\u001b[0mself\u001b[0m\u001b[1;33m,\u001b[0m \u001b[0mkey\u001b[0m\u001b[1;33m)\u001b[0m\u001b[1;33m.\u001b[0m\u001b[0m_values\u001b[0m \u001b[1;32mif\u001b[0m \u001b[0mkey\u001b[0m \u001b[1;32melse\u001b[0m \u001b[0mself\u001b[0m\u001b[1;33m.\u001b[0m\u001b[0m_values\u001b[0m\u001b[1;33m\u001b[0m\u001b[1;33m\u001b[0m\u001b[0m\n\u001b[1;32m-> 3455\u001b[1;33m         \u001b[0msorted_index\u001b[0m \u001b[1;33m=\u001b[0m \u001b[0mnargsort\u001b[0m\u001b[1;33m(\u001b[0m\u001b[0mvalues_to_sort\u001b[0m\u001b[1;33m,\u001b[0m \u001b[0mkind\u001b[0m\u001b[1;33m,\u001b[0m \u001b[0mbool\u001b[0m\u001b[1;33m(\u001b[0m\u001b[0mascending\u001b[0m\u001b[1;33m)\u001b[0m\u001b[1;33m,\u001b[0m \u001b[0mna_position\u001b[0m\u001b[1;33m)\u001b[0m\u001b[1;33m\u001b[0m\u001b[1;33m\u001b[0m\u001b[0m\n\u001b[0m\u001b[0;32m   3456\u001b[0m \u001b[1;33m\u001b[0m\u001b[0m\n\u001b[0;32m   3457\u001b[0m         result = self._constructor(\n",
      "\u001b[1;32m~\\Python\\anaconda\\envs\\DA_Env\\lib\\site-packages\\pandas\\core\\sorting.py\u001b[0m in \u001b[0;36mnargsort\u001b[1;34m(items, kind, ascending, na_position, key, mask)\u001b[0m\n\u001b[0;32m    401\u001b[0m         \u001b[0mnon_nans\u001b[0m \u001b[1;33m=\u001b[0m \u001b[0mnon_nans\u001b[0m\u001b[1;33m[\u001b[0m\u001b[1;33m:\u001b[0m\u001b[1;33m:\u001b[0m\u001b[1;33m-\u001b[0m\u001b[1;36m1\u001b[0m\u001b[1;33m]\u001b[0m\u001b[1;33m\u001b[0m\u001b[1;33m\u001b[0m\u001b[0m\n\u001b[0;32m    402\u001b[0m         \u001b[0mnon_nan_idx\u001b[0m \u001b[1;33m=\u001b[0m \u001b[0mnon_nan_idx\u001b[0m\u001b[1;33m[\u001b[0m\u001b[1;33m:\u001b[0m\u001b[1;33m:\u001b[0m\u001b[1;33m-\u001b[0m\u001b[1;36m1\u001b[0m\u001b[1;33m]\u001b[0m\u001b[1;33m\u001b[0m\u001b[1;33m\u001b[0m\u001b[0m\n\u001b[1;32m--> 403\u001b[1;33m     \u001b[0mindexer\u001b[0m \u001b[1;33m=\u001b[0m \u001b[0mnon_nan_idx\u001b[0m\u001b[1;33m[\u001b[0m\u001b[0mnon_nans\u001b[0m\u001b[1;33m.\u001b[0m\u001b[0margsort\u001b[0m\u001b[1;33m(\u001b[0m\u001b[0mkind\u001b[0m\u001b[1;33m=\u001b[0m\u001b[0mkind\u001b[0m\u001b[1;33m)\u001b[0m\u001b[1;33m]\u001b[0m\u001b[1;33m\u001b[0m\u001b[1;33m\u001b[0m\u001b[0m\n\u001b[0m\u001b[0;32m    404\u001b[0m     \u001b[1;32mif\u001b[0m \u001b[1;32mnot\u001b[0m \u001b[0mascending\u001b[0m\u001b[1;33m:\u001b[0m\u001b[1;33m\u001b[0m\u001b[1;33m\u001b[0m\u001b[0m\n\u001b[0;32m    405\u001b[0m         \u001b[0mindexer\u001b[0m \u001b[1;33m=\u001b[0m \u001b[0mindexer\u001b[0m\u001b[1;33m[\u001b[0m\u001b[1;33m:\u001b[0m\u001b[1;33m:\u001b[0m\u001b[1;33m-\u001b[0m\u001b[1;36m1\u001b[0m\u001b[1;33m]\u001b[0m\u001b[1;33m\u001b[0m\u001b[1;33m\u001b[0m\u001b[0m\n",
      "\u001b[1;31mTypeError\u001b[0m: '<' not supported between instances of 'Lasso' and 'LinearRegression'"
     ]
    }
   ],
   "source": [
    "results.model.sort_values()"
   ]
  },
  {
   "cell_type": "code",
   "execution_count": 67,
   "id": "e4c70206",
   "metadata": {},
   "outputs": [
    {
     "data": {
      "text/html": [
       "<div>\n",
       "<style scoped>\n",
       "    .dataframe tbody tr th:only-of-type {\n",
       "        vertical-align: middle;\n",
       "    }\n",
       "\n",
       "    .dataframe tbody tr th {\n",
       "        vertical-align: top;\n",
       "    }\n",
       "\n",
       "    .dataframe thead th {\n",
       "        text-align: right;\n",
       "    }\n",
       "</style>\n",
       "<table border=\"1\" class=\"dataframe\">\n",
       "  <thead>\n",
       "    <tr style=\"text-align: right;\">\n",
       "      <th></th>\n",
       "      <th>model</th>\n",
       "      <th>training_score</th>\n",
       "      <th>test_score</th>\n",
       "    </tr>\n",
       "  </thead>\n",
       "  <tbody>\n",
       "  </tbody>\n",
       "</table>\n",
       "</div>"
      ],
      "text/plain": [
       "Empty DataFrame\n",
       "Columns: [model, training_score, test_score]\n",
       "Index: []"
      ]
     },
     "execution_count": 67,
     "metadata": {},
     "output_type": "execute_result"
    }
   ],
   "source": [
    "results[results.model == \"LinearRegression()\"]"
   ]
  },
  {
   "cell_type": "code",
   "execution_count": null,
   "id": "5816f02e",
   "metadata": {},
   "outputs": [],
   "source": []
  },
  {
   "cell_type": "code",
   "execution_count": null,
   "id": "8b73235e",
   "metadata": {},
   "outputs": [],
   "source": []
  },
  {
   "cell_type": "code",
   "execution_count": null,
   "id": "c6195324",
   "metadata": {},
   "outputs": [],
   "source": []
  },
  {
   "cell_type": "code",
   "execution_count": null,
   "id": "d0696b33",
   "metadata": {},
   "outputs": [],
   "source": []
  },
  {
   "cell_type": "code",
   "execution_count": null,
   "id": "b4d2e1c0",
   "metadata": {},
   "outputs": [],
   "source": []
  },
  {
   "cell_type": "code",
   "execution_count": null,
   "id": "04bf04e7",
   "metadata": {},
   "outputs": [],
   "source": []
  },
  {
   "cell_type": "code",
   "execution_count": null,
   "id": "a90fce7b",
   "metadata": {},
   "outputs": [],
   "source": []
  },
  {
   "cell_type": "code",
   "execution_count": null,
   "id": "4b1a00b8",
   "metadata": {},
   "outputs": [],
   "source": []
  },
  {
   "cell_type": "code",
   "execution_count": null,
   "id": "f4d1eee2",
   "metadata": {},
   "outputs": [],
   "source": []
  },
  {
   "cell_type": "code",
   "execution_count": null,
   "id": "2ba5a654",
   "metadata": {},
   "outputs": [],
   "source": []
  },
  {
   "cell_type": "code",
   "execution_count": null,
   "id": "648096b0",
   "metadata": {},
   "outputs": [],
   "source": []
  },
  {
   "cell_type": "code",
   "execution_count": null,
   "id": "897ae71e",
   "metadata": {},
   "outputs": [],
   "source": []
  },
  {
   "cell_type": "code",
   "execution_count": null,
   "id": "0c46696b",
   "metadata": {},
   "outputs": [],
   "source": []
  },
  {
   "cell_type": "code",
   "execution_count": null,
   "id": "647194a0",
   "metadata": {},
   "outputs": [],
   "source": []
  },
  {
   "cell_type": "code",
   "execution_count": null,
   "id": "e5081f5f",
   "metadata": {},
   "outputs": [],
   "source": []
  },
  {
   "cell_type": "code",
   "execution_count": null,
   "id": "3442fbb7",
   "metadata": {},
   "outputs": [],
   "source": []
  },
  {
   "cell_type": "code",
   "execution_count": 80,
   "id": "55a006d8",
   "metadata": {},
   "outputs": [],
   "source": [
    "X_added_constant = sm.add_constant(X)\n",
    "# X_added_constant"
   ]
  },
  {
   "cell_type": "code",
   "execution_count": 81,
   "id": "3c184e84",
   "metadata": {},
   "outputs": [],
   "source": [
    "X_train, X_test, y_train, y_test = train_test_split(X, y, test_size=0.30, random_state=42)\n",
    "\n",
    "X_train = X_train.select_dtypes(include=np.number)\n",
    "X_test  = X_test.select_dtypes(include=np.number)"
   ]
  },
  {
   "cell_type": "code",
   "execution_count": 82,
   "id": "fffbffdb",
   "metadata": {},
   "outputs": [],
   "source": [
    "# model = sm.OLS(y,X_added_constant).fit()\n",
    "# model.summary()"
   ]
  },
  {
   "cell_type": "code",
   "execution_count": 36,
   "id": "8a9969e6",
   "metadata": {},
   "outputs": [
    {
     "name": "stdout",
     "output_type": "stream",
     "text": [
      "LinearRegression: Train -> 0.5208845836696386, Test -> 0.5189738717256577\n"
     ]
    }
   ],
   "source": [
    "model=LinearRegression()\n",
    "\n",
    "model.fit(X_train, y_train)\n",
    "print(f\"{model.__class__.__name__}: Train -> {model.score(X_train, y_train)}, Test -> {model.score(X_test, y_test)}\")"
   ]
  },
  {
   "cell_type": "code",
   "execution_count": null,
   "id": "3ef4a114",
   "metadata": {},
   "outputs": [],
   "source": []
  },
  {
   "cell_type": "code",
   "execution_count": 37,
   "id": "4c2f9d83",
   "metadata": {},
   "outputs": [
    {
     "name": "stdout",
     "output_type": "stream",
     "text": [
      "Lasso: Train -> 0.5205035767216227, Test -> 0.5197714491401642\n"
     ]
    }
   ],
   "source": [
    "model=Lasso(alpha=0.1)\n",
    "\n",
    "model.fit(X_train, y_train)\n",
    "print(f\"{model.__class__.__name__}: Train -> {model.score(X_train, y_train)}, Test -> {model.score(X_test, y_test)}\")"
   ]
  },
  {
   "cell_type": "code",
   "execution_count": null,
   "id": "6d7ecca1",
   "metadata": {},
   "outputs": [],
   "source": []
  },
  {
   "cell_type": "code",
   "execution_count": 38,
   "id": "0774b4ce",
   "metadata": {},
   "outputs": [
    {
     "name": "stdout",
     "output_type": "stream",
     "text": [
      "Ridge: Train -> 0.5208845836696292, Test -> 0.5189738716178669\n"
     ]
    }
   ],
   "source": [
    "model=Ridge(alpha=0.1)\n",
    "model.fit(X_train, y_train)\n",
    "print(f\"{model.__class__.__name__}: Train -> {model.score(X_train, y_train)}, Test -> {model.score(X_test, y_test)}\")"
   ]
  },
  {
   "cell_type": "code",
   "execution_count": null,
   "id": "2c4a5ed4",
   "metadata": {},
   "outputs": [],
   "source": []
  },
  {
   "cell_type": "code",
   "execution_count": 39,
   "id": "b4d51fc5",
   "metadata": {},
   "outputs": [
    {
     "name": "stdout",
     "output_type": "stream",
     "text": [
      "ElasticNet: Train -> 0.5208841472497661, Test -> 0.5189726190526929\n"
     ]
    }
   ],
   "source": [
    "model=ElasticNet(alpha=0.1)\n",
    "model.fit(X_train, y_train)\n",
    "print(f\"{model.__class__.__name__}: Train -> {model.score(X_train, y_train)}, Test -> {model.score(X_test, y_test)}\")"
   ]
  },
  {
   "cell_type": "code",
   "execution_count": null,
   "id": "9dbb4cbe",
   "metadata": {},
   "outputs": [],
   "source": []
  }
 ],
 "metadata": {
  "kernelspec": {
   "display_name": "Python 3 (ipykernel)",
   "language": "python",
   "name": "python3"
  },
  "language_info": {
   "codemirror_mode": {
    "name": "ipython",
    "version": 3
   },
   "file_extension": ".py",
   "mimetype": "text/x-python",
   "name": "python",
   "nbconvert_exporter": "python",
   "pygments_lexer": "ipython3",
   "version": "3.9.7"
  },
  "toc": {
   "base_numbering": 1,
   "nav_menu": {},
   "number_sections": true,
   "sideBar": true,
   "skip_h1_title": false,
   "title_cell": "Table of Contents",
   "title_sidebar": "Contents",
   "toc_cell": false,
   "toc_position": {},
   "toc_section_display": true,
   "toc_window_display": false
  },
  "varInspector": {
   "cols": {
    "lenName": 16,
    "lenType": 16,
    "lenVar": 40
   },
   "kernels_config": {
    "python": {
     "delete_cmd_postfix": "",
     "delete_cmd_prefix": "del ",
     "library": "var_list.py",
     "varRefreshCmd": "print(var_dic_list())"
    },
    "r": {
     "delete_cmd_postfix": ") ",
     "delete_cmd_prefix": "rm(",
     "library": "var_list.r",
     "varRefreshCmd": "cat(var_dic_list()) "
    }
   },
   "types_to_exclude": [
    "module",
    "function",
    "builtin_function_or_method",
    "instance",
    "_Feature"
   ],
   "window_display": false
  }
 },
 "nbformat": 4,
 "nbformat_minor": 5
}
