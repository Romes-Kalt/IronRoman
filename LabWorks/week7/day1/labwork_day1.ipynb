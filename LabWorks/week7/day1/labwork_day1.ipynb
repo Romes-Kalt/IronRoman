{
 "cells": [
  {
   "cell_type": "code",
   "execution_count": 70,
   "id": "40a7ce35",
   "metadata": {},
   "outputs": [],
   "source": [
    "import pandas as pd\n",
    "import numpy as np\n",
    "pd.set_option('display.max_columns', None)\n",
    "import warnings\n",
    "warnings.filterwarnings('ignore')\n",
    "import statsmodels.api as sm\n",
    "from scipy import stats\n",
    "from sklearn.model_selection import train_test_split\n",
    "from sklearn.linear_model import Lasso, Ridge, ElasticNet, LinearRegression\n",
    "from sklearn.feature_selection import RFE\n",
    "from sklearn.preprocessing import StandardScaler\n",
    "from sklearn.preprocessing import minmax_scale\n",
    "from sklearn.preprocessing import PowerTransformer\n",
    "from sklearn.preprocessing import QuantileTransformer\n",
    "import matplotlib.pyplot as plt\n",
    "import seaborn as sns\n",
    "from sklearn.neighbors import KNeighborsRegressor\n",
    "from sklearn.metrics import mean_absolute_error, mean_squared_error, r2_score"
   ]
  },
  {
   "cell_type": "code",
   "execution_count": 29,
   "id": "eb4a9091",
   "metadata": {},
   "outputs": [],
   "source": [
    "numerics = ['int16', 'int32', 'int64', 'float16', 'float32', 'float64']"
   ]
  },
  {
   "cell_type": "markdown",
   "id": "5b524e7d",
   "metadata": {},
   "source": [
    "## Functions"
   ]
  },
  {
   "cell_type": "code",
   "execution_count": 30,
   "id": "b2b48df9",
   "metadata": {},
   "outputs": [],
   "source": [
    "def create_modeling_data(this_df:[pd.DataFrame], target:[str]=None, scaler_used=StandardScaler(), test_set_size=0.3):\n",
    "    if target not in this_df.columns:\n",
    "        print(f\"{target} not found in df provided.\")\n",
    "        return\n",
    "    X = df.drop(target, axis = 1)\n",
    "    y = df[target]\n",
    "    X = X.select_dtypes(include=numerics)\n",
    "    X_train, X_test, y_train, y_test = train_test_split(X, y, test_size=test_set_size,random_state=42)\n",
    "    scaler_used.fit(X_train)\n",
    "    X_train_scaled=scaler_used.transform(X_train)\n",
    "    X_test_scaled=scaler_used.transform(X_test)\n",
    "\n",
    "    return (X_train_scaled, X_test_scaled, y_train, y_test)"
   ]
  },
  {
   "cell_type": "code",
   "execution_count": 31,
   "id": "0c056361",
   "metadata": {},
   "outputs": [],
   "source": [
    "# def model_performance(data:[tuple] = None, model_lst:[list] = None):\n",
    "#     if not model_lst:\n",
    "#         print(\"No model list provided.\")\n",
    "#         return\n",
    "#     if not data:\n",
    "#         print(\"No data provided.\")\n",
    "#         return\n",
    "#     train_scores = []\n",
    "#     test_scores = []\n",
    "#     model_names = []\n",
    "#     alpha_val =[] \n",
    "#     X_train, X_test, y_train, y_test = data\n",
    "#     for m in model_lst:\n",
    "        \n",
    "#         model=m\n",
    "#         print(str(m))\n",
    "#         model.fit(X_train, y_train)\n",
    "#         # print(f\"{model.__class__.__name__}: Train -> {model.score(X_train, y_train)}, Test -> {model.score(X_test, y_test)}\")\n",
    "#         model_names.append(str(m).split(\"(\")[0])\n",
    "#         # if str(m).split(\"(\")[1][0] == \")\":\n",
    "#         if str(m) == \"LinearRegression()\":\n",
    "#             alpha_val.append(\"---\")\n",
    "#         else:\n",
    "#             if str(m).split(\"(\")[0][0] == \")\":\n",
    "#                 alpha_val.append(1)\n",
    "#             else:\n",
    "#                 alpha_val.append(str(m).split(\"(\")[1].split(\")\")[0].split(\"=\")[1])\n",
    "#         train_scores.append(model.score(X_train, y_train))\n",
    "#         test_scores.append(model.score(X_test, y_test))\n",
    "        \n",
    "#     return pd.DataFrame(list(zip(model_names,alpha_val,train_scores,test_scores)), columns =['model', 'alpha', 'training_score', 'test_score'])"
   ]
  },
  {
   "cell_type": "code",
   "execution_count": 43,
   "id": "0b2d85e9",
   "metadata": {},
   "outputs": [],
   "source": [
    "def split_column_names_by(this_df, include_dtypes:[list]=[\"int\",\"float\"]):\n",
    "    # __author__ = \"Roman Kaltschew\"\n",
    "    \"\"\"takes in this_df, splits this_df's columns into two lists of column name by dtype of columns (default [\"int\",\"float\"]) \n",
    "       and returns tuple (incl_lst, excl_lst)\"\"\"\n",
    "    incl_lst = [_ for _ in this_df.select_dtypes(include=include_dtypes).dtypes.index]\n",
    "    excl_lst = [_ for _ in this_df.select_dtypes(exclude=include_dtypes).dtypes.index]\n",
    "    return (incl_lst, excl_lst)"
   ]
  },
  {
   "cell_type": "code",
   "execution_count": 32,
   "id": "b30e1a78",
   "metadata": {},
   "outputs": [],
   "source": [
    "def rec_feat_select(this_df = None, n_feat_select:[int] = 8):\n",
    "   \n",
    "\n",
    "    lm = LinearRegression()\n",
    "\n",
    "    selector = RFE(lm, n_features_to_select= 8, step = 1, verbose = 1) # Step is how many features to add or drop everytime\n",
    "    selector.fit(X_train, y_train)\n",
    "\n",
    "    kept_features = selector.get_support(indices = True) #returns an array of integers corresponding to nonremoved features\n",
    "    kept_features = list(X_train.iloc[:,kept_features].columns)\n",
    "\n",
    "    X_train = selector.transform(X_train)\n",
    "    X_test  = selector.transform(X_test)\n",
    "\n",
    "    X_train = pd.DataFrame(X_train, columns=kept_features)\n",
    "    X_test  = pd.DataFrame(X_test, columns=kept_features)\n",
    "\n",
    "    print(\"Final selected features: \")\n",
    "    display(X_train)\n",
    "\n",
    "    #---\n",
    "    selector = RFE(LinearRegression(), step=1)\n",
    "    selector = selector.fit(X, y)\n",
    "\n",
    "    X_rfe = X[X.columns[selector.support_]]\n",
    "    X_rfe.shape"
   ]
  },
  {
   "cell_type": "code",
   "execution_count": 72,
   "id": "7a4b5d0b",
   "metadata": {},
   "outputs": [],
   "source": [
    "def nan_values_of_all_columns(this_df, return_dict:[bool] = False):\n",
    "    \"\"\"prints (defaults) or returns dictionary of all columns in this_df and their respective nan-values\"\"\"\n",
    "    if not return_dict:\n",
    "        for col in this_df.columns:\n",
    "            print(col, this_df[col].isna().sum())\n",
    "        return\n",
    "    return {col:this_df[col].isna().sum() for col in this_df.columns}"
   ]
  },
  {
   "cell_type": "code",
   "execution_count": 68,
   "id": "a1fae23f",
   "metadata": {},
   "outputs": [],
   "source": [
    "def model_performance(y_train, y_pred_train, y_test, y_pred_test):\n",
    "\n",
    "    ME_train = np.mean(np.exp(y_train)-np.exp(y_pred_train))\n",
    "    ME_test  = np.mean(np.exp(y_test)-np.exp(y_pred_test))\n",
    "\n",
    "    MAE_train = mean_absolute_error(np.exp(y_train),np.exp(y_pred_train))\n",
    "    MAE_test  = mean_absolute_error(np.exp(y_test),np.exp(y_pred_test))\n",
    "\n",
    "    MSE_train = mean_squared_error(np.exp(y_train),np.exp(y_pred_train))\n",
    "    MSE_test  = mean_squared_error(np.exp(y_test),np.exp(y_pred_test))\n",
    "\n",
    "    RMSE_train = np.sqrt(MSE_train)\n",
    "    RMSE_test  = np.sqrt(MSE_test)\n",
    "\n",
    "    MAPE_train = np.mean((np.abs(np.exp(y_train)-np.exp(y_pred_train)) / np.exp(y_train))* 100.)\n",
    "    MAPE_test  = np.mean((np.abs(np.exp(y_test)-np.exp(y_pred_test)) / np.exp(y_test))* 100.)\n",
    "\n",
    "    R2_train = r2_score(np.exp(y_train),np.exp(y_pred_train))\n",
    "    R2_test  = r2_score(np.exp(y_test),np.exp(y_pred_test))\n",
    "\n",
    "    performance = pd.DataFrame({'Error_metric': ['Mean error','Mean absolute error','Mean squared error',\n",
    "                                             'Root mean squared error','Mean absolute percentual error',\n",
    "                                             'R2'],\n",
    "                            'Train': [ME_train, MAE_train, MSE_train, RMSE_train, MAPE_train, R2_train],\n",
    "                            'Test' : [ME_test, MAE_test , MSE_test, RMSE_test, MAPE_test, R2_test]})\n",
    "\n",
    "    pd.options.display.float_format = '{:.2f}'.format\n",
    "\n",
    "    df_train = pd.DataFrame({'Real': np.exp(y_train), 'Predicted': np.exp(y_pred_train)})\n",
    "    df_test  = pd.DataFrame({'Real': np.exp(y_test),  'Predicted': np.exp(y_pred_test)})\n",
    "\n",
    "    return performance, df_train, df_test"
   ]
  },
  {
   "cell_type": "code",
   "execution_count": 33,
   "id": "f5f89afc",
   "metadata": {},
   "outputs": [],
   "source": [
    "# this_data = create_modeling_data(this_df=df, target=\"total_claim_amount\")"
   ]
  },
  {
   "cell_type": "code",
   "execution_count": null,
   "id": "2cb81fb7",
   "metadata": {},
   "outputs": [],
   "source": []
  },
  {
   "cell_type": "code",
   "execution_count": 34,
   "id": "5596bd68",
   "metadata": {},
   "outputs": [],
   "source": [
    "df = pd.read_csv(\"../data/cleaned_cust_data.csv\")"
   ]
  },
  {
   "cell_type": "code",
   "execution_count": 12,
   "id": "4d063a58",
   "metadata": {},
   "outputs": [],
   "source": [
    "x = model_performance(data=create_modeling_data(this_df=df, target=\"total_claim_amount\"),model_lst = [LinearRegression(),\n",
    "                                                                                                  Lasso(alpha=1),\n",
    "                                                                                                  Ridge(alpha=1),\n",
    "                                                                                                  ElasticNet(alpha=1)])"
   ]
  },
  {
   "cell_type": "code",
   "execution_count": 35,
   "id": "8ae94015",
   "metadata": {},
   "outputs": [
    {
     "name": "stdout",
     "output_type": "stream",
     "text": [
      "LinearRegression()\n",
      "Lasso(alpha=0.1)\n",
      "Ridge(alpha=0.1)\n",
      "ElasticNet(alpha=0.1)\n",
      "3 1.5\n",
      "LinearRegression()\n",
      "Lasso(alpha=1.5)\n",
      "Ridge(alpha=1.5)\n",
      "ElasticNet(alpha=1.5)\n",
      "4 2.0\n",
      "LinearRegression()\n",
      "Lasso(alpha=2.0)\n",
      "Ridge(alpha=2.0)\n",
      "ElasticNet(alpha=2.0)\n",
      "5 2.5\n",
      "LinearRegression()\n",
      "Lasso(alpha=2.5)\n",
      "Ridge(alpha=2.5)\n",
      "ElasticNet(alpha=2.5)\n",
      "6 3.0\n",
      "LinearRegression()\n",
      "Lasso(alpha=3.0)\n",
      "Ridge(alpha=3.0)\n",
      "ElasticNet(alpha=3.0)\n",
      "7 3.5\n",
      "LinearRegression()\n",
      "Lasso(alpha=3.5)\n",
      "Ridge(alpha=3.5)\n",
      "ElasticNet(alpha=3.5)\n",
      "8 4.0\n",
      "LinearRegression()\n",
      "Lasso(alpha=4.0)\n",
      "Ridge(alpha=4.0)\n",
      "ElasticNet(alpha=4.0)\n",
      "9 4.5\n",
      "LinearRegression()\n",
      "Lasso(alpha=4.5)\n",
      "Ridge(alpha=4.5)\n",
      "ElasticNet(alpha=4.5)\n",
      "10 5.0\n",
      "LinearRegression()\n",
      "Lasso(alpha=5.0)\n",
      "Ridge(alpha=5.0)\n",
      "ElasticNet(alpha=5.0)\n",
      "11 5.5\n",
      "LinearRegression()\n",
      "Lasso(alpha=5.5)\n",
      "Ridge(alpha=5.5)\n",
      "ElasticNet(alpha=5.5)\n",
      "12 6.0\n",
      "LinearRegression()\n",
      "Lasso(alpha=6.0)\n",
      "Ridge(alpha=6.0)\n",
      "ElasticNet(alpha=6.0)\n",
      "13 6.5\n",
      "LinearRegression()\n",
      "Lasso(alpha=6.5)\n",
      "Ridge(alpha=6.5)\n",
      "ElasticNet(alpha=6.5)\n",
      "14 7.0\n",
      "LinearRegression()\n",
      "Lasso(alpha=7.0)\n",
      "Ridge(alpha=7.0)\n",
      "ElasticNet(alpha=7.0)\n",
      "15 7.5\n",
      "LinearRegression()\n",
      "Lasso(alpha=7.5)\n",
      "Ridge(alpha=7.5)\n",
      "ElasticNet(alpha=7.5)\n",
      "16 8.0\n",
      "LinearRegression()\n",
      "Lasso(alpha=8.0)\n",
      "Ridge(alpha=8.0)\n",
      "ElasticNet(alpha=8.0)\n",
      "17 8.5\n",
      "LinearRegression()\n",
      "Lasso(alpha=8.5)\n",
      "Ridge(alpha=8.5)\n",
      "ElasticNet(alpha=8.5)\n",
      "18 9.0\n",
      "LinearRegression()\n",
      "Lasso(alpha=9.0)\n",
      "Ridge(alpha=9.0)\n",
      "ElasticNet(alpha=9.0)\n",
      "19 9.5\n",
      "LinearRegression()\n",
      "Lasso(alpha=9.5)\n",
      "Ridge(alpha=9.5)\n",
      "ElasticNet(alpha=9.5)\n"
     ]
    }
   ],
   "source": [
    "this_data = data=create_modeling_data(this_df=df, target=\"total_claim_amount\")\n",
    "results = model_performance(data=this_data,model_lst = [LinearRegression(),\n",
    "                                                      Lasso(alpha=0.1), Ridge(alpha=0.1), ElasticNet(alpha=0.1)])\n",
    "for _ in range(3,20):\n",
    "    x = model_performance(data=this_data,model_lst = [LinearRegression(),\n",
    "                                                      Lasso(alpha=_/2), Ridge(alpha=_/2), ElasticNet(alpha=_/2)])\n",
    "    results = pd.concat([results, x], axis=0)"
   ]
  },
  {
   "cell_type": "code",
   "execution_count": 36,
   "id": "a1110286",
   "metadata": {},
   "outputs": [],
   "source": [
    "df = pd.read_csv(\"../data/cleaned_cust_data.csv\")\n",
    "# df.head()"
   ]
  },
  {
   "cell_type": "code",
   "execution_count": 37,
   "id": "71565727",
   "metadata": {},
   "outputs": [
    {
     "data": {
      "text/html": [
       "<div>\n",
       "<style scoped>\n",
       "    .dataframe tbody tr th:only-of-type {\n",
       "        vertical-align: middle;\n",
       "    }\n",
       "\n",
       "    .dataframe tbody tr th {\n",
       "        vertical-align: top;\n",
       "    }\n",
       "\n",
       "    .dataframe thead th {\n",
       "        text-align: right;\n",
       "    }\n",
       "</style>\n",
       "<table border=\"1\" class=\"dataframe\">\n",
       "  <thead>\n",
       "    <tr style=\"text-align: right;\">\n",
       "      <th></th>\n",
       "      <th>model</th>\n",
       "      <th>alpha</th>\n",
       "      <th>training_score</th>\n",
       "      <th>test_score</th>\n",
       "    </tr>\n",
       "  </thead>\n",
       "  <tbody>\n",
       "    <tr>\n",
       "      <th>0</th>\n",
       "      <td>LinearRegression</td>\n",
       "      <td>---</td>\n",
       "      <td>0.520885</td>\n",
       "      <td>0.518974</td>\n",
       "    </tr>\n",
       "    <tr>\n",
       "      <th>1</th>\n",
       "      <td>Lasso</td>\n",
       "      <td>9.5</td>\n",
       "      <td>0.518222</td>\n",
       "      <td>0.516409</td>\n",
       "    </tr>\n",
       "    <tr>\n",
       "      <th>2</th>\n",
       "      <td>Ridge</td>\n",
       "      <td>9.5</td>\n",
       "      <td>0.520884</td>\n",
       "      <td>0.518960</td>\n",
       "    </tr>\n",
       "    <tr>\n",
       "      <th>3</th>\n",
       "      <td>ElasticNet</td>\n",
       "      <td>9.5</td>\n",
       "      <td>0.171127</td>\n",
       "      <td>0.166552</td>\n",
       "    </tr>\n",
       "  </tbody>\n",
       "</table>\n",
       "</div>"
      ],
      "text/plain": [
       "              model alpha  training_score  test_score\n",
       "0  LinearRegression   ---        0.520885    0.518974\n",
       "1             Lasso   9.5        0.518222    0.516409\n",
       "2             Ridge   9.5        0.520884    0.518960\n",
       "3        ElasticNet   9.5        0.171127    0.166552"
      ]
     },
     "execution_count": 37,
     "metadata": {},
     "output_type": "execute_result"
    }
   ],
   "source": [
    "x"
   ]
  },
  {
   "cell_type": "code",
   "execution_count": null,
   "id": "da6d38b2",
   "metadata": {},
   "outputs": [],
   "source": [
    "def rfe1():\n",
    "    X = data.drop('total_claim_amount', axis=1)\n",
    "    y = np.log(data.total_claim_amount)\n",
    "\n",
    "    X = X.select_dtypes(include=np.number)\n",
    "    X_added_constant = sm.add_constant(X)\n",
    "    ols_model = sm.OLS(y,X_added_constant).fit()\n",
    "\n",
    "    ## drop features with pval < 0.05\n",
    "    pv = ols_model.pvalues\n",
    "    X_pfiltered = X_added_constant[pv[pv < 0.05].index].drop('const', axis=1).reset_index(drop=True)\n",
    "    X_pfiltered.shape\n",
    "\n"
   ]
  },
  {
   "cell_type": "code",
   "execution_count": 38,
   "id": "45df0e07",
   "metadata": {},
   "outputs": [
    {
     "data": {
      "text/html": [
       "<div>\n",
       "<style scoped>\n",
       "    .dataframe tbody tr th:only-of-type {\n",
       "        vertical-align: middle;\n",
       "    }\n",
       "\n",
       "    .dataframe tbody tr th {\n",
       "        vertical-align: top;\n",
       "    }\n",
       "\n",
       "    .dataframe thead th {\n",
       "        text-align: right;\n",
       "    }\n",
       "</style>\n",
       "<table border=\"1\" class=\"dataframe\">\n",
       "  <thead>\n",
       "    <tr style=\"text-align: right;\">\n",
       "      <th></th>\n",
       "      <th>model</th>\n",
       "      <th>alpha</th>\n",
       "      <th>training_score</th>\n",
       "      <th>test_score</th>\n",
       "    </tr>\n",
       "  </thead>\n",
       "  <tbody>\n",
       "    <tr>\n",
       "      <th>0</th>\n",
       "      <td>LinearRegression</td>\n",
       "      <td>---</td>\n",
       "      <td>0.520885</td>\n",
       "      <td>0.518974</td>\n",
       "    </tr>\n",
       "    <tr>\n",
       "      <th>1</th>\n",
       "      <td>Lasso</td>\n",
       "      <td>0.1</td>\n",
       "      <td>0.520884</td>\n",
       "      <td>0.519006</td>\n",
       "    </tr>\n",
       "    <tr>\n",
       "      <th>2</th>\n",
       "      <td>Ridge</td>\n",
       "      <td>0.1</td>\n",
       "      <td>0.520885</td>\n",
       "      <td>0.518974</td>\n",
       "    </tr>\n",
       "    <tr>\n",
       "      <th>3</th>\n",
       "      <td>ElasticNet</td>\n",
       "      <td>0.1</td>\n",
       "      <td>0.519517</td>\n",
       "      <td>0.517106</td>\n",
       "    </tr>\n",
       "    <tr>\n",
       "      <th>0</th>\n",
       "      <td>LinearRegression</td>\n",
       "      <td>---</td>\n",
       "      <td>0.520885</td>\n",
       "      <td>0.518974</td>\n",
       "    </tr>\n",
       "    <tr>\n",
       "      <th>...</th>\n",
       "      <td>...</td>\n",
       "      <td>...</td>\n",
       "      <td>...</td>\n",
       "      <td>...</td>\n",
       "    </tr>\n",
       "    <tr>\n",
       "      <th>3</th>\n",
       "      <td>ElasticNet</td>\n",
       "      <td>9.0</td>\n",
       "      <td>0.178118</td>\n",
       "      <td>0.173399</td>\n",
       "    </tr>\n",
       "    <tr>\n",
       "      <th>0</th>\n",
       "      <td>LinearRegression</td>\n",
       "      <td>---</td>\n",
       "      <td>0.520885</td>\n",
       "      <td>0.518974</td>\n",
       "    </tr>\n",
       "    <tr>\n",
       "      <th>1</th>\n",
       "      <td>Lasso</td>\n",
       "      <td>9.5</td>\n",
       "      <td>0.518222</td>\n",
       "      <td>0.516409</td>\n",
       "    </tr>\n",
       "    <tr>\n",
       "      <th>2</th>\n",
       "      <td>Ridge</td>\n",
       "      <td>9.5</td>\n",
       "      <td>0.520884</td>\n",
       "      <td>0.518960</td>\n",
       "    </tr>\n",
       "    <tr>\n",
       "      <th>3</th>\n",
       "      <td>ElasticNet</td>\n",
       "      <td>9.5</td>\n",
       "      <td>0.171127</td>\n",
       "      <td>0.166552</td>\n",
       "    </tr>\n",
       "  </tbody>\n",
       "</table>\n",
       "<p>72 rows × 4 columns</p>\n",
       "</div>"
      ],
      "text/plain": [
       "               model alpha  training_score  test_score\n",
       "0   LinearRegression   ---        0.520885    0.518974\n",
       "1              Lasso   0.1        0.520884    0.519006\n",
       "2              Ridge   0.1        0.520885    0.518974\n",
       "3         ElasticNet   0.1        0.519517    0.517106\n",
       "0   LinearRegression   ---        0.520885    0.518974\n",
       "..               ...   ...             ...         ...\n",
       "3         ElasticNet   9.0        0.178118    0.173399\n",
       "0   LinearRegression   ---        0.520885    0.518974\n",
       "1              Lasso   9.5        0.518222    0.516409\n",
       "2              Ridge   9.5        0.520884    0.518960\n",
       "3         ElasticNet   9.5        0.171127    0.166552\n",
       "\n",
       "[72 rows x 4 columns]"
      ]
     },
     "execution_count": 38,
     "metadata": {},
     "output_type": "execute_result"
    }
   ],
   "source": [
    "results # [results.model == \"LinearRegression()\"]"
   ]
  },
  {
   "cell_type": "code",
   "execution_count": null,
   "id": "70ab41e6",
   "metadata": {},
   "outputs": [],
   "source": []
  },
  {
   "cell_type": "code",
   "execution_count": null,
   "id": "cdb76247",
   "metadata": {},
   "outputs": [],
   "source": []
  },
  {
   "cell_type": "code",
   "execution_count": null,
   "id": "75289a92",
   "metadata": {},
   "outputs": [],
   "source": []
  },
  {
   "cell_type": "markdown",
   "id": "73c2a883",
   "metadata": {},
   "source": [
    "## KNN"
   ]
  },
  {
   "cell_type": "code",
   "execution_count": 54,
   "id": "b0221c73",
   "metadata": {},
   "outputs": [],
   "source": [
    "df = pd.read_csv(\"../data/cleaned_cust_data.csv\")\n",
    "# df.head()"
   ]
  },
  {
   "cell_type": "code",
   "execution_count": null,
   "id": "3d899aad",
   "metadata": {},
   "outputs": [],
   "source": []
  },
  {
   "cell_type": "code",
   "execution_count": null,
   "id": "59456b63",
   "metadata": {},
   "outputs": [],
   "source": []
  },
  {
   "cell_type": "code",
   "execution_count": 55,
   "id": "73ab3939",
   "metadata": {},
   "outputs": [],
   "source": [
    "df_num = df[split_column_names_by(df)[0]]\n",
    "df_cat = df[split_column_names_by(df)[1]]"
   ]
  },
  {
   "cell_type": "code",
   "execution_count": 56,
   "id": "f3800706",
   "metadata": {},
   "outputs": [],
   "source": [
    "cat_cols=pd.get_dummies(df_cat, drop_first=True)"
   ]
  },
  {
   "cell_type": "code",
   "execution_count": 59,
   "id": "65d001f9",
   "metadata": {},
   "outputs": [],
   "source": [
    "X=df_num.drop(\"total_claim_amount\", axis=1)\n",
    "y=df_num[\"total_claim_amount\"]"
   ]
  },
  {
   "cell_type": "code",
   "execution_count": 60,
   "id": "791f5804",
   "metadata": {},
   "outputs": [],
   "source": [
    "# X = pd.concat([X,cat_cols],axis=1)"
   ]
  },
  {
   "cell_type": "code",
   "execution_count": 61,
   "id": "392765f8",
   "metadata": {},
   "outputs": [
    {
     "data": {
      "text/html": [
       "<div>\n",
       "<style scoped>\n",
       "    .dataframe tbody tr th:only-of-type {\n",
       "        vertical-align: middle;\n",
       "    }\n",
       "\n",
       "    .dataframe tbody tr th {\n",
       "        vertical-align: top;\n",
       "    }\n",
       "\n",
       "    .dataframe thead th {\n",
       "        text-align: right;\n",
       "    }\n",
       "</style>\n",
       "<table border=\"1\" class=\"dataframe\">\n",
       "  <thead>\n",
       "    <tr style=\"text-align: right;\">\n",
       "      <th></th>\n",
       "      <th>customer_lifetime_value</th>\n",
       "      <th>income</th>\n",
       "      <th>monthly_premium_auto</th>\n",
       "      <th>months_since_last_claim</th>\n",
       "      <th>months_since_policy_inception</th>\n",
       "      <th>number_of_open_complaints</th>\n",
       "      <th>number_of_policies</th>\n",
       "      <th>month</th>\n",
       "    </tr>\n",
       "  </thead>\n",
       "  <tbody>\n",
       "    <tr>\n",
       "      <th>0</th>\n",
       "      <td>4809</td>\n",
       "      <td>48029</td>\n",
       "      <td>61</td>\n",
       "      <td>7</td>\n",
       "      <td>52</td>\n",
       "      <td>0.0</td>\n",
       "      <td>9</td>\n",
       "      <td>2</td>\n",
       "    </tr>\n",
       "    <tr>\n",
       "      <th>1</th>\n",
       "      <td>2228</td>\n",
       "      <td>0</td>\n",
       "      <td>64</td>\n",
       "      <td>3</td>\n",
       "      <td>26</td>\n",
       "      <td>0.0</td>\n",
       "      <td>1</td>\n",
       "      <td>1</td>\n",
       "    </tr>\n",
       "    <tr>\n",
       "      <th>2</th>\n",
       "      <td>14947</td>\n",
       "      <td>22139</td>\n",
       "      <td>100</td>\n",
       "      <td>34</td>\n",
       "      <td>31</td>\n",
       "      <td>0.0</td>\n",
       "      <td>2</td>\n",
       "      <td>2</td>\n",
       "    </tr>\n",
       "    <tr>\n",
       "      <th>3</th>\n",
       "      <td>22332</td>\n",
       "      <td>49078</td>\n",
       "      <td>97</td>\n",
       "      <td>10</td>\n",
       "      <td>3</td>\n",
       "      <td>0.0</td>\n",
       "      <td>2</td>\n",
       "      <td>1</td>\n",
       "    </tr>\n",
       "    <tr>\n",
       "      <th>4</th>\n",
       "      <td>9025</td>\n",
       "      <td>23675</td>\n",
       "      <td>117</td>\n",
       "      <td>15</td>\n",
       "      <td>31</td>\n",
       "      <td>0.0</td>\n",
       "      <td>7</td>\n",
       "      <td>1</td>\n",
       "    </tr>\n",
       "    <tr>\n",
       "      <th>...</th>\n",
       "      <td>...</td>\n",
       "      <td>...</td>\n",
       "      <td>...</td>\n",
       "      <td>...</td>\n",
       "      <td>...</td>\n",
       "      <td>...</td>\n",
       "      <td>...</td>\n",
       "      <td>...</td>\n",
       "    </tr>\n",
       "    <tr>\n",
       "      <th>10905</th>\n",
       "      <td>15563</td>\n",
       "      <td>0</td>\n",
       "      <td>253</td>\n",
       "      <td>15</td>\n",
       "      <td>40</td>\n",
       "      <td>0.0</td>\n",
       "      <td>7</td>\n",
       "      <td>1</td>\n",
       "    </tr>\n",
       "    <tr>\n",
       "      <th>10906</th>\n",
       "      <td>5259</td>\n",
       "      <td>61146</td>\n",
       "      <td>65</td>\n",
       "      <td>7</td>\n",
       "      <td>68</td>\n",
       "      <td>0.0</td>\n",
       "      <td>6</td>\n",
       "      <td>1</td>\n",
       "    </tr>\n",
       "    <tr>\n",
       "      <th>10907</th>\n",
       "      <td>23893</td>\n",
       "      <td>39837</td>\n",
       "      <td>201</td>\n",
       "      <td>11</td>\n",
       "      <td>63</td>\n",
       "      <td>0.0</td>\n",
       "      <td>2</td>\n",
       "      <td>2</td>\n",
       "    </tr>\n",
       "    <tr>\n",
       "      <th>10908</th>\n",
       "      <td>11971</td>\n",
       "      <td>64195</td>\n",
       "      <td>158</td>\n",
       "      <td>0</td>\n",
       "      <td>27</td>\n",
       "      <td>4.0</td>\n",
       "      <td>6</td>\n",
       "      <td>2</td>\n",
       "    </tr>\n",
       "    <tr>\n",
       "      <th>10909</th>\n",
       "      <td>6857</td>\n",
       "      <td>0</td>\n",
       "      <td>101</td>\n",
       "      <td>31</td>\n",
       "      <td>1</td>\n",
       "      <td>0.0</td>\n",
       "      <td>3</td>\n",
       "      <td>1</td>\n",
       "    </tr>\n",
       "  </tbody>\n",
       "</table>\n",
       "<p>10910 rows × 8 columns</p>\n",
       "</div>"
      ],
      "text/plain": [
       "       customer_lifetime_value  income  monthly_premium_auto  \\\n",
       "0                         4809   48029                    61   \n",
       "1                         2228       0                    64   \n",
       "2                        14947   22139                   100   \n",
       "3                        22332   49078                    97   \n",
       "4                         9025   23675                   117   \n",
       "...                        ...     ...                   ...   \n",
       "10905                    15563       0                   253   \n",
       "10906                     5259   61146                    65   \n",
       "10907                    23893   39837                   201   \n",
       "10908                    11971   64195                   158   \n",
       "10909                     6857       0                   101   \n",
       "\n",
       "       months_since_last_claim  months_since_policy_inception  \\\n",
       "0                            7                             52   \n",
       "1                            3                             26   \n",
       "2                           34                             31   \n",
       "3                           10                              3   \n",
       "4                           15                             31   \n",
       "...                        ...                            ...   \n",
       "10905                       15                             40   \n",
       "10906                        7                             68   \n",
       "10907                       11                             63   \n",
       "10908                        0                             27   \n",
       "10909                       31                              1   \n",
       "\n",
       "       number_of_open_complaints  number_of_policies  month  \n",
       "0                            0.0                   9      2  \n",
       "1                            0.0                   1      1  \n",
       "2                            0.0                   2      2  \n",
       "3                            0.0                   2      1  \n",
       "4                            0.0                   7      1  \n",
       "...                          ...                 ...    ...  \n",
       "10905                        0.0                   7      1  \n",
       "10906                        0.0                   6      1  \n",
       "10907                        0.0                   2      2  \n",
       "10908                        4.0                   6      2  \n",
       "10909                        0.0                   3      1  \n",
       "\n",
       "[10910 rows x 8 columns]"
      ]
     },
     "execution_count": 61,
     "metadata": {},
     "output_type": "execute_result"
    }
   ],
   "source": [
    "X"
   ]
  },
  {
   "cell_type": "code",
   "execution_count": null,
   "id": "53efd662",
   "metadata": {},
   "outputs": [],
   "source": []
  },
  {
   "cell_type": "code",
   "execution_count": 62,
   "id": "8ad96a29",
   "metadata": {
    "scrolled": true
   },
   "outputs": [],
   "source": [
    "scaler_used = StandardScaler()\n",
    "\n",
    "X_train, X_test, y_train, y_test = train_test_split(X, y, test_size=0.20, random_state=42)\n",
    "scaler_used.fit(X_train)\n",
    "X_train_scaled=scaler_used.transform(X_train)\n",
    "X_test_scaled=scaler_used.transform(X_test)\n",
    "\n",
    "# training datasets to DataFrame again to manipulate them\n",
    "X_train = pd.DataFrame(X_train_scaled, columns= X.columns)\n",
    "X_test = pd.DataFrame(X_test_scaled, columns= X.columns)"
   ]
  },
  {
   "cell_type": "code",
   "execution_count": 84,
   "id": "2468084b",
   "metadata": {},
   "outputs": [
    {
     "data": {
      "text/plain": [
       "False"
      ]
     },
     "execution_count": 84,
     "metadata": {},
     "output_type": "execute_result"
    }
   ],
   "source": [
    "# np.unique(y_pred_test_knn, return_counts=True)   # check values of np.array\n",
    "array_sum = np.sum(y_pred_test_knn)\n",
    "array_has_nan = np.isnan(array_sum)\n",
    "array_has_nan"
   ]
  },
  {
   "cell_type": "code",
   "execution_count": 80,
   "id": "58b06107",
   "metadata": {},
   "outputs": [
    {
     "ename": "ValueError",
     "evalue": "Input contains NaN, infinity or a value too large for dtype('float64').",
     "output_type": "error",
     "traceback": [
      "\u001b[1;31m---------------------------------------------------------------------------\u001b[0m",
      "\u001b[1;31mValueError\u001b[0m                                Traceback (most recent call last)",
      "\u001b[1;32m~\\AppData\\Local\\Temp/ipykernel_4516/2623381290.py\u001b[0m in \u001b[0;36m<module>\u001b[1;34m\u001b[0m\n\u001b[0;32m      7\u001b[0m \u001b[0my_pred_test_knn\u001b[0m  \u001b[1;33m=\u001b[0m \u001b[0mneigh\u001b[0m\u001b[1;33m.\u001b[0m\u001b[0mpredict\u001b[0m\u001b[1;33m(\u001b[0m\u001b[0mX_test\u001b[0m\u001b[1;33m)\u001b[0m\u001b[1;33m\u001b[0m\u001b[1;33m\u001b[0m\u001b[0m\n\u001b[0;32m      8\u001b[0m \u001b[1;33m\u001b[0m\u001b[0m\n\u001b[1;32m----> 9\u001b[1;33m \u001b[0mperformance_knn\u001b[0m\u001b[1;33m,\u001b[0m \u001b[0m_\u001b[0m\u001b[1;33m,\u001b[0m \u001b[0m_\u001b[0m \u001b[1;33m=\u001b[0m \u001b[0mmodel_performance\u001b[0m\u001b[1;33m(\u001b[0m\u001b[0my_train\u001b[0m\u001b[1;33m,\u001b[0m \u001b[0my_pred_train_knn\u001b[0m\u001b[1;33m,\u001b[0m \u001b[0my_test\u001b[0m\u001b[1;33m,\u001b[0m \u001b[0my_pred_test_knn\u001b[0m\u001b[1;33m)\u001b[0m\u001b[1;33m\u001b[0m\u001b[1;33m\u001b[0m\u001b[0m\n\u001b[0m\u001b[0;32m     10\u001b[0m \u001b[0mperformance_knn\u001b[0m\u001b[1;33m\u001b[0m\u001b[1;33m\u001b[0m\u001b[0m\n\u001b[0;32m     11\u001b[0m \u001b[1;33m\u001b[0m\u001b[0m\n",
      "\u001b[1;32m~\\AppData\\Local\\Temp/ipykernel_4516/3377456398.py\u001b[0m in \u001b[0;36mmodel_performance\u001b[1;34m(y_train, y_pred_train, y_test, y_pred_test)\u001b[0m\n\u001b[0;32m      4\u001b[0m     \u001b[0mME_test\u001b[0m  \u001b[1;33m=\u001b[0m \u001b[0mnp\u001b[0m\u001b[1;33m.\u001b[0m\u001b[0mmean\u001b[0m\u001b[1;33m(\u001b[0m\u001b[0mnp\u001b[0m\u001b[1;33m.\u001b[0m\u001b[0mexp\u001b[0m\u001b[1;33m(\u001b[0m\u001b[0my_test\u001b[0m\u001b[1;33m)\u001b[0m\u001b[1;33m-\u001b[0m\u001b[0mnp\u001b[0m\u001b[1;33m.\u001b[0m\u001b[0mexp\u001b[0m\u001b[1;33m(\u001b[0m\u001b[0my_pred_test\u001b[0m\u001b[1;33m)\u001b[0m\u001b[1;33m)\u001b[0m\u001b[1;33m\u001b[0m\u001b[1;33m\u001b[0m\u001b[0m\n\u001b[0;32m      5\u001b[0m \u001b[1;33m\u001b[0m\u001b[0m\n\u001b[1;32m----> 6\u001b[1;33m     \u001b[0mMAE_train\u001b[0m \u001b[1;33m=\u001b[0m \u001b[0mmean_absolute_error\u001b[0m\u001b[1;33m(\u001b[0m\u001b[0mnp\u001b[0m\u001b[1;33m.\u001b[0m\u001b[0mexp\u001b[0m\u001b[1;33m(\u001b[0m\u001b[0my_train\u001b[0m\u001b[1;33m)\u001b[0m\u001b[1;33m,\u001b[0m\u001b[0mnp\u001b[0m\u001b[1;33m.\u001b[0m\u001b[0mexp\u001b[0m\u001b[1;33m(\u001b[0m\u001b[0my_pred_train\u001b[0m\u001b[1;33m)\u001b[0m\u001b[1;33m)\u001b[0m\u001b[1;33m\u001b[0m\u001b[1;33m\u001b[0m\u001b[0m\n\u001b[0m\u001b[0;32m      7\u001b[0m     \u001b[0mMAE_test\u001b[0m  \u001b[1;33m=\u001b[0m \u001b[0mmean_absolute_error\u001b[0m\u001b[1;33m(\u001b[0m\u001b[0mnp\u001b[0m\u001b[1;33m.\u001b[0m\u001b[0mexp\u001b[0m\u001b[1;33m(\u001b[0m\u001b[0my_test\u001b[0m\u001b[1;33m)\u001b[0m\u001b[1;33m,\u001b[0m\u001b[0mnp\u001b[0m\u001b[1;33m.\u001b[0m\u001b[0mexp\u001b[0m\u001b[1;33m(\u001b[0m\u001b[0my_pred_test\u001b[0m\u001b[1;33m)\u001b[0m\u001b[1;33m)\u001b[0m\u001b[1;33m\u001b[0m\u001b[1;33m\u001b[0m\u001b[0m\n\u001b[0;32m      8\u001b[0m \u001b[1;33m\u001b[0m\u001b[0m\n",
      "\u001b[1;32m~\\Python\\anaconda\\envs\\DA_Env\\lib\\site-packages\\sklearn\\metrics\\_regression.py\u001b[0m in \u001b[0;36mmean_absolute_error\u001b[1;34m(y_true, y_pred, sample_weight, multioutput)\u001b[0m\n\u001b[0;32m    184\u001b[0m     \u001b[1;36m0.85\u001b[0m\u001b[1;33m...\u001b[0m\u001b[1;33m\u001b[0m\u001b[1;33m\u001b[0m\u001b[0m\n\u001b[0;32m    185\u001b[0m     \"\"\"\n\u001b[1;32m--> 186\u001b[1;33m     y_type, y_true, y_pred, multioutput = _check_reg_targets(\n\u001b[0m\u001b[0;32m    187\u001b[0m         \u001b[0my_true\u001b[0m\u001b[1;33m,\u001b[0m \u001b[0my_pred\u001b[0m\u001b[1;33m,\u001b[0m \u001b[0mmultioutput\u001b[0m\u001b[1;33m\u001b[0m\u001b[1;33m\u001b[0m\u001b[0m\n\u001b[0;32m    188\u001b[0m     )\n",
      "\u001b[1;32m~\\Python\\anaconda\\envs\\DA_Env\\lib\\site-packages\\sklearn\\metrics\\_regression.py\u001b[0m in \u001b[0;36m_check_reg_targets\u001b[1;34m(y_true, y_pred, multioutput, dtype)\u001b[0m\n\u001b[0;32m     88\u001b[0m     \"\"\"\n\u001b[0;32m     89\u001b[0m     \u001b[0mcheck_consistent_length\u001b[0m\u001b[1;33m(\u001b[0m\u001b[0my_true\u001b[0m\u001b[1;33m,\u001b[0m \u001b[0my_pred\u001b[0m\u001b[1;33m)\u001b[0m\u001b[1;33m\u001b[0m\u001b[1;33m\u001b[0m\u001b[0m\n\u001b[1;32m---> 90\u001b[1;33m     \u001b[0my_true\u001b[0m \u001b[1;33m=\u001b[0m \u001b[0mcheck_array\u001b[0m\u001b[1;33m(\u001b[0m\u001b[0my_true\u001b[0m\u001b[1;33m,\u001b[0m \u001b[0mensure_2d\u001b[0m\u001b[1;33m=\u001b[0m\u001b[1;32mFalse\u001b[0m\u001b[1;33m,\u001b[0m \u001b[0mdtype\u001b[0m\u001b[1;33m=\u001b[0m\u001b[0mdtype\u001b[0m\u001b[1;33m)\u001b[0m\u001b[1;33m\u001b[0m\u001b[1;33m\u001b[0m\u001b[0m\n\u001b[0m\u001b[0;32m     91\u001b[0m     \u001b[0my_pred\u001b[0m \u001b[1;33m=\u001b[0m \u001b[0mcheck_array\u001b[0m\u001b[1;33m(\u001b[0m\u001b[0my_pred\u001b[0m\u001b[1;33m,\u001b[0m \u001b[0mensure_2d\u001b[0m\u001b[1;33m=\u001b[0m\u001b[1;32mFalse\u001b[0m\u001b[1;33m,\u001b[0m \u001b[0mdtype\u001b[0m\u001b[1;33m=\u001b[0m\u001b[0mdtype\u001b[0m\u001b[1;33m)\u001b[0m\u001b[1;33m\u001b[0m\u001b[1;33m\u001b[0m\u001b[0m\n\u001b[0;32m     92\u001b[0m \u001b[1;33m\u001b[0m\u001b[0m\n",
      "\u001b[1;32m~\\Python\\anaconda\\envs\\DA_Env\\lib\\site-packages\\sklearn\\utils\\validation.py\u001b[0m in \u001b[0;36mcheck_array\u001b[1;34m(array, accept_sparse, accept_large_sparse, dtype, order, copy, force_all_finite, ensure_2d, allow_nd, ensure_min_samples, ensure_min_features, estimator)\u001b[0m\n\u001b[0;32m    790\u001b[0m \u001b[1;33m\u001b[0m\u001b[0m\n\u001b[0;32m    791\u001b[0m         \u001b[1;32mif\u001b[0m \u001b[0mforce_all_finite\u001b[0m\u001b[1;33m:\u001b[0m\u001b[1;33m\u001b[0m\u001b[1;33m\u001b[0m\u001b[0m\n\u001b[1;32m--> 792\u001b[1;33m             \u001b[0m_assert_all_finite\u001b[0m\u001b[1;33m(\u001b[0m\u001b[0marray\u001b[0m\u001b[1;33m,\u001b[0m \u001b[0mallow_nan\u001b[0m\u001b[1;33m=\u001b[0m\u001b[0mforce_all_finite\u001b[0m \u001b[1;33m==\u001b[0m \u001b[1;34m\"allow-nan\"\u001b[0m\u001b[1;33m)\u001b[0m\u001b[1;33m\u001b[0m\u001b[1;33m\u001b[0m\u001b[0m\n\u001b[0m\u001b[0;32m    793\u001b[0m \u001b[1;33m\u001b[0m\u001b[0m\n\u001b[0;32m    794\u001b[0m     \u001b[1;32mif\u001b[0m \u001b[0mensure_min_samples\u001b[0m \u001b[1;33m>\u001b[0m \u001b[1;36m0\u001b[0m\u001b[1;33m:\u001b[0m\u001b[1;33m\u001b[0m\u001b[1;33m\u001b[0m\u001b[0m\n",
      "\u001b[1;32m~\\Python\\anaconda\\envs\\DA_Env\\lib\\site-packages\\sklearn\\utils\\validation.py\u001b[0m in \u001b[0;36m_assert_all_finite\u001b[1;34m(X, allow_nan, msg_dtype)\u001b[0m\n\u001b[0;32m    112\u001b[0m         ):\n\u001b[0;32m    113\u001b[0m             \u001b[0mtype_err\u001b[0m \u001b[1;33m=\u001b[0m \u001b[1;34m\"infinity\"\u001b[0m \u001b[1;32mif\u001b[0m \u001b[0mallow_nan\u001b[0m \u001b[1;32melse\u001b[0m \u001b[1;34m\"NaN, infinity\"\u001b[0m\u001b[1;33m\u001b[0m\u001b[1;33m\u001b[0m\u001b[0m\n\u001b[1;32m--> 114\u001b[1;33m             raise ValueError(\n\u001b[0m\u001b[0;32m    115\u001b[0m                 msg_err.format(\n\u001b[0;32m    116\u001b[0m                     \u001b[0mtype_err\u001b[0m\u001b[1;33m,\u001b[0m \u001b[0mmsg_dtype\u001b[0m \u001b[1;32mif\u001b[0m \u001b[0mmsg_dtype\u001b[0m \u001b[1;32mis\u001b[0m \u001b[1;32mnot\u001b[0m \u001b[1;32mNone\u001b[0m \u001b[1;32melse\u001b[0m \u001b[0mX\u001b[0m\u001b[1;33m.\u001b[0m\u001b[0mdtype\u001b[0m\u001b[1;33m\u001b[0m\u001b[1;33m\u001b[0m\u001b[0m\n",
      "\u001b[1;31mValueError\u001b[0m: Input contains NaN, infinity or a value too large for dtype('float64')."
     ]
    }
   ],
   "source": [
    "neigh = KNeighborsRegressor(n_neighbors=10)\n",
    "\n",
    "neigh.fit(X_train_scaled, y_train)\n",
    "\n",
    "# make predictions\n",
    "y_pred_train_knn = neigh.predict(X_train)\n",
    "y_pred_test_knn  = neigh.predict(X_test)\n",
    "\n",
    "performance_knn, _, _ = model_performance(y_train, y_pred_train_knn, y_test, y_pred_test_knn)\n",
    "performance_knn\n",
    "\n",
    "full = pd.DataFrame()\n",
    "\n",
    "models = {'k': [] }\n",
    "\n",
    "for k in range(2,21):\n",
    "\n",
    "    neigh = KNeighborsRegressor(n_neighbors=k)\n",
    "    neigh.fit(X_train, y_train)\n",
    "\n",
    "    models['k'] = [k, neigh]\n",
    "\n",
    "    y_pred_train_knn = neigh.predict(X_train)\n",
    "    y_pred_test_knn  = neigh.predict(X_test)\n",
    "\n",
    "    performance_knn, _, _ = model_performance(y_train, y_pred_train_knn, y_test, y_pred_test_knn)\n",
    "    temp = pd.DataFrame({'k': [k]*6, 'Error_metric': performance_knn['Error_metric'], \n",
    "                         'Train': performance_knn['Train'], 'Test': performance_knn['Test']})\n",
    "    full = pd.concat([full,temp], axis=0)\n",
    "\n",
    "full[full['Error_metric'] == 'R2']\n",
    "\n",
    "full2 = full.melt(id_vars=['k','Error_metric'])\n",
    "full2\n",
    "\n",
    "full2[\"Error_metric\"]\n",
    "\n",
    "import matplotlib.pyplot as plt\n",
    "import seaborn as sns\n",
    "\n",
    "%matplotlib inline\n",
    "\n",
    "#metrics = ['Mean error',]'Mean absolute error',...]\n",
    "\n",
    "fig, ax = plt.subplots(2,3, figsize=(20,10))\n",
    "sns.lineplot(x = 'k', y = 'value', data = full2[full2['Error_metric'] == 'Mean error'], hue = 'variable', ax = ax[0,0])\n",
    "ax[0,0].set_xticks(range(2,21))\n",
    "ax[0,0].set_title(\"Mean error\")\n",
    "ax[0,0].legend(loc='lower right')\n",
    "sns.lineplot(x = 'k', y = 'value', data = full2[full2['Error_metric'] == 'Mean absolute error'], hue = 'variable', ax = ax[0,1])\n",
    "ax[0,1].set_xticks(range(2,21))\n",
    "ax[0,1].set_title(\"Mean absolute error\")\n",
    "ax[0,1].legend(loc='lower right')\n",
    "sns.lineplot(x = 'k', y = 'value', data = full2[full2['Error_metric'] == 'Mean squared error'], hue = 'variable', ax = ax[0,2])\n",
    "ax[0,2].set_xticks(range(2,21))\n",
    "ax[0,2].set_title(\"Mean squared error\")\n",
    "ax[0,2].legend(loc='lower right')\n",
    "sns.lineplot(x = 'k', y = 'value', data = full2[full2['Error_metric'] == 'Root mean squared error'], hue = 'variable', ax = ax[1,0])\n",
    "ax[1,0].set_xticks(range(2,21))\n",
    "ax[1,0].set_title(\"Root mean squared error\")\n",
    "ax[1,0].legend(loc='lower right')\n",
    "sns.lineplot(x = 'k', y = 'value', data = full2[full2['Error_metric'] == 'Mean absolute percentual error'], hue = 'variable', ax = ax[1,1])\n",
    "ax[1,1].set_xticks(range(2,21))\n",
    "ax[1,1].set_title(\"Mean absolute percentual error\")\n",
    "ax[1,1].legend(loc='lower right')\n",
    "sns.lineplot(x = 'k', y = 'value', data = full2[full2['Error_metric'] == 'R2'], hue = 'variable', ax = ax[1,2])\n",
    "ax[1,2].set_xticks(range(2,21))\n",
    "ax[1,2].set_title(\"R2\")\n",
    "ax[1,2].legend(loc='lower right')"
   ]
  },
  {
   "cell_type": "code",
   "execution_count": null,
   "id": "7e6f9e6c",
   "metadata": {},
   "outputs": [],
   "source": []
  },
  {
   "cell_type": "code",
   "execution_count": null,
   "id": "b21e9dfb",
   "metadata": {},
   "outputs": [],
   "source": []
  },
  {
   "cell_type": "code",
   "execution_count": null,
   "id": "cac29beb",
   "metadata": {},
   "outputs": [],
   "source": [
    "X = df.drop(columns=[\"total_claim_amount\"], axis = 1)\n",
    "y = df[\"total_claim_amount\"]"
   ]
  },
  {
   "cell_type": "code",
   "execution_count": null,
   "id": "7641684c",
   "metadata": {},
   "outputs": [],
   "source": []
  },
  {
   "cell_type": "code",
   "execution_count": null,
   "id": "257a1ba2",
   "metadata": {},
   "outputs": [],
   "source": []
  },
  {
   "cell_type": "code",
   "execution_count": 24,
   "id": "7519a990",
   "metadata": {},
   "outputs": [],
   "source": [
    "yy = \"Lasso()\""
   ]
  },
  {
   "cell_type": "code",
   "execution_count": 26,
   "id": "30c7b2df",
   "metadata": {},
   "outputs": [
    {
     "name": "stdout",
     "output_type": "stream",
     "text": [
      ")\n"
     ]
    }
   ],
   "source": [
    "print(yy.split(\"(\")[1][0])"
   ]
  },
  {
   "cell_type": "code",
   "execution_count": null,
   "id": "228557ca",
   "metadata": {},
   "outputs": [],
   "source": []
  },
  {
   "cell_type": "code",
   "execution_count": 80,
   "id": "c574157d",
   "metadata": {},
   "outputs": [],
   "source": [
    "X_added_constant = sm.add_constant(X)\n",
    "# X_added_constant"
   ]
  },
  {
   "cell_type": "code",
   "execution_count": 81,
   "id": "1f3fd5c1",
   "metadata": {},
   "outputs": [],
   "source": [
    "X_train, X_test, y_train, y_test = train_test_split(X, y, test_size=0.30, random_state=42)\n",
    "\n",
    "X_train = X_train.select_dtypes(include=np.number)\n",
    "X_test  = X_test.select_dtypes(include=np.number)"
   ]
  },
  {
   "cell_type": "code",
   "execution_count": 82,
   "id": "648a8b44",
   "metadata": {},
   "outputs": [],
   "source": [
    "# model = sm.OLS(y,X_added_constant).fit()\n",
    "# model.summary()"
   ]
  },
  {
   "cell_type": "code",
   "execution_count": 36,
   "id": "e0e66582",
   "metadata": {},
   "outputs": [
    {
     "name": "stdout",
     "output_type": "stream",
     "text": [
      "LinearRegression: Train -> 0.5208845836696386, Test -> 0.5189738717256577\n"
     ]
    }
   ],
   "source": [
    "model=LinearRegression()\n",
    "\n",
    "model.fit(X_train, y_train)\n",
    "print(f\"{model.__class__.__name__}: Train -> {model.score(X_train, y_train)}, Test -> {model.score(X_test, y_test)}\")"
   ]
  },
  {
   "cell_type": "code",
   "execution_count": null,
   "id": "f173b625",
   "metadata": {},
   "outputs": [],
   "source": []
  },
  {
   "cell_type": "code",
   "execution_count": 37,
   "id": "9f974827",
   "metadata": {},
   "outputs": [
    {
     "name": "stdout",
     "output_type": "stream",
     "text": [
      "Lasso: Train -> 0.5205035767216227, Test -> 0.5197714491401642\n"
     ]
    }
   ],
   "source": [
    "model=Lasso(alpha=0.1)\n",
    "\n",
    "model.fit(X_train, y_train)\n",
    "print(f\"{model.__class__.__name__}: Train -> {model.score(X_train, y_train)}, Test -> {model.score(X_test, y_test)}\")"
   ]
  },
  {
   "cell_type": "code",
   "execution_count": null,
   "id": "6c9154b4",
   "metadata": {},
   "outputs": [],
   "source": []
  },
  {
   "cell_type": "code",
   "execution_count": 38,
   "id": "1401a7af",
   "metadata": {},
   "outputs": [
    {
     "name": "stdout",
     "output_type": "stream",
     "text": [
      "Ridge: Train -> 0.5208845836696292, Test -> 0.5189738716178669\n"
     ]
    }
   ],
   "source": [
    "model=Ridge(alpha=0.1)\n",
    "model.fit(X_train, y_train)\n",
    "print(f\"{model.__class__.__name__}: Train -> {model.score(X_train, y_train)}, Test -> {model.score(X_test, y_test)}\")"
   ]
  },
  {
   "cell_type": "code",
   "execution_count": null,
   "id": "d33568cc",
   "metadata": {},
   "outputs": [],
   "source": []
  },
  {
   "cell_type": "code",
   "execution_count": 39,
   "id": "9e0c2ca2",
   "metadata": {},
   "outputs": [
    {
     "name": "stdout",
     "output_type": "stream",
     "text": [
      "ElasticNet: Train -> 0.5208841472497661, Test -> 0.5189726190526929\n"
     ]
    }
   ],
   "source": [
    "model=ElasticNet(alpha=0.1)\n",
    "model.fit(X_train, y_train)\n",
    "print(f\"{model.__class__.__name__}: Train -> {model.score(X_train, y_train)}, Test -> {model.score(X_test, y_test)}\")"
   ]
  },
  {
   "cell_type": "code",
   "execution_count": null,
   "id": "6d1b326c",
   "metadata": {},
   "outputs": [],
   "source": []
  },
  {
   "cell_type": "code",
   "execution_count": null,
   "id": "73b3ff2e",
   "metadata": {},
   "outputs": [],
   "source": []
  },
  {
   "cell_type": "code",
   "execution_count": null,
   "id": "8ee9164a",
   "metadata": {},
   "outputs": [],
   "source": []
  },
  {
   "cell_type": "code",
   "execution_count": null,
   "id": "aec0bdf6",
   "metadata": {},
   "outputs": [],
   "source": []
  },
  {
   "cell_type": "code",
   "execution_count": null,
   "id": "45c646a4",
   "metadata": {},
   "outputs": [],
   "source": []
  },
  {
   "cell_type": "code",
   "execution_count": null,
   "id": "e9b723ae",
   "metadata": {},
   "outputs": [],
   "source": []
  },
  {
   "cell_type": "code",
   "execution_count": null,
   "id": "eaabe87b",
   "metadata": {},
   "outputs": [],
   "source": []
  },
  {
   "cell_type": "code",
   "execution_count": null,
   "id": "b49e6de6",
   "metadata": {},
   "outputs": [],
   "source": []
  },
  {
   "cell_type": "code",
   "execution_count": null,
   "id": "1592bdc9",
   "metadata": {},
   "outputs": [],
   "source": []
  },
  {
   "cell_type": "code",
   "execution_count": null,
   "id": "9a99ca6e",
   "metadata": {},
   "outputs": [],
   "source": []
  }
 ],
 "metadata": {
  "kernelspec": {
   "display_name": "Python 3 (ipykernel)",
   "language": "python",
   "name": "python3"
  },
  "language_info": {
   "codemirror_mode": {
    "name": "ipython",
    "version": 3
   },
   "file_extension": ".py",
   "mimetype": "text/x-python",
   "name": "python",
   "nbconvert_exporter": "python",
   "pygments_lexer": "ipython3",
   "version": "3.9.7"
  },
  "toc": {
   "base_numbering": 1,
   "nav_menu": {},
   "number_sections": true,
   "sideBar": true,
   "skip_h1_title": false,
   "title_cell": "Table of Contents",
   "title_sidebar": "Contents",
   "toc_cell": false,
   "toc_position": {},
   "toc_section_display": true,
   "toc_window_display": false
  },
  "varInspector": {
   "cols": {
    "lenName": 16,
    "lenType": 16,
    "lenVar": 40
   },
   "kernels_config": {
    "python": {
     "delete_cmd_postfix": "",
     "delete_cmd_prefix": "del ",
     "library": "var_list.py",
     "varRefreshCmd": "print(var_dic_list())"
    },
    "r": {
     "delete_cmd_postfix": ") ",
     "delete_cmd_prefix": "rm(",
     "library": "var_list.r",
     "varRefreshCmd": "cat(var_dic_list()) "
    }
   },
   "types_to_exclude": [
    "module",
    "function",
    "builtin_function_or_method",
    "instance",
    "_Feature"
   ],
   "window_display": false
  }
 },
 "nbformat": 4,
 "nbformat_minor": 5
}
