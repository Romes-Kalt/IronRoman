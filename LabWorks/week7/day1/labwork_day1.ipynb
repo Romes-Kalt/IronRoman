{
 "cells": [
  {
   "cell_type": "code",
   "execution_count": 34,
   "id": "c00bad4b",
   "metadata": {},
   "outputs": [],
   "source": [
    "import pandas as pd\n",
    "import numpy as np\n",
    "pd.set_option('display.max_columns', None)\n",
    "import warnings\n",
    "warnings.filterwarnings('ignore')\n",
    "import statsmodels.api as sm\n",
    "from scipy import stats\n",
    "from sklearn.model_selection import train_test_split\n",
    "from sklearn.linear_model import Lasso, Ridge, ElasticNet, LinearRegression\n",
    "from sklearn.feature_selection import RFE\n",
    "from sklearn.preprocessing import StandardScaler\n",
    "from sklearn.preprocessing import minmax_scale\n",
    "from sklearn.preprocessing import PowerTransformer\n",
    "from sklearn.preprocessing import QuantileTransformer"
   ]
  },
  {
   "cell_type": "code",
   "execution_count": 2,
   "id": "bf6b937d",
   "metadata": {},
   "outputs": [],
   "source": [
    "numerics = ['int16', 'int32', 'int64', 'float16', 'float32', 'float64']"
   ]
  },
  {
   "cell_type": "markdown",
   "id": "4e8662bd",
   "metadata": {},
   "source": [
    "## Functions"
   ]
  },
  {
   "cell_type": "code",
   "execution_count": 3,
   "id": "1156f863",
   "metadata": {},
   "outputs": [],
   "source": [
    "def create_modeling_data(this_df:[pd.DataFrame], target:[str]=None, scaler_used=StandardScaler(), test_set_size=0.3):\n",
    "    if target not in this_df.columns:\n",
    "        print(f\"{target} not found in df provided.\")\n",
    "        return\n",
    "    X = df.drop(target, axis = 1)\n",
    "    y = df[target]\n",
    "    X = X.select_dtypes(include=numerics)\n",
    "    X_train, X_test, y_train, y_test = train_test_split(X, y, test_size=test_set_size,random_state=42)\n",
    "    scaler_used.fit(X_train)\n",
    "    X_train_scaled=scaler_used.transform(X_train)\n",
    "    X_test_scaled=scaler_used.transform(X_test)\n",
    "\n",
    "    return (X_train_scaled, X_test_scaled, y_train, y_test)"
   ]
  },
  {
   "cell_type": "code",
   "execution_count": 120,
   "id": "3310d622",
   "metadata": {},
   "outputs": [],
   "source": [
    "def model_performance(data:[tuple] = None, model_lst:[list] = None):\n",
    "    if not model_lst:\n",
    "        print(\"No model list provided.\")\n",
    "        return\n",
    "    if not data:\n",
    "        print(\"No data provided.\")\n",
    "        return\n",
    "    train_scores = []\n",
    "    test_scores = []\n",
    "    model_names = []\n",
    "    alpha_val =[] \n",
    "    X_train, X_test, y_train, y_test = data\n",
    "    for m in model_lst:\n",
    "        model=m\n",
    "        model.fit(X_train, y_train)\n",
    "        # print(f\"{model.__class__.__name__}: Train -> {model.score(X_train, y_train)}, Test -> {model.score(X_test, y_test)}\")\n",
    "        model_names.append(str(m).split(\"(\")[0])\n",
    "        # if str(m).split(\"(\")[1][0] == \")\":\n",
    "        if str(m) == \"LinearRegression()\":\n",
    "            alpha_val.append(\"---\")\n",
    "        else:\n",
    "            if str(m).split(\"(\")[0][0] == \")\":\n",
    "                print(\"1\")\n",
    "                alpha_val.append(1)\n",
    "            else:\n",
    "                alpha_val.append(str(m).split(\"(\")[1].split(\")\")[0].split(\"=\")[1].split(\")\")[0])\n",
    "        train_scores.append(model.score(X_train, y_train))\n",
    "        test_scores.append(model.score(X_test, y_test))\n",
    "        \n",
    "    return pd.DataFrame(list(zip(model_names,alpha_val,train_scores,test_scores)), columns =['model', 'alpha', 'training_score', 'test_score'])"
   ]
  },
  {
   "cell_type": "code",
   "execution_count": 81,
   "id": "2b22b902",
   "metadata": {},
   "outputs": [],
   "source": [
    "def rec_feat_select(this_df = None, n_feat_select:[int] = 8):\n",
    "   \n",
    "\n",
    "    lm = LinearRegression()\n",
    "\n",
    "    selector = RFE(lm, n_features_to_select= 8, step = 1, verbose = 1) # Step is how many features to add or drop everytime\n",
    "    selector.fit(X_train, y_train)\n",
    "\n",
    "    kept_features = selector.get_support(indices = True) #returns an array of integers corresponding to nonremoved features\n",
    "    kept_features = list(X_train.iloc[:,kept_features].columns)\n",
    "\n",
    "    X_train = selector.transform(X_train)\n",
    "    X_test  = selector.transform(X_test)\n",
    "\n",
    "    X_train = pd.DataFrame(X_train, columns=kept_features)\n",
    "    X_test  = pd.DataFrame(X_test, columns=kept_features)\n",
    "\n",
    "    print(\"Final selected features: \")\n",
    "    display(X_train)\n",
    "\n",
    "    #---\n",
    "    selector = RFE(LinearRegression(), step=1)\n",
    "    selector = selector.fit(X, y)\n",
    "\n",
    "    X_rfe = X[X.columns[selector.support_]]\n",
    "    X_rfe.shape"
   ]
  },
  {
   "cell_type": "code",
   "execution_count": 41,
   "id": "d90a1efc",
   "metadata": {},
   "outputs": [],
   "source": [
    "# this_data = create_modeling_data(this_df=df, target=\"total_claim_amount\")"
   ]
  },
  {
   "cell_type": "code",
   "execution_count": 48,
   "id": "f7b3acc0",
   "metadata": {},
   "outputs": [
    {
     "data": {
      "text/plain": [
       "<function __main__.model_performance(data: [<class 'tuple'>] = None, model_lst: [<class 'list'>] = None)>"
      ]
     },
     "execution_count": 48,
     "metadata": {},
     "output_type": "execute_result"
    }
   ],
   "source": []
  },
  {
   "cell_type": "code",
   "execution_count": 25,
   "id": "7bc49225",
   "metadata": {},
   "outputs": [],
   "source": [
    "df = pd.read_csv(\"../data/cleaned_cust_data.csv\")"
   ]
  },
  {
   "cell_type": "code",
   "execution_count": 115,
   "id": "82d4e250",
   "metadata": {},
   "outputs": [],
   "source": [
    "x = model_performance(data=create_modeling_data(this_df=df, target=\"total_claim_amount\"),model_lst = [LinearRegression(),\n",
    "                                                                                                  Lasso(alpha=1),\n",
    "                                                                                                  Ridge(alpha=1),\n",
    "                                                                                                  ElasticNet(alpha=1)])"
   ]
  },
  {
   "cell_type": "code",
   "execution_count": 121,
   "id": "af67cfda",
   "metadata": {},
   "outputs": [
    {
     "ename": "IndexError",
     "evalue": "list index out of range",
     "output_type": "error",
     "traceback": [
      "\u001b[1;31m---------------------------------------------------------------------------\u001b[0m",
      "\u001b[1;31mIndexError\u001b[0m                                Traceback (most recent call last)",
      "\u001b[1;32m~\\AppData\\Local\\Temp/ipykernel_17008/3589007215.py\u001b[0m in \u001b[0;36m<module>\u001b[1;34m\u001b[0m\n\u001b[0;32m      3\u001b[0m                                                       Lasso(alpha=0.1), Ridge(alpha=0.1), ElasticNet(alpha=0.1)])\n\u001b[0;32m      4\u001b[0m \u001b[1;32mfor\u001b[0m \u001b[0m_\u001b[0m \u001b[1;32min\u001b[0m \u001b[0mrange\u001b[0m\u001b[1;33m(\u001b[0m\u001b[1;36m0\u001b[0m\u001b[1;33m,\u001b[0m\u001b[1;36m20\u001b[0m\u001b[1;33m)\u001b[0m\u001b[1;33m:\u001b[0m\u001b[1;33m\u001b[0m\u001b[1;33m\u001b[0m\u001b[0m\n\u001b[1;32m----> 5\u001b[1;33m     x = model_performance(data=this_data,model_lst = [LinearRegression(),\n\u001b[0m\u001b[0;32m      6\u001b[0m                                                       Lasso(alpha=_/2), Ridge(alpha=_/2), ElasticNet(alpha=_/2)])\n\u001b[0;32m      7\u001b[0m     \u001b[0mresults\u001b[0m \u001b[1;33m=\u001b[0m \u001b[0mpd\u001b[0m\u001b[1;33m.\u001b[0m\u001b[0mconcat\u001b[0m\u001b[1;33m(\u001b[0m\u001b[1;33m[\u001b[0m\u001b[0mresults\u001b[0m\u001b[1;33m,\u001b[0m \u001b[0mx\u001b[0m\u001b[1;33m]\u001b[0m\u001b[1;33m,\u001b[0m \u001b[0maxis\u001b[0m\u001b[1;33m=\u001b[0m\u001b[1;36m0\u001b[0m\u001b[1;33m)\u001b[0m\u001b[1;33m\u001b[0m\u001b[1;33m\u001b[0m\u001b[0m\n",
      "\u001b[1;32m~\\AppData\\Local\\Temp/ipykernel_17008/696107975.py\u001b[0m in \u001b[0;36mmodel_performance\u001b[1;34m(data, model_lst)\u001b[0m\n\u001b[0;32m     23\u001b[0m                 \u001b[0malpha_val\u001b[0m\u001b[1;33m.\u001b[0m\u001b[0mappend\u001b[0m\u001b[1;33m(\u001b[0m\u001b[1;36m1\u001b[0m\u001b[1;33m)\u001b[0m\u001b[1;33m\u001b[0m\u001b[1;33m\u001b[0m\u001b[0m\n\u001b[0;32m     24\u001b[0m             \u001b[1;32melse\u001b[0m\u001b[1;33m:\u001b[0m\u001b[1;33m\u001b[0m\u001b[1;33m\u001b[0m\u001b[0m\n\u001b[1;32m---> 25\u001b[1;33m                 \u001b[0malpha_val\u001b[0m\u001b[1;33m.\u001b[0m\u001b[0mappend\u001b[0m\u001b[1;33m(\u001b[0m\u001b[0mstr\u001b[0m\u001b[1;33m(\u001b[0m\u001b[0mm\u001b[0m\u001b[1;33m)\u001b[0m\u001b[1;33m.\u001b[0m\u001b[0msplit\u001b[0m\u001b[1;33m(\u001b[0m\u001b[1;34m\"(\"\u001b[0m\u001b[1;33m)\u001b[0m\u001b[1;33m[\u001b[0m\u001b[1;36m1\u001b[0m\u001b[1;33m]\u001b[0m\u001b[1;33m.\u001b[0m\u001b[0msplit\u001b[0m\u001b[1;33m(\u001b[0m\u001b[1;34m\")\"\u001b[0m\u001b[1;33m)\u001b[0m\u001b[1;33m[\u001b[0m\u001b[1;36m0\u001b[0m\u001b[1;33m]\u001b[0m\u001b[1;33m.\u001b[0m\u001b[0msplit\u001b[0m\u001b[1;33m(\u001b[0m\u001b[1;34m\"=\"\u001b[0m\u001b[1;33m)\u001b[0m\u001b[1;33m[\u001b[0m\u001b[1;36m1\u001b[0m\u001b[1;33m]\u001b[0m\u001b[1;33m.\u001b[0m\u001b[0msplit\u001b[0m\u001b[1;33m(\u001b[0m\u001b[1;34m\")\"\u001b[0m\u001b[1;33m)\u001b[0m\u001b[1;33m[\u001b[0m\u001b[1;36m0\u001b[0m\u001b[1;33m]\u001b[0m\u001b[1;33m)\u001b[0m\u001b[1;33m\u001b[0m\u001b[1;33m\u001b[0m\u001b[0m\n\u001b[0m\u001b[0;32m     26\u001b[0m         \u001b[0mtrain_scores\u001b[0m\u001b[1;33m.\u001b[0m\u001b[0mappend\u001b[0m\u001b[1;33m(\u001b[0m\u001b[0mmodel\u001b[0m\u001b[1;33m.\u001b[0m\u001b[0mscore\u001b[0m\u001b[1;33m(\u001b[0m\u001b[0mX_train\u001b[0m\u001b[1;33m,\u001b[0m \u001b[0my_train\u001b[0m\u001b[1;33m)\u001b[0m\u001b[1;33m)\u001b[0m\u001b[1;33m\u001b[0m\u001b[1;33m\u001b[0m\u001b[0m\n\u001b[0;32m     27\u001b[0m         \u001b[0mtest_scores\u001b[0m\u001b[1;33m.\u001b[0m\u001b[0mappend\u001b[0m\u001b[1;33m(\u001b[0m\u001b[0mmodel\u001b[0m\u001b[1;33m.\u001b[0m\u001b[0mscore\u001b[0m\u001b[1;33m(\u001b[0m\u001b[0mX_test\u001b[0m\u001b[1;33m,\u001b[0m \u001b[0my_test\u001b[0m\u001b[1;33m)\u001b[0m\u001b[1;33m)\u001b[0m\u001b[1;33m\u001b[0m\u001b[1;33m\u001b[0m\u001b[0m\n",
      "\u001b[1;31mIndexError\u001b[0m: list index out of range"
     ]
    }
   ],
   "source": [
    "this_data = data=create_modeling_data(this_df=df, target=\"total_claim_amount\")\n",
    "results = model_performance(data=this_data,model_lst = [LinearRegression(),\n",
    "                                                      Lasso(alpha=0.1), Ridge(alpha=0.1), ElasticNet(alpha=0.1)])\n",
    "for _ in range(0,20):\n",
    "    x = model_performance(data=this_data,model_lst = [LinearRegression(),\n",
    "                                                      Lasso(alpha=_/2), Ridge(alpha=_/2), ElasticNet(alpha=_/2)])\n",
    "    results = pd.concat([results, x], axis=0)"
   ]
  },
  {
   "cell_type": "code",
   "execution_count": 8,
   "id": "b596e3a3",
   "metadata": {},
   "outputs": [],
   "source": [
    "df = pd.read_csv(\"../data/cleaned_cust_data.csv\")\n",
    "# df.head()"
   ]
  },
  {
   "cell_type": "code",
   "execution_count": 9,
   "id": "62e5055b",
   "metadata": {},
   "outputs": [],
   "source": [
    "# df.head()"
   ]
  },
  {
   "cell_type": "code",
   "execution_count": null,
   "id": "6fa2f025",
   "metadata": {},
   "outputs": [],
   "source": [
    "def rfe1():\n",
    "    X = data.drop('total_claim_amount', axis=1)\n",
    "    y = np.log(data.total_claim_amount)\n",
    "\n",
    "    X = X.select_dtypes(include=np.number)\n",
    "    X_added_constant = sm.add_constant(X)\n",
    "    ols_model = sm.OLS(y,X_added_constant).fit()\n",
    "\n",
    "    ## drop features with pval < 0.05\n",
    "    pv = ols_model.pvalues\n",
    "    X_pfiltered = X_added_constant[pv[pv < 0.05].index].drop('const', axis=1).reset_index(drop=True)\n",
    "    X_pfiltered.shape\n",
    "\n"
   ]
  },
  {
   "cell_type": "code",
   "execution_count": 117,
   "id": "89a63786",
   "metadata": {},
   "outputs": [
    {
     "data": {
      "text/html": [
       "<div>\n",
       "<style scoped>\n",
       "    .dataframe tbody tr th:only-of-type {\n",
       "        vertical-align: middle;\n",
       "    }\n",
       "\n",
       "    .dataframe tbody tr th {\n",
       "        vertical-align: top;\n",
       "    }\n",
       "\n",
       "    .dataframe thead th {\n",
       "        text-align: right;\n",
       "    }\n",
       "</style>\n",
       "<table border=\"1\" class=\"dataframe\">\n",
       "  <thead>\n",
       "    <tr style=\"text-align: right;\">\n",
       "      <th></th>\n",
       "      <th>model</th>\n",
       "      <th>alpha</th>\n",
       "      <th>training_score</th>\n",
       "      <th>test_score</th>\n",
       "    </tr>\n",
       "  </thead>\n",
       "  <tbody>\n",
       "    <tr>\n",
       "      <th>0</th>\n",
       "      <td>LinearRegression</td>\n",
       "      <td>---</td>\n",
       "      <td>0.520885</td>\n",
       "      <td>0.518974</td>\n",
       "    </tr>\n",
       "    <tr>\n",
       "      <th>1</th>\n",
       "      <td>Lasso</td>\n",
       "      <td>alpha=0.1)</td>\n",
       "      <td>0.520884</td>\n",
       "      <td>0.519006</td>\n",
       "    </tr>\n",
       "    <tr>\n",
       "      <th>2</th>\n",
       "      <td>Ridge</td>\n",
       "      <td>alpha=0.1)</td>\n",
       "      <td>0.520885</td>\n",
       "      <td>0.518974</td>\n",
       "    </tr>\n",
       "    <tr>\n",
       "      <th>3</th>\n",
       "      <td>ElasticNet</td>\n",
       "      <td>alpha=0.1)</td>\n",
       "      <td>0.519517</td>\n",
       "      <td>0.517106</td>\n",
       "    </tr>\n",
       "    <tr>\n",
       "      <th>0</th>\n",
       "      <td>LinearRegression</td>\n",
       "      <td>---</td>\n",
       "      <td>0.520885</td>\n",
       "      <td>0.518974</td>\n",
       "    </tr>\n",
       "    <tr>\n",
       "      <th>...</th>\n",
       "      <td>...</td>\n",
       "      <td>...</td>\n",
       "      <td>...</td>\n",
       "      <td>...</td>\n",
       "    </tr>\n",
       "    <tr>\n",
       "      <th>3</th>\n",
       "      <td>ElasticNet</td>\n",
       "      <td>alpha=9.0)</td>\n",
       "      <td>0.178118</td>\n",
       "      <td>0.173399</td>\n",
       "    </tr>\n",
       "    <tr>\n",
       "      <th>0</th>\n",
       "      <td>LinearRegression</td>\n",
       "      <td>---</td>\n",
       "      <td>0.520885</td>\n",
       "      <td>0.518974</td>\n",
       "    </tr>\n",
       "    <tr>\n",
       "      <th>1</th>\n",
       "      <td>Lasso</td>\n",
       "      <td>alpha=9.5)</td>\n",
       "      <td>0.518222</td>\n",
       "      <td>0.516409</td>\n",
       "    </tr>\n",
       "    <tr>\n",
       "      <th>2</th>\n",
       "      <td>Ridge</td>\n",
       "      <td>alpha=9.5)</td>\n",
       "      <td>0.520884</td>\n",
       "      <td>0.518960</td>\n",
       "    </tr>\n",
       "    <tr>\n",
       "      <th>3</th>\n",
       "      <td>ElasticNet</td>\n",
       "      <td>alpha=9.5)</td>\n",
       "      <td>0.171127</td>\n",
       "      <td>0.166552</td>\n",
       "    </tr>\n",
       "  </tbody>\n",
       "</table>\n",
       "<p>84 rows × 4 columns</p>\n",
       "</div>"
      ],
      "text/plain": [
       "               model       alpha  training_score  test_score\n",
       "0   LinearRegression         ---        0.520885    0.518974\n",
       "1              Lasso  alpha=0.1)        0.520884    0.519006\n",
       "2              Ridge  alpha=0.1)        0.520885    0.518974\n",
       "3         ElasticNet  alpha=0.1)        0.519517    0.517106\n",
       "0   LinearRegression         ---        0.520885    0.518974\n",
       "..               ...         ...             ...         ...\n",
       "3         ElasticNet  alpha=9.0)        0.178118    0.173399\n",
       "0   LinearRegression         ---        0.520885    0.518974\n",
       "1              Lasso  alpha=9.5)        0.518222    0.516409\n",
       "2              Ridge  alpha=9.5)        0.520884    0.518960\n",
       "3         ElasticNet  alpha=9.5)        0.171127    0.166552\n",
       "\n",
       "[84 rows x 4 columns]"
      ]
     },
     "execution_count": 117,
     "metadata": {},
     "output_type": "execute_result"
    }
   ],
   "source": [
    "results # [results.model == \"LinearRegression()\"]"
   ]
  },
  {
   "cell_type": "code",
   "execution_count": null,
   "id": "17d37707",
   "metadata": {},
   "outputs": [],
   "source": []
  },
  {
   "cell_type": "code",
   "execution_count": 129,
   "id": "53b4689b",
   "metadata": {},
   "outputs": [],
   "source": [
    "model_lst = [LinearRegression(),\n",
    "                                                                                                  Lasso(alpha=2),\n",
    "                                                                                                  Ridge(alpha=2),\n",
    "                                                                                                  ElasticNet(alpha=2)]"
   ]
  },
  {
   "cell_type": "code",
   "execution_count": 125,
   "id": "17c0827c",
   "metadata": {},
   "outputs": [
    {
     "name": "stdout",
     "output_type": "stream",
     "text": [
      "LinearRegression---\n",
      "Lasso1\n",
      "Ridge1\n",
      "ElasticNet1\n"
     ]
    }
   ],
   "source": [
    "for m in model_lst:\n",
    "    print(str(m).split(\"(\")[0], end=\"\")\n",
    "    if str(m) == \"LinearRegression()\":\n",
    "        print(\"---\")\n",
    "    else:\n",
    "        print(str(m).split(\"(\")[1].split(\")\")[0].replace(\"alpha=\",\"\"))"
   ]
  },
  {
   "cell_type": "code",
   "execution_count": 130,
   "id": "d54d0cae",
   "metadata": {},
   "outputs": [
    {
     "name": "stdout",
     "output_type": "stream",
     "text": [
      "---\n",
      "2\n",
      "2\n",
      "2\n"
     ]
    }
   ],
   "source": [
    "for m in model_lst:\n",
    "    if str(m) == \"LinearRegression()\":\n",
    "            print(\"---\")\n",
    "    else:\n",
    "        if str(m).split(\"(\")[0][0] == \")\":\n",
    "            print(\"1\")\n",
    "            # alpha_val.append(1)\n",
    "        else:\n",
    "            print(str(m).split(\"(\")[1].split(\")\")[0].split(\"=\")[1].split(\")\")[0])"
   ]
  },
  {
   "cell_type": "code",
   "execution_count": null,
   "id": "71ec5388",
   "metadata": {},
   "outputs": [],
   "source": []
  },
  {
   "cell_type": "code",
   "execution_count": null,
   "id": "9c7f4e73",
   "metadata": {},
   "outputs": [],
   "source": []
  },
  {
   "cell_type": "code",
   "execution_count": 96,
   "id": "04d7616a",
   "metadata": {
    "scrolled": true
   },
   "outputs": [
    {
     "data": {
      "text/html": [
       "<div>\n",
       "<style scoped>\n",
       "    .dataframe tbody tr th:only-of-type {\n",
       "        vertical-align: middle;\n",
       "    }\n",
       "\n",
       "    .dataframe tbody tr th {\n",
       "        vertical-align: top;\n",
       "    }\n",
       "\n",
       "    .dataframe thead th {\n",
       "        text-align: right;\n",
       "    }\n",
       "</style>\n",
       "<table border=\"1\" class=\"dataframe\">\n",
       "  <thead>\n",
       "    <tr style=\"text-align: right;\">\n",
       "      <th></th>\n",
       "      <th>model</th>\n",
       "      <th>alpha</th>\n",
       "      <th>training_score</th>\n",
       "      <th>test_score</th>\n",
       "    </tr>\n",
       "  </thead>\n",
       "  <tbody>\n",
       "    <tr>\n",
       "      <th>3</th>\n",
       "      <td>ElasticNet</td>\n",
       "      <td>---</td>\n",
       "      <td>0.462048</td>\n",
       "      <td>0.456518</td>\n",
       "    </tr>\n",
       "    <tr>\n",
       "      <th>3</th>\n",
       "      <td>ElasticNet</td>\n",
       "      <td>0.0</td>\n",
       "      <td>0.520885</td>\n",
       "      <td>0.518974</td>\n",
       "    </tr>\n",
       "    <tr>\n",
       "      <th>3</th>\n",
       "      <td>ElasticNet</td>\n",
       "      <td>0.1</td>\n",
       "      <td>0.519517</td>\n",
       "      <td>0.517106</td>\n",
       "    </tr>\n",
       "    <tr>\n",
       "      <th>3</th>\n",
       "      <td>ElasticNet</td>\n",
       "      <td>0.5</td>\n",
       "      <td>0.498705</td>\n",
       "      <td>0.494546</td>\n",
       "    </tr>\n",
       "    <tr>\n",
       "      <th>3</th>\n",
       "      <td>ElasticNet</td>\n",
       "      <td>1.5</td>\n",
       "      <td>0.425750</td>\n",
       "      <td>0.419493</td>\n",
       "    </tr>\n",
       "    <tr>\n",
       "      <th>...</th>\n",
       "      <td>...</td>\n",
       "      <td>...</td>\n",
       "      <td>...</td>\n",
       "      <td>...</td>\n",
       "    </tr>\n",
       "    <tr>\n",
       "      <th>2</th>\n",
       "      <td>Ridge</td>\n",
       "      <td>7.5</td>\n",
       "      <td>0.520884</td>\n",
       "      <td>0.518963</td>\n",
       "    </tr>\n",
       "    <tr>\n",
       "      <th>2</th>\n",
       "      <td>Ridge</td>\n",
       "      <td>8.0</td>\n",
       "      <td>0.520884</td>\n",
       "      <td>0.518962</td>\n",
       "    </tr>\n",
       "    <tr>\n",
       "      <th>2</th>\n",
       "      <td>Ridge</td>\n",
       "      <td>8.5</td>\n",
       "      <td>0.520884</td>\n",
       "      <td>0.518962</td>\n",
       "    </tr>\n",
       "    <tr>\n",
       "      <th>2</th>\n",
       "      <td>Ridge</td>\n",
       "      <td>9.0</td>\n",
       "      <td>0.520884</td>\n",
       "      <td>0.518961</td>\n",
       "    </tr>\n",
       "    <tr>\n",
       "      <th>2</th>\n",
       "      <td>Ridge</td>\n",
       "      <td>9.5</td>\n",
       "      <td>0.520884</td>\n",
       "      <td>0.518960</td>\n",
       "    </tr>\n",
       "  </tbody>\n",
       "</table>\n",
       "<p>84 rows × 4 columns</p>\n",
       "</div>"
      ],
      "text/plain": [
       "         model alpha  training_score  test_score\n",
       "3   ElasticNet   ---        0.462048    0.456518\n",
       "3   ElasticNet   0.0        0.520885    0.518974\n",
       "3   ElasticNet   0.1        0.519517    0.517106\n",
       "3   ElasticNet   0.5        0.498705    0.494546\n",
       "3   ElasticNet   1.5        0.425750    0.419493\n",
       "..         ...   ...             ...         ...\n",
       "2        Ridge   7.5        0.520884    0.518963\n",
       "2        Ridge   8.0        0.520884    0.518962\n",
       "2        Ridge   8.5        0.520884    0.518962\n",
       "2        Ridge   9.0        0.520884    0.518961\n",
       "2        Ridge   9.5        0.520884    0.518960\n",
       "\n",
       "[84 rows x 4 columns]"
      ]
     },
     "execution_count": 96,
     "metadata": {},
     "output_type": "execute_result"
    }
   ],
   "source": [
    "results.sort_values([\"model\",\"alpha\"])"
   ]
  },
  {
   "cell_type": "code",
   "execution_count": null,
   "id": "9232c2b4",
   "metadata": {},
   "outputs": [],
   "source": []
  },
  {
   "cell_type": "code",
   "execution_count": null,
   "id": "df453243",
   "metadata": {},
   "outputs": [],
   "source": []
  },
  {
   "cell_type": "code",
   "execution_count": 104,
   "id": "e69e992f",
   "metadata": {},
   "outputs": [],
   "source": [
    "elast = results[results.model == \"Ridge\"]"
   ]
  },
  {
   "cell_type": "code",
   "execution_count": 105,
   "id": "d20a3359",
   "metadata": {},
   "outputs": [
    {
     "data": {
      "text/html": [
       "<div>\n",
       "<style scoped>\n",
       "    .dataframe tbody tr th:only-of-type {\n",
       "        vertical-align: middle;\n",
       "    }\n",
       "\n",
       "    .dataframe tbody tr th {\n",
       "        vertical-align: top;\n",
       "    }\n",
       "\n",
       "    .dataframe thead th {\n",
       "        text-align: right;\n",
       "    }\n",
       "</style>\n",
       "<table border=\"1\" class=\"dataframe\">\n",
       "  <thead>\n",
       "    <tr style=\"text-align: right;\">\n",
       "      <th></th>\n",
       "      <th>model</th>\n",
       "      <th>alpha</th>\n",
       "      <th>training_score</th>\n",
       "      <th>test_score</th>\n",
       "    </tr>\n",
       "  </thead>\n",
       "  <tbody>\n",
       "    <tr>\n",
       "      <th>2</th>\n",
       "      <td>Ridge</td>\n",
       "      <td>0.1</td>\n",
       "      <td>0.520885</td>\n",
       "      <td>0.518974</td>\n",
       "    </tr>\n",
       "    <tr>\n",
       "      <th>2</th>\n",
       "      <td>Ridge</td>\n",
       "      <td>0.0</td>\n",
       "      <td>0.520885</td>\n",
       "      <td>0.518974</td>\n",
       "    </tr>\n",
       "    <tr>\n",
       "      <th>2</th>\n",
       "      <td>Ridge</td>\n",
       "      <td>0.5</td>\n",
       "      <td>0.520885</td>\n",
       "      <td>0.518973</td>\n",
       "    </tr>\n",
       "    <tr>\n",
       "      <th>2</th>\n",
       "      <td>Ridge</td>\n",
       "      <td>---</td>\n",
       "      <td>0.520885</td>\n",
       "      <td>0.518973</td>\n",
       "    </tr>\n",
       "    <tr>\n",
       "      <th>2</th>\n",
       "      <td>Ridge</td>\n",
       "      <td>1.5</td>\n",
       "      <td>0.520885</td>\n",
       "      <td>0.518972</td>\n",
       "    </tr>\n",
       "    <tr>\n",
       "      <th>2</th>\n",
       "      <td>Ridge</td>\n",
       "      <td>2.0</td>\n",
       "      <td>0.520885</td>\n",
       "      <td>0.518971</td>\n",
       "    </tr>\n",
       "    <tr>\n",
       "      <th>2</th>\n",
       "      <td>Ridge</td>\n",
       "      <td>2.5</td>\n",
       "      <td>0.520885</td>\n",
       "      <td>0.518970</td>\n",
       "    </tr>\n",
       "    <tr>\n",
       "      <th>2</th>\n",
       "      <td>Ridge</td>\n",
       "      <td>3.0</td>\n",
       "      <td>0.520884</td>\n",
       "      <td>0.518970</td>\n",
       "    </tr>\n",
       "    <tr>\n",
       "      <th>2</th>\n",
       "      <td>Ridge</td>\n",
       "      <td>3.5</td>\n",
       "      <td>0.520884</td>\n",
       "      <td>0.518969</td>\n",
       "    </tr>\n",
       "    <tr>\n",
       "      <th>2</th>\n",
       "      <td>Ridge</td>\n",
       "      <td>4.0</td>\n",
       "      <td>0.520884</td>\n",
       "      <td>0.518968</td>\n",
       "    </tr>\n",
       "    <tr>\n",
       "      <th>2</th>\n",
       "      <td>Ridge</td>\n",
       "      <td>4.5</td>\n",
       "      <td>0.520884</td>\n",
       "      <td>0.518968</td>\n",
       "    </tr>\n",
       "    <tr>\n",
       "      <th>2</th>\n",
       "      <td>Ridge</td>\n",
       "      <td>5.0</td>\n",
       "      <td>0.520884</td>\n",
       "      <td>0.518967</td>\n",
       "    </tr>\n",
       "    <tr>\n",
       "      <th>2</th>\n",
       "      <td>Ridge</td>\n",
       "      <td>5.5</td>\n",
       "      <td>0.520884</td>\n",
       "      <td>0.518966</td>\n",
       "    </tr>\n",
       "    <tr>\n",
       "      <th>2</th>\n",
       "      <td>Ridge</td>\n",
       "      <td>6.0</td>\n",
       "      <td>0.520884</td>\n",
       "      <td>0.518965</td>\n",
       "    </tr>\n",
       "    <tr>\n",
       "      <th>2</th>\n",
       "      <td>Ridge</td>\n",
       "      <td>6.5</td>\n",
       "      <td>0.520884</td>\n",
       "      <td>0.518965</td>\n",
       "    </tr>\n",
       "    <tr>\n",
       "      <th>2</th>\n",
       "      <td>Ridge</td>\n",
       "      <td>7.0</td>\n",
       "      <td>0.520884</td>\n",
       "      <td>0.518964</td>\n",
       "    </tr>\n",
       "    <tr>\n",
       "      <th>2</th>\n",
       "      <td>Ridge</td>\n",
       "      <td>7.5</td>\n",
       "      <td>0.520884</td>\n",
       "      <td>0.518963</td>\n",
       "    </tr>\n",
       "    <tr>\n",
       "      <th>2</th>\n",
       "      <td>Ridge</td>\n",
       "      <td>8.0</td>\n",
       "      <td>0.520884</td>\n",
       "      <td>0.518962</td>\n",
       "    </tr>\n",
       "    <tr>\n",
       "      <th>2</th>\n",
       "      <td>Ridge</td>\n",
       "      <td>8.5</td>\n",
       "      <td>0.520884</td>\n",
       "      <td>0.518962</td>\n",
       "    </tr>\n",
       "    <tr>\n",
       "      <th>2</th>\n",
       "      <td>Ridge</td>\n",
       "      <td>9.0</td>\n",
       "      <td>0.520884</td>\n",
       "      <td>0.518961</td>\n",
       "    </tr>\n",
       "    <tr>\n",
       "      <th>2</th>\n",
       "      <td>Ridge</td>\n",
       "      <td>9.5</td>\n",
       "      <td>0.520884</td>\n",
       "      <td>0.518960</td>\n",
       "    </tr>\n",
       "  </tbody>\n",
       "</table>\n",
       "</div>"
      ],
      "text/plain": [
       "   model alpha  training_score  test_score\n",
       "2  Ridge   0.1        0.520885    0.518974\n",
       "2  Ridge   0.0        0.520885    0.518974\n",
       "2  Ridge   0.5        0.520885    0.518973\n",
       "2  Ridge   ---        0.520885    0.518973\n",
       "2  Ridge   1.5        0.520885    0.518972\n",
       "2  Ridge   2.0        0.520885    0.518971\n",
       "2  Ridge   2.5        0.520885    0.518970\n",
       "2  Ridge   3.0        0.520884    0.518970\n",
       "2  Ridge   3.5        0.520884    0.518969\n",
       "2  Ridge   4.0        0.520884    0.518968\n",
       "2  Ridge   4.5        0.520884    0.518968\n",
       "2  Ridge   5.0        0.520884    0.518967\n",
       "2  Ridge   5.5        0.520884    0.518966\n",
       "2  Ridge   6.0        0.520884    0.518965\n",
       "2  Ridge   6.5        0.520884    0.518965\n",
       "2  Ridge   7.0        0.520884    0.518964\n",
       "2  Ridge   7.5        0.520884    0.518963\n",
       "2  Ridge   8.0        0.520884    0.518962\n",
       "2  Ridge   8.5        0.520884    0.518962\n",
       "2  Ridge   9.0        0.520884    0.518961\n",
       "2  Ridge   9.5        0.520884    0.518960"
      ]
     },
     "execution_count": 105,
     "metadata": {},
     "output_type": "execute_result"
    }
   ],
   "source": [
    "elast"
   ]
  },
  {
   "cell_type": "code",
   "execution_count": null,
   "id": "36241465",
   "metadata": {},
   "outputs": [],
   "source": []
  },
  {
   "cell_type": "code",
   "execution_count": null,
   "id": "59f5eda6",
   "metadata": {},
   "outputs": [],
   "source": []
  },
  {
   "cell_type": "code",
   "execution_count": null,
   "id": "a0a39d27",
   "metadata": {},
   "outputs": [],
   "source": []
  },
  {
   "cell_type": "code",
   "execution_count": null,
   "id": "4b85ce20",
   "metadata": {},
   "outputs": [],
   "source": []
  },
  {
   "cell_type": "code",
   "execution_count": null,
   "id": "51250fe5",
   "metadata": {},
   "outputs": [],
   "source": []
  },
  {
   "cell_type": "code",
   "execution_count": 80,
   "id": "b6cc892c",
   "metadata": {},
   "outputs": [],
   "source": [
    "X_added_constant = sm.add_constant(X)\n",
    "# X_added_constant"
   ]
  },
  {
   "cell_type": "code",
   "execution_count": 81,
   "id": "a23188d4",
   "metadata": {},
   "outputs": [],
   "source": [
    "X_train, X_test, y_train, y_test = train_test_split(X, y, test_size=0.30, random_state=42)\n",
    "\n",
    "X_train = X_train.select_dtypes(include=np.number)\n",
    "X_test  = X_test.select_dtypes(include=np.number)"
   ]
  },
  {
   "cell_type": "code",
   "execution_count": 82,
   "id": "97eac85b",
   "metadata": {},
   "outputs": [],
   "source": [
    "# model = sm.OLS(y,X_added_constant).fit()\n",
    "# model.summary()"
   ]
  },
  {
   "cell_type": "code",
   "execution_count": 36,
   "id": "571a9ff4",
   "metadata": {},
   "outputs": [
    {
     "name": "stdout",
     "output_type": "stream",
     "text": [
      "LinearRegression: Train -> 0.5208845836696386, Test -> 0.5189738717256577\n"
     ]
    }
   ],
   "source": [
    "model=LinearRegression()\n",
    "\n",
    "model.fit(X_train, y_train)\n",
    "print(f\"{model.__class__.__name__}: Train -> {model.score(X_train, y_train)}, Test -> {model.score(X_test, y_test)}\")"
   ]
  },
  {
   "cell_type": "code",
   "execution_count": null,
   "id": "ab5d245f",
   "metadata": {},
   "outputs": [],
   "source": []
  },
  {
   "cell_type": "code",
   "execution_count": 37,
   "id": "4ab683c0",
   "metadata": {},
   "outputs": [
    {
     "name": "stdout",
     "output_type": "stream",
     "text": [
      "Lasso: Train -> 0.5205035767216227, Test -> 0.5197714491401642\n"
     ]
    }
   ],
   "source": [
    "model=Lasso(alpha=0.1)\n",
    "\n",
    "model.fit(X_train, y_train)\n",
    "print(f\"{model.__class__.__name__}: Train -> {model.score(X_train, y_train)}, Test -> {model.score(X_test, y_test)}\")"
   ]
  },
  {
   "cell_type": "code",
   "execution_count": null,
   "id": "1cf474a9",
   "metadata": {},
   "outputs": [],
   "source": []
  },
  {
   "cell_type": "code",
   "execution_count": 38,
   "id": "18d8df67",
   "metadata": {},
   "outputs": [
    {
     "name": "stdout",
     "output_type": "stream",
     "text": [
      "Ridge: Train -> 0.5208845836696292, Test -> 0.5189738716178669\n"
     ]
    }
   ],
   "source": [
    "model=Ridge(alpha=0.1)\n",
    "model.fit(X_train, y_train)\n",
    "print(f\"{model.__class__.__name__}: Train -> {model.score(X_train, y_train)}, Test -> {model.score(X_test, y_test)}\")"
   ]
  },
  {
   "cell_type": "code",
   "execution_count": null,
   "id": "95d0b11b",
   "metadata": {},
   "outputs": [],
   "source": []
  },
  {
   "cell_type": "code",
   "execution_count": 39,
   "id": "b97b9292",
   "metadata": {},
   "outputs": [
    {
     "name": "stdout",
     "output_type": "stream",
     "text": [
      "ElasticNet: Train -> 0.5208841472497661, Test -> 0.5189726190526929\n"
     ]
    }
   ],
   "source": [
    "model=ElasticNet(alpha=0.1)\n",
    "model.fit(X_train, y_train)\n",
    "print(f\"{model.__class__.__name__}: Train -> {model.score(X_train, y_train)}, Test -> {model.score(X_test, y_test)}\")"
   ]
  },
  {
   "cell_type": "code",
   "execution_count": null,
   "id": "d24c5c89",
   "metadata": {},
   "outputs": [],
   "source": []
  }
 ],
 "metadata": {
  "kernelspec": {
   "display_name": "Python 3 (ipykernel)",
   "language": "python",
   "name": "python3"
  },
  "language_info": {
   "codemirror_mode": {
    "name": "ipython",
    "version": 3
   },
   "file_extension": ".py",
   "mimetype": "text/x-python",
   "name": "python",
   "nbconvert_exporter": "python",
   "pygments_lexer": "ipython3",
   "version": "3.9.7"
  },
  "toc": {
   "base_numbering": 1,
   "nav_menu": {},
   "number_sections": true,
   "sideBar": true,
   "skip_h1_title": false,
   "title_cell": "Table of Contents",
   "title_sidebar": "Contents",
   "toc_cell": false,
   "toc_position": {},
   "toc_section_display": true,
   "toc_window_display": false
  },
  "varInspector": {
   "cols": {
    "lenName": 16,
    "lenType": 16,
    "lenVar": 40
   },
   "kernels_config": {
    "python": {
     "delete_cmd_postfix": "",
     "delete_cmd_prefix": "del ",
     "library": "var_list.py",
     "varRefreshCmd": "print(var_dic_list())"
    },
    "r": {
     "delete_cmd_postfix": ") ",
     "delete_cmd_prefix": "rm(",
     "library": "var_list.r",
     "varRefreshCmd": "cat(var_dic_list()) "
    }
   },
   "types_to_exclude": [
    "module",
    "function",
    "builtin_function_or_method",
    "instance",
    "_Feature"
   ],
   "window_display": false
  }
 },
 "nbformat": 4,
 "nbformat_minor": 5
}
