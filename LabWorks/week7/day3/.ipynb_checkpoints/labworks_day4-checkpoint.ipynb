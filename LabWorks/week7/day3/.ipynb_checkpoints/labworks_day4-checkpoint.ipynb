{
 "cells": [
  {
   "cell_type": "markdown",
   "id": "26b2428a",
   "metadata": {},
   "source": [
    "<a id=\"top\"> </a>\n",
    "# ToC\n",
    "+ [1. Functions](#functions)\n",
    "+ [2. Day1](#day1)\n",
    "+ [3. KNN](#knn)\n",
    "+ [4. Decision Tree](#dec_tree)\n",
    "    + [4.1 Decission Tree Classification](#dec_tree_class)\n"
   ]
  },
  {
   "cell_type": "code",
   "execution_count": 133,
   "id": "5fdf1ae1",
   "metadata": {},
   "outputs": [],
   "source": [
    "import pandas as pd\n",
    "import numpy as np\n",
    "import matplotlib.pyplot as plt\n",
    "from sklearn.datasets import load_boston\n",
    "from sklearn.datasets import load_iris, load_breast_cancer\n",
    "from sklearn.tree import DecisionTreeRegressor\n",
    "from sklearn.tree import DecisionTreeClassifier\n",
    "from sklearn.linear_model import LogisticRegression, LinearRegression\n",
    "from sklearn.neighbors import KNeighborsRegressor, KNeighborsClassifier\n",
    "from sklearn.preprocessing import PowerTransformer, StandardScaler\n",
    "from sklearn.model_selection import cross_val_score\n",
    "from sklearn.model_selection import cross_val_predict\n",
    "from sklearn.ensemble import RandomForestClassifier\n",
    "from sklearn.model_selection import train_test_split\n",
    "from sklearn.tree import plot_tree\n",
    "import warnings\n",
    "warnings.filterwarnings('ignore')\n",
    "from sklearn.metrics import mean_absolute_error, mean_squared_error, r2_score\n",
    "from sklearn.model_selection import GridSearchCV\n",
    "from sklearn.metrics import accuracy_score, precision_score, recall_score, confusion_matrix\n",
    "from sklearn.metrics import plot_confusion_matrix\n",
    "import matplotlib.pyplot as plt\n",
    "import seaborn as sns\n",
    "from imblearn.over_sampling import SMOTE\n"
   ]
  },
  {
   "cell_type": "code",
   "execution_count": 2,
   "id": "83c12d93",
   "metadata": {},
   "outputs": [],
   "source": [
    "numerics = ['int16', 'int32', 'int64', 'float16', 'float32', 'float64']"
   ]
  },
  {
   "cell_type": "code",
   "execution_count": 3,
   "id": "37b9eee4",
   "metadata": {},
   "outputs": [],
   "source": [
    "data_churn = pd.read_csv(\"../data/data_customer-churn.csv\")"
   ]
  },
  {
   "cell_type": "code",
   "execution_count": 4,
   "id": "5b0197fb",
   "metadata": {},
   "outputs": [],
   "source": [
    "data_cust = pd.read_csv(\"../data/cleaned_cust_data.csv\")"
   ]
  },
  {
   "cell_type": "markdown",
   "id": "a1a7d3b8",
   "metadata": {},
   "source": [
    "<a id=\"functions\"></a>\n",
    "## 1. Functions"
   ]
  },
  {
   "cell_type": "code",
   "execution_count": 5,
   "id": "e568da1a",
   "metadata": {},
   "outputs": [],
   "source": [
    "def snake_case_columns(col_names:[list]=None):\n",
    "    # __author__ = \"Roman Kaltschew\"\n",
    "    \"\"\"changes all columns to snake_case (from CamelCase)\"\"\"\n",
    "    if not col_names or type(col_names) != list:\n",
    "        print(\"No list of column names provided\")\n",
    "        return None\n",
    "    new_cols = []\n",
    "    for col in col_names:\n",
    "        this_col = col[0].lower()\n",
    "        for _ in col[1:]:\n",
    "            if _.isupper():\n",
    "                this_col += f\"_{_.lower()}\"\n",
    "            else:\n",
    "                this_col += _\n",
    "        new_cols.append(this_col)\n",
    "    return new_cols"
   ]
  },
  {
   "cell_type": "code",
   "execution_count": 6,
   "id": "fac1936f",
   "metadata": {},
   "outputs": [],
   "source": [
    "def nan_values_of_all_columns(this_df, return_dict:[bool] = False):\n",
    "    # __author__ = \"Roman Kaltschew\"\n",
    "    \"\"\"prints (defaults) or returns dictionary of all columns in this_df and their respective nan-values\"\"\"\n",
    "    if not return_dict:\n",
    "        for col in this_df.columns:\n",
    "            print(col, this_df[col].isna().sum())\n",
    "        return\n",
    "    return {col:this_df[col].isna().sum() for col in this_df.columns}"
   ]
  },
  {
   "cell_type": "code",
   "execution_count": 7,
   "id": "39e07b9b",
   "metadata": {},
   "outputs": [],
   "source": [
    "def x_y_to_1_0(value:[str]=None, x=\"Yes\", y=\"No\", return_none:[bool]=True):\n",
    "    # __author__ = \"Roman Kaltschew\"\n",
    "    \"\"\"changes the value from x-value to 1 and y-value to 0, returns None if True and value is neither x or y\"\"\"\n",
    "    if value == x:\n",
    "        return 1\n",
    "    elif value == y:\n",
    "        return 0\n",
    "    else:\n",
    "        if return_none:\n",
    "            return None\n"
   ]
  },
  {
   "cell_type": "code",
   "execution_count": 8,
   "id": "a0c56685",
   "metadata": {},
   "outputs": [],
   "source": [
    "def split_column_names_by(this_df, include_dtypes:[list]=[\"int\",\"float\"]):\n",
    "    # __author__ = \"Roman Kaltschew\"\n",
    "    \"\"\"takes in this_df, splits this_df's columns into two lists of column name by dtype of columns (default [\"int\",\"float\"]) \n",
    "       and returns tuple (incl_lst, excl_lst)\"\"\"\n",
    "    incl_lst = [_ for _ in this_df.select_dtypes(include=include_dtypes).dtypes.index]\n",
    "    excl_lst = [_ for _ in this_df.select_dtypes(exclude=include_dtypes).dtypes.index]\n",
    "    return (incl_lst, excl_lst)"
   ]
  },
  {
   "cell_type": "code",
   "execution_count": 9,
   "id": "25dcc1c2",
   "metadata": {},
   "outputs": [],
   "source": [
    "def nan_values_of_all_columns(this_df, return_dict:[bool] = False):\n",
    "    # __author__ = \"Roman Kaltschew\"\n",
    "    \"\"\"prints (defaults) or returns dictionary of all columns in this_df and their respective nan-values\"\"\"\n",
    "    if not return_dict:\n",
    "        for col in this_df.columns:\n",
    "            print(col, this_df[col].isna().sum())\n",
    "        return\n",
    "    return {col:this_df[col].isna().sum() for col in this_df.columns}"
   ]
  },
  {
   "cell_type": "code",
   "execution_count": 10,
   "id": "2663616d",
   "metadata": {},
   "outputs": [],
   "source": [
    "def performance_model(y_train, y_test, y_pred_train, y_pred_test):\n",
    "\n",
    "    # Model validation y_train - y_pred_train\n",
    "    ME_train = np.mean(y_train-y_pred_train)\n",
    "    ME_test  = np.mean(y_test-y_pred_test)\n",
    "\n",
    "    MAE_train = mean_absolute_error(y_train,y_pred_train)\n",
    "    MAE_test  = mean_absolute_error(y_test,y_pred_test)\n",
    "\n",
    "    MSE_train = mean_squared_error(y_train,y_pred_train)\n",
    "    MSE_test  = mean_squared_error(y_test,y_pred_test)\n",
    "\n",
    "    RMSE_train = np.sqrt(MSE_train)\n",
    "    RMSE_test  = np.sqrt(MSE_test)\n",
    "\n",
    "    MAPE_train = np.mean((np.abs(y_train-y_pred_train) / y_train)* 100.)\n",
    "    MAPE_test  = np.mean((np.abs(y_test-y_pred_test) / y_test)* 100.)\n",
    "\n",
    "    R2_train = r2_score(y_train,y_pred_train)\n",
    "    R2_test  = r2_score(y_test,y_pred_test)\n",
    "\n",
    "    performance = pd.DataFrame({'Error_metric': ['Mean error','Mean absolute error','Mean squared error',\n",
    "                                             'Root mean squared error','Mean absolute percentual error',\n",
    "                                             'R2'],\n",
    "                            'Train': [ME_train, MAE_train, MSE_train, RMSE_train, MAPE_train, R2_train],\n",
    "                            'Test' : [ME_test, MAE_test , MSE_test, RMSE_test, MAPE_test, R2_test]})\n",
    "\n",
    "    pd.options.display.float_format = '{:.2f}'.format\n",
    "\n",
    "\n",
    "    df_train = pd.DataFrame({'Real_value': y_train, 'Predicted_value': y_pred_train})\n",
    "    df_test  = pd.DataFrame({'Real_value': y_test,  'PRedicted_value': y_pred_test})\n",
    "\n",
    "    return performance, df_train, df_test"
   ]
  },
  {
   "cell_type": "code",
   "execution_count": 124,
   "id": "ab2feb44",
   "metadata": {},
   "outputs": [],
   "source": [
    "def dec_tree_class_conf_matrices(X_train, X_test, y_train, y_test, max_dpth:[int]=3, show_df:[bool]=True,\n",
    "                                 return_df:[bool]=False, show_conf:[bool]=False, show_tree:[bool]=False):\n",
    "    \"\"\"Takes the pre-processed X_train, X_test, y_train, y_test and models decision tree, options for max_depth, displaying\n",
    "       performance df, returning performance df, plotting confusion matrices and tree (default: 3, True, False, False, False)\"\"\"\n",
    "    dt = DecisionTreeClassifier(max_depth=max_dpth)\n",
    "\n",
    "    dt.fit(X_train, y_train)\n",
    "\n",
    "    y_pred_train_dt = dt.predict(X_train)\n",
    "    y_pred_test_dt = dt.predict(X_test)\n",
    "\n",
    "    performance_df = pd.DataFrame({'error_metric': ['Accuracy','Precision','Recall'],\n",
    "                                   'train': [accuracy_score(y_train, y_pred_train_dt),\n",
    "                                             precision_score(y_train, y_pred_train_dt, pos_label=\"Yes\"),\n",
    "                                             recall_score(y_train, y_pred_train_dt, pos_label=\"Yes\")],\n",
    "                                   'test': [accuracy_score(y_test, y_pred_test_dt),\n",
    "                                            precision_score(y_test, y_pred_test_dt, pos_label=\"Yes\"),\n",
    "                                            recall_score(y_test, y_pred_test_dt, pos_label=\"Yes\")]})\n",
    "    if show_df:\n",
    "        display(performance_df)\n",
    "    if show_conf:\n",
    "        plot_confusion_matrix(dt,X_train,y_train, values_format = 'd')\n",
    "        plt.title(f\"Confusion matrix\\nTrain Set with max depth of {max_dpth}\")\n",
    "        plot_confusion_matrix(dt,X_test,y_test, values_format = 'd')\n",
    "        plt.title(f\"Confusion matrix\\nTest Set with max depth of {max_dpth}\")\n",
    "        plt.show()\n",
    "    if show_tree:\n",
    "        fig, axes = plt.subplots(nrows = 1,ncols = 1,figsize = (20,10))\n",
    "        plot_tree(model,filled = True, rounded=True, feature_names = X.columns)\n",
    "        plt.title(\"Decision Tree\")\n",
    "        plt.show()\n",
    "    if return_df:\n",
    "        return performance_df"
   ]
  },
  {
   "cell_type": "code",
   "execution_count": 130,
   "id": "e5bcc3a7",
   "metadata": {},
   "outputs": [],
   "source": [
    "def random_forest_classifier_df(this_X_train, this_y_train, this_min_dpth:[int]=2, this_max_dpth:[int]=5, \n",
    "                                this_min_cv:[int]=5, this_max_cv:[int]=25, this_random_state=42):\n",
    "    result_df = pd.DataFrame()\n",
    "    for md in range(this_min_dpth, this_max_dpth+1):\n",
    "        for cv_s in range(this_min_cv,this_max_cv+1,5):\n",
    "            clf = RandomForestClassifier(max_depth=md, random_state=this_random_state)\n",
    "            cross_val_scores = cross_val_score(clf, X_train, y_train, cv=cv_s)\n",
    "            result_df = pd.concat([pd.DataFrame([[md, cv_s, np.mean(cross_val_scores)]]), result_df], axis=0)\n",
    "    result_df.rename(columns={0: 'max_depth', 1: 'cv', 2:\"mean_score\"}, inplace=True)\n",
    "    return result_df"
   ]
  },
  {
   "cell_type": "code",
   "execution_count": null,
   "id": "3255bafc",
   "metadata": {},
   "outputs": [],
   "source": []
  },
  {
   "cell_type": "markdown",
   "id": "8103cd86",
   "metadata": {},
   "source": [
    "**project specific**"
   ]
  },
  {
   "cell_type": "code",
   "execution_count": 11,
   "id": "1c40c486",
   "metadata": {},
   "outputs": [],
   "source": [
    "def preprocessing(this_df):\n",
    "    # __author__ = \"Roman Kaltschew\"    \n",
    "    \"\"\"Project Specific, following instructions from LabWorks Week7 day2\"\"\"\n",
    "    # snake case for all columns\n",
    "    this_df.columns = snake_case_columns(list(this_df.columns))\n",
    "    this_df.rename(columns={'streaming_t_v': 'streaming_tv'}, inplace=True)\n",
    "    # drop the \" \" from total_charges\n",
    "    this_df = this_df[this_df.total_charges != \" \"]\n",
    "    # change total_charges to float64\n",
    "    this_df[\"total_charges\"] = this_df[\"total_charges\"].astype(\"float64\")\n",
    "    # return only relevant columns\n",
    "    return this_df[[\"tenure\", \"senior_citizen\", \"monthly_charges\", \"total_charges\", \"churn\"]]"
   ]
  },
  {
   "cell_type": "code",
   "execution_count": 12,
   "id": "5b2d6006",
   "metadata": {},
   "outputs": [],
   "source": []
  },
  {
   "cell_type": "code",
   "execution_count": null,
   "id": "71001938",
   "metadata": {},
   "outputs": [],
   "source": []
  },
  {
   "cell_type": "code",
   "execution_count": null,
   "id": "7f989cb3",
   "metadata": {},
   "outputs": [],
   "source": []
  },
  {
   "cell_type": "code",
   "execution_count": 13,
   "id": "00cda6d0",
   "metadata": {},
   "outputs": [
    {
     "data": {
      "text/plain": [
       "\"\\nfrom sklearn import preprocessing \\nlabel_encoder = preprocessing.LabelEncoder()\\nchurnData['Churn']= label_encoder.fit_transform(churnData['Churn'] ) \\nchurnData.head(2)\\n\""
      ]
     },
     "execution_count": 13,
     "metadata": {},
     "output_type": "execute_result"
    }
   ],
   "source": [
    "\"\"\"\n",
    "from sklearn import preprocessing \n",
    "label_encoder = preprocessing.LabelEncoder()\n",
    "churnData['Churn']= label_encoder.fit_transform(churnData['Churn'] ) \n",
    "churnData.head(2)\n",
    "\"\"\""
   ]
  },
  {
   "cell_type": "code",
   "execution_count": null,
   "id": "0cbc077c",
   "metadata": {},
   "outputs": [],
   "source": []
  },
  {
   "cell_type": "code",
   "execution_count": null,
   "id": "697e5a05",
   "metadata": {},
   "outputs": [],
   "source": []
  },
  {
   "cell_type": "code",
   "execution_count": null,
   "id": "639280ff",
   "metadata": {},
   "outputs": [],
   "source": []
  },
  {
   "cell_type": "markdown",
   "id": "d87b185e",
   "metadata": {},
   "source": [
    "[top](#top)"
   ]
  },
  {
   "cell_type": "markdown",
   "id": "381a3223",
   "metadata": {},
   "source": [
    "## Placehodler Day 1"
   ]
  },
  {
   "cell_type": "code",
   "execution_count": null,
   "id": "9b300fe7",
   "metadata": {},
   "outputs": [],
   "source": []
  },
  {
   "cell_type": "code",
   "execution_count": null,
   "id": "42107ad8",
   "metadata": {},
   "outputs": [],
   "source": []
  },
  {
   "cell_type": "code",
   "execution_count": null,
   "id": "dfbe2011",
   "metadata": {},
   "outputs": [],
   "source": []
  },
  {
   "cell_type": "markdown",
   "id": "2036c92e",
   "metadata": {},
   "source": [
    "<a id= \"knn\"></a>\n",
    "## 3. KNN"
   ]
  },
  {
   "cell_type": "markdown",
   "id": "daeaef11",
   "metadata": {},
   "source": [
    "### Classification Problem"
   ]
  },
  {
   "cell_type": "code",
   "execution_count": 14,
   "id": "38b30061",
   "metadata": {},
   "outputs": [
    {
     "data": {
      "text/html": [
       "<div>\n",
       "<style scoped>\n",
       "    .dataframe tbody tr th:only-of-type {\n",
       "        vertical-align: middle;\n",
       "    }\n",
       "\n",
       "    .dataframe tbody tr th {\n",
       "        vertical-align: top;\n",
       "    }\n",
       "\n",
       "    .dataframe thead th {\n",
       "        text-align: right;\n",
       "    }\n",
       "</style>\n",
       "<table border=\"1\" class=\"dataframe\">\n",
       "  <thead>\n",
       "    <tr style=\"text-align: right;\">\n",
       "      <th></th>\n",
       "      <th>tenure</th>\n",
       "      <th>senior_citizen</th>\n",
       "      <th>monthly_charges</th>\n",
       "      <th>total_charges</th>\n",
       "      <th>churn</th>\n",
       "    </tr>\n",
       "  </thead>\n",
       "  <tbody>\n",
       "    <tr>\n",
       "      <th>0</th>\n",
       "      <td>1</td>\n",
       "      <td>0</td>\n",
       "      <td>29.85</td>\n",
       "      <td>29.85</td>\n",
       "      <td>No</td>\n",
       "    </tr>\n",
       "    <tr>\n",
       "      <th>1</th>\n",
       "      <td>34</td>\n",
       "      <td>0</td>\n",
       "      <td>56.95</td>\n",
       "      <td>1889.50</td>\n",
       "      <td>No</td>\n",
       "    </tr>\n",
       "    <tr>\n",
       "      <th>2</th>\n",
       "      <td>2</td>\n",
       "      <td>0</td>\n",
       "      <td>53.85</td>\n",
       "      <td>108.15</td>\n",
       "      <td>Yes</td>\n",
       "    </tr>\n",
       "    <tr>\n",
       "      <th>3</th>\n",
       "      <td>45</td>\n",
       "      <td>0</td>\n",
       "      <td>42.30</td>\n",
       "      <td>1840.75</td>\n",
       "      <td>No</td>\n",
       "    </tr>\n",
       "    <tr>\n",
       "      <th>4</th>\n",
       "      <td>2</td>\n",
       "      <td>0</td>\n",
       "      <td>70.70</td>\n",
       "      <td>151.65</td>\n",
       "      <td>Yes</td>\n",
       "    </tr>\n",
       "    <tr>\n",
       "      <th>...</th>\n",
       "      <td>...</td>\n",
       "      <td>...</td>\n",
       "      <td>...</td>\n",
       "      <td>...</td>\n",
       "      <td>...</td>\n",
       "    </tr>\n",
       "    <tr>\n",
       "      <th>7038</th>\n",
       "      <td>24</td>\n",
       "      <td>0</td>\n",
       "      <td>84.80</td>\n",
       "      <td>1990.50</td>\n",
       "      <td>No</td>\n",
       "    </tr>\n",
       "    <tr>\n",
       "      <th>7039</th>\n",
       "      <td>72</td>\n",
       "      <td>0</td>\n",
       "      <td>103.20</td>\n",
       "      <td>7362.90</td>\n",
       "      <td>No</td>\n",
       "    </tr>\n",
       "    <tr>\n",
       "      <th>7040</th>\n",
       "      <td>11</td>\n",
       "      <td>0</td>\n",
       "      <td>29.60</td>\n",
       "      <td>346.45</td>\n",
       "      <td>No</td>\n",
       "    </tr>\n",
       "    <tr>\n",
       "      <th>7041</th>\n",
       "      <td>4</td>\n",
       "      <td>1</td>\n",
       "      <td>74.40</td>\n",
       "      <td>306.60</td>\n",
       "      <td>Yes</td>\n",
       "    </tr>\n",
       "    <tr>\n",
       "      <th>7042</th>\n",
       "      <td>66</td>\n",
       "      <td>0</td>\n",
       "      <td>105.65</td>\n",
       "      <td>6844.50</td>\n",
       "      <td>No</td>\n",
       "    </tr>\n",
       "  </tbody>\n",
       "</table>\n",
       "<p>7032 rows × 5 columns</p>\n",
       "</div>"
      ],
      "text/plain": [
       "      tenure  senior_citizen  monthly_charges  total_charges churn\n",
       "0          1               0            29.85          29.85    No\n",
       "1         34               0            56.95        1889.50    No\n",
       "2          2               0            53.85         108.15   Yes\n",
       "3         45               0            42.30        1840.75    No\n",
       "4          2               0            70.70         151.65   Yes\n",
       "...      ...             ...              ...            ...   ...\n",
       "7038      24               0            84.80        1990.50    No\n",
       "7039      72               0           103.20        7362.90    No\n",
       "7040      11               0            29.60         346.45    No\n",
       "7041       4               1            74.40         306.60   Yes\n",
       "7042      66               0           105.65        6844.50    No\n",
       "\n",
       "[7032 rows x 5 columns]"
      ]
     },
     "execution_count": 14,
     "metadata": {},
     "output_type": "execute_result"
    }
   ],
   "source": [
    "data = preprocessing(data_churn)\n",
    "data"
   ]
  },
  {
   "cell_type": "code",
   "execution_count": 15,
   "id": "6295aa72",
   "metadata": {},
   "outputs": [],
   "source": [
    "X = data.drop([\"churn\"], axis=1)\n",
    "y = (data[\"churn\"])"
   ]
  },
  {
   "cell_type": "code",
   "execution_count": 16,
   "id": "714002e1",
   "metadata": {},
   "outputs": [
    {
     "data": {
      "text/html": [
       "<div>\n",
       "<style scoped>\n",
       "    .dataframe tbody tr th:only-of-type {\n",
       "        vertical-align: middle;\n",
       "    }\n",
       "\n",
       "    .dataframe tbody tr th {\n",
       "        vertical-align: top;\n",
       "    }\n",
       "\n",
       "    .dataframe thead th {\n",
       "        text-align: right;\n",
       "    }\n",
       "</style>\n",
       "<table border=\"1\" class=\"dataframe\">\n",
       "  <thead>\n",
       "    <tr style=\"text-align: right;\">\n",
       "      <th></th>\n",
       "      <th>Error_metric</th>\n",
       "      <th>Train</th>\n",
       "      <th>Test</th>\n",
       "    </tr>\n",
       "  </thead>\n",
       "  <tbody>\n",
       "    <tr>\n",
       "      <th>0</th>\n",
       "      <td>Accuracy</td>\n",
       "      <td>0.793778</td>\n",
       "      <td>0.780384</td>\n",
       "    </tr>\n",
       "    <tr>\n",
       "      <th>1</th>\n",
       "      <td>Precision</td>\n",
       "      <td>0.658768</td>\n",
       "      <td>0.624521</td>\n",
       "    </tr>\n",
       "    <tr>\n",
       "      <th>2</th>\n",
       "      <td>Recall</td>\n",
       "      <td>0.464883</td>\n",
       "      <td>0.435829</td>\n",
       "    </tr>\n",
       "  </tbody>\n",
       "</table>\n",
       "</div>"
      ],
      "text/plain": [
       "  Error_metric     Train      Test\n",
       "0     Accuracy  0.793778  0.780384\n",
       "1    Precision  0.658768  0.624521\n",
       "2       Recall  0.464883  0.435829"
      ]
     },
     "metadata": {},
     "output_type": "display_data"
    },
    {
     "name": "stdout",
     "output_type": "stream",
     "text": [
      "Confusion matrix for the train set\n",
      "[[3770  360]\n",
      " [ 800  695]]\n"
     ]
    },
    {
     "data": {
      "image/png": "[encoded data removed]",
      "text/plain": [
       "<Figure size 432x288 with 2 Axes>"
      ]
     },
     "metadata": {
      "needs_background": "light"
     },
     "output_type": "display_data"
    },
    {
     "name": "stdout",
     "output_type": "stream",
     "text": [
      "\n",
      "\n",
      "Confusion matrix for the test set\n",
      "[[935  98]\n",
      " [211 163]]\n"
     ]
    },
    {
     "data": {
      "image/png": "[encoded data removed]",
      "text/plain": [
       "<Figure size 432x288 with 2 Axes>"
      ]
     },
     "metadata": {
      "needs_background": "light"
     },
     "output_type": "display_data"
    }
   ],
   "source": [
    "log_model = LogisticRegression() \n",
    "\n",
    "## Data splitting\n",
    "X_train, X_test, y_train, y_test = train_test_split(X, y, test_size=0.20, random_state=42)\n",
    "\n",
    "trans = StandardScaler()\n",
    "\n",
    "trans.fit(X_train)\n",
    "\n",
    "X_train_mod = trans.transform(X_train)\n",
    "X_test_mod  = trans.transform(X_test)\n",
    "\n",
    "log_model.fit(X_train_mod, y_train)\n",
    "\n",
    "y_pred_train_log = log_model.predict(X_train_mod)\n",
    "y_pred_test_log = log_model.predict(X_test_mod)\n",
    "\n",
    "performance_log = pd.DataFrame({'Error_metric': ['Accuracy','Precision','Recall'],\n",
    "                               'Train': [accuracy_score(y_train, y_pred_train_log),\n",
    "                                         precision_score(y_train, y_pred_train_log, pos_label=\"Yes\"),\n",
    "                                         recall_score(y_train, y_pred_train_log, pos_label=\"Yes\")],\n",
    "                               'Test': [accuracy_score(y_test, y_pred_test_log),\n",
    "                                        precision_score(y_test, y_pred_test_log, pos_label=\"Yes\"),\n",
    "                                        recall_score(y_test, y_pred_test_log, pos_label=\"Yes\")]})\n",
    "\n",
    "display(performance_log)\n",
    "\n",
    "print(\"Confusion matrix for the train set\")\n",
    "print(confusion_matrix(y_train,y_pred_train_log))\n",
    "plot_confusion_matrix(log_model,X_train_mod,y_train, values_format = 'd')\n",
    "plt.show()\n",
    "\n",
    "print()\n",
    "print()\n",
    "\n",
    "print(\"Confusion matrix for the test set\")\n",
    "print(confusion_matrix(y_test, y_pred_test_log))\n",
    "plot_confusion_matrix(log_model,X_test_mod,y_test, values_format = 'd')\n",
    "plt.show()"
   ]
  },
  {
   "cell_type": "code",
   "execution_count": null,
   "id": "946e0820",
   "metadata": {},
   "outputs": [],
   "source": []
  },
  {
   "cell_type": "code",
   "execution_count": null,
   "id": "feff6608",
   "metadata": {},
   "outputs": [],
   "source": []
  },
  {
   "cell_type": "code",
   "execution_count": null,
   "id": "4983bf3b",
   "metadata": {},
   "outputs": [],
   "source": []
  },
  {
   "cell_type": "markdown",
   "id": "924cff09",
   "metadata": {},
   "source": [
    "<a id = \"dec_tree\"></a>\n",
    "## 4. Decision Tree"
   ]
  },
  {
   "cell_type": "markdown",
   "id": "8d1cd0af",
   "metadata": {},
   "source": [
    "<a id = \"dec_tree_class\"></a>\n",
    "### 4.1 Classification"
   ]
  },
  {
   "cell_type": "markdown",
   "id": "26ae6b20",
   "metadata": {},
   "source": [
    "#### 4.1.1 Using only the four numerical columns from LabWorks description\n",
    "(week 7, day 2)"
   ]
  },
  {
   "cell_type": "code",
   "execution_count": 17,
   "id": "ecb0f9c3",
   "metadata": {},
   "outputs": [],
   "source": [
    "data_ = preprocessing(data_churn)"
   ]
  },
  {
   "cell_type": "code",
   "execution_count": 18,
   "id": "ff7ff94b",
   "metadata": {},
   "outputs": [],
   "source": [
    "X = data_.drop(columns=[\"churn\"], axis = 1)\n",
    "y = data_[\"churn\"]"
   ]
  },
  {
   "cell_type": "code",
   "execution_count": 19,
   "id": "8823d294",
   "metadata": {},
   "outputs": [],
   "source": [
    "X_train, X_test, y_train, y_test = train_test_split(X, y, test_size=0.30, random_state=42)"
   ]
  },
  {
   "cell_type": "markdown",
   "id": "7c5a3f8b",
   "metadata": {},
   "source": [
    "**Compare different levels of depth**"
   ]
  },
  {
   "cell_type": "code",
   "execution_count": 20,
   "id": "dbb823b7",
   "metadata": {},
   "outputs": [],
   "source": [
    "compare_performance_df = pd.DataFrame()\n",
    "\n",
    "for depth in range(2,8):\n",
    "    dt = DecisionTreeClassifier(max_depth=depth)\n",
    "\n",
    "    dt.fit(X_train, y_train)\n",
    "\n",
    "    y_pred_train_dt = dt.predict(X_train)\n",
    "    y_pred_test_dt = dt.predict(X_test)\n",
    "\n",
    "    performance_df = pd.DataFrame({\"depth\" : depth,\n",
    "                                   'error_metric': ['Accuracy','Precision','Recall'],\n",
    "                                   'train': [accuracy_score(y_train, y_pred_train_dt),\n",
    "                                             precision_score(y_train, y_pred_train_dt, pos_label=\"Yes\"),\n",
    "                                             recall_score(y_train, y_pred_train_dt, pos_label=\"Yes\")],\n",
    "                                   'test': [accuracy_score(y_test, y_pred_test_dt),\n",
    "                                            precision_score(y_test, y_pred_test_dt, pos_label=\"Yes\"),\n",
    "                                            recall_score(y_test, y_pred_test_dt, pos_label=\"Yes\")]})\n",
    "    \n",
    "    compare_performance_df = pd.concat([compare_performance_df,performance_df], axis=0)"
   ]
  },
  {
   "cell_type": "code",
   "execution_count": 21,
   "id": "31cb0fd6",
   "metadata": {},
   "outputs": [
    {
     "data": {
      "text/html": [
       "<div>\n",
       "<style scoped>\n",
       "    .dataframe tbody tr th:only-of-type {\n",
       "        vertical-align: middle;\n",
       "    }\n",
       "\n",
       "    .dataframe tbody tr th {\n",
       "        vertical-align: top;\n",
       "    }\n",
       "\n",
       "    .dataframe thead th {\n",
       "        text-align: right;\n",
       "    }\n",
       "</style>\n",
       "<table border=\"1\" class=\"dataframe\">\n",
       "  <thead>\n",
       "    <tr style=\"text-align: right;\">\n",
       "      <th></th>\n",
       "      <th>depth</th>\n",
       "      <th>error_metric</th>\n",
       "      <th>train</th>\n",
       "      <th>test</th>\n",
       "    </tr>\n",
       "  </thead>\n",
       "  <tbody>\n",
       "    <tr>\n",
       "      <th>0</th>\n",
       "      <td>2</td>\n",
       "      <td>Accuracy</td>\n",
       "      <td>0.788501</td>\n",
       "      <td>0.771564</td>\n",
       "    </tr>\n",
       "    <tr>\n",
       "      <th>1</th>\n",
       "      <td>2</td>\n",
       "      <td>Precision</td>\n",
       "      <td>0.659880</td>\n",
       "      <td>0.605898</td>\n",
       "    </tr>\n",
       "    <tr>\n",
       "      <th>2</th>\n",
       "      <td>2</td>\n",
       "      <td>Recall</td>\n",
       "      <td>0.421254</td>\n",
       "      <td>0.402852</td>\n",
       "    </tr>\n",
       "    <tr>\n",
       "      <th>0</th>\n",
       "      <td>3</td>\n",
       "      <td>Accuracy</td>\n",
       "      <td>0.788501</td>\n",
       "      <td>0.771564</td>\n",
       "    </tr>\n",
       "    <tr>\n",
       "      <th>1</th>\n",
       "      <td>3</td>\n",
       "      <td>Precision</td>\n",
       "      <td>0.659880</td>\n",
       "      <td>0.605898</td>\n",
       "    </tr>\n",
       "    <tr>\n",
       "      <th>2</th>\n",
       "      <td>3</td>\n",
       "      <td>Recall</td>\n",
       "      <td>0.421254</td>\n",
       "      <td>0.402852</td>\n",
       "    </tr>\n",
       "    <tr>\n",
       "      <th>0</th>\n",
       "      <td>4</td>\n",
       "      <td>Accuracy</td>\n",
       "      <td>0.798659</td>\n",
       "      <td>0.778199</td>\n",
       "    </tr>\n",
       "    <tr>\n",
       "      <th>1</th>\n",
       "      <td>4</td>\n",
       "      <td>Precision</td>\n",
       "      <td>0.672096</td>\n",
       "      <td>0.615385</td>\n",
       "    </tr>\n",
       "    <tr>\n",
       "      <th>2</th>\n",
       "      <td>4</td>\n",
       "      <td>Recall</td>\n",
       "      <td>0.473242</td>\n",
       "      <td>0.442068</td>\n",
       "    </tr>\n",
       "    <tr>\n",
       "      <th>0</th>\n",
       "      <td>5</td>\n",
       "      <td>Accuracy</td>\n",
       "      <td>0.800081</td>\n",
       "      <td>0.774408</td>\n",
       "    </tr>\n",
       "    <tr>\n",
       "      <th>1</th>\n",
       "      <td>5</td>\n",
       "      <td>Precision</td>\n",
       "      <td>0.676471</td>\n",
       "      <td>0.605985</td>\n",
       "    </tr>\n",
       "    <tr>\n",
       "      <th>2</th>\n",
       "      <td>5</td>\n",
       "      <td>Recall</td>\n",
       "      <td>0.474771</td>\n",
       "      <td>0.433155</td>\n",
       "    </tr>\n",
       "    <tr>\n",
       "      <th>0</th>\n",
       "      <td>6</td>\n",
       "      <td>Accuracy</td>\n",
       "      <td>0.811662</td>\n",
       "      <td>0.773460</td>\n",
       "    </tr>\n",
       "    <tr>\n",
       "      <th>1</th>\n",
       "      <td>6</td>\n",
       "      <td>Precision</td>\n",
       "      <td>0.700315</td>\n",
       "      <td>0.597190</td>\n",
       "    </tr>\n",
       "    <tr>\n",
       "      <th>2</th>\n",
       "      <td>6</td>\n",
       "      <td>Recall</td>\n",
       "      <td>0.509174</td>\n",
       "      <td>0.454545</td>\n",
       "    </tr>\n",
       "    <tr>\n",
       "      <th>0</th>\n",
       "      <td>7</td>\n",
       "      <td>Accuracy</td>\n",
       "      <td>0.817757</td>\n",
       "      <td>0.773460</td>\n",
       "    </tr>\n",
       "    <tr>\n",
       "      <th>1</th>\n",
       "      <td>7</td>\n",
       "      <td>Precision</td>\n",
       "      <td>0.716544</td>\n",
       "      <td>0.597647</td>\n",
       "    </tr>\n",
       "    <tr>\n",
       "      <th>2</th>\n",
       "      <td>7</td>\n",
       "      <td>Recall</td>\n",
       "      <td>0.519878</td>\n",
       "      <td>0.452763</td>\n",
       "    </tr>\n",
       "  </tbody>\n",
       "</table>\n",
       "</div>"
      ],
      "text/plain": [
       "   depth error_metric     train      test\n",
       "0      2     Accuracy  0.788501  0.771564\n",
       "1      2    Precision  0.659880  0.605898\n",
       "2      2       Recall  0.421254  0.402852\n",
       "0      3     Accuracy  0.788501  0.771564\n",
       "1      3    Precision  0.659880  0.605898\n",
       "2      3       Recall  0.421254  0.402852\n",
       "0      4     Accuracy  0.798659  0.778199\n",
       "1      4    Precision  0.672096  0.615385\n",
       "2      4       Recall  0.473242  0.442068\n",
       "0      5     Accuracy  0.800081  0.774408\n",
       "1      5    Precision  0.676471  0.605985\n",
       "2      5       Recall  0.474771  0.433155\n",
       "0      6     Accuracy  0.811662  0.773460\n",
       "1      6    Precision  0.700315  0.597190\n",
       "2      6       Recall  0.509174  0.454545\n",
       "0      7     Accuracy  0.817757  0.773460\n",
       "1      7    Precision  0.716544  0.597647\n",
       "2      7       Recall  0.519878  0.452763"
      ]
     },
     "execution_count": 21,
     "metadata": {},
     "output_type": "execute_result"
    }
   ],
   "source": [
    "compare_performance_df\n",
    "# compare_performance_df.sort_values([\"error_metric\", \"depth\"], ascending = (True, True)) # sorted by error_metric and depth"
   ]
  },
  {
   "cell_type": "code",
   "execution_count": 22,
   "id": "0d096724",
   "metadata": {},
   "outputs": [],
   "source": [
    "# fig, ax = plt.subplots(nrows = 1,ncols = 1,figsize = (10,8))\n",
    "# sns.lineplot(data=compare_performance_df, x=compare_performance_df.depth)\n"
   ]
  },
  {
   "cell_type": "markdown",
   "id": "039e64ad",
   "metadata": {},
   "source": [
    "#### 4.1.2 Use depth of 4, include confusion matrices and tree plot\n",
    "changing from 3 to 4 results in a jump in **recall score** of test set by **+4 %**"
   ]
  },
  {
   "cell_type": "code",
   "execution_count": 23,
   "id": "eaec1c38",
   "metadata": {},
   "outputs": [],
   "source": [
    "X = data_.drop(columns=[\"churn\"], axis = 1)\n",
    "y = data_[\"churn\"]\n",
    "\n",
    "X_train, X_test, y_train, y_test = train_test_split(X, y, test_size=0.30, random_state=42)"
   ]
  },
  {
   "cell_type": "code",
   "execution_count": 24,
   "id": "abff246b",
   "metadata": {},
   "outputs": [
    {
     "data": {
      "text/html": [
       "<div>\n",
       "<style scoped>\n",
       "    .dataframe tbody tr th:only-of-type {\n",
       "        vertical-align: middle;\n",
       "    }\n",
       "\n",
       "    .dataframe tbody tr th {\n",
       "        vertical-align: top;\n",
       "    }\n",
       "\n",
       "    .dataframe thead th {\n",
       "        text-align: right;\n",
       "    }\n",
       "</style>\n",
       "<table border=\"1\" class=\"dataframe\">\n",
       "  <thead>\n",
       "    <tr style=\"text-align: right;\">\n",
       "      <th></th>\n",
       "      <th>error_metric</th>\n",
       "      <th>train</th>\n",
       "      <th>test</th>\n",
       "    </tr>\n",
       "  </thead>\n",
       "  <tbody>\n",
       "    <tr>\n",
       "      <th>0</th>\n",
       "      <td>Accuracy</td>\n",
       "      <td>0.798659</td>\n",
       "      <td>0.778199</td>\n",
       "    </tr>\n",
       "    <tr>\n",
       "      <th>1</th>\n",
       "      <td>Precision</td>\n",
       "      <td>0.672096</td>\n",
       "      <td>0.615385</td>\n",
       "    </tr>\n",
       "    <tr>\n",
       "      <th>2</th>\n",
       "      <td>Recall</td>\n",
       "      <td>0.473242</td>\n",
       "      <td>0.442068</td>\n",
       "    </tr>\n",
       "  </tbody>\n",
       "</table>\n",
       "</div>"
      ],
      "text/plain": [
       "  error_metric     train      test\n",
       "0     Accuracy  0.798659  0.778199\n",
       "1    Precision  0.672096  0.615385\n",
       "2       Recall  0.473242  0.442068"
      ]
     },
     "metadata": {},
     "output_type": "display_data"
    },
    {
     "name": "stdout",
     "output_type": "stream",
     "text": [
      "Confusion matrix for the train set\n"
     ]
    },
    {
     "data": {
      "image/png": "[encoded data removed]",
      "text/plain": [
       "<Figure size 432x288 with 2 Axes>"
      ]
     },
     "metadata": {
      "needs_background": "light"
     },
     "output_type": "display_data"
    },
    {
     "name": "stdout",
     "output_type": "stream",
     "text": [
      "Confusion matrix for the test set\n"
     ]
    },
    {
     "data": {
      "image/png": "[encoded data removed]",
      "text/plain": [
       "<Figure size 432x288 with 2 Axes>"
      ]
     },
     "metadata": {
      "needs_background": "light"
     },
     "output_type": "display_data"
    },
    {
     "name": "stdout",
     "output_type": "stream",
     "text": [
      "Tree plot\n"
     ]
    },
    {
     "data": {
      "image/png": "[encoded data removed]",
      "text/plain": [
       "<Figure size 1440x1008 with 1 Axes>"
      ]
     },
     "metadata": {
      "needs_background": "light"
     },
     "output_type": "display_data"
    }
   ],
   "source": [
    "# dt = DecisionTreeClassifier(max_depth=4, random_state=42)\n",
    "dt = DecisionTreeClassifier(max_depth=4, random_state=42)\n",
    "\n",
    "dt.fit(X_train, y_train)\n",
    "\n",
    "y_pred_train_dt = dt.predict(X_train)\n",
    "y_pred_test_dt = dt.predict(X_test)\n",
    "\n",
    "performance_df = pd.DataFrame({'error_metric': ['Accuracy','Precision','Recall'],\n",
    "                               'train': [accuracy_score(y_train, y_pred_train_dt),\n",
    "                                         precision_score(y_train, y_pred_train_dt, pos_label=\"Yes\"),\n",
    "                                         recall_score(y_train, y_pred_train_dt, pos_label=\"Yes\")],\n",
    "                               'test': [accuracy_score(y_test, y_pred_test_dt),\n",
    "                                        precision_score(y_test, y_pred_test_dt, pos_label=\"Yes\"),\n",
    "                                        recall_score(y_test, y_pred_test_dt, pos_label=\"Yes\")]})\n",
    "\n",
    "display(performance_df)\n",
    "\n",
    "print(\"Confusion matrix for the train set\")\n",
    "\n",
    "plot_confusion_matrix(dt,X_train,y_train, values_format = 'd')\n",
    "plt.show()\n",
    "\n",
    "print(\"Confusion matrix for the test set\")\n",
    "\n",
    "plot_confusion_matrix(dt,X_test,y_test, values_format = 'd')\n",
    "plt.show()\n",
    "\n",
    "print(\"Tree plot\")\n",
    "fig, axes = plt.subplots(nrows = 1,ncols = 1,figsize = (20,14)) # ,dpi=200)\n",
    "\n",
    "plot_tree(dt,filled = True, rounded=True, feature_names = X.columns)\n",
    "plt.show() "
   ]
  },
  {
   "cell_type": "markdown",
   "id": "cb341d67",
   "metadata": {},
   "source": [
    "#### 4.1.3 include categorical columns from original dataset"
   ]
  },
  {
   "cell_type": "code",
   "execution_count": 25,
   "id": "b482134b",
   "metadata": {},
   "outputs": [],
   "source": [
    "data_ = data_churn.copy()"
   ]
  },
  {
   "cell_type": "code",
   "execution_count": 26,
   "id": "eff6cec0",
   "metadata": {},
   "outputs": [],
   "source": [
    "# remove \" \" values from total_charge and set type as float\n",
    "data_ = data_[data_.total_charges != \" \"]\n",
    "data_[\"total_charges\"] = data_[\"total_charges\"].astype(\"float64\")\n"
   ]
  },
  {
   "cell_type": "code",
   "execution_count": 27,
   "id": "96490264",
   "metadata": {},
   "outputs": [],
   "source": [
    "X = data_.drop(columns=[\"churn\"], axis = 1)\n",
    "y = data_[\"churn\"]\n"
   ]
  },
  {
   "cell_type": "code",
   "execution_count": 28,
   "id": "ac984126",
   "metadata": {},
   "outputs": [],
   "source": [
    "categoricals_features= X.select_dtypes(\"object\")\n",
    "cat_cols=pd.get_dummies(categoricals_features, drop_first=True)\n",
    "# cat_cols"
   ]
  },
  {
   "cell_type": "code",
   "execution_count": 29,
   "id": "e01de174",
   "metadata": {
    "scrolled": true
   },
   "outputs": [],
   "source": [
    "X = X._get_numeric_data()\n",
    "X = pd.concat([X,cat_cols],axis=1)"
   ]
  },
  {
   "cell_type": "code",
   "execution_count": 30,
   "id": "e973226f",
   "metadata": {},
   "outputs": [],
   "source": [
    "X_train, X_test, y_train, y_test = train_test_split(X, y, test_size=0.30, random_state=42)"
   ]
  },
  {
   "cell_type": "code",
   "execution_count": 31,
   "id": "482e8251",
   "metadata": {},
   "outputs": [
    {
     "data": {
      "text/html": [
       "<div>\n",
       "<style scoped>\n",
       "    .dataframe tbody tr th:only-of-type {\n",
       "        vertical-align: middle;\n",
       "    }\n",
       "\n",
       "    .dataframe tbody tr th {\n",
       "        vertical-align: top;\n",
       "    }\n",
       "\n",
       "    .dataframe thead th {\n",
       "        text-align: right;\n",
       "    }\n",
       "</style>\n",
       "<table border=\"1\" class=\"dataframe\">\n",
       "  <thead>\n",
       "    <tr style=\"text-align: right;\">\n",
       "      <th></th>\n",
       "      <th>error_metric</th>\n",
       "      <th>train</th>\n",
       "      <th>test</th>\n",
       "    </tr>\n",
       "  </thead>\n",
       "  <tbody>\n",
       "    <tr>\n",
       "      <th>0</th>\n",
       "      <td>Accuracy</td>\n",
       "      <td>0.799269</td>\n",
       "      <td>0.779621</td>\n",
       "    </tr>\n",
       "    <tr>\n",
       "      <th>1</th>\n",
       "      <td>Precision</td>\n",
       "      <td>0.670576</td>\n",
       "      <td>0.617073</td>\n",
       "    </tr>\n",
       "    <tr>\n",
       "      <th>2</th>\n",
       "      <td>Recall</td>\n",
       "      <td>0.480887</td>\n",
       "      <td>0.450980</td>\n",
       "    </tr>\n",
       "  </tbody>\n",
       "</table>\n",
       "</div>"
      ],
      "text/plain": [
       "  error_metric     train      test\n",
       "0     Accuracy  0.799269  0.779621\n",
       "1    Precision  0.670576  0.617073\n",
       "2       Recall  0.480887  0.450980"
      ]
     },
     "metadata": {},
     "output_type": "display_data"
    },
    {
     "name": "stdout",
     "output_type": "stream",
     "text": [
      "Confusion matrix for the train set\n"
     ]
    },
    {
     "data": {
      "image/png": "[encoded data removed]",
      "text/plain": [
       "<Figure size 432x288 with 2 Axes>"
      ]
     },
     "metadata": {
      "needs_background": "light"
     },
     "output_type": "display_data"
    },
    {
     "name": "stdout",
     "output_type": "stream",
     "text": [
      "Confusion matrix for the test set\n"
     ]
    },
    {
     "data": {
      "image/png": "[encoded data removed]",
      "text/plain": [
       "<Figure size 432x288 with 2 Axes>"
      ]
     },
     "metadata": {
      "needs_background": "light"
     },
     "output_type": "display_data"
    },
    {
     "name": "stdout",
     "output_type": "stream",
     "text": [
      "Tree plot\n"
     ]
    },
    {
     "data": {
      "image/png": "[encoded data removed]",
      "text/plain": [
       "<Figure size 1440x1008 with 1 Axes>"
      ]
     },
     "metadata": {
      "needs_background": "light"
     },
     "output_type": "display_data"
    }
   ],
   "source": [
    "dt = DecisionTreeClassifier(max_depth=4)\n",
    "\n",
    "dt.fit(X_train, y_train)\n",
    "\n",
    "y_pred_train_dt = dt.predict(X_train)\n",
    "y_pred_test_dt = dt.predict(X_test)\n",
    "\n",
    "performance_df = pd.DataFrame({'error_metric': ['Accuracy','Precision','Recall'],\n",
    "                               'train': [accuracy_score(y_train, y_pred_train_dt),\n",
    "                                         precision_score(y_train, y_pred_train_dt, pos_label=\"Yes\"),\n",
    "                                         recall_score(y_train, y_pred_train_dt, pos_label=\"Yes\")],\n",
    "                               'test': [accuracy_score(y_test, y_pred_test_dt),\n",
    "                                        precision_score(y_test, y_pred_test_dt, pos_label=\"Yes\"),\n",
    "                                        recall_score(y_test, y_pred_test_dt, pos_label=\"Yes\")]})\n",
    "\n",
    "display(performance_df)\n",
    "\n",
    "print(\"Confusion matrix for the train set\")\n",
    "\n",
    "plot_confusion_matrix(dt,X_train,y_train, values_format = 'd')\n",
    "plt.show()\n",
    "\n",
    "print(\"Confusion matrix for the test set\")\n",
    "\n",
    "plot_confusion_matrix(dt,X_test,y_test, values_format = 'd')\n",
    "plt.show()\n",
    "\n",
    "print(\"Tree plot\")\n",
    "fig, axes = plt.subplots(nrows = 1,ncols = 1,figsize = (20,14))\n",
    "\n",
    "plot_tree(dt,filled = True, rounded=True, feature_names = X.columns)\n",
    "plt.show() "
   ]
  },
  {
   "cell_type": "markdown",
   "id": "7bf5b934",
   "metadata": {},
   "source": [
    "<a id = \"dec_tree_linreg\"></a>\n",
    "### 4.2 Decision Tree LinearRegression"
   ]
  },
  {
   "cell_type": "code",
   "execution_count": 32,
   "id": "bdbe000f",
   "metadata": {},
   "outputs": [],
   "source": [
    "data_ = data_cust.copy()"
   ]
  },
  {
   "cell_type": "code",
   "execution_count": 33,
   "id": "479fcc90",
   "metadata": {},
   "outputs": [],
   "source": [
    "data_ = data_._get_numeric_data()\n",
    "# data_"
   ]
  },
  {
   "cell_type": "code",
   "execution_count": 34,
   "id": "1b1d8d6c",
   "metadata": {},
   "outputs": [],
   "source": [
    "X = data_.drop(columns=[\"total_claim_amount\"], axis = 1)\n",
    "y = data_[\"total_claim_amount\"]"
   ]
  },
  {
   "cell_type": "code",
   "execution_count": 35,
   "id": "15f67cab",
   "metadata": {},
   "outputs": [],
   "source": [
    "#X = X._get_numeric_data()\n",
    "# X"
   ]
  },
  {
   "cell_type": "code",
   "execution_count": 36,
   "id": "2983def4",
   "metadata": {},
   "outputs": [],
   "source": [
    "X_train, X_test, y_train, y_test = train_test_split(X, y, test_size=0.30, random_state=42)"
   ]
  },
  {
   "cell_type": "code",
   "execution_count": 37,
   "id": "f7b677f0",
   "metadata": {},
   "outputs": [
    {
     "data": {
      "text/html": [
       "<div>\n",
       "<style scoped>\n",
       "    .dataframe tbody tr th:only-of-type {\n",
       "        vertical-align: middle;\n",
       "    }\n",
       "\n",
       "    .dataframe tbody tr th {\n",
       "        vertical-align: top;\n",
       "    }\n",
       "\n",
       "    .dataframe thead th {\n",
       "        text-align: right;\n",
       "    }\n",
       "</style>\n",
       "<table border=\"1\" class=\"dataframe\">\n",
       "  <thead>\n",
       "    <tr style=\"text-align: right;\">\n",
       "      <th></th>\n",
       "      <th>Error_metric</th>\n",
       "      <th>Train</th>\n",
       "      <th>Test</th>\n",
       "    </tr>\n",
       "  </thead>\n",
       "  <tbody>\n",
       "    <tr>\n",
       "      <th>0</th>\n",
       "      <td>Mean error</td>\n",
       "      <td>0.00</td>\n",
       "      <td>2.77</td>\n",
       "    </tr>\n",
       "    <tr>\n",
       "      <th>1</th>\n",
       "      <td>Mean absolute error</td>\n",
       "      <td>151.63</td>\n",
       "      <td>152.43</td>\n",
       "    </tr>\n",
       "    <tr>\n",
       "      <th>2</th>\n",
       "      <td>Mean squared error</td>\n",
       "      <td>42003.78</td>\n",
       "      <td>40254.75</td>\n",
       "    </tr>\n",
       "    <tr>\n",
       "      <th>3</th>\n",
       "      <td>Root mean squared error</td>\n",
       "      <td>204.95</td>\n",
       "      <td>200.64</td>\n",
       "    </tr>\n",
       "    <tr>\n",
       "      <th>4</th>\n",
       "      <td>Mean absolute percentual error</td>\n",
       "      <td>inf</td>\n",
       "      <td>inf</td>\n",
       "    </tr>\n",
       "    <tr>\n",
       "      <th>5</th>\n",
       "      <td>R2</td>\n",
       "      <td>0.51</td>\n",
       "      <td>0.51</td>\n",
       "    </tr>\n",
       "  </tbody>\n",
       "</table>\n",
       "</div>"
      ],
      "text/plain": [
       "                     Error_metric    Train     Test\n",
       "0                      Mean error     0.00     2.77\n",
       "1             Mean absolute error   151.63   152.43\n",
       "2              Mean squared error 42003.78 40254.75\n",
       "3         Root mean squared error   204.95   200.64\n",
       "4  Mean absolute percentual error      inf      inf\n",
       "5                              R2     0.51     0.51"
      ]
     },
     "execution_count": 37,
     "metadata": {},
     "output_type": "execute_result"
    }
   ],
   "source": [
    "model = DecisionTreeRegressor(max_depth=3)\n",
    "\n",
    "model.fit(X_train, y_train)\n",
    "\n",
    "y_pred_train = model.predict(X_train)\n",
    "y_pred_test  = model.predict(X_test)\n",
    "\n",
    "performance, _ ,_ = performance_model(y_train, y_test, y_pred_train, y_pred_test)\n",
    "performance"
   ]
  },
  {
   "cell_type": "code",
   "execution_count": 38,
   "id": "0ce89f66",
   "metadata": {},
   "outputs": [
    {
     "data": {
      "image/png": "[encoded data removed]",
      "text/plain": [
       "<Figure size 1440x720 with 1 Axes>"
      ]
     },
     "metadata": {
      "needs_background": "light"
     },
     "output_type": "display_data"
    }
   ],
   "source": [
    "fig, axes = plt.subplots(nrows = 1,ncols = 1,figsize = (20,10))\n",
    "\n",
    "plot_tree(model,filled = True, rounded=True, feature_names = X.columns)\n",
    "plt.show()  "
   ]
  },
  {
   "cell_type": "code",
   "execution_count": null,
   "id": "d40b2e36",
   "metadata": {},
   "outputs": [],
   "source": []
  },
  {
   "cell_type": "markdown",
   "id": "74f1a8dc",
   "metadata": {},
   "source": [
    "## Cross Validation"
   ]
  },
  {
   "cell_type": "markdown",
   "id": "d6fb23e2",
   "metadata": {},
   "source": [
    "### 5.1 Classification "
   ]
  },
  {
   "cell_type": "code",
   "execution_count": 39,
   "id": "99f19455",
   "metadata": {},
   "outputs": [],
   "source": [
    "data_ = preprocessing(data_churn)\n",
    "\n",
    "X = data_.drop(columns=[\"churn\"], axis = 1)\n",
    "y = data_[\"churn\"]\n",
    "\n",
    "X_train, X_test, y_train, y_test = train_test_split(X, y, test_size=0.20)"
   ]
  },
  {
   "cell_type": "code",
   "execution_count": 40,
   "id": "01734bd3",
   "metadata": {},
   "outputs": [
    {
     "data": {
      "text/plain": [
       "0.7100213219616205"
      ]
     },
     "execution_count": 40,
     "metadata": {},
     "output_type": "execute_result"
    }
   ],
   "source": [
    "model = DecisionTreeClassifier()\n",
    "model.fit(X_train, y_train)\n",
    "model.score(X_test, y_test)"
   ]
  },
  {
   "cell_type": "code",
   "execution_count": 41,
   "id": "dea53f98",
   "metadata": {},
   "outputs": [
    {
     "data": {
      "text/html": [
       "<div>\n",
       "<style scoped>\n",
       "    .dataframe tbody tr th:only-of-type {\n",
       "        vertical-align: middle;\n",
       "    }\n",
       "\n",
       "    .dataframe tbody tr th {\n",
       "        vertical-align: top;\n",
       "    }\n",
       "\n",
       "    .dataframe thead th {\n",
       "        text-align: right;\n",
       "    }\n",
       "</style>\n",
       "<table border=\"1\" class=\"dataframe\">\n",
       "  <thead>\n",
       "    <tr style=\"text-align: right;\">\n",
       "      <th></th>\n",
       "      <th>Model</th>\n",
       "      <th>Accuracy</th>\n",
       "    </tr>\n",
       "  </thead>\n",
       "  <tbody>\n",
       "    <tr>\n",
       "      <th>0</th>\n",
       "      <td>Regression Tree</td>\n",
       "      <td>0.72</td>\n",
       "    </tr>\n",
       "    <tr>\n",
       "      <th>1</th>\n",
       "      <td>Logistic Regression</td>\n",
       "      <td>0.79</td>\n",
       "    </tr>\n",
       "    <tr>\n",
       "      <th>2</th>\n",
       "      <td>KNN</td>\n",
       "      <td>0.76</td>\n",
       "    </tr>\n",
       "  </tbody>\n",
       "</table>\n",
       "</div>"
      ],
      "text/plain": [
       "                 Model  Accuracy\n",
       "0      Regression Tree      0.72\n",
       "1  Logistic Regression      0.79\n",
       "2                  KNN      0.76"
      ]
     },
     "execution_count": 41,
     "metadata": {},
     "output_type": "execute_result"
    }
   ],
   "source": [
    "#model1 = DecisionTreeRegressor()\n",
    "model1 = DecisionTreeClassifier()\n",
    "# model2 = LinearRegression()\n",
    "model2 = LogisticRegression()\n",
    "# model3 = KNeighborsRegressor()\n",
    "model3 = KNeighborsClassifier()\n",
    "\n",
    "model_pipeline = [model1, model2, model3]\n",
    "model_names = ['Regression Tree', 'Logistic Regression', 'KNN']\n",
    "scores = {}\n",
    "i=0\n",
    "for model in model_pipeline:\n",
    "    mean_score = np.mean(cross_val_score(model, X_train, y_train, cv=10))\n",
    "    scores[model_names[i]] = round(mean_score, 4)\n",
    "    i = i+1\n",
    "\n",
    "pd.DataFrame.from_dict(scores.items()).rename({0:\"Model\",1:\"Accuracy\"}, axis=1)"
   ]
  },
  {
   "cell_type": "markdown",
   "id": "14b98ccb",
   "metadata": {},
   "source": [
    "### 5.2 LinearRegeression"
   ]
  },
  {
   "cell_type": "code",
   "execution_count": 86,
   "id": "aca28ea3",
   "metadata": {},
   "outputs": [],
   "source": [
    "data_ = data_cust.copy()\n",
    "\n",
    "data_ = data_._get_numeric_data()\n",
    "\n",
    "\n",
    "X = data_.drop(columns=[\"total_claim_amount\"], axis = 1)\n",
    "y = data_[\"total_claim_amount\"]\n",
    "\n",
    "X_train, X_test, y_train, y_test = train_test_split(X, y, test_size=0.30, random_state=42)"
   ]
  },
  {
   "cell_type": "code",
   "execution_count": 87,
   "id": "867bca6b",
   "metadata": {},
   "outputs": [
    {
     "data": {
      "text/html": [
       "<div>\n",
       "<style scoped>\n",
       "    .dataframe tbody tr th:only-of-type {\n",
       "        vertical-align: middle;\n",
       "    }\n",
       "\n",
       "    .dataframe tbody tr th {\n",
       "        vertical-align: top;\n",
       "    }\n",
       "\n",
       "    .dataframe thead th {\n",
       "        text-align: right;\n",
       "    }\n",
       "</style>\n",
       "<table border=\"1\" class=\"dataframe\">\n",
       "  <thead>\n",
       "    <tr style=\"text-align: right;\">\n",
       "      <th></th>\n",
       "      <th>customer_lifetime_value</th>\n",
       "      <th>income</th>\n",
       "      <th>monthly_premium_auto</th>\n",
       "      <th>months_since_last_claim</th>\n",
       "      <th>months_since_policy_inception</th>\n",
       "      <th>number_of_open_complaints</th>\n",
       "      <th>number_of_policies</th>\n",
       "      <th>total_claim_amount</th>\n",
       "      <th>month</th>\n",
       "    </tr>\n",
       "  </thead>\n",
       "  <tbody>\n",
       "    <tr>\n",
       "      <th>0</th>\n",
       "      <td>4809</td>\n",
       "      <td>48029</td>\n",
       "      <td>61</td>\n",
       "      <td>7</td>\n",
       "      <td>52</td>\n",
       "      <td>0.00</td>\n",
       "      <td>9</td>\n",
       "      <td>292</td>\n",
       "      <td>2</td>\n",
       "    </tr>\n",
       "    <tr>\n",
       "      <th>1</th>\n",
       "      <td>2228</td>\n",
       "      <td>0</td>\n",
       "      <td>64</td>\n",
       "      <td>3</td>\n",
       "      <td>26</td>\n",
       "      <td>0.00</td>\n",
       "      <td>1</td>\n",
       "      <td>744</td>\n",
       "      <td>1</td>\n",
       "    </tr>\n",
       "    <tr>\n",
       "      <th>2</th>\n",
       "      <td>14947</td>\n",
       "      <td>22139</td>\n",
       "      <td>100</td>\n",
       "      <td>34</td>\n",
       "      <td>31</td>\n",
       "      <td>0.00</td>\n",
       "      <td>2</td>\n",
       "      <td>480</td>\n",
       "      <td>2</td>\n",
       "    </tr>\n",
       "    <tr>\n",
       "      <th>3</th>\n",
       "      <td>22332</td>\n",
       "      <td>49078</td>\n",
       "      <td>97</td>\n",
       "      <td>10</td>\n",
       "      <td>3</td>\n",
       "      <td>0.00</td>\n",
       "      <td>2</td>\n",
       "      <td>484</td>\n",
       "      <td>1</td>\n",
       "    </tr>\n",
       "    <tr>\n",
       "      <th>4</th>\n",
       "      <td>9025</td>\n",
       "      <td>23675</td>\n",
       "      <td>117</td>\n",
       "      <td>15</td>\n",
       "      <td>31</td>\n",
       "      <td>0.00</td>\n",
       "      <td>7</td>\n",
       "      <td>707</td>\n",
       "      <td>1</td>\n",
       "    </tr>\n",
       "    <tr>\n",
       "      <th>...</th>\n",
       "      <td>...</td>\n",
       "      <td>...</td>\n",
       "      <td>...</td>\n",
       "      <td>...</td>\n",
       "      <td>...</td>\n",
       "      <td>...</td>\n",
       "      <td>...</td>\n",
       "      <td>...</td>\n",
       "      <td>...</td>\n",
       "    </tr>\n",
       "    <tr>\n",
       "      <th>10905</th>\n",
       "      <td>15563</td>\n",
       "      <td>0</td>\n",
       "      <td>253</td>\n",
       "      <td>15</td>\n",
       "      <td>40</td>\n",
       "      <td>0.00</td>\n",
       "      <td>7</td>\n",
       "      <td>1214</td>\n",
       "      <td>1</td>\n",
       "    </tr>\n",
       "    <tr>\n",
       "      <th>10906</th>\n",
       "      <td>5259</td>\n",
       "      <td>61146</td>\n",
       "      <td>65</td>\n",
       "      <td>7</td>\n",
       "      <td>68</td>\n",
       "      <td>0.00</td>\n",
       "      <td>6</td>\n",
       "      <td>273</td>\n",
       "      <td>1</td>\n",
       "    </tr>\n",
       "    <tr>\n",
       "      <th>10907</th>\n",
       "      <td>23893</td>\n",
       "      <td>39837</td>\n",
       "      <td>201</td>\n",
       "      <td>11</td>\n",
       "      <td>63</td>\n",
       "      <td>0.00</td>\n",
       "      <td>2</td>\n",
       "      <td>381</td>\n",
       "      <td>2</td>\n",
       "    </tr>\n",
       "    <tr>\n",
       "      <th>10908</th>\n",
       "      <td>11971</td>\n",
       "      <td>64195</td>\n",
       "      <td>158</td>\n",
       "      <td>0</td>\n",
       "      <td>27</td>\n",
       "      <td>4.00</td>\n",
       "      <td>6</td>\n",
       "      <td>618</td>\n",
       "      <td>2</td>\n",
       "    </tr>\n",
       "    <tr>\n",
       "      <th>10909</th>\n",
       "      <td>6857</td>\n",
       "      <td>0</td>\n",
       "      <td>101</td>\n",
       "      <td>31</td>\n",
       "      <td>1</td>\n",
       "      <td>0.00</td>\n",
       "      <td>3</td>\n",
       "      <td>1021</td>\n",
       "      <td>1</td>\n",
       "    </tr>\n",
       "  </tbody>\n",
       "</table>\n",
       "<p>10910 rows × 9 columns</p>\n",
       "</div>"
      ],
      "text/plain": [
       "       customer_lifetime_value  income  monthly_premium_auto  \\\n",
       "0                         4809   48029                    61   \n",
       "1                         2228       0                    64   \n",
       "2                        14947   22139                   100   \n",
       "3                        22332   49078                    97   \n",
       "4                         9025   23675                   117   \n",
       "...                        ...     ...                   ...   \n",
       "10905                    15563       0                   253   \n",
       "10906                     5259   61146                    65   \n",
       "10907                    23893   39837                   201   \n",
       "10908                    11971   64195                   158   \n",
       "10909                     6857       0                   101   \n",
       "\n",
       "       months_since_last_claim  months_since_policy_inception  \\\n",
       "0                            7                             52   \n",
       "1                            3                             26   \n",
       "2                           34                             31   \n",
       "3                           10                              3   \n",
       "4                           15                             31   \n",
       "...                        ...                            ...   \n",
       "10905                       15                             40   \n",
       "10906                        7                             68   \n",
       "10907                       11                             63   \n",
       "10908                        0                             27   \n",
       "10909                       31                              1   \n",
       "\n",
       "       number_of_open_complaints  number_of_policies  total_claim_amount  \\\n",
       "0                           0.00                   9                 292   \n",
       "1                           0.00                   1                 744   \n",
       "2                           0.00                   2                 480   \n",
       "3                           0.00                   2                 484   \n",
       "4                           0.00                   7                 707   \n",
       "...                          ...                 ...                 ...   \n",
       "10905                       0.00                   7                1214   \n",
       "10906                       0.00                   6                 273   \n",
       "10907                       0.00                   2                 381   \n",
       "10908                       4.00                   6                 618   \n",
       "10909                       0.00                   3                1021   \n",
       "\n",
       "       month  \n",
       "0          2  \n",
       "1          1  \n",
       "2          2  \n",
       "3          1  \n",
       "4          1  \n",
       "...      ...  \n",
       "10905      1  \n",
       "10906      1  \n",
       "10907      2  \n",
       "10908      2  \n",
       "10909      1  \n",
       "\n",
       "[10910 rows x 9 columns]"
      ]
     },
     "execution_count": 87,
     "metadata": {},
     "output_type": "execute_result"
    }
   ],
   "source": [
    "data_"
   ]
  },
  {
   "cell_type": "code",
   "execution_count": 43,
   "id": "fe166816",
   "metadata": {},
   "outputs": [
    {
     "data": {
      "text/plain": [
       "0.5208845836696386"
      ]
     },
     "execution_count": 43,
     "metadata": {},
     "output_type": "execute_result"
    }
   ],
   "source": [
    "model = LinearRegression()\n",
    "\n",
    "model.fit(X_train, y_train)\n",
    "\n",
    "y_pred = model.predict(X_train)\n",
    "# y_pred_test  = model.predict(X_test)\n",
    "\n",
    "r2_=r2_score(y_train,y_pred)\n",
    "\n",
    "r2_"
   ]
  },
  {
   "cell_type": "code",
   "execution_count": 44,
   "id": "aec93979",
   "metadata": {},
   "outputs": [
    {
     "data": {
      "text/html": [
       "<div>\n",
       "<style scoped>\n",
       "    .dataframe tbody tr th:only-of-type {\n",
       "        vertical-align: middle;\n",
       "    }\n",
       "\n",
       "    .dataframe tbody tr th {\n",
       "        vertical-align: top;\n",
       "    }\n",
       "\n",
       "    .dataframe thead th {\n",
       "        text-align: right;\n",
       "    }\n",
       "</style>\n",
       "<table border=\"1\" class=\"dataframe\">\n",
       "  <thead>\n",
       "    <tr style=\"text-align: right;\">\n",
       "      <th></th>\n",
       "      <th>Model</th>\n",
       "      <th>R²</th>\n",
       "    </tr>\n",
       "  </thead>\n",
       "  <tbody>\n",
       "    <tr>\n",
       "      <th>0</th>\n",
       "      <td>Regression Tree</td>\n",
       "      <td>0.33</td>\n",
       "    </tr>\n",
       "    <tr>\n",
       "      <th>1</th>\n",
       "      <td>Logistic Regression</td>\n",
       "      <td>0.52</td>\n",
       "    </tr>\n",
       "    <tr>\n",
       "      <th>2</th>\n",
       "      <td>KNN</td>\n",
       "      <td>0.18</td>\n",
       "    </tr>\n",
       "  </tbody>\n",
       "</table>\n",
       "</div>"
      ],
      "text/plain": [
       "                 Model   R²\n",
       "0      Regression Tree 0.33\n",
       "1  Logistic Regression 0.52\n",
       "2                  KNN 0.18"
      ]
     },
     "execution_count": 44,
     "metadata": {},
     "output_type": "execute_result"
    }
   ],
   "source": [
    "model1 = DecisionTreeRegressor()\n",
    "\n",
    "model2 = LinearRegression()\n",
    "\n",
    "model3 = KNeighborsClassifier()\n",
    "\n",
    "model_pipeline = [model1, model2, model3]\n",
    "model_names = ['Regression Tree', 'Logistic Regression', 'KNN']\n",
    "scores = {}\n",
    "i=0\n",
    "for model in model_pipeline:\n",
    "    mean_score = np.mean(cross_val_score(model, X_train, y_train, cv=10))\n",
    "    scores[model_names[i]] = round(mean_score, 4)\n",
    "    i = i+1\n",
    "\n",
    "pd.DataFrame.from_dict(scores.items()).rename({0:\"Model\",1:\"R²\"}, axis=1)"
   ]
  },
  {
   "cell_type": "markdown",
   "id": "928474ef",
   "metadata": {},
   "source": [
    "## Handling Imbalanced Data"
   ]
  },
  {
   "cell_type": "code",
   "execution_count": 45,
   "id": "4cdb0c74",
   "metadata": {},
   "outputs": [],
   "source": [
    "data_ = preprocessing(data_churn)"
   ]
  },
  {
   "cell_type": "markdown",
   "id": "fb1bd5af",
   "metadata": {},
   "source": [
    "The *churn* column is a bit imbalanced:"
   ]
  },
  {
   "cell_type": "code",
   "execution_count": 46,
   "id": "e5f4a031",
   "metadata": {},
   "outputs": [
    {
     "name": "stdout",
     "output_type": "stream",
     "text": [
      "Yes: 26.58 % (1869)\n",
      "No : 73.42 % (5163)\n"
     ]
    }
   ],
   "source": [
    "print(f\"Yes: {round((len(data_[data_.churn == 'Yes']))*100/len(data_), 2)} % ({(len(data_[data_.churn == 'Yes']))})\")\n",
    "print(f\"No : {round((len(data_[data_.churn == 'No']))*100/len(data_), 2)} % ({len(data_[data_.churn == 'No'])})\")"
   ]
  },
  {
   "cell_type": "markdown",
   "id": "02f8129e",
   "metadata": {},
   "source": [
    "<a id=\"down_sampling\"></a>\n",
    "### 6.1 Downsampling\n",
    "\n",
    "create a new dataframe with the length of the minority class consisting out of randomly chosen datapoints from the majority class."
   ]
  },
  {
   "cell_type": "code",
   "execution_count": 78,
   "id": "bf4836a3",
   "metadata": {},
   "outputs": [],
   "source": [
    "cat_yes = data_[data_.churn == \"Yes\"]\n",
    "cat_no  = data_[data_.churn == \"No\"]"
   ]
  },
  {
   "cell_type": "code",
   "execution_count": 79,
   "id": "d1f7c057",
   "metadata": {},
   "outputs": [
    {
     "data": {
      "text/plain": [
       "True"
      ]
     },
     "execution_count": 79,
     "metadata": {},
     "output_type": "execute_result"
    }
   ],
   "source": [
    "cat_no_down = cat_no.sample(len(cat_yes))\n",
    "len(cat_no_down) == len(cat_yes)"
   ]
  },
  {
   "cell_type": "code",
   "execution_count": 80,
   "id": "531cbcf7",
   "metadata": {},
   "outputs": [],
   "source": [
    "data_down = pd.concat([cat_yes, cat_no_down], axis=0)\n",
    "data_down = data_down.sample(frac=1)"
   ]
  },
  {
   "cell_type": "code",
   "execution_count": 81,
   "id": "4b959e5b",
   "metadata": {},
   "outputs": [
    {
     "name": "stdout",
     "output_type": "stream",
     "text": [
      "data_down is exactly twice the size of minority class: True.\n"
     ]
    }
   ],
   "source": [
    "print(f\"data_down is exactly twice the size of minority class: {len(data_down) == 2*len(cat_yes)}.\")"
   ]
  },
  {
   "cell_type": "markdown",
   "id": "dd22486f",
   "metadata": {},
   "source": [
    "#### 6.1.1 performance of downsampled data  (only numerical data)"
   ]
  },
  {
   "cell_type": "code",
   "execution_count": 82,
   "id": "be446dd7",
   "metadata": {},
   "outputs": [
    {
     "data": {
      "text/html": [
       "<div>\n",
       "<style scoped>\n",
       "    .dataframe tbody tr th:only-of-type {\n",
       "        vertical-align: middle;\n",
       "    }\n",
       "\n",
       "    .dataframe tbody tr th {\n",
       "        vertical-align: top;\n",
       "    }\n",
       "\n",
       "    .dataframe thead th {\n",
       "        text-align: right;\n",
       "    }\n",
       "</style>\n",
       "<table border=\"1\" class=\"dataframe\">\n",
       "  <thead>\n",
       "    <tr style=\"text-align: right;\">\n",
       "      <th></th>\n",
       "      <th>Model</th>\n",
       "      <th>Accuracy</th>\n",
       "    </tr>\n",
       "  </thead>\n",
       "  <tbody>\n",
       "    <tr>\n",
       "      <th>0</th>\n",
       "      <td>Regression Tree</td>\n",
       "      <td>0.66</td>\n",
       "    </tr>\n",
       "    <tr>\n",
       "      <th>1</th>\n",
       "      <td>Logistic Regression</td>\n",
       "      <td>0.73</td>\n",
       "    </tr>\n",
       "    <tr>\n",
       "      <th>2</th>\n",
       "      <td>KNN</td>\n",
       "      <td>0.70</td>\n",
       "    </tr>\n",
       "  </tbody>\n",
       "</table>\n",
       "</div>"
      ],
      "text/plain": [
       "                 Model  Accuracy\n",
       "0      Regression Tree      0.66\n",
       "1  Logistic Regression      0.73\n",
       "2                  KNN      0.70"
      ]
     },
     "execution_count": 82,
     "metadata": {},
     "output_type": "execute_result"
    }
   ],
   "source": [
    "X = preprocessing(data_down).drop(['churn'], axis=1)\n",
    "y = preprocessing(data_down).churn\n",
    "\n",
    "X_train, X_test, y_train, y_test = train_test_split(X, y, test_size=0.20)\n",
    "\n",
    "model = DecisionTreeClassifier()\n",
    "\n",
    "\n",
    "#model1 = DecisionTreeRegressor()\n",
    "model1 = DecisionTreeClassifier()\n",
    "# model2 = LinearRegression()\n",
    "model2 = LogisticRegression()\n",
    "# model3 = KNeighborsRegressor()\n",
    "model3 = KNeighborsClassifier()\n",
    "\n",
    "model_pipeline = [model1, model2, model3]\n",
    "model_names = ['Regression Tree', 'Logistic Regression', 'KNN']\n",
    "scores = {}\n",
    "i=0\n",
    "for model in model_pipeline:\n",
    "    mean_score = np.mean(cross_val_score(model, X_train, y_train, cv=10))\n",
    "    scores[model_names[i]] = round(mean_score, 4)\n",
    "    i = i+1\n",
    "\n",
    "pd.DataFrame.from_dict(scores.items()).rename({0:\"Model\",1:\"Accuracy\"}, axis=1)"
   ]
  },
  {
   "cell_type": "markdown",
   "id": "5dee9d15",
   "metadata": {},
   "source": [
    "#### 6.1.2 Using down sampled Dataframe on different sizes and with different depths (only numerical data)"
   ]
  },
  {
   "cell_type": "code",
   "execution_count": 51,
   "id": "8ec6b4ba",
   "metadata": {},
   "outputs": [],
   "source": [
    "X_ds = data_down._get_numeric_data()\n",
    "y_ds = data_down.churn"
   ]
  },
  {
   "cell_type": "code",
   "execution_count": 52,
   "id": "38a32329",
   "metadata": {},
   "outputs": [],
   "source": [
    "min_test_size = 10\n",
    "max_test_size = 30\n",
    "max_depth = 6\n",
    "\n",
    "combined_df = pd.DataFrame()\n",
    "for size in range(min_test_size,max_test_size+1,5):\n",
    "    X_train, X_test, y_train, y_test = train_test_split(X_ds, y_ds, test_size=size/100)\n",
    "    for _ in range(3,max_depth):\n",
    "        # print(f\"Testsize {size/100}, Depth {_}\")\n",
    "        # dec_tree_class_conf_matrices(X_train, X_test, y_train, y_test, max_dpth=_)\n",
    "        this = dec_tree_class_conf_matrices(X_train, X_test, y_train, y_test, max_dpth=_, show_df=False, return_df=True)\n",
    "        this[\"testsize\"] = size\n",
    "        this[\"depth\"] = _\n",
    "        combined_df = pd.concat([combined_df,this], axis=0)\n",
    "        "
   ]
  },
  {
   "cell_type": "code",
   "execution_count": 53,
   "id": "a75cc107",
   "metadata": {},
   "outputs": [],
   "source": [
    "combined_df = combined_df[[\"testsize\", \"depth\", \"error_metric\", \"train\", \"test\"]]\n",
    "# combined_df.sort_values([\"testsize\", \"error_metric\", \"depth\"])"
   ]
  },
  {
   "cell_type": "markdown",
   "id": "fa1eaee3",
   "metadata": {},
   "source": [
    "**Highest scores for set test_size and max depth**"
   ]
  },
  {
   "cell_type": "code",
   "execution_count": 54,
   "id": "c49fc99f",
   "metadata": {},
   "outputs": [
    {
     "data": {
      "text/html": [
       "<div>\n",
       "<style scoped>\n",
       "    .dataframe tbody tr th:only-of-type {\n",
       "        vertical-align: middle;\n",
       "    }\n",
       "\n",
       "    .dataframe tbody tr th {\n",
       "        vertical-align: top;\n",
       "    }\n",
       "\n",
       "    .dataframe thead th {\n",
       "        text-align: right;\n",
       "    }\n",
       "</style>\n",
       "<table border=\"1\" class=\"dataframe\">\n",
       "  <thead>\n",
       "    <tr style=\"text-align: right;\">\n",
       "      <th></th>\n",
       "      <th>testsize</th>\n",
       "      <th>depth</th>\n",
       "      <th>error_metric</th>\n",
       "      <th>train</th>\n",
       "      <th>test</th>\n",
       "    </tr>\n",
       "  </thead>\n",
       "  <tbody>\n",
       "    <tr>\n",
       "      <th>0</th>\n",
       "      <td>15</td>\n",
       "      <td>3</td>\n",
       "      <td>Accuracy</td>\n",
       "      <td>0.74</td>\n",
       "      <td>0.73</td>\n",
       "    </tr>\n",
       "    <tr>\n",
       "      <th>1</th>\n",
       "      <td>15</td>\n",
       "      <td>3</td>\n",
       "      <td>Precision</td>\n",
       "      <td>0.69</td>\n",
       "      <td>0.66</td>\n",
       "    </tr>\n",
       "    <tr>\n",
       "      <th>2</th>\n",
       "      <td>15</td>\n",
       "      <td>3</td>\n",
       "      <td>Recall</td>\n",
       "      <td>0.86</td>\n",
       "      <td>0.85</td>\n",
       "    </tr>\n",
       "  </tbody>\n",
       "</table>\n",
       "</div>"
      ],
      "text/plain": [
       "   testsize  depth error_metric  train  test\n",
       "0        15      3     Accuracy   0.74  0.73\n",
       "1        15      3    Precision   0.69  0.66\n",
       "2        15      3       Recall   0.86  0.85"
      ]
     },
     "execution_count": 54,
     "metadata": {},
     "output_type": "execute_result"
    }
   ],
   "source": [
    "si = int(combined_df[combined_df.test == max(combined_df.test)][\"testsize\"].iloc[0])\n",
    "de = int(combined_df[combined_df.test == max(combined_df.test)][\"depth\"].iloc[0])\n",
    "combined_df[(combined_df.testsize == si) & (combined_df.depth == de)]"
   ]
  },
  {
   "cell_type": "markdown",
   "id": "33ce3a14",
   "metadata": {},
   "source": [
    "<a id=\"up_sampling1\"></a>\n",
    "### 6.2 Upsampling Method 1\n",
    "create a new dataframe with the length of the majority class out of randomly chosen datapoints from the minority class (used for several<br> times to \"fill\" needed spaces). "
   ]
  },
  {
   "cell_type": "code",
   "execution_count": 72,
   "id": "4eae6f3a",
   "metadata": {},
   "outputs": [],
   "source": [
    "cat_yes = preprocessing(data_)[data_.churn == \"Yes\"]\n",
    "cat_no  = preprocessing(data_)[data_.churn == \"No\"]"
   ]
  },
  {
   "cell_type": "code",
   "execution_count": 73,
   "id": "098bdff2",
   "metadata": {},
   "outputs": [
    {
     "name": "stdout",
     "output_type": "stream",
     "text": [
      "True\n"
     ]
    }
   ],
   "source": [
    "cat_yes_up = cat_yes.sample(len(cat_no), replace=True)\n",
    "print(len(cat_yes_up)==len(cat_no))"
   ]
  },
  {
   "cell_type": "code",
   "execution_count": 74,
   "id": "f2317328",
   "metadata": {},
   "outputs": [],
   "source": [
    "data_up1 = pd.concat([cat_yes_up, cat_no], axis=0)\n",
    "data_up1 = data_up1.sample(frac=1)"
   ]
  },
  {
   "cell_type": "code",
   "execution_count": 75,
   "id": "9fe0f0d4",
   "metadata": {},
   "outputs": [
    {
     "name": "stdout",
     "output_type": "stream",
     "text": [
      "data_up1 is exactly twice the size of majority class: True.\n"
     ]
    }
   ],
   "source": [
    "print(f\"data_up1 is exactly twice the size of majority class: {len(data_up1) == 2*len(cat_no)}.\")"
   ]
  },
  {
   "cell_type": "markdown",
   "id": "8532ec4d",
   "metadata": {},
   "source": [
    "#### 6.2.1 performance evaluation traditional upsampling"
   ]
  },
  {
   "cell_type": "code",
   "execution_count": 77,
   "id": "0a8e03ab",
   "metadata": {},
   "outputs": [
    {
     "data": {
      "text/html": [
       "<div>\n",
       "<style scoped>\n",
       "    .dataframe tbody tr th:only-of-type {\n",
       "        vertical-align: middle;\n",
       "    }\n",
       "\n",
       "    .dataframe tbody tr th {\n",
       "        vertical-align: top;\n",
       "    }\n",
       "\n",
       "    .dataframe thead th {\n",
       "        text-align: right;\n",
       "    }\n",
       "</style>\n",
       "<table border=\"1\" class=\"dataframe\">\n",
       "  <thead>\n",
       "    <tr style=\"text-align: right;\">\n",
       "      <th></th>\n",
       "      <th>Model</th>\n",
       "      <th>Accuracy</th>\n",
       "    </tr>\n",
       "  </thead>\n",
       "  <tbody>\n",
       "    <tr>\n",
       "      <th>0</th>\n",
       "      <td>Regression Tree</td>\n",
       "      <td>0.86</td>\n",
       "    </tr>\n",
       "    <tr>\n",
       "      <th>1</th>\n",
       "      <td>Logistic Regression</td>\n",
       "      <td>0.74</td>\n",
       "    </tr>\n",
       "    <tr>\n",
       "      <th>2</th>\n",
       "      <td>KNN</td>\n",
       "      <td>0.76</td>\n",
       "    </tr>\n",
       "  </tbody>\n",
       "</table>\n",
       "</div>"
      ],
      "text/plain": [
       "                 Model  Accuracy\n",
       "0      Regression Tree      0.86\n",
       "1  Logistic Regression      0.74\n",
       "2                  KNN      0.76"
      ]
     },
     "execution_count": 77,
     "metadata": {},
     "output_type": "execute_result"
    }
   ],
   "source": [
    "X = preprocessing(data_up1).drop(['churn'], axis=1)\n",
    "y = preprocessing(data_up1).churn\n",
    "\n",
    "X_train, X_test, y_train, y_test = train_test_split(X, y, test_size=0.20)\n",
    "\n",
    "model = DecisionTreeClassifier()\n",
    "\n",
    "\n",
    "#model1 = DecisionTreeRegressor()\n",
    "model1 = DecisionTreeClassifier()\n",
    "# model2 = LinearRegression()\n",
    "model2 = LogisticRegression()\n",
    "# model3 = KNeighborsRegressor()\n",
    "model3 = KNeighborsClassifier()\n",
    "\n",
    "model_pipeline = [model1, model2, model3]\n",
    "model_names = ['Regression Tree', 'Logistic Regression', 'KNN']\n",
    "scores = {}\n",
    "i=0\n",
    "for model in model_pipeline:\n",
    "    mean_score = np.mean(cross_val_score(model, X_train, y_train, cv=10))\n",
    "    scores[model_names[i]] = round(mean_score, 4)\n",
    "    i = i+1\n",
    "\n",
    "pd.DataFrame.from_dict(scores.items()).rename({0:\"Model\",1:\"Accuracy\"}, axis=1)"
   ]
  },
  {
   "cell_type": "code",
   "execution_count": null,
   "id": "602a2fac",
   "metadata": {},
   "outputs": [],
   "source": []
  },
  {
   "cell_type": "code",
   "execution_count": null,
   "id": "a85ae22f",
   "metadata": {},
   "outputs": [],
   "source": []
  },
  {
   "cell_type": "markdown",
   "id": "2bd858e2",
   "metadata": {},
   "source": [
    "#### 6.2.2 Using up sampled Dataframe on different sizes and with different depths"
   ]
  },
  {
   "cell_type": "code",
   "execution_count": 59,
   "id": "be2623e1",
   "metadata": {},
   "outputs": [],
   "source": [
    "X_ups = data_up1.drop(['churn'], axis=1)\n",
    "y_ups = preprocessing(data_up1).churn"
   ]
  },
  {
   "cell_type": "code",
   "execution_count": 60,
   "id": "744e0283",
   "metadata": {},
   "outputs": [],
   "source": [
    "min_test_size = 10\n",
    "max_test_size = 30\n",
    "max_depth = 6\n",
    "\n",
    "combined_df = pd.DataFrame()\n",
    "for size in range(min_test_size,max_test_size+1,5):\n",
    "    X_train, X_test, y_train, y_test = train_test_split(X_ups, y_ups, test_size=size/100)\n",
    "    for _ in range(3,max_depth):\n",
    "        # print(f\"Testsize {size/100}, Depth {_}\")\n",
    "        # dec_tree_class_conf_matrices(X_train, X_test, y_train, y_test, max_dpth=_)\n",
    "        this = dec_tree_class_conf_matrices(X_train, X_test, y_train, y_test, max_dpth=_, show_df=False, return_df=True)\n",
    "        this[\"testsize\"] = size\n",
    "        this[\"depth\"] = _\n",
    "        combined_df = pd.concat([combined_df,this], axis=0)"
   ]
  },
  {
   "cell_type": "code",
   "execution_count": 61,
   "id": "a076f8cc",
   "metadata": {},
   "outputs": [],
   "source": [
    "combined_df = combined_df[[\"testsize\", \"depth\", \"error_metric\", \"train\", \"test\"]]\n",
    "# combined_df.sort_values([\"testsize\", \"error_metric\", \"depth\"])"
   ]
  },
  {
   "cell_type": "markdown",
   "id": "62f23d1e",
   "metadata": {},
   "source": [
    "**Highest scores for set test_size and max depth**"
   ]
  },
  {
   "cell_type": "code",
   "execution_count": 62,
   "id": "00114a99",
   "metadata": {},
   "outputs": [
    {
     "data": {
      "text/html": [
       "<div>\n",
       "<style scoped>\n",
       "    .dataframe tbody tr th:only-of-type {\n",
       "        vertical-align: middle;\n",
       "    }\n",
       "\n",
       "    .dataframe tbody tr th {\n",
       "        vertical-align: top;\n",
       "    }\n",
       "\n",
       "    .dataframe thead th {\n",
       "        text-align: right;\n",
       "    }\n",
       "</style>\n",
       "<table border=\"1\" class=\"dataframe\">\n",
       "  <thead>\n",
       "    <tr style=\"text-align: right;\">\n",
       "      <th></th>\n",
       "      <th>testsize</th>\n",
       "      <th>depth</th>\n",
       "      <th>error_metric</th>\n",
       "      <th>train</th>\n",
       "      <th>test</th>\n",
       "    </tr>\n",
       "  </thead>\n",
       "  <tbody>\n",
       "    <tr>\n",
       "      <th>0</th>\n",
       "      <td>25</td>\n",
       "      <td>3</td>\n",
       "      <td>Accuracy</td>\n",
       "      <td>0.73</td>\n",
       "      <td>0.73</td>\n",
       "    </tr>\n",
       "    <tr>\n",
       "      <th>1</th>\n",
       "      <td>25</td>\n",
       "      <td>3</td>\n",
       "      <td>Precision</td>\n",
       "      <td>0.68</td>\n",
       "      <td>0.70</td>\n",
       "    </tr>\n",
       "    <tr>\n",
       "      <th>2</th>\n",
       "      <td>25</td>\n",
       "      <td>3</td>\n",
       "      <td>Recall</td>\n",
       "      <td>0.85</td>\n",
       "      <td>0.85</td>\n",
       "    </tr>\n",
       "  </tbody>\n",
       "</table>\n",
       "</div>"
      ],
      "text/plain": [
       "   testsize  depth error_metric  train  test\n",
       "0        25      3     Accuracy   0.73  0.73\n",
       "1        25      3    Precision   0.68  0.70\n",
       "2        25      3       Recall   0.85  0.85"
      ]
     },
     "execution_count": 62,
     "metadata": {},
     "output_type": "execute_result"
    }
   ],
   "source": [
    "si = int(combined_df[combined_df.test == max(combined_df.test)][\"testsize\"].iloc[0])\n",
    "de = int(combined_df[combined_df.test == max(combined_df.test)][\"depth\"].iloc[0])\n",
    "combined_df[(combined_df.testsize == si) & (combined_df.depth == de)]"
   ]
  },
  {
   "cell_type": "code",
   "execution_count": 63,
   "id": "507d4c33",
   "metadata": {},
   "outputs": [
    {
     "data": {
      "text/plain": [
       "2    25\n",
       "Name: testsize, dtype: int64"
      ]
     },
     "execution_count": 63,
     "metadata": {},
     "output_type": "execute_result"
    }
   ],
   "source": [
    "combined_df[combined_df.test == max(combined_df.test)][\"testsize\"]"
   ]
  },
  {
   "cell_type": "markdown",
   "id": "5a674087",
   "metadata": {},
   "source": [
    "<a id=\"smote\"></a>\n",
    "### 6.3 Upsampling Method 2 - SMOTE"
   ]
  },
  {
   "cell_type": "markdown",
   "id": "faac11e2",
   "metadata": {},
   "source": [
    "create a new dataframe with the length of the majority class by randomly choosing a point from the minority class, computing its<br>\n",
    "k-nearest neighbors (for some pre-specified k) and add k new points somewhere between the chosen point and each of its <br>neighbors."
   ]
  },
  {
   "cell_type": "code",
   "execution_count": 64,
   "id": "c888252e",
   "metadata": {},
   "outputs": [],
   "source": [
    "smote = SMOTE()"
   ]
  },
  {
   "cell_type": "code",
   "execution_count": 65,
   "id": "923eaf88",
   "metadata": {},
   "outputs": [],
   "source": [
    "X = preprocessing(data_).drop(['churn'], axis=1)\n",
    "y = preprocessing(data_).churn"
   ]
  },
  {
   "cell_type": "code",
   "execution_count": 66,
   "id": "e63d4da2",
   "metadata": {},
   "outputs": [
    {
     "data": {
      "text/plain": [
       "No     5163\n",
       "Yes    5163\n",
       "Name: churn, dtype: int64"
      ]
     },
     "execution_count": 66,
     "metadata": {},
     "output_type": "execute_result"
    }
   ],
   "source": [
    "X_sm, y_sm = smote.fit_resample(X, y)\n",
    "y_sm.value_counts()"
   ]
  },
  {
   "cell_type": "markdown",
   "id": "d145eae7",
   "metadata": {},
   "source": [
    "#### 6.3.1 Performance of upsampled data"
   ]
  },
  {
   "cell_type": "code",
   "execution_count": 67,
   "id": "b69b79dd",
   "metadata": {},
   "outputs": [
    {
     "data": {
      "text/plain": [
       "0.7405614714424008"
      ]
     },
     "execution_count": 67,
     "metadata": {},
     "output_type": "execute_result"
    }
   ],
   "source": [
    "X_train, X_test, y_train, y_test = train_test_split(X_sm, y_sm, test_size=0.20)\n",
    "\n",
    "model = DecisionTreeClassifier()\n",
    "model.fit(X_train, y_train)\n",
    "model.score(X_test, y_test)"
   ]
  },
  {
   "cell_type": "code",
   "execution_count": 68,
   "id": "7d9173a7",
   "metadata": {},
   "outputs": [
    {
     "data": {
      "text/html": [
       "<div>\n",
       "<style scoped>\n",
       "    .dataframe tbody tr th:only-of-type {\n",
       "        vertical-align: middle;\n",
       "    }\n",
       "\n",
       "    .dataframe tbody tr th {\n",
       "        vertical-align: top;\n",
       "    }\n",
       "\n",
       "    .dataframe thead th {\n",
       "        text-align: right;\n",
       "    }\n",
       "</style>\n",
       "<table border=\"1\" class=\"dataframe\">\n",
       "  <thead>\n",
       "    <tr style=\"text-align: right;\">\n",
       "      <th></th>\n",
       "      <th>Model</th>\n",
       "      <th>Accuracy</th>\n",
       "    </tr>\n",
       "  </thead>\n",
       "  <tbody>\n",
       "    <tr>\n",
       "      <th>0</th>\n",
       "      <td>Regression Tree</td>\n",
       "      <td>0.75</td>\n",
       "    </tr>\n",
       "    <tr>\n",
       "      <th>1</th>\n",
       "      <td>Logistic Regression</td>\n",
       "      <td>0.74</td>\n",
       "    </tr>\n",
       "    <tr>\n",
       "      <th>2</th>\n",
       "      <td>KNN</td>\n",
       "      <td>0.77</td>\n",
       "    </tr>\n",
       "  </tbody>\n",
       "</table>\n",
       "</div>"
      ],
      "text/plain": [
       "                 Model  Accuracy\n",
       "0      Regression Tree      0.75\n",
       "1  Logistic Regression      0.74\n",
       "2                  KNN      0.77"
      ]
     },
     "execution_count": 68,
     "metadata": {},
     "output_type": "execute_result"
    }
   ],
   "source": [
    "#model1 = DecisionTreeRegressor()\n",
    "model1 = DecisionTreeClassifier()\n",
    "# model2 = LinearRegression()\n",
    "model2 = LogisticRegression()\n",
    "# model3 = KNeighborsRegressor()\n",
    "model3 = KNeighborsClassifier()\n",
    "\n",
    "model_pipeline = [model1, model2, model3]\n",
    "model_names = ['Regression Tree', 'Logistic Regression', 'KNN']\n",
    "scores = {}\n",
    "i=0\n",
    "for model in model_pipeline:\n",
    "    mean_score = np.mean(cross_val_score(model, X_train, y_train, cv=10))\n",
    "    scores[model_names[i]] = round(mean_score, 4)\n",
    "    i = i+1\n",
    "\n",
    "pd.DataFrame.from_dict(scores.items()).rename({0:\"Model\",1:\"Accuracy\"}, axis=1)"
   ]
  },
  {
   "cell_type": "markdown",
   "id": "edc48958",
   "metadata": {},
   "source": [
    "#### 6.3.2 Using SMOTE upsampled Dataframe on different sizes and with different depths (decision tree)"
   ]
  },
  {
   "cell_type": "code",
   "execution_count": 69,
   "id": "105197be",
   "metadata": {},
   "outputs": [],
   "source": [
    "min_test_size = 10\n",
    "max_test_size = 30\n",
    "max_depth = 6\n",
    "\n",
    "combined_df = pd.DataFrame()\n",
    "for size in range(min_test_size,max_test_size+1,5):\n",
    "    X_train, X_test, y_train, y_test = train_test_split(X_sm, y_sm, test_size=size/100)\n",
    "    for _ in range(3,max_depth+1):\n",
    "#         print(f\"Testsize {size/100}, Depth {_}\")\n",
    "#         dec_tree_class_conf_matrices(X_train, X_test, y_train, y_test, max_dpth=_)\n",
    "        this = dec_tree_class_conf_matrices(X_train, X_test, y_train, y_test, max_dpth=_, show_df=False, return_df=True)\n",
    "        this[\"testsize\"] = size\n",
    "        this[\"depth\"] = _\n",
    "        combined_df = pd.concat([combined_df,this], axis=0)"
   ]
  },
  {
   "cell_type": "code",
   "execution_count": 70,
   "id": "fcdbb8ff",
   "metadata": {},
   "outputs": [],
   "source": [
    "combined_df = combined_df[[\"testsize\", \"depth\", \"error_metric\", \"train\", \"test\"]]\n",
    "# combined_df.sort_values([\"testsize\", \"error_metric\", \"depth\"])"
   ]
  },
  {
   "cell_type": "markdown",
   "id": "6d70faad",
   "metadata": {},
   "source": [
    "**Highest scores for set test_size and max depth**"
   ]
  },
  {
   "cell_type": "code",
   "execution_count": 71,
   "id": "5e384587",
   "metadata": {},
   "outputs": [
    {
     "data": {
      "text/html": [
       "<div>\n",
       "<style scoped>\n",
       "    .dataframe tbody tr th:only-of-type {\n",
       "        vertical-align: middle;\n",
       "    }\n",
       "\n",
       "    .dataframe tbody tr th {\n",
       "        vertical-align: top;\n",
       "    }\n",
       "\n",
       "    .dataframe thead th {\n",
       "        text-align: right;\n",
       "    }\n",
       "</style>\n",
       "<table border=\"1\" class=\"dataframe\">\n",
       "  <thead>\n",
       "    <tr style=\"text-align: right;\">\n",
       "      <th></th>\n",
       "      <th>testsize</th>\n",
       "      <th>depth</th>\n",
       "      <th>error_metric</th>\n",
       "      <th>train</th>\n",
       "      <th>test</th>\n",
       "    </tr>\n",
       "  </thead>\n",
       "  <tbody>\n",
       "    <tr>\n",
       "      <th>0</th>\n",
       "      <td>20</td>\n",
       "      <td>3</td>\n",
       "      <td>Accuracy</td>\n",
       "      <td>0.74</td>\n",
       "      <td>0.73</td>\n",
       "    </tr>\n",
       "    <tr>\n",
       "      <th>1</th>\n",
       "      <td>20</td>\n",
       "      <td>3</td>\n",
       "      <td>Precision</td>\n",
       "      <td>0.68</td>\n",
       "      <td>0.67</td>\n",
       "    </tr>\n",
       "    <tr>\n",
       "      <th>2</th>\n",
       "      <td>20</td>\n",
       "      <td>3</td>\n",
       "      <td>Recall</td>\n",
       "      <td>0.89</td>\n",
       "      <td>0.88</td>\n",
       "    </tr>\n",
       "  </tbody>\n",
       "</table>\n",
       "</div>"
      ],
      "text/plain": [
       "   testsize  depth error_metric  train  test\n",
       "0        20      3     Accuracy   0.74  0.73\n",
       "1        20      3    Precision   0.68  0.67\n",
       "2        20      3       Recall   0.89  0.88"
      ]
     },
     "execution_count": 71,
     "metadata": {},
     "output_type": "execute_result"
    }
   ],
   "source": [
    "si = int(combined_df[combined_df.test == max(combined_df.test)][\"testsize\"])\n",
    "de = int(combined_df[combined_df.test == max(combined_df.test)][\"depth\"])\n",
    "combined_df[(combined_df.testsize == si) & (combined_df.depth == de)]"
   ]
  },
  {
   "cell_type": "code",
   "execution_count": 83,
   "id": "ca42f5ab",
   "metadata": {},
   "outputs": [],
   "source": [
    "# TODO: add some categoricals columns to check for impact (length of contract!!!)"
   ]
  },
  {
   "cell_type": "code",
   "execution_count": null,
   "id": "bf2a8d00",
   "metadata": {},
   "outputs": [],
   "source": [
    "## "
   ]
  },
  {
   "cell_type": "markdown",
   "id": "58ac9c90",
   "metadata": {},
   "source": [
    "## 7. Random Forest"
   ]
  },
  {
   "cell_type": "markdown",
   "id": "ae557aea",
   "metadata": {},
   "source": [
    "### 7.1 Using the churn data set, only numerical features"
   ]
  },
  {
   "cell_type": "code",
   "execution_count": 140,
   "id": "99ef1e34",
   "metadata": {},
   "outputs": [],
   "source": [
    "data_ = preprocessing(data_churn)\n",
    "\n",
    "X = data_.drop(columns=[\"churn\"], axis = 1)\n",
    "y = data_[\"churn\"]\n",
    "\n",
    "X_train, X_test, y_train, y_test = train_test_split(X, y, test_size=0.20)"
   ]
  },
  {
   "cell_type": "markdown",
   "id": "7c6816d4",
   "metadata": {},
   "source": [
    "**Basic Random Forest Classifier**"
   ]
  },
  {
   "cell_type": "code",
   "execution_count": 113,
   "id": "1fb67db4",
   "metadata": {},
   "outputs": [
    {
     "name": "stdout",
     "output_type": "stream",
     "text": [
      "0.7746979388770433\n"
     ]
    }
   ],
   "source": [
    "clf = RandomForestClassifier(max_depth=2, random_state=0)\n",
    "clf.fit(X_train, y_train)\n",
    "print(clf.score(X_test, y_test))"
   ]
  },
  {
   "cell_type": "markdown",
   "id": "e51082ca",
   "metadata": {},
   "source": [
    "**Different Values for max_depth and cv**"
   ]
  },
  {
   "cell_type": "code",
   "execution_count": 127,
   "id": "1e7a41a9",
   "metadata": {},
   "outputs": [
    {
     "data": {
      "text/html": [
       "<div>\n",
       "<style scoped>\n",
       "    .dataframe tbody tr th:only-of-type {\n",
       "        vertical-align: middle;\n",
       "    }\n",
       "\n",
       "    .dataframe tbody tr th {\n",
       "        vertical-align: top;\n",
       "    }\n",
       "\n",
       "    .dataframe thead th {\n",
       "        text-align: right;\n",
       "    }\n",
       "</style>\n",
       "<table border=\"1\" class=\"dataframe\">\n",
       "  <thead>\n",
       "    <tr style=\"text-align: right;\">\n",
       "      <th></th>\n",
       "      <th>max_depth</th>\n",
       "      <th>cv</th>\n",
       "      <th>mean_score</th>\n",
       "    </tr>\n",
       "  </thead>\n",
       "  <tbody>\n",
       "    <tr>\n",
       "      <th>0</th>\n",
       "      <td>4</td>\n",
       "      <td>25</td>\n",
       "      <td>0.75</td>\n",
       "    </tr>\n",
       "    <tr>\n",
       "      <th>0</th>\n",
       "      <td>4</td>\n",
       "      <td>20</td>\n",
       "      <td>0.75</td>\n",
       "    </tr>\n",
       "    <tr>\n",
       "      <th>0</th>\n",
       "      <td>4</td>\n",
       "      <td>15</td>\n",
       "      <td>0.75</td>\n",
       "    </tr>\n",
       "    <tr>\n",
       "      <th>0</th>\n",
       "      <td>4</td>\n",
       "      <td>10</td>\n",
       "      <td>0.75</td>\n",
       "    </tr>\n",
       "    <tr>\n",
       "      <th>0</th>\n",
       "      <td>4</td>\n",
       "      <td>5</td>\n",
       "      <td>0.75</td>\n",
       "    </tr>\n",
       "    <tr>\n",
       "      <th>0</th>\n",
       "      <td>3</td>\n",
       "      <td>25</td>\n",
       "      <td>0.74</td>\n",
       "    </tr>\n",
       "    <tr>\n",
       "      <th>0</th>\n",
       "      <td>3</td>\n",
       "      <td>20</td>\n",
       "      <td>0.74</td>\n",
       "    </tr>\n",
       "    <tr>\n",
       "      <th>0</th>\n",
       "      <td>3</td>\n",
       "      <td>15</td>\n",
       "      <td>0.74</td>\n",
       "    </tr>\n",
       "    <tr>\n",
       "      <th>0</th>\n",
       "      <td>3</td>\n",
       "      <td>10</td>\n",
       "      <td>0.74</td>\n",
       "    </tr>\n",
       "    <tr>\n",
       "      <th>0</th>\n",
       "      <td>3</td>\n",
       "      <td>5</td>\n",
       "      <td>0.74</td>\n",
       "    </tr>\n",
       "    <tr>\n",
       "      <th>0</th>\n",
       "      <td>2</td>\n",
       "      <td>25</td>\n",
       "      <td>0.72</td>\n",
       "    </tr>\n",
       "    <tr>\n",
       "      <th>0</th>\n",
       "      <td>2</td>\n",
       "      <td>20</td>\n",
       "      <td>0.72</td>\n",
       "    </tr>\n",
       "    <tr>\n",
       "      <th>0</th>\n",
       "      <td>2</td>\n",
       "      <td>15</td>\n",
       "      <td>0.72</td>\n",
       "    </tr>\n",
       "    <tr>\n",
       "      <th>0</th>\n",
       "      <td>2</td>\n",
       "      <td>10</td>\n",
       "      <td>0.72</td>\n",
       "    </tr>\n",
       "    <tr>\n",
       "      <th>0</th>\n",
       "      <td>2</td>\n",
       "      <td>5</td>\n",
       "      <td>0.72</td>\n",
       "    </tr>\n",
       "  </tbody>\n",
       "</table>\n",
       "</div>"
      ],
      "text/plain": [
       "   max_depth  cv  mean_score\n",
       "0          4  25        0.75\n",
       "0          4  20        0.75\n",
       "0          4  15        0.75\n",
       "0          4  10        0.75\n",
       "0          4   5        0.75\n",
       "0          3  25        0.74\n",
       "0          3  20        0.74\n",
       "0          3  15        0.74\n",
       "0          3  10        0.74\n",
       "0          3   5        0.74\n",
       "0          2  25        0.72\n",
       "0          2  20        0.72\n",
       "0          2  15        0.72\n",
       "0          2  10        0.72\n",
       "0          2   5        0.72"
      ]
     },
     "execution_count": 127,
     "metadata": {},
     "output_type": "execute_result"
    }
   ],
   "source": [
    "random_forest_classifier_df(X_train, y_train, this_min_dpth=4, this_max_dpth=5, this_max_cv=25, this_random_state=42)"
   ]
  },
  {
   "cell_type": "markdown",
   "id": "a28061d5",
   "metadata": {},
   "source": [
    "**Different Values for max_depth and cv, down sampled data**"
   ]
  },
  {
   "cell_type": "code",
   "execution_count": 143,
   "id": "6f1ff324",
   "metadata": {},
   "outputs": [],
   "source": [
    "cat_yes = data_[data_.churn == \"Yes\"]\n",
    "cat_no  = data_[data_.churn == \"No\"]\n",
    "\n",
    "cat_no_down = cat_no.sample(len(cat_yes))\n",
    "\n",
    "\n",
    "data_down = pd.concat([cat_yes, cat_no_down], axis=0)\n",
    "data_down = data_down.sample(frac=1)"
   ]
  },
  {
   "cell_type": "code",
   "execution_count": 144,
   "id": "387a6e00",
   "metadata": {},
   "outputs": [],
   "source": [
    "X = data_.drop(columns=[\"churn\"], axis = 1)\n",
    "y = data_[\"churn\"]\n",
    "\n",
    "X_train, X_test, y_train, y_test = train_test_split(X, y, test_size=0.20)"
   ]
  },
  {
   "cell_type": "code",
   "execution_count": 117,
   "id": "7a4665f0",
   "metadata": {},
   "outputs": [
    {
     "data": {
      "text/html": [
       "<div>\n",
       "<style scoped>\n",
       "    .dataframe tbody tr th:only-of-type {\n",
       "        vertical-align: middle;\n",
       "    }\n",
       "\n",
       "    .dataframe tbody tr th {\n",
       "        vertical-align: top;\n",
       "    }\n",
       "\n",
       "    .dataframe thead th {\n",
       "        text-align: right;\n",
       "    }\n",
       "</style>\n",
       "<table border=\"1\" class=\"dataframe\">\n",
       "  <thead>\n",
       "    <tr style=\"text-align: right;\">\n",
       "      <th></th>\n",
       "      <th>0</th>\n",
       "      <th>1</th>\n",
       "      <th>2</th>\n",
       "    </tr>\n",
       "  </thead>\n",
       "  <tbody>\n",
       "    <tr>\n",
       "      <th>0</th>\n",
       "      <td>4</td>\n",
       "      <td>25</td>\n",
       "      <td>0.79</td>\n",
       "    </tr>\n",
       "    <tr>\n",
       "      <th>0</th>\n",
       "      <td>4</td>\n",
       "      <td>20</td>\n",
       "      <td>0.79</td>\n",
       "    </tr>\n",
       "    <tr>\n",
       "      <th>0</th>\n",
       "      <td>4</td>\n",
       "      <td>15</td>\n",
       "      <td>0.79</td>\n",
       "    </tr>\n",
       "    <tr>\n",
       "      <th>0</th>\n",
       "      <td>4</td>\n",
       "      <td>10</td>\n",
       "      <td>0.79</td>\n",
       "    </tr>\n",
       "    <tr>\n",
       "      <th>0</th>\n",
       "      <td>4</td>\n",
       "      <td>5</td>\n",
       "      <td>0.79</td>\n",
       "    </tr>\n",
       "    <tr>\n",
       "      <th>0</th>\n",
       "      <td>3</td>\n",
       "      <td>25</td>\n",
       "      <td>0.79</td>\n",
       "    </tr>\n",
       "    <tr>\n",
       "      <th>0</th>\n",
       "      <td>3</td>\n",
       "      <td>20</td>\n",
       "      <td>0.79</td>\n",
       "    </tr>\n",
       "    <tr>\n",
       "      <th>0</th>\n",
       "      <td>3</td>\n",
       "      <td>15</td>\n",
       "      <td>0.79</td>\n",
       "    </tr>\n",
       "    <tr>\n",
       "      <th>0</th>\n",
       "      <td>3</td>\n",
       "      <td>10</td>\n",
       "      <td>0.79</td>\n",
       "    </tr>\n",
       "    <tr>\n",
       "      <th>0</th>\n",
       "      <td>3</td>\n",
       "      <td>5</td>\n",
       "      <td>0.79</td>\n",
       "    </tr>\n",
       "    <tr>\n",
       "      <th>0</th>\n",
       "      <td>2</td>\n",
       "      <td>25</td>\n",
       "      <td>0.78</td>\n",
       "    </tr>\n",
       "    <tr>\n",
       "      <th>0</th>\n",
       "      <td>2</td>\n",
       "      <td>20</td>\n",
       "      <td>0.78</td>\n",
       "    </tr>\n",
       "    <tr>\n",
       "      <th>0</th>\n",
       "      <td>2</td>\n",
       "      <td>15</td>\n",
       "      <td>0.77</td>\n",
       "    </tr>\n",
       "    <tr>\n",
       "      <th>0</th>\n",
       "      <td>2</td>\n",
       "      <td>10</td>\n",
       "      <td>0.77</td>\n",
       "    </tr>\n",
       "    <tr>\n",
       "      <th>0</th>\n",
       "      <td>2</td>\n",
       "      <td>5</td>\n",
       "      <td>0.77</td>\n",
       "    </tr>\n",
       "  </tbody>\n",
       "</table>\n",
       "</div>"
      ],
      "text/plain": [
       "   0   1    2\n",
       "0  4  25 0.79\n",
       "0  4  20 0.79\n",
       "0  4  15 0.79\n",
       "0  4  10 0.79\n",
       "0  4   5 0.79\n",
       "0  3  25 0.79\n",
       "0  3  20 0.79\n",
       "0  3  15 0.79\n",
       "0  3  10 0.79\n",
       "0  3   5 0.79\n",
       "0  2  25 0.78\n",
       "0  2  20 0.78\n",
       "0  2  15 0.77\n",
       "0  2  10 0.77\n",
       "0  2   5 0.77"
      ]
     },
     "execution_count": 117,
     "metadata": {},
     "output_type": "execute_result"
    }
   ],
   "source": [
    "random_forest_classifier_df(X_train, y_train, this_max_dpth=5, this_max_cv=25, this_random_state=42)"
   ]
  },
  {
   "cell_type": "markdown",
   "id": "33607113",
   "metadata": {},
   "source": [
    "**Different Values for max_depth and cv, up sampled data using SMOTE**"
   ]
  },
  {
   "cell_type": "code",
   "execution_count": 135,
   "id": "0b019954",
   "metadata": {},
   "outputs": [],
   "source": [
    "smote = SMOTE()\n",
    "\n",
    "X = preprocessing(data_).drop(['churn'], axis=1)\n",
    "y = preprocessing(data_).churn\n",
    "\n",
    "X_sm, y_sm = smote.fit_resample(X, y)"
   ]
  },
  {
   "cell_type": "code",
   "execution_count": 136,
   "id": "aefdd3e1",
   "metadata": {},
   "outputs": [],
   "source": [
    "X_train, X_test, y_train, y_test = train_test_split(X_sm, y_sm, test_size=0.20)"
   ]
  },
  {
   "cell_type": "code",
   "execution_count": 131,
   "id": "2eff03ea",
   "metadata": {},
   "outputs": [
    {
     "data": {
      "text/html": [
       "<div>\n",
       "<style scoped>\n",
       "    .dataframe tbody tr th:only-of-type {\n",
       "        vertical-align: middle;\n",
       "    }\n",
       "\n",
       "    .dataframe tbody tr th {\n",
       "        vertical-align: top;\n",
       "    }\n",
       "\n",
       "    .dataframe thead th {\n",
       "        text-align: right;\n",
       "    }\n",
       "</style>\n",
       "<table border=\"1\" class=\"dataframe\">\n",
       "  <thead>\n",
       "    <tr style=\"text-align: right;\">\n",
       "      <th></th>\n",
       "      <th>max_depth</th>\n",
       "      <th>cv</th>\n",
       "      <th>mean_score</th>\n",
       "    </tr>\n",
       "  </thead>\n",
       "  <tbody>\n",
       "    <tr>\n",
       "      <th>0</th>\n",
       "      <td>5</td>\n",
       "      <td>25</td>\n",
       "      <td>0.75</td>\n",
       "    </tr>\n",
       "    <tr>\n",
       "      <th>0</th>\n",
       "      <td>5</td>\n",
       "      <td>20</td>\n",
       "      <td>0.75</td>\n",
       "    </tr>\n",
       "    <tr>\n",
       "      <th>0</th>\n",
       "      <td>4</td>\n",
       "      <td>25</td>\n",
       "      <td>0.75</td>\n",
       "    </tr>\n",
       "    <tr>\n",
       "      <th>0</th>\n",
       "      <td>4</td>\n",
       "      <td>20</td>\n",
       "      <td>0.75</td>\n",
       "    </tr>\n",
       "  </tbody>\n",
       "</table>\n",
       "</div>"
      ],
      "text/plain": [
       "   max_depth  cv  mean_score\n",
       "0          5  25        0.75\n",
       "0          5  20        0.75\n",
       "0          4  25        0.75\n",
       "0          4  20        0.75"
      ]
     },
     "execution_count": 131,
     "metadata": {},
     "output_type": "execute_result"
    }
   ],
   "source": [
    "random_forest_classifier_df(X_train, y_train, this_min_dpth=4, this_max_dpth=5, this_min_cv=20, this_max_cv=25, this_random_state=42)"
   ]
  },
  {
   "cell_type": "markdown",
   "id": "85e9319e",
   "metadata": {},
   "source": [
    "## 8. Hyperparameter Tuning"
   ]
  },
  {
   "cell_type": "code",
   "execution_count": 132,
   "id": "a36bbbe6",
   "metadata": {},
   "outputs": [],
   "source": [
    "param_grid = {\n",
    "    'n_estimators': [50, 100,500],\n",
    "    'min_samples_split': [2, 4],\n",
    "    'min_samples_leaf' : [1, 2],\n",
    "    'max_features': ['sqrt']\n",
    "#    'max_samples' : ['None', 0.5]\n",
    "    }\n",
    "clf = RandomForestClassifier(random_state=100)"
   ]
  },
  {
   "cell_type": "code",
   "execution_count": 137,
   "id": "bcac8555",
   "metadata": {},
   "outputs": [],
   "source": [
    "smote = SMOTE()\n",
    "\n",
    "X = preprocessing(data_).drop(['churn'], axis=1)\n",
    "y = preprocessing(data_).churn\n",
    "\n",
    "X_sm, y_sm = smote.fit_resample(X, y)\n",
    "# y_sm.value_counts()\n",
    "\n",
    "X_train, X_test, y_train, y_test = train_test_split(X_sm, y_sm, test_size=0.20)"
   ]
  },
  {
   "cell_type": "code",
   "execution_count": 145,
   "id": "caac99da",
   "metadata": {},
   "outputs": [
    {
     "data": {
      "text/plain": [
       "{'max_features': 'sqrt',\n",
       " 'min_samples_leaf': 2,\n",
       " 'min_samples_split': 2,\n",
       " 'n_estimators': 500}"
      ]
     },
     "execution_count": 145,
     "metadata": {},
     "output_type": "execute_result"
    }
   ],
   "source": [
    "grid_search = GridSearchCV(clf, param_grid, cv=5,return_train_score=True,n_jobs=-1,)\n",
    "\n",
    "grid_search.fit(X_train,y_train)\n",
    "\n",
    "grid_search.best_params_ #To check the best set of parameters returned"
   ]
  },
  {
   "cell_type": "markdown",
   "id": "2dae7823",
   "metadata": {},
   "source": [
    "using these param's in the model"
   ]
  },
  {
   "cell_type": "code",
   "execution_count": 146,
   "id": "d9f662a6",
   "metadata": {},
   "outputs": [
    {
     "name": "stdout",
     "output_type": "stream",
     "text": [
      "0.7738715447873934\n"
     ]
    }
   ],
   "source": [
    "clf = RandomForestClassifier(random_state=0, max_features='sqrt', \n",
    "                             min_samples_leaf=2, min_samples_split=2, n_estimators=500)\n",
    "cross_val_scores = cross_val_score(clf, X_train, y_train, cv=10)\n",
    "print(np.mean(cross_val_scores))"
   ]
  },
  {
   "cell_type": "code",
   "execution_count": null,
   "id": "099a00c9",
   "metadata": {},
   "outputs": [],
   "source": []
  },
  {
   "cell_type": "code",
   "execution_count": null,
   "id": "77f7ceef",
   "metadata": {},
   "outputs": [],
   "source": []
  },
  {
   "cell_type": "code",
   "execution_count": null,
   "id": "a334c35d",
   "metadata": {},
   "outputs": [],
   "source": []
  },
  {
   "cell_type": "code",
   "execution_count": null,
   "id": "40e7405d",
   "metadata": {},
   "outputs": [],
   "source": []
  },
  {
   "cell_type": "code",
   "execution_count": null,
   "id": "79f9846d",
   "metadata": {},
   "outputs": [],
   "source": []
  },
  {
   "cell_type": "code",
   "execution_count": null,
   "id": "85ba996f",
   "metadata": {},
   "outputs": [],
   "source": []
  }
 ],
 "metadata": {
  "kernelspec": {
   "display_name": "Python 3 (ipykernel)",
   "language": "python",
   "name": "python3"
  },
  "language_info": {
   "codemirror_mode": {
    "name": "ipython",
    "version": 3
   },
   "file_extension": ".py",
   "mimetype": "text/x-python",
   "name": "python",
   "nbconvert_exporter": "python",
   "pygments_lexer": "ipython3",
   "version": "3.9.7"
  },
  "toc": {
   "base_numbering": 1,
   "nav_menu": {},
   "number_sections": true,
   "sideBar": true,
   "skip_h1_title": true,
   "title_cell": "Table of Contents",
   "title_sidebar": "Contents",
   "toc_cell": false,
   "toc_position": {
    "height": "calc(100% - 180px)",
    "left": "10px",
    "top": "150px",
    "width": "426.667px"
   },
   "toc_section_display": true,
   "toc_window_display": true
  },
  "varInspector": {
   "cols": {
    "lenName": 16,
    "lenType": 16,
    "lenVar": 40
   },
   "kernels_config": {
    "python": {
     "delete_cmd_postfix": "",
     "delete_cmd_prefix": "del ",
     "library": "var_list.py",
     "varRefreshCmd": "print(var_dic_list())"
    },
    "r": {
     "delete_cmd_postfix": ") ",
     "delete_cmd_prefix": "rm(",
     "library": "var_list.r",
     "varRefreshCmd": "cat(var_dic_list()) "
    }
   },
   "types_to_exclude": [
    "module",
    "function",
    "builtin_function_or_method",
    "instance",
    "_Feature"
   ],
   "window_display": false
  }
 },
 "nbformat": 4,
 "nbformat_minor": 5
}
