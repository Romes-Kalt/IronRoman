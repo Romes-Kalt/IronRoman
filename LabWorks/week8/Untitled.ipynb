{
 "cells": [
  {
   "cell_type": "code",
   "execution_count": 5,
   "id": "34c427ae",
   "metadata": {},
   "outputs": [],
   "source": [
    "import nltk\n",
    "import codecs"
   ]
  },
  {
   "cell_type": "code",
   "execution_count": 10,
   "id": "a698d310",
   "metadata": {},
   "outputs": [
    {
     "name": "stdout",
     "output_type": "stream",
     "text": [
      "['\\x1f\\x08\\x00\\x00\\x00\\x00\\x00\\x00\\x00rZ-\\x0c', '\\x7f\\x05\\x1d', 'vf4ĕ\\x04mI(Q$ŋn\\x0eG\\x07HB\\x12J$\\x06Tr?\\x1f\\x0f~r\\x0fN\\x1b\\x7fr9\\\\\\x0b', '$Eʪ]{W\\x08\\x02\\x0b', '2cx^FؘoM\\x7fI\\x16F\\x1e']\n"
     ]
    }
   ],
   "source": [
    "with codecs.open(\"./data/amazon_reviews_us_Outdoors_v1_00.tsv.gz\", \"r\", encoding=\"UTF-8\", errors=\"ignore\") as f:\n",
    "    head = [next(f) for x in range(5)]\n",
    "print(head)"
   ]
  },
  {
   "cell_type": "code",
   "execution_count": null,
   "id": "49675b31",
   "metadata": {},
   "outputs": [],
   "source": [
    "with open('destinations.csv', 'rb') as fd:\n",
    "    gzip_fd = gzip.GzipFile(fileobj=fd)\n",
    "    destinations = pd.read_csv(gzip_fd)"
   ]
  },
  {
   "cell_type": "code",
   "execution_count": null,
   "id": "c300396d",
   "metadata": {},
   "outputs": [],
   "source": [
    "\"\""
   ]
  }
 ],
 "metadata": {
  "kernelspec": {
   "display_name": "Python 3 (ipykernel)",
   "language": "python",
   "name": "python3"
  },
  "language_info": {
   "codemirror_mode": {
    "name": "ipython",
    "version": 3
   },
   "file_extension": ".py",
   "mimetype": "text/x-python",
   "name": "python",
   "nbconvert_exporter": "python",
   "pygments_lexer": "ipython3",
   "version": "3.9.7"
  },
  "toc": {
   "base_numbering": 1,
   "nav_menu": {},
   "number_sections": true,
   "sideBar": true,
   "skip_h1_title": false,
   "title_cell": "Table of Contents",
   "title_sidebar": "Contents",
   "toc_cell": false,
   "toc_position": {},
   "toc_section_display": true,
   "toc_window_display": false
  },
  "varInspector": {
   "cols": {
    "lenName": 16,
    "lenType": 16,
    "lenVar": 40
   },
   "kernels_config": {
    "python": {
     "delete_cmd_postfix": "",
     "delete_cmd_prefix": "del ",
     "library": "var_list.py",
     "varRefreshCmd": "print(var_dic_list())"
    },
    "r": {
     "delete_cmd_postfix": ") ",
     "delete_cmd_prefix": "rm(",
     "library": "var_list.r",
     "varRefreshCmd": "cat(var_dic_list()) "
    }
   },
   "types_to_exclude": [
    "module",
    "function",
    "builtin_function_or_method",
    "instance",
    "_Feature"
   ],
   "window_display": false
  }
 },
 "nbformat": 4,
 "nbformat_minor": 5
}
