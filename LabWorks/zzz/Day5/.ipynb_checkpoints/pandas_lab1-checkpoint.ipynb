{
 "cells": [
  {
   "cell_type": "markdown",
   "metadata": {
    "id": "N1YkD9XI6Fg3"
   },
   "source": [
    "# Using Pandas"
   ]
  },
  {
   "cell_type": "code",
   "execution_count": 482,
   "metadata": {
    "executionInfo": {
     "elapsed": 4,
     "status": "ok",
     "timestamp": 1623140082185,
     "user": {
      "displayName": "Ignacio Soteras",
      "photoUrl": "",
      "userId": "02050793736257155229"
     },
     "user_tz": -120
    },
    "id": "jL4kjGt66Fg5"
   },
   "outputs": [],
   "source": [
    "import pandas as pd\n",
    "import numpy as np\n",
    "pd.set_option('display.max_rows', 200)\n",
    "## to make it possible to display multiple output inside one cell \n",
    "from IPython.core.interactiveshell import InteractiveShell\n",
    "InteractiveShell.ast_node_interactivity = \"all\""
   ]
  },
  {
   "cell_type": "markdown",
   "metadata": {},
   "source": [
    "<b>load the data from the vehicles.csv file into pandas data frame"
   ]
  },
  {
   "cell_type": "code",
   "execution_count": 483,
   "metadata": {
    "executionInfo": {
     "elapsed": 1346,
     "status": "ok",
     "timestamp": 1623140174431,
     "user": {
      "displayName": "Ignacio Soteras",
      "photoUrl": "",
      "userId": "02050793736257155229"
     },
     "user_tz": -120
    },
    "id": "GVHPs2Qa6Fg5"
   },
   "outputs": [
    {
     "name": "stdout",
     "output_type": "stream",
     "text": [
      "<class 'pandas.core.frame.DataFrame'>\n",
      "RangeIndex: 35952 entries, 0 to 35951\n",
      "Data columns (total 15 columns):\n",
      " #   Column                   Non-Null Count  Dtype  \n",
      "---  ------                   --------------  -----  \n",
      " 0   Make                     35952 non-null  object \n",
      " 1   Model                    35952 non-null  object \n",
      " 2   Year                     35952 non-null  int64  \n",
      " 3   Engine Displacement      35952 non-null  float64\n",
      " 4   Cylinders                35952 non-null  float64\n",
      " 5   Transmission             35952 non-null  object \n",
      " 6   Drivetrain               35952 non-null  object \n",
      " 7   Vehicle Class            35952 non-null  object \n",
      " 8   Fuel Type                35952 non-null  object \n",
      " 9   Fuel Barrels/Year        35952 non-null  float64\n",
      " 10  City MPG                 35952 non-null  int64  \n",
      " 11  Highway MPG              35952 non-null  int64  \n",
      " 12  Combined MPG             35952 non-null  int64  \n",
      " 13  CO2 Emission Grams/Mile  35952 non-null  float64\n",
      " 14  Fuel Cost/Year           35952 non-null  int64  \n",
      "dtypes: float64(4), int64(5), object(6)\n",
      "memory usage: 4.1+ MB\n",
      "None\n"
     ]
    }
   ],
   "source": [
    "## Your Code here\n",
    "vehicles_df = pd.read_csv(\"data/vehicles.csv\")\n",
    "print(vehicles_df.info())\n"
   ]
  },
  {
   "cell_type": "code",
   "execution_count": 484,
   "metadata": {},
   "outputs": [
    {
     "name": "stdout",
     "output_type": "stream",
     "text": [
      "              Year  Engine Displacement     Cylinders  Fuel Barrels/Year  \\\n",
      "count  35952.00000         35952.000000  35952.000000       35952.000000   \n",
      "mean    2000.71640             3.338493      5.765076          17.609056   \n",
      "std       10.08529             1.359395      1.755268           4.467283   \n",
      "min     1984.00000             0.600000      2.000000           0.060000   \n",
      "25%     1991.00000             2.200000      4.000000          14.699423   \n",
      "50%     2001.00000             3.000000      6.000000          17.347895   \n",
      "75%     2010.00000             4.300000      6.000000          20.600625   \n",
      "max     2017.00000             8.400000     16.000000          47.087143   \n",
      "\n",
      "           City MPG   Highway MPG  Combined MPG  CO2 Emission Grams/Mile  \\\n",
      "count  35952.000000  35952.000000  35952.000000             35952.000000   \n",
      "mean      17.646139     23.880646     19.929322               475.316339   \n",
      "std        4.769349      5.890876      5.112409               119.060773   \n",
      "min        6.000000      9.000000      7.000000                37.000000   \n",
      "25%       15.000000     20.000000     16.000000               395.000000   \n",
      "50%       17.000000     24.000000     19.000000               467.736842   \n",
      "75%       20.000000     27.000000     23.000000               555.437500   \n",
      "max       58.000000     61.000000     56.000000              1269.571429   \n",
      "\n",
      "       Fuel Cost/Year  \n",
      "count    35952.000000  \n",
      "mean      1892.598465  \n",
      "std        506.958627  \n",
      "min        600.000000  \n",
      "25%       1500.000000  \n",
      "50%       1850.000000  \n",
      "75%       2200.000000  \n",
      "max       5800.000000  \n"
     ]
    }
   ],
   "source": [
    "print(vehicles_df.describe())"
   ]
  },
  {
   "cell_type": "code",
   "execution_count": 485,
   "metadata": {},
   "outputs": [
    {
     "name": "stdout",
     "output_type": "stream",
     "text": [
      "               Make                Model  Year  Engine Displacement  \\\n",
      "0        AM General    DJ Po Vehicle 2WD  1984                  2.5   \n",
      "1        AM General     FJ8c Post Office  1984                  4.2   \n",
      "2        AM General  Post Office DJ5 2WD  1985                  2.5   \n",
      "3        AM General  Post Office DJ8 2WD  1985                  4.2   \n",
      "4  ASC Incorporated                  GNX  1987                  3.8   \n",
      "5             Acura          2.2CL/3.0CL  1997                  2.2   \n",
      "6             Acura          2.2CL/3.0CL  1997                  2.2   \n",
      "7             Acura          2.2CL/3.0CL  1997                  3.0   \n",
      "8             Acura          2.3CL/3.0CL  1998                  2.3   \n",
      "9             Acura          2.3CL/3.0CL  1998                  2.3   \n",
      "\n",
      "   Cylinders     Transmission         Drivetrain                Vehicle Class  \\\n",
      "0        4.0  Automatic 3-spd      2-Wheel Drive  Special Purpose Vehicle 2WD   \n",
      "1        6.0  Automatic 3-spd      2-Wheel Drive  Special Purpose Vehicle 2WD   \n",
      "2        4.0  Automatic 3-spd   Rear-Wheel Drive  Special Purpose Vehicle 2WD   \n",
      "3        6.0  Automatic 3-spd   Rear-Wheel Drive  Special Purpose Vehicle 2WD   \n",
      "4        6.0  Automatic 4-spd   Rear-Wheel Drive                 Midsize Cars   \n",
      "5        4.0  Automatic 4-spd  Front-Wheel Drive              Subcompact Cars   \n",
      "6        4.0     Manual 5-spd  Front-Wheel Drive              Subcompact Cars   \n",
      "7        6.0  Automatic 4-spd  Front-Wheel Drive              Subcompact Cars   \n",
      "8        4.0  Automatic 4-spd  Front-Wheel Drive              Subcompact Cars   \n",
      "9        4.0     Manual 5-spd  Front-Wheel Drive              Subcompact Cars   \n",
      "\n",
      "  Fuel Type  Fuel Barrels/Year  City MPG  Highway MPG  Combined MPG  \\\n",
      "0   Regular          19.388824        18           17            17   \n",
      "1   Regular          25.354615        13           13            13   \n",
      "2   Regular          20.600625        16           17            16   \n",
      "3   Regular          25.354615        13           13            13   \n",
      "4   Premium          20.600625        14           21            16   \n",
      "5   Regular          14.982273        20           26            22   \n",
      "6   Regular          13.733750        22           28            24   \n",
      "7   Regular          16.480500        18           26            20   \n",
      "8   Regular          14.982273        19           27            22   \n",
      "9   Regular          13.733750        21           29            24   \n",
      "\n",
      "   CO2 Emission Grams/Mile  Fuel Cost/Year  \n",
      "0               522.764706            1950  \n",
      "1               683.615385            2550  \n",
      "2               555.437500            2100  \n",
      "3               683.615385            2550  \n",
      "4               555.437500            2550  \n",
      "5               403.954545            1500  \n",
      "6               370.291667            1400  \n",
      "7               444.350000            1650  \n",
      "8               403.954545            1500  \n",
      "9               370.291667            1400  \n"
     ]
    }
   ],
   "source": [
    "print(vehicles_df.head(10))"
   ]
  },
  {
   "cell_type": "markdown",
   "metadata": {},
   "source": [
    "***"
   ]
  },
  {
   "cell_type": "markdown",
   "metadata": {
    "id": "Yk72_YtZ6Fg5"
   },
   "source": [
    "First exploration of the dataset:\n",
    "\n",
    "- How many observations does it have?\n",
    "- Look at all the columns: do you understand what they mean?\n",
    "- Look at the raw data: do you see anything weird?\n",
    "- Look at the data types: are they the expected ones for the information the column contains?"
   ]
  },
  {
   "cell_type": "code",
   "execution_count": 486,
   "metadata": {
    "colab": {
     "base_uri": "https://localhost:8080/"
    },
    "executionInfo": {
     "elapsed": 226,
     "status": "ok",
     "timestamp": 1623140221705,
     "user": {
      "displayName": "Ignacio Soteras",
      "photoUrl": "",
      "userId": "02050793736257155229"
     },
     "user_tz": -120
    },
    "id": "-FT85oMVPxlW",
    "outputId": "c9f5d2c8-d3c2-4acc-edec-914a92c7f60b"
   },
   "outputs": [
    {
     "name": "stdout",
     "output_type": "stream",
     "text": [
      "The dataset contains information of 15 different categories.\n"
     ]
    }
   ],
   "source": [
    "## Your Code here\n",
    "print(f\"The dataset contains information of {len(vehicles_df.columns)} different categories.\")"
   ]
  },
  {
   "cell_type": "markdown",
   "metadata": {
    "id": "tqcFYXUk6Fg6"
   },
   "source": [
    "### Cleaning and wrangling data\n",
    "\n",
    "- Some car brand names refer to the same brand. Replace all brand names that contain the word \"Dutton\" for simply \"Dutton\". If you find similar examples, clean their names too. Use `loc` with boolean indexing.\n",
    "\n",
    "- Convert CO2 Emissions from Grams/Mile to Grams/Km\n",
    "\n",
    "- Create a binary column that solely indicates if the transmission of a car is automatic or manual. Use `pandas.Series.str.startswith` and .\n",
    "\n",
    "- convert MPG columns to km_per_liter"
   ]
  },
  {
   "cell_type": "code",
   "execution_count": 487,
   "metadata": {
    "colab": {
     "base_uri": "https://localhost:8080/"
    },
    "executionInfo": {
     "elapsed": 239,
     "status": "ok",
     "timestamp": 1623140685861,
     "user": {
      "displayName": "Ignacio Soteras",
      "photoUrl": "",
      "userId": "02050793736257155229"
     },
     "user_tz": -120
    },
    "id": "jPtYqxszRc_h",
    "outputId": "b7a82779-98d2-4f55-e8d7-4a9202cc1274"
   },
   "outputs": [
    {
     "name": "stdout",
     "output_type": "stream",
     "text": [
      "Complete CSV-File, unaltered data:\n",
      "\n",
      "There are 127 different car manufacturers and 3608 different models.\n",
      "Chevrolet is the manufacturers with the most cars in dataset.\n"
     ]
    }
   ],
   "source": [
    "print(\"Complete CSV-File, unaltered data:\\n\")\n",
    "print(f\"There are {len(vehicles_df['Make'].value_counts())} different car manufacturers and \"\n",
    "      f\"{len(vehicles_df['Model'].value_counts())} different models.\\n{vehicles_df['Make'].value_counts().index[0]} \"\n",
    "      f\"is the manufacturers with the most cars in dataset.\")\n",
    "\n"
   ]
  },
  {
   "cell_type": "code",
   "execution_count": 488,
   "metadata": {},
   "outputs": [
    {
     "name": "stdout",
     "output_type": "stream",
     "text": [
      "Before merging of Manufacturers: 127 different.\n",
      "After merging of Manufacturers: 122 different.\n"
     ]
    },
    {
     "name": "stderr",
     "output_type": "stream",
     "text": [
      "C:\\Users\\roman\\AppData\\Local\\Temp/ipykernel_15476/1912596053.py:4: SettingWithCopyWarning: \n",
      "A value is trying to be set on a copy of a slice from a DataFrame\n",
      "\n",
      "See the caveats in the documentation: https://pandas.pydata.org/pandas-docs/stable/user_guide/indexing.html#returning-a-view-versus-a-copy\n",
      "  vehicles_df[\"Make\"][vehicles_df[\"Make\"].str.contains(\"Dutton\")] = \"Dutton\"\n",
      "C:\\Users\\roman\\AppData\\Local\\Temp/ipykernel_15476/1912596053.py:5: SettingWithCopyWarning: \n",
      "A value is trying to be set on a copy of a slice from a DataFrame\n",
      "\n",
      "See the caveats in the documentation: https://pandas.pydata.org/pandas-docs/stable/user_guide/indexing.html#returning-a-view-versus-a-copy\n",
      "  vehicles_df[\"Make\"][vehicles_df[\"Make\"].str.contains(\"BMW\")] = \"BMW\"\n",
      "C:\\Users\\roman\\AppData\\Local\\Temp/ipykernel_15476/1912596053.py:6: SettingWithCopyWarning: \n",
      "A value is trying to be set on a copy of a slice from a DataFrame\n",
      "\n",
      "See the caveats in the documentation: https://pandas.pydata.org/pandas-docs/stable/user_guide/indexing.html#returning-a-view-versus-a-copy\n",
      "  vehicles_df[\"Make\"][vehicles_df[\"Make\"].str.contains(\"Grumman\")] = \"Grumman\"\n",
      "C:\\Users\\roman\\AppData\\Local\\Temp/ipykernel_15476/1912596053.py:7: SettingWithCopyWarning: \n",
      "A value is trying to be set on a copy of a slice from a DataFrame\n",
      "\n",
      "See the caveats in the documentation: https://pandas.pydata.org/pandas-docs/stable/user_guide/indexing.html#returning-a-view-versus-a-copy\n",
      "  vehicles_df[\"Make\"][vehicles_df[\"Make\"].str.contains(\"PAD\")] = \"PAD\"\n",
      "C:\\Users\\roman\\AppData\\Local\\Temp/ipykernel_15476/1912596053.py:8: SettingWithCopyWarning: \n",
      "A value is trying to be set on a copy of a slice from a DataFrame\n",
      "\n",
      "See the caveats in the documentation: https://pandas.pydata.org/pandas-docs/stable/user_guide/indexing.html#returning-a-view-versus-a-copy\n",
      "  vehicles_df[\"Make\"][vehicles_df[\"Make\"].str.contains(\"Saleen\")] = \"Saleen\"\n"
     ]
    }
   ],
   "source": [
    "\n",
    "\n",
    "print(f\"Before merging of Manufacturers: {len(set(vehicles_df['Make'].value_counts().index))}.\")\n",
    "\n",
    "\n",
    "vehicles_df[\"Make\"][vehicles_df[\"Make\"].str.contains(\"Dutton\")] = \"Dutton\"\n",
    "vehicles_df[\"Make\"][vehicles_df[\"Make\"].str.contains(\"BMW\")] = \"BMW\"\n",
    "vehicles_df[\"Make\"][vehicles_df[\"Make\"].str.contains(\"Grumman\")] = \"Grumman\"\n",
    "vehicles_df[\"Make\"][vehicles_df[\"Make\"].str.contains(\"PAD\")] = \"PAD\"\n",
    "vehicles_df[\"Make\"][vehicles_df[\"Make\"].str.contains(\"Saleen\")] = \"Saleen\"\n",
    "\n",
    "print(f\"After merging of Manufacturers: {len(set(vehicles_df['Make'].value_counts().index))}.\")"
   ]
  },
  {
   "cell_type": "markdown",
   "metadata": {
    "id": "e_r1ZfaxWfaq"
   },
   "source": [
    "### Converting Grams/Mile to Grams/Km\n",
    "\n",
    "1 Mile = 1.60934 Km\n",
    "\n",
    "Grams/Mile * Mile/Km -> Grams/Mile * 1 Mile/1.60934Km\n",
    "\n",
    "$$ \\frac{Grams}{Mile} * \\frac{Mile}{Km} $$\n",
    "\n",
    "$$ \\frac{Grams}{Mile} * \\frac{1 Mile}{1.60934Km}  $$"
   ]
  },
  {
   "cell_type": "code",
   "execution_count": 489,
   "metadata": {},
   "outputs": [
    {
     "name": "stdout",
     "output_type": "stream",
     "text": [
      "   CO2 Emission Grams/Mile  CO2 Emission Grams/Km\n",
      "0               522.764706             324.830828\n",
      "1               683.615385             424.778775\n",
      "2               555.437500             345.132755\n",
      "3               683.615385             424.778775\n",
      "4               555.437500             345.132755\n",
      "5               403.954545             251.005640\n",
      "6               370.291667             230.088503\n",
      "7               444.350000             276.106204\n",
      "8               403.954545             251.005640\n",
      "9               370.291667             230.088503\n"
     ]
    }
   ],
   "source": [
    "vehicles_df[\"CO2 Emission Grams/Km\"] = vehicles_df[\"CO2 Emission Grams/Mile\"] * 0.621371\n",
    "print(vehicles_df[[\"CO2 Emission Grams/Mile\",\"CO2 Emission Grams/Km\"]].head(10))"
   ]
  },
  {
   "cell_type": "markdown",
   "metadata": {},
   "source": [
    "***"
   ]
  },
  {
   "cell_type": "markdown",
   "metadata": {
    "id": "R-jWHEisa3nF"
   },
   "source": [
    "### Convert MPG columns to km_per_liter\n",
    "\n",
    "MPG = Miles/Gallon -> Km/Liter\n",
    "\n",
    "1 Mile = 1.60934 Km\n",
    "\n",
    "1 Gallon = 3.78541 Liters\n",
    "\n",
    "$$ \\frac{Miles}{Gallon} -> \\frac{Miles}{Gallon} * \\frac{Km}{Miles} * \\frac{Gallon}{Liters}$$\n",
    "\n",
    "$$ \\frac{Miles}{Gallon} -> \\frac{Miles}{Gallon} * \\frac{1.60934Km}{ 1Miles} * \\frac{1 Gallon}{3.78541 Liters}$$\n",
    "\n",
    "* ( 1.60934 / 3.78541 )\n"
   ]
  },
  {
   "cell_type": "code",
   "execution_count": 490,
   "metadata": {},
   "outputs": [
    {
     "name": "stdout",
     "output_type": "stream",
     "text": [
      "   Combined MPG  Combined km_per_liter\n",
      "0            17               7.227428\n",
      "1            13               5.526857\n",
      "2            16               6.802286\n",
      "3            13               5.526857\n",
      "4            16               6.802286\n",
      "5            22               9.353143\n",
      "6            24              10.203428\n",
      "7            20               8.502857\n",
      "8            22               9.353143\n",
      "9            24              10.203428\n"
     ]
    }
   ],
   "source": [
    "vehicles_df[\"Combined km_per_liter\"] = vehicles_df[\"Combined MPG\"] * 0.42514285110463595\n",
    "print(vehicles_df[[\"Combined MPG\",\"Combined km_per_liter\"]].head(10))"
   ]
  },
  {
   "cell_type": "markdown",
   "metadata": {},
   "source": [
    "***"
   ]
  },
  {
   "cell_type": "markdown",
   "metadata": {
    "id": "SRZZJAPQ6Fg6"
   },
   "source": [
    "### Gathering insights:\n",
    "\n",
    "- How many car makers are there? How many models? Which car maker has the most cars in the dataset?\n",
    "\n",
    "- When were these cars made? How big is the engine of these cars?\n",
    "\n",
    "- What's the frequency of different transmissions, drivetrains and fuel types?\n",
    "\n",
    "- What's the car that consumes the least/most fuel?"
   ]
  },
  {
   "cell_type": "code",
   "execution_count": 496,
   "metadata": {
    "colab": {
     "base_uri": "https://localhost:8080/"
    },
    "executionInfo": {
     "elapsed": 346,
     "status": "ok",
     "timestamp": 1623143226628,
     "user": {
      "displayName": "Ignacio Soteras",
      "photoUrl": "",
      "userId": "02050793736257155229"
     },
     "user_tz": -120
    },
    "id": "LS-EOV3f6Fg7",
    "outputId": "7244f51d-279e-4a71-ba35-63d2969f5a74"
   },
   "outputs": [
    {
     "name": "stdout",
     "output_type": "stream",
     "text": [
      "In this dataset, there are 122 different car manufacturers and 3608 different models.\n",
      "Chevrolet is the manufacturers with the most cars in dataset.\n"
     ]
    }
   ],
   "source": [
    "# How many car makers are there? How many models? Which car maker has the most cars in the dataset?\n",
    "print(f\"In this dataset, there are {len(vehicles_df['Make'].value_counts())} different car manufacturers and \"\n",
    "      f\"{len(vehicles_df['Model'].value_counts())} different models.\\n{vehicles_df['Make'].value_counts().index[0]} \"\n",
    "      f\"is the manufacturers with the most cars in dataset.\")\n"
   ]
  },
  {
   "cell_type": "markdown",
   "metadata": {},
   "source": [
    "#### Transmissions"
   ]
  },
  {
   "cell_type": "code",
   "execution_count": 492,
   "metadata": {},
   "outputs": [
    {
     "name": "stdout",
     "output_type": "stream",
     "text": [
      "Of all the cars in the Dataframe 67.56 % have a form of automatic transmission and 32.44 % a form of manual transmission.\n"
     ]
    }
   ],
   "source": [
    "# What's the frequency of different transmissions, drivetrains and fuel types?\n",
    "# print(vehicles_df[\"Transmission\"].unique())\n",
    "vehicles_df['Transmission_Man_or_Auto'] = list(map(lambda x: \"Automatic\" if (\"Auto\" in x) else \"Manual\",vehicles_df['Transmission']))\n",
    "transm_lst = list(vehicles_df['Transmission_Man_or_Auto'])\n",
    "print(f\"Of all the cars in the Dataframe {round(transm_lst.count('Automatic') * 100 / len(transm_lst), 2)} % have a \"\n",
    "      f\"form of automatic transmission and {round(transm_lst.count('Manual') * 100 / len(transm_lst), 2)} % a \"\n",
    "      f\"form of manual transmission.\")"
   ]
  },
  {
   "cell_type": "markdown",
   "metadata": {},
   "source": [
    "#### Drivetrains"
   ]
  },
  {
   "cell_type": "code",
   "execution_count": 518,
   "metadata": {},
   "outputs": [
    {
     "name": "stdout",
     "output_type": "stream",
     "text": [
      "Drivetrains in dataset\n",
      "\n",
      " + 2-Wheel Drive: 1.177 %\n",
      " + Rear-Wheel Drive: 35.397 %\n",
      " + Front-Wheel Drive: 36.282 %\n",
      " + 4-Wheel or All-Wheel Drive: 18.088 %\n",
      " + All-Wheel Drive: 5.671 %\n",
      " + 4-Wheel Drive: 2.943 %\n",
      " + Part-time 4-Wheel Drive: 0.439 %\n",
      " + 2-Wheel Drive, Front: 0.003 %\n"
     ]
    }
   ],
   "source": [
    "print(\"Drivetrains in dataset\\n\")\n",
    "for drv_trn in vehicles_df[\"Drivetrain\"].unique():\n",
    "    print(f\" + {drv_trn}: {round(list(vehicles_df['Drivetrain']).count(drv_trn)*100 /  len(vehicles_df), 3)} %\")"
   ]
  },
  {
   "cell_type": "markdown",
   "metadata": {},
   "source": [
    "#### Fuel types"
   ]
  },
  {
   "cell_type": "code",
   "execution_count": 515,
   "metadata": {},
   "outputs": [
    {
     "name": "stdout",
     "output_type": "stream",
     "text": [
      "Fueltypes in dataset\n",
      "\n",
      " + Regular: 65.607 %\n",
      " + Premium: 27.595 %\n",
      " + Diesel: 2.534 %\n",
      " + Premium and Electricity: 0.056 %\n",
      " + Premium or E85: 0.337 %\n",
      " + Premium Gas or Electricity: 0.047 %\n",
      " + Gasoline or E85: 3.324 %\n",
      " + Gasoline or natural gas: 0.056 %\n",
      " + CNG: 0.167 %\n",
      " + Regular Gas or Electricity: 0.006 %\n",
      " + Midgrade: 0.206 %\n",
      " + Regular Gas and Electricity: 0.045 %\n",
      " + Gasoline or propane: 0.022 %\n"
     ]
    }
   ],
   "source": [
    "print(\"Fueltypes in dataset\\n\")\n",
    "for fuel_type in vehicles_df[\"Fuel Type\"].unique():\n",
    "    print(f\" + {fuel_type}: {round(list(vehicles_df['Fuel Type']).count(fuel_type)*100 /  len(vehicles_df), 3)} %\")"
   ]
  },
  {
   "cell_type": "markdown",
   "metadata": {},
   "source": [
    "***"
   ]
  },
  {
   "cell_type": "markdown",
   "metadata": {},
   "source": [
    "#### Highest / Lost Fuel Consumption"
   ]
  },
  {
   "cell_type": "code",
   "execution_count": 493,
   "metadata": {},
   "outputs": [
    {
     "name": "stdout",
     "output_type": "stream",
     "text": [
      "The vehicle with the highest fuel consumption is the Lamborghini Countach (47.09 Barrels / Year) with an\n",
      "engine displacement of 5.2 liters produced from 1986 to 1990.\n",
      "----\n",
      "The vehicle with the lowest fuel consumption is the Honda Civic Natural Gas (0.06 Barrels / Year) with an\n",
      "engine displacement of 1.8 liters produced from 2012 to 2015.\n"
     ]
    }
   ],
   "source": [
    "# What's the car that consumes the least/most fuel?\n",
    "# When were these cars made? How big is the engine of these cars?\n",
    "highest_cons = np.max(vehicles_df[\"Fuel Barrels/Year\"])  # values for highest and ...\n",
    "lowest_cons = np.min(vehicles_df[\"Fuel Barrels/Year\"])   #  ... lowest consumption (for readability of next steps)\n",
    "\n",
    "# the vehicles with have several entries as they have different production years, always the first entry is taken\n",
    "highest_cons_veh = vehicles_df.loc[vehicles_df[\"Fuel Barrels/Year\"]==highest_cons][[\"Make\", \"Model\", \"Engine Displacement\", \"Year\"]].iloc[0]\n",
    "highest_prod_yrs = vehicles_df.loc[vehicles_df[\"Fuel Barrels/Year\"]==highest_cons][[\"Year\"]]\n",
    "highest_prod_yrs = highest_prod_yrs[\"Year\"].tolist()\n",
    "\n",
    "lowest_cons_veh = vehicles_df.loc[vehicles_df[\"Fuel Barrels/Year\"]==lowest_cons][[\"Make\", \"Model\", \"Engine Displacement\", \"Year\"]].iloc[0]                   \n",
    "lowest_prod_yrs = vehicles_df.loc[vehicles_df[\"Fuel Barrels/Year\"]==lowest_cons][[\"Year\"]]\n",
    "lowest_prod_yrs = lowest_prod_yrs[\"Year\"].tolist()\n",
    "\n",
    "print(f\"The vehicle with the highest fuel consumption is the {highest_cons_veh['Make']} {highest_cons_veh['Model']} \"\n",
    "      f\"({round(highest_cons, 2)} Barrels / Year) with an\\nengine displacement of \"\n",
    "      f\"{highest_cons_veh['Engine Displacement']} liters produced from \"\n",
    "      f\"{highest_prod_yrs[0]} to {highest_prod_yrs[-1]}.\")\n",
    "\n",
    "print(\"----\")\n",
    "print(f\"The vehicle with the lowest fuel consumption is the {lowest_cons_veh['Make']} {lowest_cons_veh['Model']} \"\n",
    "      f\"({round(lowest_cons, 2)} Barrels / Year) with an\\nengine displacement of \"\n",
    "      f\"{lowest_cons_veh['Engine Displacement']} liters produced from \"\n",
    "      f\"{lowest_prod_yrs[0]} to {lowest_prod_yrs[-1]}.\")\n",
    "\n",
    "\n",
    "# print(f\"The vehicle with the lowest fuel consumption is the {lowest_cons_veh['Make']} \"\n",
    "#       f\"{lowest_cons_veh['Model']} ({round(lowest_cons, 2)} Barrels / Year).\")"
   ]
  },
  {
   "cell_type": "markdown",
   "metadata": {},
   "source": [
    "#### CO2 Emissions"
   ]
  },
  {
   "cell_type": "markdown",
   "metadata": {
    "id": "rcSnpI3I6Fg8"
   },
   "source": [
    "What brand has the worse CO2 Emissions on average?\n",
    "\n",
    "Hint: use the function `sort_values()`"
   ]
  },
  {
   "cell_type": "code",
   "execution_count": 494,
   "metadata": {
    "colab": {
     "base_uri": "https://localhost:8080/",
     "height": 686
    },
    "executionInfo": {
     "elapsed": 270,
     "status": "ok",
     "timestamp": 1623145362738,
     "user": {
      "displayName": "Ignacio Soteras",
      "photoUrl": "",
      "userId": "02050793736257155229"
     },
     "user_tz": -120
    },
    "id": "SV2s8Lm66Fg8",
    "outputId": "ca1f005a-f090-4cec-952f-8e20d3193b46"
   },
   "outputs": [
    {
     "name": "stdout",
     "output_type": "stream",
     "text": [
      "Vehicles manufactured by Vector have the worst CO2 emission on average.\n"
     ]
    }
   ],
   "source": [
    "## your Code here\n",
    "# CO2 Emission Grams/Mile\n",
    "\n",
    "emissions_sorted_brand = vehicles_df.groupby([\"Make\"])[\"CO2 Emission Grams/Mile\"].mean().sort_values(ascending=False) # Series\n",
    "print(f\"Vehicles manufactured by {emissions_sorted_brand.index[0]} have the worst CO2 emission on average.\")\n"
   ]
  },
  {
   "cell_type": "markdown",
   "metadata": {},
   "source": [
    "#### Fuel Consumption by transmission"
   ]
  },
  {
   "cell_type": "markdown",
   "metadata": {
    "id": "2avLmljX6Fg9"
   },
   "source": [
    "Do cars with automatic transmission consume more fuel than cars with manual transmission on average?"
   ]
  },
  {
   "cell_type": "code",
   "execution_count": 495,
   "metadata": {},
   "outputs": [
    {
     "name": "stdout",
     "output_type": "stream",
     "text": [
      "In this dataframe vehicles with a form of automatic transmission have an average combined fuel consumption of 19.35 MPG,\n",
      "whereas vehicles with a form of manual transmission have an average combined fuel consumption of 21.13 MPG.\n",
      "\n",
      "Do cars with automatic transmission consume more fuel than cars with manual transmission on average? False.\n"
     ]
    }
   ],
   "source": [
    "## Your Code is here \n",
    "\n",
    "mpg_sorted_transm = vehicles_df.groupby([\"Transmission_Man_or_Auto\"])[\"Combined MPG\"].mean().sort_values(ascending=False)\n",
    "\n",
    "print(f\"In this dataframe vehicles with a form of automatic transmission have an average combined fuel consumption \"\n",
    "      f\"of {round(mpg_sorted_transm.loc['Automatic'],2 )} MPG,\\nwhereas vehicles with a form of manual transmission \"\n",
    "      f\"have an average combined fuel consumption of {round(mpg_sorted_transm.loc['Manual'],2 )} MPG.\")\n",
    "print(f\"\\nDo cars with automatic transmission consume more fuel than cars with manual transmission on \"\n",
    "      f\"average? {mpg_sorted_transm.loc['Automatic']>mpg_sorted_transm.loc['Manual']}.\")"
   ]
  },
  {
   "cell_type": "code",
   "execution_count": null,
   "metadata": {},
   "outputs": [],
   "source": []
  },
  {
   "cell_type": "code",
   "execution_count": null,
   "metadata": {},
   "outputs": [],
   "source": []
  }
 ],
 "metadata": {
  "colab": {
   "name": "Pandas_Grouping_Joining_Cars_Structure.ipynb",
   "provenance": []
  },
  "kernelspec": {
   "display_name": "Python 3 (ipykernel)",
   "language": "python",
   "name": "python3"
  },
  "language_info": {
   "codemirror_mode": {
    "name": "ipython",
    "version": 3
   },
   "file_extension": ".py",
   "mimetype": "text/x-python",
   "name": "python",
   "nbconvert_exporter": "python",
   "pygments_lexer": "ipython3",
   "version": "3.9.7"
  },
  "toc": {
   "base_numbering": 1,
   "nav_menu": {},
   "number_sections": true,
   "sideBar": true,
   "skip_h1_title": false,
   "title_cell": "Table of Contents",
   "title_sidebar": "Contents",
   "toc_cell": false,
   "toc_position": {},
   "toc_section_display": true,
   "toc_window_display": false
  },
  "varInspector": {
   "cols": {
    "lenName": 16,
    "lenType": 16,
    "lenVar": 40
   },
   "kernels_config": {
    "python": {
     "delete_cmd_postfix": "",
     "delete_cmd_prefix": "del ",
     "library": "var_list.py",
     "varRefreshCmd": "print(var_dic_list())"
    },
    "r": {
     "delete_cmd_postfix": ") ",
     "delete_cmd_prefix": "rm(",
     "library": "var_list.r",
     "varRefreshCmd": "cat(var_dic_list()) "
    }
   },
   "types_to_exclude": [
    "module",
    "function",
    "builtin_function_or_method",
    "instance",
    "_Feature"
   ],
   "window_display": false
  }
 },
 "nbformat": 4,
 "nbformat_minor": 1
}
