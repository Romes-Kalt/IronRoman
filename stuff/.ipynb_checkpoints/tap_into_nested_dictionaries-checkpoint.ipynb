{
 "cells": [
  {
   "cell_type": "markdown",
   "id": "00ffb228",
   "metadata": {},
   "source": [
    "# Tap into nested dictionaries"
   ]
  },
  {
   "cell_type": "markdown",
   "id": "d0af6b04",
   "metadata": {},
   "source": [
    "This is my approach on tapping into nested dictionaries, which is needed when<br>\n",
    "using data, e.g. provided in .json format by a lot of APIs."
   ]
  },
  {
   "cell_type": "code",
   "execution_count": 2,
   "id": "73674607",
   "metadata": {},
   "outputs": [],
   "source": [
    "sampleDict = {\n",
    "    \"class\":{\n",
    "        \"student_list\":{\n",
    "            \"Anna\":{\n",
    "                \"marks\":{\n",
    "                    \"physics\":[70, 20, 100, 20],\n",
    "                    \"history\":[80,10,55,35],\n",
    "                    \"math\":[100, 90, 70, 35],\n",
    "                }\n",
    "            },\n",
    "            \"Martin\":{\n",
    "                \"marks\":{\n",
    "                    \"french\":[20, 10, 35, 45],\n",
    "                    \"spanish\":[40, 75, 50, 90],\n",
    "                    \"math\": [90,85, 90, 95],\n",
    "                }\n",
    "            },\n",
    "            \"Richard\":{\n",
    "                \"marks\":{\n",
    "                    \"physics\":[10, 10, 0, 90],\n",
    "                    \"biology\":[50, 50, 70, 75],\n",
    "                    \"math\":[90, 70, 50, 40],\n",
    "                }\n",
    "            }\n",
    "        }\n",
    "    }\n",
    "}"
   ]
  },
  {
   "cell_type": "markdown",
   "id": "9eea3dbb",
   "metadata": {},
   "source": [
    "You need to come up with a feasible key system, as you need a lot of them, when you go<br>\n",
    "to the deeper levels. key1, key2, key3 was never a good idea for me, as that gets confusing<br>\n",
    "quite quickly (esp. when you come back after a while to bugfix or update your code (and<br>\n",
    "all notes you took disappeared one way or another ;)\n"
   ]
  },
  {
   "cell_type": "markdown",
   "id": "8adf2333",
   "metadata": {},
   "source": [
    "#### one idea can be, naming the key after the dictionary you're tapping into"
   ]
  },
  {
   "cell_type": "code",
   "execution_count": 3,
   "id": "a087c5cb",
   "metadata": {},
   "outputs": [
    {
     "name": "stdout",
     "output_type": "stream",
     "text": [
      "class\n"
     ]
    }
   ],
   "source": [
    "for sampleDict_key in sampleDict:\n",
    "    print(sampleDict_key)"
   ]
  },
  {
   "cell_type": "markdown",
   "id": "5f125f1a",
   "metadata": {},
   "source": [
    "from the <br>\n",
    "`\"class\":{\n",
    "     \"student_list\": ...` <br>\n",
    "curly bracket we see, that class is also a dictionary, with \"student_list\" as the first key."
   ]
  },
  {
   "cell_type": "markdown",
   "id": "72ea65d4",
   "metadata": {},
   "source": [
    "so, accessing this particular sub_dictionary it via:\n",
    "`sampleDict[\"class\"]`"
   ]
  },
  {
   "cell_type": "code",
   "execution_count": 4,
   "id": "c0656ee1",
   "metadata": {},
   "outputs": [
    {
     "name": "stdout",
     "output_type": "stream",
     "text": [
      "{'student_list': {'Anna': {'marks': {'physics': [70, 20, 100, 20], 'history': [80, 10, 55, 35], 'math': [100, 90, 70, 35]}}, 'Martin': {'marks': {'french': [20, 10, 35, 45], 'spanish': [40, 75, 50, 90], 'math': [90, 85, 90, 95]}}, 'Richard': {'marks': {'physics': [10, 10, 0, 90], 'biology': [50, 50, 70, 75], 'math': [90, 70, 50, 40]}}}}\n"
     ]
    }
   ],
   "source": [
    "print(sampleDict[\"class\"])"
   ]
  },
  {
   "cell_type": "markdown",
   "id": "e3c40878",
   "metadata": {},
   "source": [
    "This is usually the printout is like that, there are python libraries to make it look<br>\n",
    "nicer (e.g. pprint, short for pretty print, if you wanna google), but I usually use an<br>\n",
    "online tool:<br>\n",
    "http://jsonviewer.stack.hu/<br>\n",
    "(it's not running the https protocol, so it might give you a warning)"
   ]
  },
  {
   "cell_type": "code",
   "execution_count": null,
   "id": "e56d2452",
   "metadata": {},
   "outputs": [],
   "source": [
    "# TODO: insert screenshot"
   ]
  },
  {
   "cell_type": "markdown",
   "id": "46dab3d1",
   "metadata": {},
   "source": [
    "With this tool, it's much easier to go into the deeper levels of any dictionary / JSON object."
   ]
  },
  {
   "cell_type": "code",
   "execution_count": null,
   "id": "2ac1038e",
   "metadata": {},
   "outputs": [],
   "source": [
    "If now we want to tap into the sub_dictionary \"student_list\", \"student\" is a good choice as the coresponding key. "
   ]
  },
  {
   "cell_type": "code",
   "execution_count": null,
   "id": "d9d8196b",
   "metadata": {},
   "outputs": [],
   "source": []
  }
 ],
 "metadata": {
  "kernelspec": {
   "display_name": "Python 3 (ipykernel)",
   "language": "python",
   "name": "python3"
  },
  "language_info": {
   "codemirror_mode": {
    "name": "ipython",
    "version": 3
   },
   "file_extension": ".py",
   "mimetype": "text/x-python",
   "name": "python",
   "nbconvert_exporter": "python",
   "pygments_lexer": "ipython3",
   "version": "3.9.7"
  }
 },
 "nbformat": 4,
 "nbformat_minor": 5
}
