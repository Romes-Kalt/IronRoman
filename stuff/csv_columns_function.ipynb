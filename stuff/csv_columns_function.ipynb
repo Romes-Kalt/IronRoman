{
 "cells": [
  {
   "cell_type": "markdown",
   "id": "8384baa4",
   "metadata": {},
   "source": [
    "## Columns of a CSV File\n",
    "Function to display the columns of a csv-file in list format without the need of loading the whole file. With that list<br>- either printed (default) or returned a list - a selection of columns can be done quicker to use e.g. with pandas:<br>\n",
    "`my_df = pd.read_csv(\"myfile.csv\", usecols=[\"selected\",\"columns\",\"list\"])`"
   ]
  },
  {
   "cell_type": "code",
   "execution_count": 1,
   "id": "f1198431",
   "metadata": {},
   "outputs": [],
   "source": [
    "def csv_columns(fp: [str] = None, separator: [str] = \",\", return_list: [bool] = False):\n",
    "    # __author__ = \"Roman Kaltschew\"\n",
    "    '''displays or returns the column names of a csv-file saved under fp (filepath), escape syntax error when using \n",
    "       backslash with r\"my:\\file.pth\". Separator default is \",\", if return_list is True, a list of the column names \n",
    "       is returned'''\n",
    "    if not fp:\n",
    "        if return_list:\n",
    "            return None\n",
    "        else:\n",
    "            print(\"No file selected.\")\n",
    "            return\n",
    "    try:\n",
    "        with open(fp, \"r\") as f:\n",
    "            first_line = f.readline().strip(\"\\n\")\n",
    "    except FileNotFoundError:\n",
    "        print(\"File not found.\")\n",
    "        if return_list:\n",
    "            return None\n",
    "    else:\n",
    "        if first_line[0] == separator:\n",
    "            first_line = first_line[1:]\n",
    "        if return_list:\n",
    "            return first_line.split(separator)\n",
    "        print(first_line.split(separator))"
   ]
  }
 ],
 "metadata": {
  "kernelspec": {
   "display_name": "Python 3 (ipykernel)",
   "language": "python",
   "name": "python3"
  },
  "language_info": {
   "codemirror_mode": {
    "name": "ipython",
    "version": 3
   },
   "file_extension": ".py",
   "mimetype": "text/x-python",
   "name": "python",
   "nbconvert_exporter": "python",
   "pygments_lexer": "ipython3",
   "version": "3.9.7"
  },
  "toc": {
   "base_numbering": 1,
   "nav_menu": {},
   "number_sections": false,
   "sideBar": true,
   "skip_h1_title": false,
   "title_cell": "Table of Contents",
   "title_sidebar": "Contents",
   "toc_cell": false,
   "toc_position": {
    "height": "calc(100% - 180px)",
    "left": "10px",
    "top": "150px",
    "width": "303.837px"
   },
   "toc_section_display": true,
   "toc_window_display": true
  },
  "varInspector": {
   "cols": {
    "lenName": 16,
    "lenType": 16,
    "lenVar": 40
   },
   "kernels_config": {
    "python": {
     "delete_cmd_postfix": "",
     "delete_cmd_prefix": "del ",
     "library": "var_list.py",
     "varRefreshCmd": "print(var_dic_list())"
    },
    "r": {
     "delete_cmd_postfix": ") ",
     "delete_cmd_prefix": "rm(",
     "library": "var_list.r",
     "varRefreshCmd": "cat(var_dic_list()) "
    }
   },
   "types_to_exclude": [
    "module",
    "function",
    "builtin_function_or_method",
    "instance",
    "_Feature"
   ],
   "window_display": false
  }
 },
 "nbformat": 4,
 "nbformat_minor": 5
}
