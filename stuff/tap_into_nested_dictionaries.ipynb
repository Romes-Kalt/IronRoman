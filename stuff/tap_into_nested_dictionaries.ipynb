{
 "cells": [
  {
   "cell_type": "markdown",
   "id": "06c3edb1",
   "metadata": {},
   "source": [
    "# Tap into nested dictionaries"
   ]
  },
  {
   "cell_type": "markdown",
   "id": "36d6ad20",
   "metadata": {},
   "source": [
    "This is my approach on tapping into nested dictionaries, which is needed when<br>\n",
    "using data, e.g. provided in .json format by a lot of APIs."
   ]
  },
  {
   "cell_type": "code",
   "execution_count": 16,
   "id": "bc957f01",
   "metadata": {},
   "outputs": [],
   "source": [
    "sampleDict = {\n",
    "    \"class\":{\n",
    "        \"student_list\":{\n",
    "            \"Anna\":{\n",
    "                \"marks\":{\n",
    "                    \"physics\":[70, 20, 100, 20],\n",
    "                    \"history\":[80,10,55,35],\n",
    "                    \"math\":[100, 90, 70, 35],\n",
    "                }\n",
    "            },\n",
    "            \"Martin\":{\n",
    "                \"marks\":{\n",
    "                    \"french\":[20, 10, 35, 45],\n",
    "                    \"spanish\":[40, 75, 50, 90],\n",
    "                    \"math\": [90,85, 90, 95],\n",
    "                }\n",
    "            },\n",
    "            \"Richard\":{\n",
    "                \"marks\":{\n",
    "                    \"physics\":[10, 10, 0, 90],\n",
    "                    \"biology\":[50, 50, 70, 75],\n",
    "                    \"math\":[90, 70, 50, 40],\n",
    "                }\n",
    "            }\n",
    "        }\n",
    "    }\n",
    "}"
   ]
  },
  {
   "cell_type": "markdown",
   "id": "6218ab06",
   "metadata": {},
   "source": [
    "You need to come up with a feasible key system, as you need a lot of them, when you go<br>\n",
    "to the deeper levels. key1, key2, key3 was never a good idea for me, as that gets confusing<br>\n",
    "quite quickly (esp. when you come back after a while to bugfix or update your code (and<br>\n",
    "all notes you took disappeared one way or another ;)\n"
   ]
  },
  {
   "cell_type": "markdown",
   "id": "678d25c3",
   "metadata": {},
   "source": [
    "#### one idea can be, naming the key after the dictionary you're tapping into"
   ]
  },
  {
   "cell_type": "code",
   "execution_count": 23,
   "id": "f0fac4b5",
   "metadata": {},
   "outputs": [
    {
     "name": "stdout",
     "output_type": "stream",
     "text": [
      "class\n"
     ]
    }
   ],
   "source": [
    "for sampleDict_key in sampleDict:\n",
    "    print(sampleDict_key)"
   ]
  },
  {
   "cell_type": "code",
   "execution_count": null,
   "id": "3f3d7e4c",
   "metadata": {},
   "outputs": [],
   "source": [
    "print(sampleDict)"
   ]
  },
  {
   "cell_type": "markdown",
   "id": "ec22c724",
   "metadata": {},
   "source": [
    "on first running the cell to create this dictionary, from the <br>\n",
    "` ...\n",
    "    \"class\":{\n",
    "         \"student_list\": ...` <br>\n",
    "curly bracket after **\"class\":** we see, that class is also a dictionary, with \"student_list\" as the first key."
   ]
  },
  {
   "cell_type": "markdown",
   "id": "660714e4",
   "metadata": {},
   "source": [
    "so, accessing this particular sub_dictionary it via:\n",
    "`sampleDict[\"class\"]`"
   ]
  },
  {
   "cell_type": "code",
   "execution_count": 18,
   "id": "de112363",
   "metadata": {},
   "outputs": [
    {
     "name": "stdout",
     "output_type": "stream",
     "text": [
      "{'student_list': {'Anna': {'marks': {'physics': [70, 20, 100, 20], 'history': [80, 10, 55, 35], 'math': [100, 90, 70, 35]}}, 'Martin': {'marks': {'french': [20, 10, 35, 45], 'spanish': [40, 75, 50, 90], 'math': [90, 85, 90, 95]}}, 'Richard': {'marks': {'physics': [10, 10, 0, 90], 'biology': [50, 50, 70, 75], 'math': [90, 70, 50, 40]}}}}\n"
     ]
    }
   ],
   "source": [
    "print(sampleDict[\"class\"])"
   ]
  },
  {
   "cell_type": "markdown",
   "id": "480cfa69",
   "metadata": {},
   "source": [
    "This is usually the printout is like that, there are python libraries to make it look<br>\n",
    "nicer (e.g. pprint, short for pretty print, if you wanna google), but I usually use an<br>\n",
    "online tool:<br>\n",
    "http://jsonviewer.stack.hu/<br>\n",
    "(it's not running the https protocol, so it might give you a warning)"
   ]
  },
  {
   "cell_type": "code",
   "execution_count": 19,
   "id": "94e0040b",
   "metadata": {},
   "outputs": [],
   "source": [
    "# TODO: insert screenshot"
   ]
  },
  {
   "cell_type": "markdown",
   "id": "ce701dde",
   "metadata": {},
   "source": [
    "With this tool, it's much easier to go into the deeper levels of any dictionary / JSON object."
   ]
  },
  {
   "cell_type": "markdown",
   "id": "9aeeed14",
   "metadata": {},
   "source": [
    "And with this you can go deeper and deeper in any dictionary. E.g. the dictionary sampleDict has a sub-dictionary with the name of class. Again, check for<br>\n",
    "the keys of this dictionary:<br>\n",
    "`print(sampleDict[\"class\"].keys())`"
   ]
  },
  {
   "cell_type": "code",
   "execution_count": 22,
   "id": "84be173e",
   "metadata": {},
   "outputs": [
    {
     "name": "stdout",
     "output_type": "stream",
     "text": [
      "dict_keys(['student_list'])\n"
     ]
    }
   ],
   "source": [
    "print(sampleDict[\"class\"].keys())"
   ]
  },
  {
   "cell_type": "code",
   "execution_count": null,
   "id": "ba269012",
   "metadata": {},
   "outputs": [],
   "source": []
  },
  {
   "cell_type": "code",
   "execution_count": null,
   "id": "2cefa4de",
   "metadata": {},
   "outputs": [],
   "source": []
  },
  {
   "cell_type": "code",
   "execution_count": null,
   "id": "6cf61d7a",
   "metadata": {},
   "outputs": [],
   "source": []
  },
  {
   "cell_type": "code",
   "execution_count": null,
   "id": "7cedd1ec",
   "metadata": {},
   "outputs": [],
   "source": []
  },
  {
   "cell_type": "markdown",
   "id": "05bd1f84",
   "metadata": {},
   "source": [
    "with  we want to tap into the sub_dictionary \"student_list\", \"student\" is a good choice as the coresponding key. "
   ]
  },
  {
   "cell_type": "code",
   "execution_count": null,
   "id": "deb9a70d",
   "metadata": {},
   "outputs": [],
   "source": [
    "for student in sampleDict[\"class\"]:\n",
    "    print(student)"
   ]
  }
 ],
 "metadata": {
  "kernelspec": {
   "display_name": "Python 3 (ipykernel)",
   "language": "python",
   "name": "python3"
  },
  "language_info": {
   "codemirror_mode": {
    "name": "ipython",
    "version": 3
   },
   "file_extension": ".py",
   "mimetype": "text/x-python",
   "name": "python",
   "nbconvert_exporter": "python",
   "pygments_lexer": "ipython3",
   "version": "3.9.7"
  }
 },
 "nbformat": 4,
 "nbformat_minor": 5
}
