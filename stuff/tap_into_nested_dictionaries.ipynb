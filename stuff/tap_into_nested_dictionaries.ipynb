{
 "cells": [
  {
   "cell_type": "markdown",
   "id": "06c3edb1",
   "metadata": {},
   "source": [
    "# Tap into nested dictionaries"
   ]
  },
  {
   "cell_type": "markdown",
   "id": "36d6ad20",
   "metadata": {},
   "source": [
    "This is my approach on tapping into nested dictionaries, which is needed when using data, e.g. provided in .json format by a lot of APIs.<br>\n",
    "(when running all the cells (on a new kernel) an error is thrown at **ln [9]:**, this is done for a reason and explained later on)"
   ]
  },
  {
   "cell_type": "code",
   "execution_count": 1,
   "id": "bc957f01",
   "metadata": {},
   "outputs": [],
   "source": [
    "sample_dict = {\n",
    "    \"class\":{\n",
    "        \"student_list\":{\n",
    "            \"Anna\":{\n",
    "                \"marks\":{\n",
    "                    \"physics\":[70, 20, 100, 20],\n",
    "                    \"history\":[80,10,55,35],\n",
    "                    \"math\":[100, 90, 70, 35],\n",
    "                }\n",
    "            },\n",
    "            \"Martin\":{\n",
    "                \"marks\":{\n",
    "                    \"french\":[20, 10, 35, 45],\n",
    "                    \"spanish\":[40, 75, 50, 90],\n",
    "                    \"math\": [90,85, 90, 95],\n",
    "                }\n",
    "            },\n",
    "            \"Richard\":{\n",
    "                \"marks\":{\n",
    "                    \"physics\":[10, 10, 0, 90],\n",
    "                    \"biology\":[50, 50, 70, 75],\n",
    "                    \"math\":[90, 70, 50, 40],\n",
    "                }\n",
    "            }\n",
    "        }\n",
    "    }\n",
    "}"
   ]
  },
  {
   "cell_type": "markdown",
   "id": "63ae9199",
   "metadata": {},
   "source": [
    "When creating a dictionary in this way, this structure is clear and with some practice easily to understand. But when it's printed, it looks like this: "
   ]
  },
  {
   "cell_type": "code",
   "execution_count": 2,
   "id": "65f1a460",
   "metadata": {},
   "outputs": [
    {
     "name": "stdout",
     "output_type": "stream",
     "text": [
      "{'class': {'student_list': {'Anna': {'marks': {'physics': [70, 20, 100, 20], 'history': [80, 10, 55, 35], 'math': [100, 90, 70, 35]}}, 'Martin': {'marks': {'french': [20, 10, 35, 45], 'spanish': [40, 75, 50, 90], 'math': [90, 85, 90, 95]}}, 'Richard': {'marks': {'physics': [10, 10, 0, 90], 'biology': [50, 50, 70, 75], 'math': [90, 70, 50, 40]}}}}}\n"
     ]
    }
   ],
   "source": [
    "print(sample_dict)"
   ]
  },
  {
   "cell_type": "markdown",
   "id": "2f8c828a",
   "metadata": {},
   "source": [
    "Most of the time dictionaries are created whilst running code (dynamic values, not hard-coded in a clear structure as above) or data is received in form of a .json file (e.g. by an API).<br>\n",
    "Example for an API: https://www.intensivregister.de/api/public/intensivregister<br>"
   ]
  },
  {
   "cell_type": "markdown",
   "id": "527cf2f4",
   "metadata": {},
   "source": [
    "If the dictionaries are not too big, there are python libraries to make it look nicer on the printout (e.g. pprint, short for pretty printer → https://docs.python.org/3/library/pprint.html, looks like https://i.stack.imgur.com/eFrYU.png).<br>\n",
    "There are online tools as well like: http://jsonviewer.stack.hu/ (it's not running the https protocol, so the browser might send a warning),<br> looks like https://static.packt-cdn.com/products/9781783552016/graphics/2114_01_08.jpg<br>\n",
    "On that website, the *text* tab takes the code copied from the output, then the *viewer* tab displays an interactive structure\n",
    "similar to a file explorer.The very<br>first key is always {JSON}, from there on all lower levels are shown as well as the\n",
    "datatype of values, e.g. { }dictionary, [ ]list (with indexes shown as well), ...)"
   ]
  },
  {
   "cell_type": "markdown",
   "id": "f62146ea",
   "metadata": {},
   "source": [
    "But when dealing with bigger dictionaries / .json data, even that can get quite confusing."
   ]
  },
  {
   "cell_type": "markdown",
   "id": "73196b54",
   "metadata": {},
   "source": [
    "***"
   ]
  },
  {
   "cell_type": "markdown",
   "id": "1df9378b",
   "metadata": {},
   "source": [
    "So one approach to tap into the lower level data is the ***.keys()*** method in combination with a for loop to show the respective values.<br>\n",
    "`for key in this_dictionary.keys():\n",
    "    print(f\"{key}: this_dictionary[key]\")`"
   ]
  },
  {
   "cell_type": "markdown",
   "id": "5e126a3b",
   "metadata": {},
   "source": [
    "A feasible key system is vital, as a lot of them are needed to go into the deeper levels. key1, key2, key3 was never a good idea for me, as that gets confusing quite quickly (esp. when coming back after a while to bugfix or update the code and all notes took disappeared one way or another ;). One approach might be naming the key after the dictionary you're tapping into."
   ]
  },
  {
   "cell_type": "markdown",
   "id": "6611b491",
   "metadata": {},
   "source": [
    "### Tapping into sample_dict"
   ]
  },
  {
   "cell_type": "markdown",
   "id": "cf966759",
   "metadata": {},
   "source": [
    "Getting just the keys (this example has only one, `class`):"
   ]
  },
  {
   "cell_type": "code",
   "execution_count": 3,
   "id": "f0fac4b5",
   "metadata": {},
   "outputs": [
    {
     "name": "stdout",
     "output_type": "stream",
     "text": [
      "class\n"
     ]
    }
   ],
   "source": [
    "for sample_dict_key in sample_dict:\n",
    "    print(sample_dict_key)"
   ]
  },
  {
   "cell_type": "markdown",
   "id": "c46c7720",
   "metadata": {},
   "source": [
    "Or with showing the respective values simultaneously:"
   ]
  },
  {
   "cell_type": "code",
   "execution_count": 4,
   "id": "fa67223d",
   "metadata": {},
   "outputs": [
    {
     "name": "stdout",
     "output_type": "stream",
     "text": [
      "class: {'student_list': {'Anna': {'marks': {'physics': [70, 20, 100, 20], 'history': [80, 10, 55, 35], 'math': [100, 90, 70, 35]}}, 'Martin': {'marks': {'french': [20, 10, 35, 45], 'spanish': [40, 75, 50, 90], 'math': [90, 85, 90, 95]}}, 'Richard': {'marks': {'physics': [10, 10, 0, 90], 'biology': [50, 50, 70, 75], 'math': [90, 70, 50, 40]}}}}\n"
     ]
    }
   ],
   "source": [
    "for sample_dict_key in sample_dict:\n",
    "    print(f\"{sample_dict_key}: {sample_dict[sample_dict_key]}\")"
   ]
  },
  {
   "cell_type": "markdown",
   "id": "ec22c724",
   "metadata": {},
   "source": [
    "`class: {'student_list':'` <br>\n",
    "the curly bracket after **\"class\":** means, that the first value of class is a sub-dictionary, **\"student_list\"** being the first key.<br>\n",
    "Same for the the first value of **student_list** `... {'student_list': {'Anna': ....`, here the value is a sub-sub-dictionary (curly bracket), **Anna** is the first key."
   ]
  },
  {
   "cell_type": "code",
   "execution_count": 5,
   "id": "c8fa9a14",
   "metadata": {},
   "outputs": [
    {
     "name": "stdout",
     "output_type": "stream",
     "text": [
      "student_list: {'Anna': {'marks': {'physics': [70, 20, 100, 20], 'history': [80, 10, 55, 35], 'math': [100, 90, 70, 35]}}, 'Martin': {'marks': {'french': [20, 10, 35, 45], 'spanish': [40, 75, 50, 90], 'math': [90, 85, 90, 95]}}, 'Richard': {'marks': {'physics': [10, 10, 0, 90], 'biology': [50, 50, 70, 75], 'math': [90, 70, 50, 40]}}}\n"
     ]
    }
   ],
   "source": [
    "for class_key in sample_dict[\"class\"]:\n",
    "    print(f\"{class_key}: {sample_dict['class'][class_key]}\")"
   ]
  },
  {
   "cell_type": "markdown",
   "id": "091daf76",
   "metadata": {},
   "source": [
    "Basically, the dictionary can be tapped into with:<br>\n",
    "`this_dictionary[top_key][sub_key][subsub_key][subsubsub_key]...`"
   ]
  },
  {
   "cell_type": "markdown",
   "id": "66f4bc48",
   "metadata": {},
   "source": [
    "##### NOTE: f-strings\n",
    "When using f-strings, use either **\"** or **'** for framing the complete_string and other respectively for framing keys or any other str values inside the complete_string, which one of the two quotation marks is used for what can be chosen.<br>\n",
    "When the error `SyntaxError: f-string: unmatched '['` appears, something was mixed up, but can be easily fixed by changing the quotation marks."
   ]
  },
  {
   "cell_type": "markdown",
   "id": "0ff6519a",
   "metadata": {},
   "source": [
    "***"
   ]
  },
  {
   "cell_type": "markdown",
   "id": "6b52e470",
   "metadata": {},
   "source": [
    "### Example:\n",
    "**Print all the data for every student**<br>\n",
    "+ use the **.keys()** method the show keys of the subdictionaries and several for loops with the respective keys:\n"
   ]
  },
  {
   "cell_type": "code",
   "execution_count": 6,
   "id": "eb9a17ae",
   "metadata": {},
   "outputs": [
    {
     "name": "stdout",
     "output_type": "stream",
     "text": [
      "class\n"
     ]
    }
   ],
   "source": [
    "for sample_dict_key in sample_dict:\n",
    "    print(sample_dict_key)"
   ]
  },
  {
   "cell_type": "code",
   "execution_count": 7,
   "id": "9b345246",
   "metadata": {},
   "outputs": [
    {
     "name": "stdout",
     "output_type": "stream",
     "text": [
      "student_list\n"
     ]
    }
   ],
   "source": [
    "for class_dict_key in sample_dict[\"class\"]:\n",
    "    print(class_dict_key)"
   ]
  },
  {
   "cell_type": "code",
   "execution_count": 8,
   "id": "d1558233",
   "metadata": {},
   "outputs": [
    {
     "name": "stdout",
     "output_type": "stream",
     "text": [
      "Anna\n",
      "Martin\n",
      "Richard\n"
     ]
    }
   ],
   "source": [
    "for student_list_key in sample_dict[\"class\"][\"student_list\"]:\n",
    "    print(student_list_key)"
   ]
  },
  {
   "cell_type": "markdown",
   "id": "18b20670",
   "metadata": {},
   "source": [
    "+ correct level reached, print values of each key:"
   ]
  },
  {
   "cell_type": "code",
   "execution_count": 9,
   "id": "43ae47aa",
   "metadata": {},
   "outputs": [
    {
     "ename": "SyntaxError",
     "evalue": "f-string: unmatched '[' (Temp/ipykernel_21200/627742759.py, line 2)",
     "output_type": "error",
     "traceback": [
      "\u001b[1;36m  File \u001b[1;32m\"C:\\Users\\roman\\AppData\\Local\\Temp/ipykernel_21200/627742759.py\"\u001b[1;36m, line \u001b[1;32m2\u001b[0m\n\u001b[1;33m    print(f\"{student_list_key}: {sample_dict[\"class\"][\"student_list\"][student_list_key]}\")\u001b[0m\n\u001b[1;37m                                              ^\u001b[0m\n\u001b[1;31mSyntaxError\u001b[0m\u001b[1;31m:\u001b[0m f-string: unmatched '['\n"
     ]
    }
   ],
   "source": [
    "for student_list_key in sample_dict[\"class\"][\"student_list\"]:\n",
    "    print(f\"{student_list_key}: {sample_dict[\"class\"][\"student_list\"][student_list_key]}\")"
   ]
  },
  {
   "cell_type": "markdown",
   "id": "781c7638",
   "metadata": {},
   "source": [
    "The ***f-string error*** mentioned above, only **\"** quotations marks were used, so fix the quotation marks on the keys or around the string.<br><br>\n",
    "corrected code:"
   ]
  },
  {
   "cell_type": "code",
   "execution_count": 10,
   "id": "9edcdffa",
   "metadata": {},
   "outputs": [
    {
     "name": "stdout",
     "output_type": "stream",
     "text": [
      "Anna: {'marks': {'physics': [70, 20, 100, 20], 'history': [80, 10, 55, 35], 'math': [100, 90, 70, 35]}}\n",
      "Martin: {'marks': {'french': [20, 10, 35, 45], 'spanish': [40, 75, 50, 90], 'math': [90, 85, 90, 95]}}\n",
      "Richard: {'marks': {'physics': [10, 10, 0, 90], 'biology': [50, 50, 70, 75], 'math': [90, 70, 50, 40]}}\n"
     ]
    }
   ],
   "source": [
    "for student_list_key in sample_dict[\"class\"][\"student_list\"]:\n",
    "    print(f\"{student_list_key}: {sample_dict['class']['student_list'][student_list_key]}\")"
   ]
  },
  {
   "cell_type": "markdown",
   "id": "83b38e33",
   "metadata": {},
   "source": [
    "The **last key** is not in quotation marks, as this a dynamic value is changed on every loop."
   ]
  },
  {
   "cell_type": "markdown",
   "id": "f404a666",
   "metadata": {},
   "source": [
    "All this can be done with a combination of loops in one go:"
   ]
  },
  {
   "cell_type": "code",
   "execution_count": 11,
   "id": "b261f8e8",
   "metadata": {},
   "outputs": [
    {
     "name": "stdout",
     "output_type": "stream",
     "text": [
      "Anna: {'marks': {'physics': [70, 20, 100, 20], 'history': [80, 10, 55, 35], 'math': [100, 90, 70, 35]}}\n",
      "Martin: {'marks': {'french': [20, 10, 35, 45], 'spanish': [40, 75, 50, 90], 'math': [90, 85, 90, 95]}}\n",
      "Richard: {'marks': {'physics': [10, 10, 0, 90], 'biology': [50, 50, 70, 75], 'math': [90, 70, 50, 40]}}\n"
     ]
    }
   ],
   "source": [
    "for sample_dict_key in sample_dict:\n",
    "    for sample_sub_key in sample_dict[sample_dict_key]:\n",
    "        for sample_sub_sub_key in sample_dict[sample_dict_key][sample_sub_key]:\n",
    "            print(f\"{sample_sub_sub_key}: {sample_dict[sample_dict_key][sample_sub_key][sample_sub_sub_key]}\")"
   ]
  },
  {
   "cell_type": "markdown",
   "id": "5a748d58",
   "metadata": {},
   "source": [
    "This key system is not very good / might be confusing, but as mentioned before, coming up with a good key value system, which usually requires a little research beforehand with the online viewer or creating some loops to tap into the lower levels, is... well, key ;)"
   ]
  },
  {
   "cell_type": "markdown",
   "id": "c1e131a9",
   "metadata": {},
   "source": [
    "***"
   ]
  },
  {
   "cell_type": "markdown",
   "id": "8700e423",
   "metadata": {},
   "source": [
    "Every student is a key, having a sub-dictionary with marks as the first key, so this can be hard-coded again (meaning it is a \n",
    "fix value **'marks'**) "
   ]
  },
  {
   "cell_type": "code",
   "execution_count": 12,
   "id": "f259fae9",
   "metadata": {
    "scrolled": true
   },
   "outputs": [
    {
     "name": "stdout",
     "output_type": "stream",
     "text": [
      "Anna: {'physics': [70, 20, 100, 20], 'history': [80, 10, 55, 35], 'math': [100, 90, 70, 35]}\n",
      "Martin: {'french': [20, 10, 35, 45], 'spanish': [40, 75, 50, 90], 'math': [90, 85, 90, 95]}\n",
      "Richard: {'physics': [10, 10, 0, 90], 'biology': [50, 50, 70, 75], 'math': [90, 70, 50, 40]}\n"
     ]
    }
   ],
   "source": [
    "for student_list_key in sample_dict[\"class\"][\"student_list\"]:\n",
    "    print(f\"{student_list_key}: {sample_dict['class']['student_list'][student_list_key]['marks']}\")"
   ]
  },
  {
   "cell_type": "markdown",
   "id": "49071d11",
   "metadata": {},
   "source": [
    "In marks you find a sub-sub-dictionary 'math' (as every student has this subject), therefore all math notes are:"
   ]
  },
  {
   "cell_type": "code",
   "execution_count": 13,
   "id": "d73087d6",
   "metadata": {},
   "outputs": [
    {
     "name": "stdout",
     "output_type": "stream",
     "text": [
      "Anna: [100, 90, 70, 35]\n",
      "Martin: [90, 85, 90, 95]\n",
      "Richard: [90, 70, 50, 40]\n"
     ]
    }
   ],
   "source": [
    "for student_list_key in sample_dict[\"class\"][\"student_list\"]:\n",
    "    print(f\"{student_list_key}: {sample_dict['class']['student_list'][student_list_key]['marks']['math']}\")"
   ]
  },
  {
   "cell_type": "markdown",
   "id": "14a69b01",
   "metadata": {},
   "source": [
    "More complex: **show all grades for every student and subject** in one go, with knowledge of the names of the sub dictionaries by beforehand exploring (s.a.):"
   ]
  },
  {
   "cell_type": "code",
   "execution_count": 14,
   "id": "b9e57791",
   "metadata": {},
   "outputs": [
    {
     "name": "stdout",
     "output_type": "stream",
     "text": [
      "Anna: physics → [70, 20, 100, 20]\n",
      "Anna: history → [80, 10, 55, 35]\n",
      "Anna: math → [100, 90, 70, 35]\n",
      "\n",
      "\n",
      "Martin: french → [20, 10, 35, 45]\n",
      "Martin: spanish → [40, 75, 50, 90]\n",
      "Martin: math → [90, 85, 90, 95]\n",
      "\n",
      "\n",
      "Richard: physics → [10, 10, 0, 90]\n",
      "Richard: biology → [50, 50, 70, 75]\n",
      "Richard: math → [90, 70, 50, 40]\n",
      "\n",
      "\n"
     ]
    }
   ],
   "source": [
    "for sample_dict_key in sample_dict:\n",
    "    for class_key in sample_dict[sample_dict_key]:\n",
    "        for student in sample_dict[sample_dict_key][class_key]:\n",
    "            for subject in sample_dict[sample_dict_key][class_key][student][\"marks\"]:\n",
    "                print(f\"{student}: {subject} → {sample_dict[sample_dict_key][class_key][student]['marks'][subject]}\")\n",
    "            print(\"\\n\")    # insert empty row for readability"
   ]
  },
  {
   "cell_type": "markdown",
   "id": "dd29a3ba",
   "metadata": {},
   "source": [
    "Note: the value can be anything, for example every subject has a value in the *list* datatype, so it is to be considered how to access data of the values, here, to get a value indexing is used:<br>\n",
    "**Example:** first mark of Martin in Spanish (hard-coded version)"
   ]
  },
  {
   "cell_type": "code",
   "execution_count": 15,
   "id": "c3c5ce71",
   "metadata": {},
   "outputs": [
    {
     "name": "stdout",
     "output_type": "stream",
     "text": [
      "40\n"
     ]
    }
   ],
   "source": [
    "print(sample_dict['class']['student_list'][\"Martin\"]['marks']['spanish'][0])"
   ]
  },
  {
   "cell_type": "code",
   "execution_count": null,
   "id": "62e1351a",
   "metadata": {},
   "outputs": [],
   "source": []
  }
 ],
 "metadata": {
  "kernelspec": {
   "display_name": "Python 3 (ipykernel)",
   "language": "python",
   "name": "python3"
  },
  "language_info": {
   "codemirror_mode": {
    "name": "ipython",
    "version": 3
   },
   "file_extension": ".py",
   "mimetype": "text/x-python",
   "name": "python",
   "nbconvert_exporter": "python",
   "pygments_lexer": "ipython3",
   "version": "3.9.7"
  }
 },
 "nbformat": 4,
 "nbformat_minor": 5
}
